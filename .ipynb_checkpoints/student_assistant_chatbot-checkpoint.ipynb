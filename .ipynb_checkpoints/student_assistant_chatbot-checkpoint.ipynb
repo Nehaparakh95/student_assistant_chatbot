{
 "cells": [
  {
   "cell_type": "markdown",
   "metadata": {
    "colab_type": "text",
    "id": "3oxVq6vQ76r7",
    "pycharm": {}
   },
   "source": [
    "# Building a Conversational Chatbot for Slack using Rasa and Python -Part 1"
   ]
  },
  {
   "cell_type": "markdown",
   "metadata": {
    "colab_type": "text",
    "id": "kIFYA-Kp8aK4",
    "pycharm": {}
   },
   "source": [
    "## Starting Jupyter Notebook with necessary imports"
   ]
  },
  {
   "cell_type": "code",
   "execution_count": 38,
   "metadata": {
    "colab": {},
    "colab_type": "code",
    "id": "R0_7gOmu0r3v",
    "pycharm": {
     "is_executing": false
    }
   },
   "outputs": [],
   "source": [
    "%matplotlib inline\n",
    "\n",
    "import logging, io, json, warnings\n",
    "logging.basicConfig(level=\"INFO\")\n",
    "warnings.filterwarnings('ignore')\n",
    "\n"
   ]
  },
  {
   "cell_type": "markdown",
   "metadata": {
    "colab_type": "text",
    "id": "IVAF41hr8jU5",
    "pycharm": {}
   },
   "source": [
    "# Installations\n",
    "* Rasa NLU\n",
    "* Rasa Core\n",
    "* SpaCy Language Model"
   ]
  },
  {
   "cell_type": "code",
   "execution_count": 39,
   "metadata": {
    "colab": {
     "base_uri": "https://localhost:8080/",
     "height": 4049
    },
    "colab_type": "code",
    "id": "UsvAOHF_1dAY",
    "outputId": "f65c2c83-e7ae-46ef-e800-e43dcb854766",
    "pycharm": {}
   },
   "outputs": [
    {
     "name": "stdout",
     "output_type": "stream",
     "text": [
      "Collecting rasa_core==0.9.6\n",
      "  Using cached https://files.pythonhosted.org/packages/72/de/82e762685a991351a9f89d934b1b25fe04d10462cf4017f93227cb4d9058/rasa_core-0.9.6-py2.py3-none-any.whl\n",
      "Collecting rasa_nlu[spacy]\n",
      "  Using cached https://files.pythonhosted.org/packages/d6/53/31b6b14e124fa916c10e8e58d650cff57ace0027a9e69a0788b1afcc26f4/rasa_nlu-0.14.6-py2.py3-none-any.whl\n",
      "Requirement already satisfied, skipping upgrade: scikit-learn~=0.19.0 in /usr/local/lib/python3.6/site-packages (from rasa_core==0.9.6) (0.19.2)\n",
      "Requirement already satisfied, skipping upgrade: jsonpickle~=0.9.0 in /usr/local/lib/python3.6/site-packages (from rasa_core==0.9.6) (0.9.6)\n",
      "Requirement already satisfied, skipping upgrade: keras~=2.0 in /usr/local/lib/python3.6/site-packages (from rasa_core==0.9.6) (2.2.4)\n",
      "Requirement already satisfied, skipping upgrade: future~=0.16 in /usr/local/lib/python3.6/site-packages (from rasa_core==0.9.6) (0.17.1)\n",
      "Requirement already satisfied, skipping upgrade: graphviz~=0.8.0 in /usr/local/lib/python3.6/site-packages (from rasa_core==0.9.6) (0.8.4)\n",
      "Requirement already satisfied, skipping upgrade: flask-cors~=3.0 in /usr/local/lib/python3.6/site-packages (from rasa_core==0.9.6) (3.0.7)\n",
      "Requirement already satisfied, skipping upgrade: slackclient~=1.0 in /usr/local/lib/python3.6/site-packages (from rasa_core==0.9.6) (1.3.1)\n",
      "Collecting tensorflow<1.9,>=1.7 (from rasa_core==0.9.6)\n",
      "  Using cached https://files.pythonhosted.org/packages/03/ad/d732a5d9d50bfcd8aeb6e4a266065a8868829388e4e2b529ff689f1fc923/tensorflow-1.8.0-cp36-cp36m-macosx_10_11_x86_64.whl\n",
      "Requirement already satisfied, skipping upgrade: ruamel.yaml~=0.15.0 in /usr/local/lib/python3.6/site-packages (from rasa_core==0.9.6) (0.15.89)\n",
      "Requirement already satisfied, skipping upgrade: fakeredis~=0.10.0 in /usr/local/lib/python3.6/site-packages (from rasa_core==0.9.6) (0.10.3)\n",
      "Requirement already satisfied, skipping upgrade: requests~=2.15 in /usr/local/lib/python3.6/site-packages (from rasa_core==0.9.6) (2.21.0)\n",
      "Requirement already satisfied, skipping upgrade: networkx~=2.0 in /usr/local/lib/python3.6/site-packages (from rasa_core==0.9.6) (2.2)\n",
      "Requirement already satisfied, skipping upgrade: coloredlogs~=10.0 in /usr/local/lib/python3.6/site-packages (from rasa_core==0.9.6) (10.0)\n",
      "Collecting python-telegram-bot~=10.0 (from rasa_core==0.9.6)\n",
      "  Using cached https://files.pythonhosted.org/packages/f1/51/d1bd383522c12b313eddd7b97b8e7d6cd2a8e3b44b8ff3c88e4a7b045cc8/python_telegram_bot-10.1.0-py2.py3-none-any.whl\n",
      "Requirement already satisfied, skipping upgrade: redis~=2.0 in /usr/local/lib/python3.6/site-packages (from rasa_core==0.9.6) (2.10.6)\n",
      "Requirement already satisfied, skipping upgrade: colorhash~=1.0 in /usr/local/lib/python3.6/site-packages (from rasa_core==0.9.6) (1.0.2)\n",
      "Requirement already satisfied, skipping upgrade: h5py~=2.0 in /usr/local/lib/python3.6/site-packages (from rasa_core==0.9.6) (2.8.0)\n",
      "Requirement already satisfied, skipping upgrade: flask~=1.0 in /usr/local/lib/python3.6/site-packages (from rasa_core==0.9.6) (1.0.2)\n",
      "Requirement already satisfied, skipping upgrade: mattermostwrapper~=2.0 in /usr/local/lib/python3.6/site-packages (from rasa_core==0.9.6) (2.1)\n",
      "Requirement already satisfied, skipping upgrade: tqdm~=4.0 in /usr/local/lib/python3.6/site-packages (from rasa_core==0.9.6) (4.31.1)\n",
      "Requirement already satisfied, skipping upgrade: numpy~=1.13 in /usr/local/lib/python3.6/site-packages (from rasa_core==0.9.6) (1.16.2)\n",
      "Collecting pykwalify<=1.6.0 (from rasa_core==0.9.6)\n",
      "  Using cached https://files.pythonhosted.org/packages/6e/59/55c32d59b462a9c3fae2ab25f179f91d61617c0215e9f8ba3f4966b2b8b1/pykwalify-1.6.0-py2.py3-none-any.whl\n",
      "Requirement already satisfied, skipping upgrade: six~=1.0 in /usr/local/lib/python3.6/site-packages (from rasa_core==0.9.6) (1.11.0)\n",
      "Requirement already satisfied, skipping upgrade: apscheduler~=3.0 in /usr/local/lib/python3.6/site-packages (from rasa_core==0.9.6) (3.5.3)\n",
      "Requirement already satisfied, skipping upgrade: twilio~=6.0 in /usr/local/lib/python3.6/site-packages (from rasa_core==0.9.6) (6.25.1)\n",
      "Requirement already satisfied, skipping upgrade: typing~=3.0 in /usr/local/lib/python3.6/site-packages (from rasa_core==0.9.6) (3.6.6)\n",
      "Requirement already satisfied, skipping upgrade: fbmessenger~=5.0 in /usr/local/lib/python3.6/site-packages (from rasa_core==0.9.6) (5.4.0)\n",
      "Requirement already satisfied, skipping upgrade: ConfigArgParse~=0.13.0 in /usr/local/lib/python3.6/site-packages (from rasa_core==0.9.6) (0.13.0)\n",
      "Requirement already satisfied, skipping upgrade: simplejson~=3.13 in /usr/local/lib/python3.6/site-packages (from rasa_nlu[spacy]) (3.16.0)\n",
      "Requirement already satisfied, skipping upgrade: klein~=17.10 in /usr/local/lib/python3.6/site-packages (from rasa_nlu[spacy]) (17.10.0)\n",
      "Requirement already satisfied, skipping upgrade: matplotlib~=2.0 in /usr/local/lib/python3.6/site-packages (from rasa_nlu[spacy]) (2.2.4)\n",
      "Requirement already satisfied, skipping upgrade: jsonschema~=2.6 in /usr/local/lib/python3.6/site-packages (from rasa_nlu[spacy]) (2.6.0)\n",
      "Requirement already satisfied, skipping upgrade: boto3~=1.5 in /usr/local/lib/python3.6/site-packages (from rasa_nlu[spacy]) (1.9.113)\n",
      "Requirement already satisfied, skipping upgrade: packaging~=18.0 in /usr/local/lib/python3.6/site-packages (from rasa_nlu[spacy]) (18.0)\n",
      "Requirement already satisfied, skipping upgrade: cloudpickle~=0.6.1 in /usr/local/lib/python3.6/site-packages (from rasa_nlu[spacy]) (0.6.1)\n",
      "Requirement already satisfied, skipping upgrade: gevent~=1.2 in /usr/local/lib/python3.6/site-packages (from rasa_nlu[spacy]) (1.4.0)\n",
      "Requirement already satisfied, skipping upgrade: spacy<=2.0.18,>2.0; extra == \"spacy\" in /usr/local/lib/python3.6/site-packages (from rasa_nlu[spacy]) (2.0.18)\n",
      "Requirement already satisfied, skipping upgrade: scipy~=1.1; extra == \"spacy\" in /usr/local/lib/python3.6/site-packages (from rasa_nlu[spacy]) (1.2.1)\n",
      "Requirement already satisfied, skipping upgrade: sklearn-crfsuite~=0.3.6; extra == \"spacy\" in /usr/local/lib/python3.6/site-packages (from rasa_nlu[spacy]) (0.3.6)\n",
      "Requirement already satisfied, skipping upgrade: pyyaml in /usr/local/lib/python3.6/site-packages (from keras~=2.0->rasa_core==0.9.6) (3.13)\n",
      "Requirement already satisfied, skipping upgrade: keras-preprocessing>=1.0.5 in /usr/local/lib/python3.6/site-packages (from keras~=2.0->rasa_core==0.9.6) (1.0.5)\n",
      "Requirement already satisfied, skipping upgrade: keras-applications>=1.0.6 in /usr/local/lib/python3.6/site-packages (from keras~=2.0->rasa_core==0.9.6) (1.0.6)\n",
      "Requirement already satisfied, skipping upgrade: websocket-client<0.55.0,>=0.35 in /usr/local/lib/python3.6/site-packages (from slackclient~=1.0->rasa_core==0.9.6) (0.54.0)\n",
      "Requirement already satisfied, skipping upgrade: absl-py>=0.1.6 in /usr/local/lib/python3.6/site-packages (from tensorflow<1.9,>=1.7->rasa_core==0.9.6) (0.6.1)\n",
      "Requirement already satisfied, skipping upgrade: gast>=0.2.0 in /usr/local/lib/python3.6/site-packages (from tensorflow<1.9,>=1.7->rasa_core==0.9.6) (0.2.0)\n",
      "Collecting tensorboard<1.9.0,>=1.8.0 (from tensorflow<1.9,>=1.7->rasa_core==0.9.6)\n",
      "  Using cached https://files.pythonhosted.org/packages/59/a6/0ae6092b7542cfedba6b2a1c9b8dceaf278238c39484f3ba03b03f07803c/tensorboard-1.8.0-py3-none-any.whl\n",
      "Requirement already satisfied, skipping upgrade: protobuf>=3.4.0 in /usr/local/lib/python3.6/site-packages (from tensorflow<1.9,>=1.7->rasa_core==0.9.6) (3.6.1)\n",
      "Requirement already satisfied, skipping upgrade: termcolor>=1.1.0 in /usr/local/lib/python3.6/site-packages (from tensorflow<1.9,>=1.7->rasa_core==0.9.6) (1.1.0)\n",
      "Requirement already satisfied, skipping upgrade: astor>=0.6.0 in /usr/local/lib/python3.6/site-packages (from tensorflow<1.9,>=1.7->rasa_core==0.9.6) (0.7.1)\n",
      "Requirement already satisfied, skipping upgrade: wheel>=0.26 in /usr/local/lib/python3.6/site-packages (from tensorflow<1.9,>=1.7->rasa_core==0.9.6) (0.31.1)\n",
      "Requirement already satisfied, skipping upgrade: grpcio>=1.8.6 in /usr/local/lib/python3.6/site-packages (from tensorflow<1.9,>=1.7->rasa_core==0.9.6) (1.16.1)\n",
      "Requirement already satisfied, skipping upgrade: idna<2.9,>=2.5 in /usr/local/lib/python3.6/site-packages (from requests~=2.15->rasa_core==0.9.6) (2.8)\n",
      "Requirement already satisfied, skipping upgrade: urllib3<1.25,>=1.21.1 in /usr/local/lib/python3.6/site-packages (from requests~=2.15->rasa_core==0.9.6) (1.24.1)\n",
      "Requirement already satisfied, skipping upgrade: chardet<3.1.0,>=3.0.2 in /usr/local/lib/python3.6/site-packages (from requests~=2.15->rasa_core==0.9.6) (3.0.4)\n",
      "Requirement already satisfied, skipping upgrade: certifi>=2017.4.17 in /usr/local/lib/python3.6/site-packages (from requests~=2.15->rasa_core==0.9.6) (2018.11.29)\n",
      "Requirement already satisfied, skipping upgrade: decorator>=4.3.0 in /usr/local/lib/python3.6/site-packages (from networkx~=2.0->rasa_core==0.9.6) (4.3.0)\n",
      "Requirement already satisfied, skipping upgrade: humanfriendly>=4.7 in /usr/local/lib/python3.6/site-packages (from coloredlogs~=10.0->rasa_core==0.9.6) (4.18)\n",
      "Requirement already satisfied, skipping upgrade: Werkzeug>=0.14 in /usr/local/lib/python3.6/site-packages (from flask~=1.0->rasa_core==0.9.6) (0.14.1)\n"
     ]
    },
    {
     "name": "stdout",
     "output_type": "stream",
     "text": [
      "Requirement already satisfied, skipping upgrade: itsdangerous>=0.24 in /usr/local/lib/python3.6/site-packages (from flask~=1.0->rasa_core==0.9.6) (1.1.0)\n",
      "Requirement already satisfied, skipping upgrade: Jinja2>=2.10 in /usr/local/lib/python3.6/site-packages (from flask~=1.0->rasa_core==0.9.6) (2.10)\n",
      "Requirement already satisfied, skipping upgrade: click>=5.1 in /usr/local/lib/python3.6/site-packages (from flask~=1.0->rasa_core==0.9.6) (7.0)\n",
      "Requirement already satisfied, skipping upgrade: python-dateutil>=2.4.2 in /usr/local/lib/python3.6/site-packages (from pykwalify<=1.6.0->rasa_core==0.9.6) (2.7.5)\n",
      "Requirement already satisfied, skipping upgrade: docopt>=0.6.2 in /usr/local/lib/python3.6/site-packages (from pykwalify<=1.6.0->rasa_core==0.9.6) (0.6.2)\n",
      "Requirement already satisfied, skipping upgrade: pytz in /usr/local/lib/python3.6/site-packages (from apscheduler~=3.0->rasa_core==0.9.6) (2018.9)\n",
      "Requirement already satisfied, skipping upgrade: setuptools>=0.7 in /usr/local/lib/python3.6/site-packages (from apscheduler~=3.0->rasa_core==0.9.6) (39.2.0)\n",
      "Requirement already satisfied, skipping upgrade: tzlocal>=1.2 in /usr/local/lib/python3.6/site-packages (from apscheduler~=3.0->rasa_core==0.9.6) (1.5.1)\n",
      "Requirement already satisfied, skipping upgrade: pysocks; python_version >= \"3.0\" in /usr/local/lib/python3.6/site-packages (from twilio~=6.0->rasa_core==0.9.6) (1.6.8)\n",
      "Requirement already satisfied, skipping upgrade: PyJWT>=1.4.2 in /usr/local/lib/python3.6/site-packages (from twilio~=6.0->rasa_core==0.9.6) (1.7.1)\n",
      "Requirement already satisfied, skipping upgrade: incremental in /usr/local/lib/python3.6/site-packages (from klein~=17.10->rasa_nlu[spacy]) (17.5.0)\n",
      "Requirement already satisfied, skipping upgrade: Twisted>=15.5 in /usr/local/lib/python3.6/site-packages (from klein~=17.10->rasa_nlu[spacy]) (18.9.0)\n",
      "Requirement already satisfied, skipping upgrade: cycler>=0.10 in /usr/local/lib/python3.6/site-packages (from matplotlib~=2.0->rasa_nlu[spacy]) (0.10.0)\n",
      "Requirement already satisfied, skipping upgrade: kiwisolver>=1.0.1 in /usr/local/lib/python3.6/site-packages (from matplotlib~=2.0->rasa_nlu[spacy]) (1.0.1)\n",
      "Requirement already satisfied, skipping upgrade: pyparsing!=2.0.4,!=2.1.2,!=2.1.6,>=2.0.1 in /usr/local/lib/python3.6/site-packages (from matplotlib~=2.0->rasa_nlu[spacy]) (2.3.0)\n",
      "Requirement already satisfied, skipping upgrade: s3transfer<0.3.0,>=0.2.0 in /usr/local/lib/python3.6/site-packages (from boto3~=1.5->rasa_nlu[spacy]) (0.2.0)\n",
      "Requirement already satisfied, skipping upgrade: botocore<1.13.0,>=1.12.113 in /usr/local/lib/python3.6/site-packages (from boto3~=1.5->rasa_nlu[spacy]) (1.12.113)\n",
      "Requirement already satisfied, skipping upgrade: jmespath<1.0.0,>=0.7.1 in /usr/local/lib/python3.6/site-packages (from boto3~=1.5->rasa_nlu[spacy]) (0.9.4)\n",
      "Requirement already satisfied, skipping upgrade: greenlet>=0.4.14; platform_python_implementation == \"CPython\" in /usr/local/lib/python3.6/site-packages (from gevent~=1.2->rasa_nlu[spacy]) (0.4.15)\n",
      "Requirement already satisfied, skipping upgrade: thinc<6.13.0,>=6.12.1 in /usr/local/lib/python3.6/site-packages (from spacy<=2.0.18,>2.0; extra == \"spacy\"->rasa_nlu[spacy]) (6.12.1)\n",
      "Requirement already satisfied, skipping upgrade: dill<0.3,>=0.2 in /usr/local/lib/python3.6/site-packages (from spacy<=2.0.18,>2.0; extra == \"spacy\"->rasa_nlu[spacy]) (0.2.9)\n",
      "Requirement already satisfied, skipping upgrade: ujson>=1.35 in /usr/local/lib/python3.6/site-packages (from spacy<=2.0.18,>2.0; extra == \"spacy\"->rasa_nlu[spacy]) (1.35)\n",
      "Requirement already satisfied, skipping upgrade: cymem<2.1.0,>=2.0.2 in /usr/local/lib/python3.6/site-packages (from spacy<=2.0.18,>2.0; extra == \"spacy\"->rasa_nlu[spacy]) (2.0.2)\n",
      "Requirement already satisfied, skipping upgrade: murmurhash<1.1.0,>=0.28.0 in /usr/local/lib/python3.6/site-packages (from spacy<=2.0.18,>2.0; extra == \"spacy\"->rasa_nlu[spacy]) (1.0.2)\n",
      "Requirement already satisfied, skipping upgrade: plac<1.0.0,>=0.9.6 in /usr/local/lib/python3.6/site-packages (from spacy<=2.0.18,>2.0; extra == \"spacy\"->rasa_nlu[spacy]) (0.9.6)\n",
      "Requirement already satisfied, skipping upgrade: regex==2018.01.10 in /usr/local/lib/python3.6/site-packages (from spacy<=2.0.18,>2.0; extra == \"spacy\"->rasa_nlu[spacy]) (2018.1.10)\n",
      "Requirement already satisfied, skipping upgrade: preshed<2.1.0,>=2.0.1 in /usr/local/lib/python3.6/site-packages (from spacy<=2.0.18,>2.0; extra == \"spacy\"->rasa_nlu[spacy]) (2.0.1)\n",
      "Requirement already satisfied, skipping upgrade: python-crfsuite>=0.8.3 in /usr/local/lib/python3.6/site-packages (from sklearn-crfsuite~=0.3.6; extra == \"spacy\"->rasa_nlu[spacy]) (0.9.6)\n",
      "Requirement already satisfied, skipping upgrade: tabulate in /usr/local/lib/python3.6/site-packages (from sklearn-crfsuite~=0.3.6; extra == \"spacy\"->rasa_nlu[spacy]) (0.8.3)\n",
      "Requirement already satisfied, skipping upgrade: markdown>=2.6.8 in /usr/local/lib/python3.6/site-packages (from tensorboard<1.9.0,>=1.8.0->tensorflow<1.9,>=1.7->rasa_core==0.9.6) (3.0.1)\n",
      "Requirement already satisfied, skipping upgrade: html5lib==0.9999999 in /usr/local/lib/python3.6/site-packages (from tensorboard<1.9.0,>=1.8.0->tensorflow<1.9,>=1.7->rasa_core==0.9.6) (0.9999999)\n",
      "Collecting bleach==1.5.0 (from tensorboard<1.9.0,>=1.8.0->tensorflow<1.9,>=1.7->rasa_core==0.9.6)\n",
      "  Using cached https://files.pythonhosted.org/packages/33/70/86c5fec937ea4964184d4d6c4f0b9551564f821e1c3575907639036d9b90/bleach-1.5.0-py2.py3-none-any.whl\n",
      "Requirement already satisfied, skipping upgrade: MarkupSafe>=0.23 in /usr/local/lib/python3.6/site-packages (from Jinja2>=2.10->flask~=1.0->rasa_core==0.9.6) (1.1.0)\n",
      "Requirement already satisfied, skipping upgrade: constantly>=15.1 in /usr/local/lib/python3.6/site-packages (from Twisted>=15.5->klein~=17.10->rasa_nlu[spacy]) (15.1.0)\n",
      "Requirement already satisfied, skipping upgrade: PyHamcrest>=1.9.0 in /usr/local/lib/python3.6/site-packages (from Twisted>=15.5->klein~=17.10->rasa_nlu[spacy]) (1.9.0)\n",
      "Requirement already satisfied, skipping upgrade: zope.interface>=4.4.2 in /usr/local/lib/python3.6/site-packages (from Twisted>=15.5->klein~=17.10->rasa_nlu[spacy]) (4.6.0)\n",
      "Requirement already satisfied, skipping upgrade: hyperlink>=17.1.1 in /usr/local/lib/python3.6/site-packages (from Twisted>=15.5->klein~=17.10->rasa_nlu[spacy]) (18.0.0)\n",
      "Requirement already satisfied, skipping upgrade: attrs>=17.4.0 in /usr/local/lib/python3.6/site-packages (from Twisted>=15.5->klein~=17.10->rasa_nlu[spacy]) (19.1.0)\n",
      "Requirement already satisfied, skipping upgrade: Automat>=0.3.0 in /usr/local/lib/python3.6/site-packages (from Twisted>=15.5->klein~=17.10->rasa_nlu[spacy]) (0.7.0)\n",
      "Requirement already satisfied, skipping upgrade: docutils>=0.10 in /usr/local/lib/python3.6/site-packages (from botocore<1.13.0,>=1.12.113->boto3~=1.5->rasa_nlu[spacy]) (0.14)\n",
      "Requirement already satisfied, skipping upgrade: cytoolz<0.10,>=0.9.0 in /usr/local/lib/python3.6/site-packages (from thinc<6.13.0,>=6.12.1->spacy<=2.0.18,>2.0; extra == \"spacy\"->rasa_nlu[spacy]) (0.9.0.1)\n",
      "Requirement already satisfied, skipping upgrade: msgpack-numpy<0.4.4 in /usr/local/lib/python3.6/site-packages (from thinc<6.13.0,>=6.12.1->spacy<=2.0.18,>2.0; extra == \"spacy\"->rasa_nlu[spacy]) (0.4.3.2)\n",
      "Requirement already satisfied, skipping upgrade: msgpack<0.6.0,>=0.5.6 in /usr/local/lib/python3.6/site-packages (from thinc<6.13.0,>=6.12.1->spacy<=2.0.18,>2.0; extra == \"spacy\"->rasa_nlu[spacy]) (0.5.6)\n",
      "Requirement already satisfied, skipping upgrade: wrapt<1.11.0,>=1.10.0 in /usr/local/lib/python3.6/site-packages (from thinc<6.13.0,>=6.12.1->spacy<=2.0.18,>2.0; extra == \"spacy\"->rasa_nlu[spacy]) (1.10.11)\n",
      "Requirement already satisfied, skipping upgrade: toolz>=0.8.0 in /usr/local/lib/python3.6/site-packages (from cytoolz<0.10,>=0.9.0->thinc<6.13.0,>=6.12.1->spacy<=2.0.18,>2.0; extra == \"spacy\"->rasa_nlu[spacy]) (0.9.0)\n",
      "\u001b[31mrasa-nlu 0.14.6 has requirement scikit-learn~=0.20.2, but you'll have scikit-learn 0.19.2 which is incompatible.\u001b[0m\n",
      "\u001b[31mrasa-core 0.9.6 has requirement rasa-nlu~=0.12.0, but you'll have rasa-nlu 0.14.6 which is incompatible.\u001b[0m\n",
      "Installing collected packages: bleach, tensorboard, tensorflow, python-telegram-bot, rasa-nlu, pykwalify, rasa-core\n",
      "  Found existing installation: bleach 3.0.2\n",
      "    Uninstalling bleach-3.0.2:\n",
      "\u001b[31mCould not install packages due to an EnvironmentError: [Errno 13] Permission denied: 'RECORD'\n",
      "Consider using the `--user` option or check the permissions.\n",
      "\u001b[0m\n"
     ]
    }
   ],
   "source": [
    "import sys\n",
    "python = sys.executable\n",
    "\n",
    "# In your environment run:\n",
    "!{python} -m pip install -U rasa_core==0.9.6 rasa_nlu[spacy];"
   ]
  },
  {
   "cell_type": "code",
   "execution_count": 40,
   "metadata": {
    "colab": {
     "base_uri": "https://localhost:8080/",
     "height": 258
    },
    "colab_type": "code",
    "id": "wyCva14-1gD4",
    "outputId": "642d04c1-b9ad-4ed0-fb28-ee9bef21507b",
    "pycharm": {}
   },
   "outputs": [
    {
     "name": "stdout",
     "output_type": "stream",
     "text": [
      "Requirement already satisfied: en_core_web_md==2.0.0 from https://github.com/explosion/spacy-models/releases/download/en_core_web_md-2.0.0/en_core_web_md-2.0.0.tar.gz#egg=en_core_web_md==2.0.0 in /usr/local/lib/python3.6/site-packages (2.0.0)\n",
      "\n",
      "\u001b[93m    Linking successful\u001b[0m\n",
      "    /usr/local/lib/python3.6/site-packages/en_core_web_md -->\n",
      "    /usr/local/lib/python3.6/site-packages/spacy/data/en_core_web_md\n",
      "\n",
      "    You can now load the model via spacy.load('en_core_web_md')\n",
      "\n"
     ]
    }
   ],
   "source": [
    "!{python} -m spacy download en_core_web_md"
   ]
  },
  {
   "cell_type": "markdown",
   "metadata": {
    "colab_type": "text",
    "id": "v7JQlbqR9CHC",
    "pycharm": {}
   },
   "source": [
    "## Downloading the English Language Model"
   ]
  },
  {
   "cell_type": "code",
   "execution_count": 41,
   "metadata": {
    "colab": {
     "base_uri": "https://localhost:8080/",
     "height": 136
    },
    "colab_type": "code",
    "id": "eRmnEdML3OhH",
    "outputId": "cb852307-d652-40c3-cf3d-66c54f833908",
    "pycharm": {}
   },
   "outputs": [
    {
     "name": "stdout",
     "output_type": "stream",
     "text": [
      "\r\n",
      "\u001b[93m    Linking successful\u001b[0m\r\n",
      "    /usr/local/lib/python3.6/site-packages/en_core_web_md -->\r\n",
      "    /usr/local/lib/python3.6/site-packages/spacy/data/en\r\n",
      "\r\n",
      "    You can now load the model via spacy.load('en')\r\n",
      "\r\n"
     ]
    }
   ],
   "source": [
    "!{python} -m spacy link en_core_web_md en --force;"
   ]
  },
  {
   "cell_type": "code",
   "execution_count": 42,
   "metadata": {
    "pycharm": {}
   },
   "outputs": [
    {
     "name": "stdout",
     "output_type": "stream",
     "text": [
      "Requirement already satisfied: rasa_core in /usr/local/lib/python3.6/site-packages (0.13.3)\n",
      "Requirement already satisfied: keras-applications==1.0.6 in /usr/local/lib/python3.6/site-packages (from rasa_core) (1.0.6)\n",
      "Requirement already satisfied: numpy~=1.16 in /usr/local/lib/python3.6/site-packages (from rasa_core) (1.16.2)\n",
      "Requirement already satisfied: flask-jwt-simple~=0.0.3 in /usr/local/lib/python3.6/site-packages (from rasa_core) (0.0.3)\n",
      "Requirement already satisfied: requests~=2.20 in /usr/local/lib/python3.6/site-packages (from rasa_core) (2.21.0)\n",
      "Requirement already satisfied: keras-preprocessing==1.0.5 in /usr/local/lib/python3.6/site-packages (from rasa_core) (1.0.5)\n",
      "Requirement already satisfied: jsonschema~=2.6 in /usr/local/lib/python3.6/site-packages (from rasa_core) (2.6.0)\n",
      "Requirement already satisfied: ruamel.yaml~=0.15.0 in /usr/local/lib/python3.6/site-packages (from rasa_core) (0.15.89)\n",
      "Requirement already satisfied: fbmessenger~=5.0 in /usr/local/lib/python3.6/site-packages (from rasa_core) (5.4.0)\n",
      "Requirement already satisfied: gevent~=1.4 in /usr/local/lib/python3.6/site-packages (from rasa_core) (1.4.0)\n",
      "Collecting scikit-learn~=0.20.0 (from rasa_core)\n",
      "  Using cached https://files.pythonhosted.org/packages/7e/90/bfe484adb16cdad078967b2b480517ec6c1180137e26fb4b015bcb090226/scikit_learn-0.20.3-cp36-cp36m-macosx_10_6_intel.macosx_10_9_intel.macosx_10_9_x86_64.macosx_10_10_intel.macosx_10_10_x86_64.whl\n",
      "Requirement already satisfied: packaging~=18.0 in /usr/local/lib/python3.6/site-packages (from rasa_core) (18.0)\n",
      "Requirement already satisfied: twilio~=6.0 in /usr/local/lib/python3.6/site-packages (from rasa_core) (6.25.1)\n",
      "Requirement already satisfied: pika~=0.12.0 in /usr/local/lib/python3.6/site-packages (from rasa_core) (0.12.0)\n",
      "Requirement already satisfied: networkx~=2.2 in /usr/local/lib/python3.6/site-packages (from rasa_core) (2.2)\n",
      "Requirement already satisfied: colorhash~=1.0 in /usr/local/lib/python3.6/site-packages (from rasa_core) (1.0.2)\n",
      "Requirement already satisfied: pytz~=2018.9 in /usr/local/lib/python3.6/site-packages (from rasa_core) (2018.9)\n",
      "Requirement already satisfied: flask-cors~=3.0 in /usr/local/lib/python3.6/site-packages (from rasa_core) (3.0.7)\n",
      "Requirement already satisfied: typing~=3.0 in /usr/local/lib/python3.6/site-packages (from rasa_core) (3.6.6)\n",
      "Requirement already satisfied: scipy~=1.2 in /usr/local/lib/python3.6/site-packages (from rasa_core) (1.2.1)\n",
      "Requirement already satisfied: python-telegram-bot~=11.0 in /usr/local/lib/python3.6/site-packages (from rasa_core) (11.1.0)\n",
      "Requirement already satisfied: tqdm~=4.0 in /usr/local/lib/python3.6/site-packages (from rasa_core) (4.31.1)\n",
      "Requirement already satisfied: flask~=1.0 in /usr/local/lib/python3.6/site-packages (from rasa_core) (1.0.2)\n",
      "Requirement already satisfied: coloredlogs~=10.0 in /usr/local/lib/python3.6/site-packages (from rasa_core) (10.0)\n",
      "Requirement already satisfied: rasa-core-sdk~=0.12.1 in /usr/local/lib/python3.6/site-packages (from rasa_core) (0.12.2)\n",
      "Requirement already satisfied: colorclass~=2.2 in /usr/local/lib/python3.6/site-packages (from rasa_core) (2.2.0)\n",
      "Requirement already satisfied: pymongo~=3.7 in /usr/local/lib/python3.6/site-packages (from rasa_core) (3.7.2)\n",
      "Requirement already satisfied: webexteamssdk~=1.0 in /usr/local/lib/python3.6/site-packages (from rasa_core) (1.1.1)\n",
      "Requirement already satisfied: fakeredis~=0.10.0 in /usr/local/lib/python3.6/site-packages (from rasa_core) (0.10.3)\n",
      "Requirement already satisfied: slackclient~=1.0 in /usr/local/lib/python3.6/site-packages (from rasa_core) (1.3.1)\n",
      "Requirement already satisfied: rocketchat-API~=0.6.0 in /usr/local/lib/python3.6/site-packages (from rasa_core) (0.6.27)\n",
      "Requirement already satisfied: python-socketio~=3.0 in /usr/local/lib/python3.6/site-packages (from rasa_core) (3.1.2)\n",
      "Requirement already satisfied: mattermostwrapper~=2.0 in /usr/local/lib/python3.6/site-packages (from rasa_core) (2.1)\n",
      "Requirement already satisfied: rasa-nlu~=0.14.0 in /usr/local/lib/python3.6/site-packages (from rasa_core) (0.14.4)\n",
      "Requirement already satisfied: redis~=2.0 in /usr/local/lib/python3.6/site-packages (from rasa_core) (2.10.6)\n",
      "Requirement already satisfied: questionary>=1.0.1 in /usr/local/lib/python3.6/site-packages (from rasa_core) (1.0.2)\n",
      "Requirement already satisfied: apscheduler~=3.0 in /usr/local/lib/python3.6/site-packages (from rasa_core) (3.5.3)\n",
      "Requirement already satisfied: pydot~=1.4 in /usr/local/lib/python3.6/site-packages (from rasa_core) (1.4.1)\n",
      "Requirement already satisfied: pykwalify~=1.7.0 in /usr/local/lib/python3.6/site-packages (from rasa_core) (1.7.0)\n",
      "Requirement already satisfied: tensorflow~=1.12.0 in /usr/local/lib/python3.6/site-packages (from rasa_core) (1.12.0)\n",
      "Requirement already satisfied: python-dateutil~=2.7 in /usr/local/lib/python3.6/site-packages (from rasa_core) (2.7.5)\n",
      "Requirement already satisfied: terminaltables~=3.1 in /usr/local/lib/python3.6/site-packages (from rasa_core) (3.1.0)\n",
      "Collecting jsonpickle~=1.0 (from rasa_core)\n",
      "  Using cached https://files.pythonhosted.org/packages/dc/12/8c44eabb501e2bc0aec0dd152b328074d98a50968d3a02be28f6037f0c6a/jsonpickle-1.1-py2.py3-none-any.whl\n",
      "Requirement already satisfied: h5py in /usr/local/lib/python3.6/site-packages (from keras-applications==1.0.6->rasa_core) (2.8.0)\n",
      "Requirement already satisfied: PyJWT in /usr/local/lib/python3.6/site-packages (from flask-jwt-simple~=0.0.3->rasa_core) (1.7.1)\n",
      "Requirement already satisfied: urllib3<1.25,>=1.21.1 in /usr/local/lib/python3.6/site-packages (from requests~=2.20->rasa_core) (1.24.1)\n",
      "Requirement already satisfied: idna<2.9,>=2.5 in /usr/local/lib/python3.6/site-packages (from requests~=2.20->rasa_core) (2.8)\n",
      "Requirement already satisfied: certifi>=2017.4.17 in /usr/local/lib/python3.6/site-packages (from requests~=2.20->rasa_core) (2018.11.29)\n",
      "Requirement already satisfied: chardet<3.1.0,>=3.0.2 in /usr/local/lib/python3.6/site-packages (from requests~=2.20->rasa_core) (3.0.4)\n",
      "Requirement already satisfied: six>=1.9.0 in /usr/local/lib/python3.6/site-packages (from keras-preprocessing==1.0.5->rasa_core) (1.11.0)\n",
      "Requirement already satisfied: greenlet>=0.4.14; platform_python_implementation == \"CPython\" in /usr/local/lib/python3.6/site-packages (from gevent~=1.4->rasa_core) (0.4.15)\n",
      "Requirement already satisfied: pyparsing>=2.0.2 in /usr/local/lib/python3.6/site-packages (from packaging~=18.0->rasa_core) (2.3.0)\n",
      "Requirement already satisfied: pysocks; python_version >= \"3.0\" in /usr/local/lib/python3.6/site-packages (from twilio~=6.0->rasa_core) (1.6.8)\n",
      "Requirement already satisfied: decorator>=4.3.0 in /usr/local/lib/python3.6/site-packages (from networkx~=2.2->rasa_core) (4.3.0)\n",
      "Requirement already satisfied: future>=0.16.0 in /usr/local/lib/python3.6/site-packages (from python-telegram-bot~=11.0->rasa_core) (0.17.1)\n",
      "Requirement already satisfied: cryptography in /usr/local/lib/python3.6/site-packages (from python-telegram-bot~=11.0->rasa_core) (2.6.1)\n",
      "Requirement already satisfied: Werkzeug>=0.14 in /usr/local/lib/python3.6/site-packages (from flask~=1.0->rasa_core) (0.14.1)\n",
      "Requirement already satisfied: Jinja2>=2.10 in /usr/local/lib/python3.6/site-packages (from flask~=1.0->rasa_core) (2.10)\n",
      "Requirement already satisfied: itsdangerous>=0.24 in /usr/local/lib/python3.6/site-packages (from flask~=1.0->rasa_core) (1.1.0)\n",
      "Requirement already satisfied: click>=5.1 in /usr/local/lib/python3.6/site-packages (from flask~=1.0->rasa_core) (7.0)\n",
      "Requirement already satisfied: humanfriendly>=4.7 in /usr/local/lib/python3.6/site-packages (from coloredlogs~=10.0->rasa_core) (4.18)\n",
      "Requirement already satisfied: ConfigArgParse~=0.13.0 in /usr/local/lib/python3.6/site-packages (from rasa-core-sdk~=0.12.1->rasa_core) (0.13.0)\n",
      "Requirement already satisfied: requests-toolbelt in /usr/local/lib/python3.6/site-packages (from webexteamssdk~=1.0->rasa_core) (0.9.1)\n",
      "Requirement already satisfied: websocket-client<0.55.0,>=0.35 in /usr/local/lib/python3.6/site-packages (from slackclient~=1.0->rasa_core) (0.54.0)\n",
      "Requirement already satisfied: python-engineio>=3.2.0 in /usr/local/lib/python3.6/site-packages (from python-socketio~=3.0->rasa_core) (3.4.3)\n",
      "Requirement already satisfied: matplotlib~=2.0 in /usr/local/lib/python3.6/site-packages (from rasa-nlu~=0.14.0->rasa_core) (2.2.4)\n",
      "Requirement already satisfied: klein~=17.10 in /usr/local/lib/python3.6/site-packages (from rasa-nlu~=0.14.0->rasa_core) (17.10.0)\n",
      "Requirement already satisfied: boto3~=1.5 in /usr/local/lib/python3.6/site-packages (from rasa-nlu~=0.14.0->rasa_core) (1.9.113)\n",
      "Requirement already satisfied: simplejson~=3.13 in /usr/local/lib/python3.6/site-packages (from rasa-nlu~=0.14.0->rasa_core) (3.16.0)\n",
      "Requirement already satisfied: cloudpickle~=0.6.1 in /usr/local/lib/python3.6/site-packages (from rasa-nlu~=0.14.0->rasa_core) (0.6.1)\n",
      "Requirement already satisfied: prompt-toolkit~=2.0 in /usr/local/lib/python3.6/site-packages (from questionary>=1.0.1->rasa_core) (2.0.7)\n"
     ]
    },
    {
     "name": "stdout",
     "output_type": "stream",
     "text": [
      "Requirement already satisfied: tzlocal>=1.2 in /usr/local/lib/python3.6/site-packages (from apscheduler~=3.0->rasa_core) (1.5.1)\n",
      "Requirement already satisfied: setuptools>=0.7 in /usr/local/lib/python3.6/site-packages (from apscheduler~=3.0->rasa_core) (39.2.0)\n",
      "Requirement already satisfied: docopt>=0.6.2 in /usr/local/lib/python3.6/site-packages (from pykwalify~=1.7.0->rasa_core) (0.6.2)\n",
      "Requirement already satisfied: PyYAML>=3.11 in /usr/local/lib/python3.6/site-packages (from pykwalify~=1.7.0->rasa_core) (3.13)\n",
      "Requirement already satisfied: protobuf>=3.6.1 in /usr/local/lib/python3.6/site-packages (from tensorflow~=1.12.0->rasa_core) (3.6.1)\n",
      "Requirement already satisfied: astor>=0.6.0 in /usr/local/lib/python3.6/site-packages (from tensorflow~=1.12.0->rasa_core) (0.7.1)\n",
      "Requirement already satisfied: absl-py>=0.1.6 in /usr/local/lib/python3.6/site-packages (from tensorflow~=1.12.0->rasa_core) (0.6.1)\n",
      "Requirement already satisfied: wheel>=0.26 in /usr/local/lib/python3.6/site-packages (from tensorflow~=1.12.0->rasa_core) (0.31.1)\n",
      "Requirement already satisfied: gast>=0.2.0 in /usr/local/lib/python3.6/site-packages (from tensorflow~=1.12.0->rasa_core) (0.2.0)\n",
      "Requirement already satisfied: termcolor>=1.1.0 in /usr/local/lib/python3.6/site-packages (from tensorflow~=1.12.0->rasa_core) (1.1.0)\n",
      "Requirement already satisfied: grpcio>=1.8.6 in /usr/local/lib/python3.6/site-packages (from tensorflow~=1.12.0->rasa_core) (1.16.1)\n",
      "Requirement already satisfied: tensorboard<1.13.0,>=1.12.0 in /usr/local/lib/python3.6/site-packages (from tensorflow~=1.12.0->rasa_core) (1.12.0)\n",
      "Requirement already satisfied: cffi!=1.11.3,>=1.8 in /usr/local/lib/python3.6/site-packages (from cryptography->python-telegram-bot~=11.0->rasa_core) (1.12.2)\n",
      "Requirement already satisfied: asn1crypto>=0.21.0 in /usr/local/lib/python3.6/site-packages (from cryptography->python-telegram-bot~=11.0->rasa_core) (0.24.0)\n",
      "Requirement already satisfied: MarkupSafe>=0.23 in /usr/local/lib/python3.6/site-packages (from Jinja2>=2.10->flask~=1.0->rasa_core) (1.1.0)\n",
      "Requirement already satisfied: cycler>=0.10 in /usr/local/lib/python3.6/site-packages (from matplotlib~=2.0->rasa-nlu~=0.14.0->rasa_core) (0.10.0)\n",
      "Requirement already satisfied: kiwisolver>=1.0.1 in /usr/local/lib/python3.6/site-packages (from matplotlib~=2.0->rasa-nlu~=0.14.0->rasa_core) (1.0.1)\n",
      "Requirement already satisfied: Twisted>=15.5 in /usr/local/lib/python3.6/site-packages (from klein~=17.10->rasa-nlu~=0.14.0->rasa_core) (18.9.0)\n",
      "Requirement already satisfied: incremental in /usr/local/lib/python3.6/site-packages (from klein~=17.10->rasa-nlu~=0.14.0->rasa_core) (17.5.0)\n",
      "Requirement already satisfied: botocore<1.13.0,>=1.12.113 in /usr/local/lib/python3.6/site-packages (from boto3~=1.5->rasa-nlu~=0.14.0->rasa_core) (1.12.113)\n",
      "Requirement already satisfied: jmespath<1.0.0,>=0.7.1 in /usr/local/lib/python3.6/site-packages (from boto3~=1.5->rasa-nlu~=0.14.0->rasa_core) (0.9.4)\n",
      "Requirement already satisfied: s3transfer<0.3.0,>=0.2.0 in /usr/local/lib/python3.6/site-packages (from boto3~=1.5->rasa-nlu~=0.14.0->rasa_core) (0.2.0)\n",
      "Requirement already satisfied: wcwidth in /usr/local/lib/python3.6/site-packages (from prompt-toolkit~=2.0->questionary>=1.0.1->rasa_core) (0.1.7)\n",
      "Requirement already satisfied: markdown>=2.6.8 in /usr/local/lib/python3.6/site-packages (from tensorboard<1.13.0,>=1.12.0->tensorflow~=1.12.0->rasa_core) (3.0.1)\n",
      "Requirement already satisfied: pycparser in /usr/local/lib/python3.6/site-packages (from cffi!=1.11.3,>=1.8->cryptography->python-telegram-bot~=11.0->rasa_core) (2.19)\n",
      "Requirement already satisfied: zope.interface>=4.4.2 in /usr/local/lib/python3.6/site-packages (from Twisted>=15.5->klein~=17.10->rasa-nlu~=0.14.0->rasa_core) (4.6.0)\n",
      "Requirement already satisfied: attrs>=17.4.0 in /usr/local/lib/python3.6/site-packages (from Twisted>=15.5->klein~=17.10->rasa-nlu~=0.14.0->rasa_core) (19.1.0)\n",
      "Requirement already satisfied: Automat>=0.3.0 in /usr/local/lib/python3.6/site-packages (from Twisted>=15.5->klein~=17.10->rasa-nlu~=0.14.0->rasa_core) (0.7.0)\n",
      "Requirement already satisfied: hyperlink>=17.1.1 in /usr/local/lib/python3.6/site-packages (from Twisted>=15.5->klein~=17.10->rasa-nlu~=0.14.0->rasa_core) (18.0.0)\n",
      "Requirement already satisfied: constantly>=15.1 in /usr/local/lib/python3.6/site-packages (from Twisted>=15.5->klein~=17.10->rasa-nlu~=0.14.0->rasa_core) (15.1.0)\n",
      "Requirement already satisfied: PyHamcrest>=1.9.0 in /usr/local/lib/python3.6/site-packages (from Twisted>=15.5->klein~=17.10->rasa-nlu~=0.14.0->rasa_core) (1.9.0)\n",
      "Requirement already satisfied: docutils>=0.10 in /usr/local/lib/python3.6/site-packages (from botocore<1.13.0,>=1.12.113->boto3~=1.5->rasa-nlu~=0.14.0->rasa_core) (0.14)\n",
      "Installing collected packages: scikit-learn, jsonpickle\n",
      "  Found existing installation: scikit-learn 0.19.2\n",
      "    Uninstalling scikit-learn-0.19.2:\n",
      "      Successfully uninstalled scikit-learn-0.19.2\n",
      "  Found existing installation: jsonpickle 0.9.6\n",
      "    Uninstalling jsonpickle-0.9.6:\n",
      "      Successfully uninstalled jsonpickle-0.9.6\n",
      "Successfully installed jsonpickle-1.1 scikit-learn-0.20.3\n"
     ]
    }
   ],
   "source": [
    "!pip install rasa_core"
   ]
  },
  {
   "cell_type": "markdown",
   "metadata": {
    "colab_type": "text",
    "id": "yHYeAA859JGq",
    "pycharm": {}
   },
   "source": [
    "# Importing the Installations"
   ]
  },
  {
   "cell_type": "code",
   "execution_count": 43,
   "metadata": {
    "colab": {},
    "colab_type": "code",
    "id": "TSw6zFmk3iPu",
    "pycharm": {
     "is_executing": false
    }
   },
   "outputs": [],
   "source": [
    "import rasa_nlu\n",
    "import rasa_core\n",
    "import spacy\n",
    "\n"
   ]
  },
  {
   "cell_type": "markdown",
   "metadata": {
    "colab_type": "text",
    "id": "aEw5vhSq9gWa",
    "pycharm": {}
   },
   "source": [
    "# 1. Teaching the bot to understand user inputs using Rasa NLU"
   ]
  },
  {
   "cell_type": "markdown",
   "metadata": {
    "colab_type": "text",
    "id": "oDEAOmaI9o4a",
    "pycharm": {}
   },
   "source": [
    "## Preparing the NLU Training Data"
   ]
  },
  {
   "cell_type": "code",
   "execution_count": 70,
   "metadata": {
    "colab": {
     "base_uri": "https://localhost:8080/",
     "height": 34
    },
    "colab_type": "code",
    "id": "RPxeQ1_14CjK",
    "outputId": "bfb5974f-f8ea-46b8-b8cb-9dd4479ed9cc",
    "pycharm": {
     "is_executing": false
    }
   },
   "outputs": [
    {
     "name": "stdout",
     "output_type": "stream",
     "text": [
      "Writing 'nlu_md' (str) to file 'nlu.md'.\n"
     ]
    }
   ],
   "source": [
    "nlu_md = \"\"\"\n",
    "## intent:greet\n",
    "- hey\n",
    "- hello there\n",
    "- hi\n",
    "- hello there\n",
    "- good morning\n",
    "- good evening\n",
    "- moin\n",
    "- hey there\n",
    "- let's go\n",
    "- hey dude\n",
    "- goodmorning\n",
    "- goodevening\n",
    "- good afternoon\n",
    "\n",
    "## intent:goodbye\n",
    "- cu\n",
    "- good by\n",
    "- cee you later\n",
    "- good night\n",
    "- good afternoon\n",
    "- bye\n",
    "- goodbye\n",
    "- have a nice day\n",
    "- see you around\n",
    "- bye bye\n",
    "- see you later\n",
    "\n",
    "## intent:mood_affirm\n",
    "- yes\n",
    "- indeed\n",
    "- of course\n",
    "- that sounds good\n",
    "- correct\n",
    "\n",
    "## intent:mood_deny\n",
    "- no\n",
    "- never\n",
    "- I don't think so\n",
    "- don't like that\n",
    "- no way\n",
    "- not really\n",
    "\n",
    "\n",
    "\n",
    "\n",
    "## intent:student_work_authorization\n",
    "- What does the student’s work authorization look like?\n",
    "- how is student work authorization?\n",
    "- how does student work authorization look like?\n",
    "- Student work authorization look?\n",
    "- what's Student work authorization\n",
    "\n",
    "## intent:student_work\n",
    "- When can a student work?\n",
    "- When can I work?\n",
    "\n",
    "\n",
    "## intent:student_work_timings\n",
    "- How many hours per week can a student work?\n",
    "- How many hours can I work?\n",
    "- number of hours I can work?\n",
    "- no. of hours I can work?\n",
    "\n",
    "## intent:taxes\n",
    "- Are F-1 students subject to taxes?\n",
    "- am I subjected to tax ?\n",
    "- how much tax shoud I pay ?\n",
    "- should I pay tax ?\n",
    "\n",
    "## intent:E_verify\n",
    "- What is E-Verify?\n",
    "- how to do e-verify?\n",
    "- What is E Verify?\n",
    "- how to do e verify?\n",
    "- What is EVerify?\n",
    "- how to do everify\n",
    "\n",
    "##intent: Visa_interview\n",
    "-What all do I need for Visa Interview?\n",
    "-what all documents do I need for Visa Interview?\n",
    "-Documents needed for Visa Interview?\n",
    "-What all things do I need for Visa Interview?\n",
    "-What all papaers do I need for Visa Interview?\n",
    "\n",
    "##intent: travel_date\n",
    "-When can I travel to the usa?\n",
    "-How many days prior to my admission can I travel to the USA?\n",
    "\n",
    "## intent:customs_immigration\n",
    "-What all do I need for customs and immigration?\n",
    "-what all documents do I need for customs and immigration?\n",
    "-Documents needed for customs and immigration?\n",
    "-What all things do I need for customs and immigration?\n",
    "-What all papaers do I need for customs and immigration?\n",
    "\n",
    "##intent:questions_during_visa\n",
    "-What are the common questions asked during Visa interview?\n",
    "-What should I prepare for Visa interview?\n",
    "-What kind of questions are asked during a visa interview?\n",
    "-Common questions durin Visa interview?\n",
    "-Questions asked in a Visa interview?\n",
    "\n",
    "##intent:health_insurance\n",
    "-How do I pyrchase University heath insurance?\n",
    "-What steps are involved in purchasing student health insurance?\n",
    "-Steps to purchase health insurance?\n",
    "-international Heath Insurance puchase?\n",
    "\n",
    "##intent:immunization\n",
    "-What are the steps involved in immunization?\n",
    "-What all immunization do I need before getting to the USA?\n",
    "-Kind of immunization required before reaching?\n",
    "-What is the proof of immunization that needs to be submitted?\n",
    "\n",
    "##intent:housing\n",
    "-Where can I find the housing details of SJSU?\n",
    "-Accomodation in SJSU?\n",
    "-Accomodation for international students at SJSU?\n",
    "-Housing for students near SJSU?\n",
    "-Housing on campus?\n",
    "\n",
    "##intent:course_registration\n",
    "-How many courses do I need to register for?\n",
    "-How many credits are mandatory?\n",
    "-Number of credits at SJSU?\n",
    "-SJSU credits for F1 students?\n",
    "\n",
    "##intent:tution\n",
    "-Where can I find details about my tution fees?\n",
    "-Information about tution fees?\n",
    "-When do I have to pay for tution fees?\n",
    "-When can I register for the courses?\n",
    "-Where do I pay my tution?\n",
    "\n",
    "##intent:tower_ID\n",
    "-Where can I get my ID?\n",
    "-Do I need an ID?\n",
    "-Procedure to get an ID?\n",
    "-Documents required to get an ID?\n",
    "-How do I get my student ID?\n",
    "-Steps involved in getting student ID card?\n",
    "\n",
    "## intent: inform\n",
    "- A [dog](group:shibes)\n",
    "- [dog](group:shibes)\n",
    "- [bird](group:birds)\n",
    "- a [cat](group:cats)\n",
    "- [cat](group:cats)\n",
    "- a [bird](group:birds)\n",
    "- of a [dog](group:shibes)\n",
    "- of a [cat](group:cats)\n",
    "- a [bird](group:birds), please\n",
    "- a [dog](group:shibes), please\n",
    "\"\"\"\n",
    "\n",
    "%store nlu_md > nlu.md"
   ]
  },
  {
   "cell_type": "code",
   "execution_count": 71,
   "metadata": {
    "pycharm": {
     "is_executing": false
    }
   },
   "outputs": [
    {
     "name": "stdout",
     "output_type": "stream",
     "text": [
      "config.yml                       stories.md\r\n",
      "domain.yml                       stories_backup.md\r\n",
      "errors.json                      story_graph.png\r\n",
      "\u001b[34mmodels\u001b[m\u001b[m/                          student_assistant_chatbot.ipynb\r\n",
      "nlu.md\r\n"
     ]
    }
   ],
   "source": [
    "%ls"
   ]
  },
  {
   "cell_type": "markdown",
   "metadata": {
    "colab_type": "text",
    "id": "ceazcacn9veB",
    "pycharm": {}
   },
   "source": [
    "## Defining the NLU Model Configuration"
   ]
  },
  {
   "cell_type": "code",
   "execution_count": 78,
   "metadata": {
    "colab": {
     "base_uri": "https://localhost:8080/",
     "height": 34
    },
    "colab_type": "code",
    "id": "dF60NWhR4ID6",
    "outputId": "92946645-94fc-4450-aa41-eca8895ff83c",
    "pycharm": {
     "is_executing": false
    }
   },
   "outputs": [
    {
     "name": "stdout",
     "output_type": "stream",
     "text": [
      "Writing 'config' (str) to file 'config.yml'.\n"
     ]
    }
   ],
   "source": [
    "config = \"\"\"\n",
    "language: \"en\"\n",
    "\n",
    "pipeline:\n",
    "- name: \"nlp_spacy\"\n",
    "- name: \"tokenizer_spacy\"\n",
    "- name: \"intent_entity_featurizer_regex\"\n",
    "- name: \"intent_featurizer_spacy\"\n",
    "- name: \"ner_crf\"\n",
    "- name: \"ner_synonyms\"\n",
    "- name: \"intent_classifier_sklearn\"\n",
    "\"\"\"\n",
    "\n",
    "%store config > config.yml"
   ]
  },
  {
   "cell_type": "code",
   "execution_count": 87,
   "metadata": {},
   "outputs": [
    {
     "name": "stdout",
     "output_type": "stream",
     "text": [
      "Writing 'config' (str) to file 'config.yml'.\n"
     ]
    }
   ],
   "source": [
    "config = \"\"\"\n",
    "language: \"en\"\n",
    "\n",
    "pipeline:\n",
    "- name: \"tokenizer_whitespace\"\n",
    "- name: \"ner_crf\"\n",
    "- name: \"ner_synonyms\"\n",
    "- name: \"intent_featurizer_count_vectors\"\n",
    "- name: \"intent_classifier_tensorflow_embedding\"\n",
    "\"\"\"\n",
    "\n",
    "%store config > config.yml"
   ]
  },
  {
   "cell_type": "markdown",
   "metadata": {
    "colab_type": "text",
    "id": "ieoWk91X9y8X",
    "pycharm": {}
   },
   "source": [
    "## Training the NLU Model."
   ]
  },
  {
   "cell_type": "code",
   "execution_count": 88,
   "metadata": {
    "colab": {
     "base_uri": "https://localhost:8080/",
     "height": 445
    },
    "colab_type": "code",
    "id": "dp3AIHmS4L6x",
    "outputId": "8011c4f7-c789-4138-84d7-4710207615d8",
    "pycharm": {
     "is_executing": false
    }
   },
   "outputs": [
    {
     "name": "stderr",
     "output_type": "stream",
     "text": [
      "INFO:rasa_nlu.training_data.loading:Training data format of nlu.md is md\n",
      "INFO:rasa_nlu.training_data.training_data:Training data stats: \n",
      "\t- intent examples: 111 (20 distinct intents)\n",
      "\t- Found intents: 'travel_date', 'questions_during_visa', 'student_work_authorization', 'mood_affirm', 'mood_deny', 'tution', 'E_verify', 'greet', 'goodbye', 'Visa_interview', 'housing', 'student_work_timings', 'immunization', 'taxes', 'student_work', 'customs_immigration', 'health_insurance', 'tower_ID', 'course_registration', 'inform'\n",
      "\t- entity examples: 10 (1 distinct entities)\n",
      "\t- found entities: 'group'\n",
      "\n",
      "INFO:rasa_nlu.model:Starting to train component tokenizer_whitespace\n",
      "INFO:rasa_nlu.model:Finished training component.\n",
      "INFO:rasa_nlu.model:Starting to train component ner_crf\n",
      "INFO:rasa_nlu.model:Finished training component.\n",
      "INFO:rasa_nlu.model:Starting to train component ner_synonyms\n",
      "INFO:rasa_nlu.model:Finished training component.\n",
      "INFO:rasa_nlu.model:Starting to train component intent_featurizer_count_vectors\n",
      "INFO:rasa_nlu.model:Finished training component.\n",
      "INFO:rasa_nlu.model:Starting to train component intent_classifier_tensorflow_embedding\n",
      "INFO:rasa_nlu.classifiers.embedding_intent_classifier:Accuracy is updated every 10 epochs\n",
      "Epochs: 100%|██████████| 300/300 [00:03<00:00, 94.17it/s, loss=0.133, acc=0.991] \n",
      "INFO:rasa_nlu.classifiers.embedding_intent_classifier:Finished training embedding classifier, loss=0.133, train accuracy=0.991\n",
      "INFO:rasa_nlu.model:Finished training component.\n",
      "INFO:rasa_nlu.model:Successfully saved model into '/Users/saching12/Desktop/python codes/student_assistant_chatbot/models/nlu/default/current'\n"
     ]
    }
   ],
   "source": [
    "from rasa_nlu.training_data import load_data\n",
    "from rasa_nlu.config import RasaNLUModelConfig\n",
    "from rasa_nlu.model import Trainer\n",
    "from rasa_nlu import config\n",
    "\n",
    "# loading the nlu training samples\n",
    "training_data = load_data(\"nlu.md\")\n",
    "\n",
    "# trainer to educate our pipeline\n",
    "trainer = Trainer(config.load(\"config.yml\"))\n",
    "\n",
    "# train the model!\n",
    "interpreter = trainer.train(training_data)\n",
    "\n",
    "# store it for future use\n",
    "model_directory = trainer.persist(\"./models/nlu\", fixed_model_name=\"current\")"
   ]
  },
  {
   "cell_type": "markdown",
   "metadata": {
    "colab_type": "text",
    "id": "Jrfp4xOS95ZZ",
    "pycharm": {}
   },
   "source": [
    "## Evaluating the NLU model on a random text"
   ]
  },
  {
   "cell_type": "code",
   "execution_count": 89,
   "metadata": {
    "colab": {
     "base_uri": "https://localhost:8080/",
     "height": 867
    },
    "colab_type": "code",
    "id": "4UjzlqMV4N1k",
    "outputId": "37ea93e5-6a71-4e8e-d2b6-a45144d184ad",
    "pycharm": {
     "is_executing": false
    }
   },
   "outputs": [
    {
     "name": "stdout",
     "output_type": "stream",
     "text": [
      "{\n",
      "  \"intent\": {\n",
      "    \"name\": \"E_verify\",\n",
      "    \"confidence\": 0.9550890326499939\n",
      "  },\n",
      "  \"entities\": [],\n",
      "  \"intent_ranking\": [\n",
      "    {\n",
      "      \"name\": \"E_verify\",\n",
      "      \"confidence\": 0.9550890326499939\n",
      "    },\n",
      "    {\n",
      "      \"name\": \"questions_during_visa\",\n",
      "      \"confidence\": 0.1760787069797516\n",
      "    },\n",
      "    {\n",
      "      \"name\": \"Visa_interview\",\n",
      "      \"confidence\": 0.13061118125915527\n",
      "    },\n",
      "    {\n",
      "      \"name\": \"taxes\",\n",
      "      \"confidence\": 0.10559311509132385\n",
      "    },\n",
      "    {\n",
      "      \"name\": \"course_registration\",\n",
      "      \"confidence\": 0.06643416732549667\n",
      "    },\n",
      "    {\n",
      "      \"name\": \"customs_immigration\",\n",
      "      \"confidence\": 0.0652254968881607\n",
      "    },\n",
      "    {\n",
      "      \"name\": \"mood_deny\",\n",
      "      \"confidence\": 0.055687226355075836\n",
      "    },\n",
      "    {\n",
      "      \"name\": \"student_work_authorization\",\n",
      "      \"confidence\": 0.055424802005290985\n",
      "    },\n",
      "    {\n",
      "      \"name\": \"goodbye\",\n",
      "      \"confidence\": 0.04762127995491028\n",
      "    },\n",
      "    {\n",
      "      \"name\": \"tower_ID\",\n",
      "      \"confidence\": 0.010929912328720093\n",
      "    }\n",
      "  ],\n",
      "  \"text\": \"what is everify?? \"\n",
      "}\n"
     ]
    }
   ],
   "source": [
    "# A helper function for prettier output\n",
    "\n",
    "def pprint(o):   \n",
    "    print(json.dumps(o, indent=2))\n",
    "    \n",
    "pprint(interpreter.parse(\"what is everify?? \"))"
   ]
  },
  {
   "cell_type": "markdown",
   "metadata": {
    "colab_type": "text",
    "id": "OPlSd-As-Fz4",
    "pycharm": {}
   },
   "source": [
    "## Evaluating the NLU model on a test data\n",
    "(Here we are using the data at hand i.e nlu.md but it isr recommended to use unseen data)"
   ]
  },
  {
   "cell_type": "code",
   "execution_count": 90,
   "metadata": {
    "colab": {
     "base_uri": "https://localhost:8080/",
     "height": 1483
    },
    "colab_type": "code",
    "id": "FmRCylbT4jyw",
    "outputId": "fd1bfd57-ebb3-4541-d3b3-b4cbba781164",
    "pycharm": {
     "is_executing": false
    }
   },
   "outputs": [
    {
     "name": "stdout",
     "output_type": "stream",
     "text": [
      "INFO:tensorflow:Restoring parameters from /Users/saching12/Desktop/python codes/student_assistant_chatbot/./models/nlu/default/current/intent_classifier_tensorflow_embedding.ckpt\n"
     ]
    },
    {
     "name": "stderr",
     "output_type": "stream",
     "text": [
      "INFO:tensorflow:Restoring parameters from /Users/saching12/Desktop/python codes/student_assistant_chatbot/./models/nlu/default/current/intent_classifier_tensorflow_embedding.ckpt\n",
      "INFO:rasa_nlu.training_data.loading:Training data format of nlu.md is md\n",
      "INFO:rasa_nlu.training_data.training_data:Training data stats: \n",
      "\t- intent examples: 111 (20 distinct intents)\n",
      "\t- Found intents: 'travel_date', 'questions_during_visa', 'student_work_authorization', 'mood_affirm', 'mood_deny', 'tution', 'E_verify', 'greet', 'goodbye', 'Visa_interview', 'housing', 'student_work_timings', 'immunization', 'taxes', 'student_work', 'customs_immigration', 'health_insurance', 'tower_ID', 'course_registration', 'inform'\n",
      "\t- entity examples: 10 (1 distinct entities)\n",
      "\t- found entities: 'group'\n",
      "\n",
      "INFO:rasa_nlu.evaluate:Intent evaluation results:\n",
      "INFO:rasa_nlu.evaluate:Intent Evaluation: Only considering those 111 examples that have a defined intent out of 111 examples\n",
      "INFO:rasa_nlu.evaluate:F1-Score:  0.9909433242766575\n",
      "INFO:rasa_nlu.evaluate:Precision: 0.9916344916344916\n",
      "INFO:rasa_nlu.evaluate:Accuracy:  0.990990990990991\n",
      "INFO:rasa_nlu.evaluate:Classification report: \n",
      "                            precision    recall  f1-score   support\n",
      "\n",
      "                  E_verify       1.00      1.00      1.00         6\n",
      "            Visa_interview       1.00      1.00      1.00         5\n",
      "       course_registration       1.00      1.00      1.00         4\n",
      "       customs_immigration       1.00      1.00      1.00         5\n",
      "                   goodbye       1.00      0.91      0.95        11\n",
      "                     greet       0.93      1.00      0.96        13\n",
      "          health_insurance       1.00      1.00      1.00         4\n",
      "                   housing       1.00      1.00      1.00         5\n",
      "              immunization       1.00      1.00      1.00         4\n",
      "                    inform       1.00      1.00      1.00        10\n",
      "               mood_affirm       1.00      1.00      1.00         5\n",
      "                 mood_deny       1.00      1.00      1.00         6\n",
      "     questions_during_visa       1.00      1.00      1.00         5\n",
      "              student_work       1.00      1.00      1.00         2\n",
      "student_work_authorization       1.00      1.00      1.00         5\n",
      "      student_work_timings       1.00      1.00      1.00         4\n",
      "                     taxes       1.00      1.00      1.00         4\n",
      "                  tower_ID       1.00      1.00      1.00         6\n",
      "               travel_date       1.00      1.00      1.00         2\n",
      "                    tution       1.00      1.00      1.00         5\n",
      "\n",
      "                 micro avg       0.99      0.99      0.99       111\n",
      "                 macro avg       1.00      1.00      1.00       111\n",
      "              weighted avg       0.99      0.99      0.99       111\n",
      "\n",
      "INFO:rasa_nlu.evaluate:Model prediction errors saved to errors.json.\n",
      "INFO:rasa_nlu.evaluate:Entity evaluation results:\n",
      "INFO:rasa_nlu.evaluate:Evaluation for entity extractor: ner_crf \n",
      "INFO:rasa_nlu.evaluate:F1-Score:  1.0\n",
      "INFO:rasa_nlu.evaluate:Precision: 1.0\n",
      "INFO:rasa_nlu.evaluate:Accuracy:  1.0\n",
      "INFO:rasa_nlu.evaluate:Classification report: \n",
      "              precision    recall  f1-score   support\n",
      "\n",
      "       group       1.00      1.00      1.00        10\n",
      "   no_entity       1.00      1.00      1.00       508\n",
      "\n",
      "   micro avg       1.00      1.00      1.00       518\n",
      "   macro avg       1.00      1.00      1.00       518\n",
      "weighted avg       1.00      1.00      1.00       518\n",
      "\n"
     ]
    },
    {
     "data": {
      "text/plain": [
       "{'intent_evaluation': {'predictions': [{'text': 'hey',\n",
       "    'intent': 'greet',\n",
       "    'predicted': 'greet',\n",
       "    'confidence': 0.9567056894302368},\n",
       "   {'text': 'hello there',\n",
       "    'intent': 'greet',\n",
       "    'predicted': 'greet',\n",
       "    'confidence': 0.9379673004150391},\n",
       "   {'text': 'hi',\n",
       "    'intent': 'greet',\n",
       "    'predicted': 'greet',\n",
       "    'confidence': 0.958788275718689},\n",
       "   {'text': 'hello there',\n",
       "    'intent': 'greet',\n",
       "    'predicted': 'greet',\n",
       "    'confidence': 0.9379673004150391},\n",
       "   {'text': 'good morning',\n",
       "    'intent': 'greet',\n",
       "    'predicted': 'greet',\n",
       "    'confidence': 0.9368774890899658},\n",
       "   {'text': 'good evening',\n",
       "    'intent': 'greet',\n",
       "    'predicted': 'greet',\n",
       "    'confidence': 0.9395275115966797},\n",
       "   {'text': 'moin',\n",
       "    'intent': 'greet',\n",
       "    'predicted': 'greet',\n",
       "    'confidence': 0.9668917655944824},\n",
       "   {'text': 'hey there',\n",
       "    'intent': 'greet',\n",
       "    'predicted': 'greet',\n",
       "    'confidence': 0.9491894245147705},\n",
       "   {'text': \"let's go\",\n",
       "    'intent': 'greet',\n",
       "    'predicted': 'greet',\n",
       "    'confidence': 0.9485076069831848},\n",
       "   {'text': 'hey dude',\n",
       "    'intent': 'greet',\n",
       "    'predicted': 'greet',\n",
       "    'confidence': 0.9575144052505493},\n",
       "   {'text': 'goodmorning',\n",
       "    'intent': 'greet',\n",
       "    'predicted': 'greet',\n",
       "    'confidence': 0.932709813117981},\n",
       "   {'text': 'goodevening',\n",
       "    'intent': 'greet',\n",
       "    'predicted': 'greet',\n",
       "    'confidence': 0.9697224497795105},\n",
       "   {'text': 'good afternoon',\n",
       "    'intent': 'greet',\n",
       "    'predicted': 'greet',\n",
       "    'confidence': 0.6767356991767883},\n",
       "   {'text': 'cu',\n",
       "    'intent': 'goodbye',\n",
       "    'predicted': 'goodbye',\n",
       "    'confidence': 0.9167797565460205},\n",
       "   {'text': 'good by',\n",
       "    'intent': 'goodbye',\n",
       "    'predicted': 'goodbye',\n",
       "    'confidence': 0.9501428604125977},\n",
       "   {'text': 'cee you later',\n",
       "    'intent': 'goodbye',\n",
       "    'predicted': 'goodbye',\n",
       "    'confidence': 0.9277036786079407},\n",
       "   {'text': 'good night',\n",
       "    'intent': 'goodbye',\n",
       "    'predicted': 'goodbye',\n",
       "    'confidence': 0.9607076644897461},\n",
       "   {'text': 'good afternoon',\n",
       "    'intent': 'goodbye',\n",
       "    'predicted': 'greet',\n",
       "    'confidence': 0.6767356991767883},\n",
       "   {'text': 'bye',\n",
       "    'intent': 'goodbye',\n",
       "    'predicted': 'goodbye',\n",
       "    'confidence': 0.9516117572784424},\n",
       "   {'text': 'goodbye',\n",
       "    'intent': 'goodbye',\n",
       "    'predicted': 'goodbye',\n",
       "    'confidence': 0.9440188407897949},\n",
       "   {'text': 'have a nice day',\n",
       "    'intent': 'goodbye',\n",
       "    'predicted': 'goodbye',\n",
       "    'confidence': 0.9516107439994812},\n",
       "   {'text': 'see you around',\n",
       "    'intent': 'goodbye',\n",
       "    'predicted': 'goodbye',\n",
       "    'confidence': 0.934578001499176},\n",
       "   {'text': 'bye bye',\n",
       "    'intent': 'goodbye',\n",
       "    'predicted': 'goodbye',\n",
       "    'confidence': 0.9626755714416504},\n",
       "   {'text': 'see you later',\n",
       "    'intent': 'goodbye',\n",
       "    'predicted': 'goodbye',\n",
       "    'confidence': 0.9297417402267456},\n",
       "   {'text': 'yes',\n",
       "    'intent': 'mood_affirm',\n",
       "    'predicted': 'mood_affirm',\n",
       "    'confidence': 0.9306733012199402},\n",
       "   {'text': 'indeed',\n",
       "    'intent': 'mood_affirm',\n",
       "    'predicted': 'mood_affirm',\n",
       "    'confidence': 0.9125245809555054},\n",
       "   {'text': 'of course',\n",
       "    'intent': 'mood_affirm',\n",
       "    'predicted': 'mood_affirm',\n",
       "    'confidence': 0.916783332824707},\n",
       "   {'text': 'that sounds good',\n",
       "    'intent': 'mood_affirm',\n",
       "    'predicted': 'mood_affirm',\n",
       "    'confidence': 0.9488760828971863},\n",
       "   {'text': 'correct',\n",
       "    'intent': 'mood_affirm',\n",
       "    'predicted': 'mood_affirm',\n",
       "    'confidence': 0.9505515098571777},\n",
       "   {'text': 'no',\n",
       "    'intent': 'mood_deny',\n",
       "    'predicted': 'mood_deny',\n",
       "    'confidence': 0.9137401580810547},\n",
       "   {'text': 'never',\n",
       "    'intent': 'mood_deny',\n",
       "    'predicted': 'mood_deny',\n",
       "    'confidence': 0.9637482762336731},\n",
       "   {'text': \"I don't think so\",\n",
       "    'intent': 'mood_deny',\n",
       "    'predicted': 'mood_deny',\n",
       "    'confidence': 0.9630760550498962},\n",
       "   {'text': \"don't like that\",\n",
       "    'intent': 'mood_deny',\n",
       "    'predicted': 'mood_deny',\n",
       "    'confidence': 0.9587799906730652},\n",
       "   {'text': 'no way',\n",
       "    'intent': 'mood_deny',\n",
       "    'predicted': 'mood_deny',\n",
       "    'confidence': 0.9384485483169556},\n",
       "   {'text': 'not really',\n",
       "    'intent': 'mood_deny',\n",
       "    'predicted': 'mood_deny',\n",
       "    'confidence': 0.9453074932098389},\n",
       "   {'text': 'What does the student’s work authorization look like?',\n",
       "    'intent': 'student_work_authorization',\n",
       "    'predicted': 'student_work_authorization',\n",
       "    'confidence': 0.9715133905410767},\n",
       "   {'text': 'how is student work authorization?',\n",
       "    'intent': 'student_work_authorization',\n",
       "    'predicted': 'student_work_authorization',\n",
       "    'confidence': 0.9682620763778687},\n",
       "   {'text': 'how does student work authorization look like?',\n",
       "    'intent': 'student_work_authorization',\n",
       "    'predicted': 'student_work_authorization',\n",
       "    'confidence': 0.9707110524177551},\n",
       "   {'text': 'Student work authorization look?',\n",
       "    'intent': 'student_work_authorization',\n",
       "    'predicted': 'student_work_authorization',\n",
       "    'confidence': 0.9723179936408997},\n",
       "   {'text': \"what's Student work authorization\",\n",
       "    'intent': 'student_work_authorization',\n",
       "    'predicted': 'student_work_authorization',\n",
       "    'confidence': 0.965729832649231},\n",
       "   {'text': 'When can a student work?',\n",
       "    'intent': 'student_work',\n",
       "    'predicted': 'student_work',\n",
       "    'confidence': 0.9601132273674011},\n",
       "   {'text': 'When can I work?',\n",
       "    'intent': 'student_work',\n",
       "    'predicted': 'student_work',\n",
       "    'confidence': 0.9679624438285828},\n",
       "   {'text': 'How many hours per week can a student work?',\n",
       "    'intent': 'student_work_timings',\n",
       "    'predicted': 'student_work_timings',\n",
       "    'confidence': 0.9601179361343384},\n",
       "   {'text': 'How many hours can I work?',\n",
       "    'intent': 'student_work_timings',\n",
       "    'predicted': 'student_work_timings',\n",
       "    'confidence': 0.966349720954895},\n",
       "   {'text': 'number of hours I can work?',\n",
       "    'intent': 'student_work_timings',\n",
       "    'predicted': 'student_work_timings',\n",
       "    'confidence': 0.966974139213562},\n",
       "   {'text': 'no. of hours I can work?',\n",
       "    'intent': 'student_work_timings',\n",
       "    'predicted': 'student_work_timings',\n",
       "    'confidence': 0.9639591574668884},\n",
       "   {'text': 'Are F-1 students subject to taxes?',\n",
       "    'intent': 'taxes',\n",
       "    'predicted': 'taxes',\n",
       "    'confidence': 0.9670466184616089},\n",
       "   {'text': 'am I subjected to tax ?',\n",
       "    'intent': 'taxes',\n",
       "    'predicted': 'taxes',\n",
       "    'confidence': 0.9623937606811523},\n",
       "   {'text': 'how much tax shoud I pay ?',\n",
       "    'intent': 'taxes',\n",
       "    'predicted': 'taxes',\n",
       "    'confidence': 0.9759716987609863},\n",
       "   {'text': 'should I pay tax ?',\n",
       "    'intent': 'taxes',\n",
       "    'predicted': 'taxes',\n",
       "    'confidence': 0.9621143341064453},\n",
       "   {'text': 'What is E-Verify?',\n",
       "    'intent': 'E_verify',\n",
       "    'predicted': 'E_verify',\n",
       "    'confidence': 0.9680282473564148},\n",
       "   {'text': 'how to do e-verify?',\n",
       "    'intent': 'E_verify',\n",
       "    'predicted': 'E_verify',\n",
       "    'confidence': 0.9771728515625},\n",
       "   {'text': 'What is E Verify?',\n",
       "    'intent': 'E_verify',\n",
       "    'predicted': 'E_verify',\n",
       "    'confidence': 0.9680282473564148},\n",
       "   {'text': 'how to do e verify?',\n",
       "    'intent': 'E_verify',\n",
       "    'predicted': 'E_verify',\n",
       "    'confidence': 0.9771728515625},\n",
       "   {'text': 'What is EVerify?',\n",
       "    'intent': 'E_verify',\n",
       "    'predicted': 'E_verify',\n",
       "    'confidence': 0.9550890326499939},\n",
       "   {'text': 'how to do everify',\n",
       "    'intent': 'E_verify',\n",
       "    'predicted': 'E_verify',\n",
       "    'confidence': 0.9707224369049072},\n",
       "   {'text': 'What all do I need for Visa Interview?',\n",
       "    'intent': 'Visa_interview',\n",
       "    'predicted': 'Visa_interview',\n",
       "    'confidence': 0.9394234418869019},\n",
       "   {'text': 'what all documents do I need for Visa Interview?',\n",
       "    'intent': 'Visa_interview',\n",
       "    'predicted': 'Visa_interview',\n",
       "    'confidence': 0.9432089924812317},\n",
       "   {'text': 'Documents needed for Visa Interview?',\n",
       "    'intent': 'Visa_interview',\n",
       "    'predicted': 'Visa_interview',\n",
       "    'confidence': 0.9420261383056641},\n",
       "   {'text': 'What all things do I need for Visa Interview?',\n",
       "    'intent': 'Visa_interview',\n",
       "    'predicted': 'Visa_interview',\n",
       "    'confidence': 0.9453982710838318},\n",
       "   {'text': 'What all papaers do I need for Visa Interview?',\n",
       "    'intent': 'Visa_interview',\n",
       "    'predicted': 'Visa_interview',\n",
       "    'confidence': 0.9486048817634583},\n",
       "   {'text': 'When can I travel to the usa?',\n",
       "    'intent': 'travel_date',\n",
       "    'predicted': 'travel_date',\n",
       "    'confidence': 0.9563762545585632},\n",
       "   {'text': 'How many days prior to my admission can I travel to the USA?',\n",
       "    'intent': 'travel_date',\n",
       "    'predicted': 'travel_date',\n",
       "    'confidence': 0.9556237459182739},\n",
       "   {'text': 'What all do I need for customs and immigration?',\n",
       "    'intent': 'customs_immigration',\n",
       "    'predicted': 'customs_immigration',\n",
       "    'confidence': 0.959227442741394},\n",
       "   {'text': 'what all documents do I need for customs and immigration?',\n",
       "    'intent': 'customs_immigration',\n",
       "    'predicted': 'customs_immigration',\n",
       "    'confidence': 0.955562949180603},\n",
       "   {'text': 'Documents needed for customs and immigration?',\n",
       "    'intent': 'customs_immigration',\n",
       "    'predicted': 'customs_immigration',\n",
       "    'confidence': 0.9608268737792969},\n",
       "   {'text': 'What all things do I need for customs and immigration?',\n",
       "    'intent': 'customs_immigration',\n",
       "    'predicted': 'customs_immigration',\n",
       "    'confidence': 0.9603946208953857},\n",
       "   {'text': 'What all papaers do I need for customs and immigration?',\n",
       "    'intent': 'customs_immigration',\n",
       "    'predicted': 'customs_immigration',\n",
       "    'confidence': 0.9548408389091492},\n",
       "   {'text': 'What are the common questions asked during Visa interview?',\n",
       "    'intent': 'questions_during_visa',\n",
       "    'predicted': 'questions_during_visa',\n",
       "    'confidence': 0.9574023485183716},\n",
       "   {'text': 'What should I prepare for Visa interview?',\n",
       "    'intent': 'questions_during_visa',\n",
       "    'predicted': 'questions_during_visa',\n",
       "    'confidence': 0.9417799115180969},\n",
       "   {'text': 'What kind of questions are asked during a visa interview?',\n",
       "    'intent': 'questions_during_visa',\n",
       "    'predicted': 'questions_during_visa',\n",
       "    'confidence': 0.9556846022605896},\n",
       "   {'text': 'Common questions durin Visa interview?',\n",
       "    'intent': 'questions_during_visa',\n",
       "    'predicted': 'questions_during_visa',\n",
       "    'confidence': 0.9566765427589417},\n",
       "   {'text': 'Questions asked in a Visa interview?',\n",
       "    'intent': 'questions_during_visa',\n",
       "    'predicted': 'questions_during_visa',\n",
       "    'confidence': 0.959772527217865},\n",
       "   {'text': 'How do I pyrchase University heath insurance?',\n",
       "    'intent': 'health_insurance',\n",
       "    'predicted': 'health_insurance',\n",
       "    'confidence': 0.9424886703491211},\n",
       "   {'text': 'What steps are involved in purchasing student health insurance?',\n",
       "    'intent': 'health_insurance',\n",
       "    'predicted': 'health_insurance',\n",
       "    'confidence': 0.9443665742874146},\n",
       "   {'text': 'Steps to purchase health insurance?',\n",
       "    'intent': 'health_insurance',\n",
       "    'predicted': 'health_insurance',\n",
       "    'confidence': 0.9352155327796936},\n",
       "   {'text': 'international Heath Insurance puchase?',\n",
       "    'intent': 'health_insurance',\n",
       "    'predicted': 'health_insurance',\n",
       "    'confidence': 0.9451013803482056},\n",
       "   {'text': 'What are the steps involved in immunization?',\n",
       "    'intent': 'immunization',\n",
       "    'predicted': 'immunization',\n",
       "    'confidence': 0.9604026079177856},\n",
       "   {'text': 'What all immunization do I need before getting to the USA?',\n",
       "    'intent': 'immunization',\n",
       "    'predicted': 'immunization',\n",
       "    'confidence': 0.9550926685333252},\n",
       "   {'text': 'Kind of immunization required before reaching?',\n",
       "    'intent': 'immunization',\n",
       "    'predicted': 'immunization',\n",
       "    'confidence': 0.9691634774208069},\n",
       "   {'text': 'What is the proof of immunization that needs to be submitted?',\n",
       "    'intent': 'immunization',\n",
       "    'predicted': 'immunization',\n",
       "    'confidence': 0.9548815488815308},\n",
       "   {'text': 'Where can I find the housing details of SJSU?',\n",
       "    'intent': 'housing',\n",
       "    'predicted': 'housing',\n",
       "    'confidence': 0.9533928632736206},\n",
       "   {'text': 'Accomodation in SJSU?',\n",
       "    'intent': 'housing',\n",
       "    'predicted': 'housing',\n",
       "    'confidence': 0.9442067742347717},\n",
       "   {'text': 'Accomodation for international students at SJSU?',\n",
       "    'intent': 'housing',\n",
       "    'predicted': 'housing',\n",
       "    'confidence': 0.9408355951309204},\n",
       "   {'text': 'Housing for students near SJSU?',\n",
       "    'intent': 'housing',\n",
       "    'predicted': 'housing',\n",
       "    'confidence': 0.96604984998703},\n",
       "   {'text': 'Housing on campus?',\n",
       "    'intent': 'housing',\n",
       "    'predicted': 'housing',\n",
       "    'confidence': 0.953514814376831},\n",
       "   {'text': 'How many courses do I need to register for?',\n",
       "    'intent': 'course_registration',\n",
       "    'predicted': 'course_registration',\n",
       "    'confidence': 0.9559670686721802},\n",
       "   {'text': 'How many credits are mandatory?',\n",
       "    'intent': 'course_registration',\n",
       "    'predicted': 'course_registration',\n",
       "    'confidence': 0.9698360562324524},\n",
       "   {'text': 'Number of credits at SJSU?',\n",
       "    'intent': 'course_registration',\n",
       "    'predicted': 'course_registration',\n",
       "    'confidence': 0.9560210108757019},\n",
       "   {'text': 'SJSU credits for F1 students?',\n",
       "    'intent': 'course_registration',\n",
       "    'predicted': 'course_registration',\n",
       "    'confidence': 0.9531682133674622},\n",
       "   {'text': 'Where can I find details about my tution fees?',\n",
       "    'intent': 'tution',\n",
       "    'predicted': 'tution',\n",
       "    'confidence': 0.9629582762718201},\n",
       "   {'text': 'Information about tution fees?',\n",
       "    'intent': 'tution',\n",
       "    'predicted': 'tution',\n",
       "    'confidence': 0.946794331073761},\n",
       "   {'text': 'When do I have to pay for tution fees?',\n",
       "    'intent': 'tution',\n",
       "    'predicted': 'tution',\n",
       "    'confidence': 0.9589630365371704},\n",
       "   {'text': 'When can I register for the courses?',\n",
       "    'intent': 'tution',\n",
       "    'predicted': 'tution',\n",
       "    'confidence': 0.9535728693008423},\n",
       "   {'text': 'Where do I pay my tution?',\n",
       "    'intent': 'tution',\n",
       "    'predicted': 'tution',\n",
       "    'confidence': 0.9452041387557983},\n",
       "   {'text': 'Where can I get my ID?',\n",
       "    'intent': 'tower_ID',\n",
       "    'predicted': 'tower_ID',\n",
       "    'confidence': 0.9394763708114624},\n",
       "   {'text': 'Do I need an ID?',\n",
       "    'intent': 'tower_ID',\n",
       "    'predicted': 'tower_ID',\n",
       "    'confidence': 0.9591783285140991},\n",
       "   {'text': 'Procedure to get an ID?',\n",
       "    'intent': 'tower_ID',\n",
       "    'predicted': 'tower_ID',\n",
       "    'confidence': 0.9412846565246582},\n",
       "   {'text': 'Documents required to get an ID?',\n",
       "    'intent': 'tower_ID',\n",
       "    'predicted': 'tower_ID',\n",
       "    'confidence': 0.9399136900901794},\n",
       "   {'text': 'How do I get my student ID?',\n",
       "    'intent': 'tower_ID',\n",
       "    'predicted': 'tower_ID',\n",
       "    'confidence': 0.9513015747070312},\n",
       "   {'text': 'Steps involved in getting student ID card?',\n",
       "    'intent': 'tower_ID',\n",
       "    'predicted': 'tower_ID',\n",
       "    'confidence': 0.9602393507957458},\n",
       "   {'text': 'A dog',\n",
       "    'intent': 'inform',\n",
       "    'predicted': 'inform',\n",
       "    'confidence': 0.9568881392478943},\n",
       "   {'text': 'dog',\n",
       "    'intent': 'inform',\n",
       "    'predicted': 'inform',\n",
       "    'confidence': 0.9568881392478943},\n",
       "   {'text': 'bird',\n",
       "    'intent': 'inform',\n",
       "    'predicted': 'inform',\n",
       "    'confidence': 0.976405918598175},\n",
       "   {'text': 'a cat',\n",
       "    'intent': 'inform',\n",
       "    'predicted': 'inform',\n",
       "    'confidence': 0.9694414138793945},\n",
       "   {'text': 'cat',\n",
       "    'intent': 'inform',\n",
       "    'predicted': 'inform',\n",
       "    'confidence': 0.9694414138793945},\n",
       "   {'text': 'a bird',\n",
       "    'intent': 'inform',\n",
       "    'predicted': 'inform',\n",
       "    'confidence': 0.976405918598175},\n",
       "   {'text': 'of a dog',\n",
       "    'intent': 'inform',\n",
       "    'predicted': 'inform',\n",
       "    'confidence': 0.9592137932777405},\n",
       "   {'text': 'of a cat',\n",
       "    'intent': 'inform',\n",
       "    'predicted': 'inform',\n",
       "    'confidence': 0.9693626761436462},\n",
       "   {'text': 'a bird, please',\n",
       "    'intent': 'inform',\n",
       "    'predicted': 'inform',\n",
       "    'confidence': 0.9668904542922974},\n",
       "   {'text': 'a dog, please',\n",
       "    'intent': 'inform',\n",
       "    'predicted': 'inform',\n",
       "    'confidence': 0.9638621807098389}],\n",
       "  'report': '                            precision    recall  f1-score   support\\n\\n                  E_verify       1.00      1.00      1.00         6\\n            Visa_interview       1.00      1.00      1.00         5\\n       course_registration       1.00      1.00      1.00         4\\n       customs_immigration       1.00      1.00      1.00         5\\n                   goodbye       1.00      0.91      0.95        11\\n                     greet       0.93      1.00      0.96        13\\n          health_insurance       1.00      1.00      1.00         4\\n                   housing       1.00      1.00      1.00         5\\n              immunization       1.00      1.00      1.00         4\\n                    inform       1.00      1.00      1.00        10\\n               mood_affirm       1.00      1.00      1.00         5\\n                 mood_deny       1.00      1.00      1.00         6\\n     questions_during_visa       1.00      1.00      1.00         5\\n              student_work       1.00      1.00      1.00         2\\nstudent_work_authorization       1.00      1.00      1.00         5\\n      student_work_timings       1.00      1.00      1.00         4\\n                     taxes       1.00      1.00      1.00         4\\n                  tower_ID       1.00      1.00      1.00         6\\n               travel_date       1.00      1.00      1.00         2\\n                    tution       1.00      1.00      1.00         5\\n\\n                 micro avg       0.99      0.99      0.99       111\\n                 macro avg       1.00      1.00      1.00       111\\n              weighted avg       0.99      0.99      0.99       111\\n',\n",
       "  'precision': 0.9916344916344916,\n",
       "  'f1_score': 0.9909433242766575,\n",
       "  'accuracy': 0.990990990990991},\n",
       " 'entity_evaluation': {'ner_crf': {'report': '              precision    recall  f1-score   support\\n\\n       group       1.00      1.00      1.00        10\\n   no_entity       1.00      1.00      1.00       508\\n\\n   micro avg       1.00      1.00      1.00       518\\n   macro avg       1.00      1.00      1.00       518\\nweighted avg       1.00      1.00      1.00       518\\n',\n",
       "   'precision': 1.0,\n",
       "   'f1_score': 1.0,\n",
       "   'accuracy': 1.0}}}"
      ]
     },
     "execution_count": 90,
     "metadata": {},
     "output_type": "execute_result"
    }
   ],
   "source": [
    "from rasa_nlu.evaluate import run_evaluation\n",
    "\n",
    "run_evaluation(\"nlu.md\", model_directory)"
   ]
  },
  {
   "cell_type": "markdown",
   "metadata": {
    "colab_type": "text",
    "id": "Av3R2GZZ-WJO",
    "pycharm": {}
   },
   "source": [
    "# 2. Teaching the bot to respond using Rasa Core"
   ]
  },
  {
   "cell_type": "markdown",
   "metadata": {
    "colab_type": "text",
    "id": "BKZ63AuS-ZPV",
    "pycharm": {}
   },
   "source": [
    "## 1. Writing  Stories"
   ]
  },
  {
   "cell_type": "code",
   "execution_count": 99,
   "metadata": {
    "colab": {
     "base_uri": "https://localhost:8080/",
     "height": 34
    },
    "colab_type": "code",
    "id": "W3q1XJ5O4orY",
    "outputId": "a82511c7-b7e5-462c-c5c2-35df3cabd39a",
    "pycharm": {
     "is_executing": false
    }
   },
   "outputs": [
    {
     "name": "stdout",
     "output_type": "stream",
     "text": [
      "Writing 'stories_md' (str) to file 'stories.md'.\n"
     ]
    }
   ],
   "source": [
    "stories_md = \"\"\"\n",
    "\n",
    "\n",
    "## Entry_greet\n",
    "* greet\n",
    "  - utter_greet\n",
    "  \n",
    "## say goodbye\n",
    "* goodbye\n",
    "  - utter_goodbye\n",
    "> goodbye_checkpoint\n",
    "\n",
    "## question_1_Affirm\n",
    "* student_work_authorization\n",
    "  - utter_answer_for_work_authorization\n",
    "  - utter_did_that_help\n",
    "* mood_affirm\n",
    "  - utter_goodbye\n",
    "  \n",
    "## question_1_deny\n",
    "* student_work_authorization\n",
    "  - utter_answer_for_work_authorization\n",
    "  - utter_did_that_help\n",
    "* mood_deny\n",
    "  - utter_unclear\n",
    "\n",
    "## question_1_deny_2\n",
    "* student_work_authorization\n",
    "  - utter_answer_for_work_authorization\n",
    "  - utter_did_that_help\n",
    "* mood_deny\n",
    "  - utter_unclear\n",
    "* mood_deny\n",
    "  - utter_okay\n",
    "  - utter_goodbye\n",
    "  \n",
    "  \n",
    "## question_2_Affirm\n",
    "* student_work\n",
    "  - utter_answer_for_student_work\n",
    "  - utter_did_that_help\n",
    "* mood_affirm\n",
    "  - utter_goodbye\n",
    "\n",
    "## question_2_deny\n",
    "* student_work\n",
    "  - utter_answer_for_student_work\n",
    "  - utter_did_that_help\n",
    "* mood_deny\n",
    "  - utter_unclear\n",
    "\n",
    "## question_2_deny_2\n",
    "* student_work\n",
    "  - utter_answer_for_student_work\n",
    "  - utter_did_that_help\n",
    "* mood_deny\n",
    "  - utter_unclear\n",
    "* mood_deny\n",
    "  - utter_okay\n",
    "  - utter_goodbye\n",
    "\n",
    "##timings\n",
    "* student_work_timings\n",
    "  - utter_answer_for_work_timings\n",
    "  - utter_did_that_help\n",
    "* mood_affirm\n",
    "  - utter_goodbye\n",
    "  \n",
    "## timings deny\n",
    "* student_work_timings\n",
    "  - utter_answer_for_work_timings\n",
    "  - utter_did_that_help\n",
    "* mood_deny\n",
    "  - utter_unclear\n",
    "    \n",
    "## timings deny2\n",
    "* student_work_timings\n",
    "  - utter_answer_for_work_timings\n",
    "  - utter_did_that_help\n",
    "* mood_deny\n",
    "  - utter_unclear\n",
    "* mood_deny\n",
    "  - utter_okay\n",
    "  - utter_goodbye\n",
    "\n",
    "##taxes\n",
    "* taxes\n",
    "  - utter_answer_for_taxes\n",
    "  - utter_did_that_help\n",
    "* mood_affirm\n",
    "  - utter_goodbye\n",
    "  \n",
    "##taxes deny\n",
    "* taxes\n",
    "  - utter_answer_for_taxes\n",
    "  - utter_did_that_help\n",
    "* mood_deny\n",
    "  - utter_unclear\n",
    "  \n",
    "##taxes deny 2\n",
    "* taxes\n",
    "  - utter_answer_for_taxes\n",
    "  - utter_did_that_help\n",
    "* mood_deny\n",
    "  - utter_unclear\n",
    "* mood_deny\n",
    "  - utter_okay\n",
    "  - utter_goodbye\n",
    "  \n",
    "## verify\n",
    "* E_verify\n",
    "  - utter_answer_E_verify\n",
    "  - utter_did_that_help\n",
    "* mood_affirm\n",
    "  - utter_goodbye\n",
    "  \n",
    "## verify deny\n",
    "* E_verify\n",
    "  - utter_answer_E_verify\n",
    "  - utter_did_that_help\n",
    "* mood_deny\n",
    "  - utter_unclear\n",
    "  \n",
    "## verify deny2\n",
    "* E_verify\n",
    "  - utter_answer_E_verify\n",
    "  - utter_did_that_help\n",
    "* mood_deny\n",
    "  - utter_unclear\n",
    "* mood_deny\n",
    "  - utter_okay\n",
    "  - utter_goodbye\n",
    "\n",
    "## Visa_interview\n",
    "* Visa_interview\n",
    "  - utter_answer_Visa_interview\n",
    "  - utter_did_that_help\n",
    "* mood_affirm\n",
    "  - utter_goodbye\n",
    "\n",
    "## Visa_interview_deny\n",
    "* Visa_interview\n",
    "  - utter_answer_Visa_interview\n",
    "  - utter_did_that_help\n",
    "* mood_deny\n",
    "  - utter_unclear\n",
    "  \n",
    "## Visa_interview deny2\n",
    "* Visa_interview\n",
    "  - utter_answer_Visa_interview\n",
    "  - utter_did_that_help\n",
    "* mood_deny\n",
    "  - utter_unclear\n",
    "* mood_deny\n",
    "  - utter_okay\n",
    "  - utter_goodbye\n",
    "  \n",
    "## travel_date\n",
    "* travel_date\n",
    "  - utter_answer_travel_date\n",
    "  - utter_did_that_help\n",
    "* mood_affirm\n",
    "  - utter_goodbye\n",
    "  \n",
    "## travel_date deny\n",
    "* travel_date\n",
    "  - utter_answer_travel_date\n",
    "  - utter_did_that_help\n",
    "* mood_deny\n",
    "  - utter_unclear\n",
    "  \n",
    "## travel_date deny2\n",
    "* travel_date\n",
    "  - utter_answer_travel_date\n",
    "  - utter_did_that_help\n",
    "* mood_deny\n",
    "  - utter_unclear\n",
    "* mood_deny\n",
    "  - utter_okay\n",
    "  - utter_goodbye\n",
    "\n",
    "##customs_immigration\n",
    "* customs_immigration\n",
    "  - utter_answer_customs_immigration\n",
    "  - utter_did_that_help\n",
    "* mood_affirm\n",
    "  - utter_goodbye\n",
    "  \n",
    "##customs_immigration deny\n",
    "* customs_immigration\n",
    "  - utter_answer_customs_immigration\n",
    "  - utter_did_that_help\n",
    "* mood_deny\n",
    "  - utter_unclear\n",
    "\n",
    "##customs_immigration deny2\n",
    "* customs_immigration\n",
    "  - utter_answer_customs_immigration\n",
    "  - utter_did_that_help\n",
    "* mood_deny\n",
    "  - utter_unclear\n",
    "* mood_deny\n",
    "  - utter_okay\n",
    "  - utter_goodbye\n",
    "  \n",
    "##questions_during_visa\n",
    "* questions_during_visa\n",
    "  - utter_answer_questions_during_visa\n",
    "  - utter_did_that_help\n",
    "* mood_affirm\n",
    "  - utter_goodbye\n",
    "\n",
    "##questions_during_visa deny\n",
    "* questions_during_visa\n",
    "  - utter_answer_questions_during_visa\n",
    "  - utter_did_that_help\n",
    "* mood_deny\n",
    "  - utter_unclear\n",
    "\n",
    "##questions_during_visa deny2\n",
    "* questions_during_visa\n",
    "  - utter_answer_questions_during_visa\n",
    "  - utter_did_that_help\n",
    "* mood_deny\n",
    "  - utter_unclear\n",
    "* mood_deny\n",
    "  - utter_okay\n",
    "  - utter_goodbye\n",
    "  \n",
    "##health_insurance\n",
    "* health_insurance\n",
    "  - utter_answer_health_insurance\n",
    "  - utter_did_that_help\n",
    "* mood_affirm\n",
    "  - utter_goodbye\n",
    "\n",
    "##health_insurance deny\n",
    "* health_insurance\n",
    "  - utter_answer_health_insurance\n",
    "  - utter_did_that_help\n",
    "* mood_deny\n",
    "  - utter_unclear\n",
    "  \n",
    "##health_insurance deny2\n",
    "* health_insurance\n",
    "  - utter_answer_health_insurance\n",
    "  - utter_did_that_help\n",
    "* mood_deny\n",
    "  - utter_unclear\n",
    "* mood_deny\n",
    "  - utter_okay\n",
    "  - utter_goodbye\n",
    "  \n",
    "##immunization\n",
    "* immunization\n",
    "  - utter_answer_immunization\n",
    "  - utter_did_that_help\n",
    "* mood_affirm\n",
    "  - utter_goodbye\n",
    "  \n",
    "##housing\n",
    "* housing\n",
    "  - utter_answer_housing\n",
    "  - utter_did_that_help\n",
    "* mood_affirm\n",
    "  - utter_goodbye\n",
    "  \n",
    "##course_registration\n",
    "* course_registration\n",
    "  - utter_answer_course_registration\n",
    "  - utter_did_that_help\n",
    "* mood_affirm\n",
    "  - utter_goodbye\n",
    "  \n",
    "    \n",
    "##tution\n",
    "* tution\n",
    "  - utter_answer_tution\n",
    "  - utter_did_that_help\n",
    "* mood_affirm\n",
    "  - utter_goodbye\n",
    "  \n",
    "  \n",
    "##tower_ID\n",
    "* tution\n",
    "  - utter_answer_tower_ID\n",
    "  - utter_did_that_help\n",
    "* mood_affirm\n",
    "  - utter_goodbye\n",
    "\n",
    "\n",
    "## fallback\n",
    "- utter_unclear\n",
    "\n",
    "\"\"\"\n",
    "\n",
    "%store stories_md > stories.md"
   ]
  },
  {
   "cell_type": "markdown",
   "metadata": {
    "colab_type": "text",
    "id": "LnD9v_CX-ePm",
    "pycharm": {}
   },
   "source": [
    "## 2. Defining a Domain"
   ]
  },
  {
   "cell_type": "code",
   "execution_count": null,
   "metadata": {},
   "outputs": [],
   "source": []
  },
  {
   "cell_type": "markdown",
   "metadata": {
    "colab_type": "text",
    "id": "ROL3AYs5-iCg",
    "pycharm": {}
   },
   "source": [
    "## Custom Actions"
   ]
  },
  {
   "cell_type": "code",
   "execution_count": 100,
   "metadata": {
    "colab": {},
    "colab_type": "code",
    "id": "7SbmLMJa5X0E",
    "pycharm": {
     "is_executing": false
    }
   },
   "outputs": [
    {
     "data": {
      "text/plain": [
       "'from rasa_core.actions import Action\\nfrom rasa_core.events import SlotSet\\nfrom IPython.core.display import Image, display\\n\\nimport requests\\n\\nclass ApiAction(Action):\\n    def name(self):\\n        return \"action_retrieve_image\"\\n\\n    def run(self, dispatcher, tracker, domain):\\n        \\n        group = tracker.get_slot(\\'group\\')\\n        \\n        r = requests.get(\\'http://shibe.online/api/{}?count=1&urls=true&httpsUrls=true\\'.format(group))\\n        response = r.content.decode()\\n        response = response.replace(\\'[\"\\',\"\")\\n        response = response.replace(\\'\"]\\',\"\")\\n   \\n        \\n        #display(Image(response[0], height=550, width=520))\\n        dispatcher.utter_message(\"Here is something to cheer you up: {}\".format(response))'"
      ]
     },
     "execution_count": 100,
     "metadata": {},
     "output_type": "execute_result"
    }
   ],
   "source": [
    "'''from rasa_core.actions import Action\n",
    "from rasa_core.events import SlotSet\n",
    "from IPython.core.display import Image, display\n",
    "\n",
    "import requests\n",
    "\n",
    "class ApiAction(Action):\n",
    "    def name(self):\n",
    "        return \"action_retrieve_image\"\n",
    "\n",
    "    def run(self, dispatcher, tracker, domain):\n",
    "        \n",
    "        group = tracker.get_slot('group')\n",
    "        \n",
    "        r = requests.get('http://shibe.online/api/{}?count=1&urls=true&httpsUrls=true'.format(group))\n",
    "        response = r.content.decode()\n",
    "        response = response.replace('[\"',\"\")\n",
    "        response = response.replace('\"]',\"\")\n",
    "   \n",
    "        \n",
    "        #display(Image(response[0], height=550, width=520))\n",
    "        dispatcher.utter_message(\"Here is something to cheer you up: {}\".format(response))'''"
   ]
  },
  {
   "cell_type": "markdown",
   "metadata": {
    "colab_type": "text",
    "id": "M-jn1g_k-o-m",
    "pycharm": {}
   },
   "source": [
    "##  Visualising the Training Data"
   ]
  },
  {
   "cell_type": "markdown",
   "metadata": {
    "colab": {},
    "colab_type": "code",
    "id": "pXZhTaSw9SNR",
    "pycharm": {}
   },
   "source": [
    "## Install these packages\n",
    "!apt-get -qq install -y graphviz libgraphviz-dev pkg-config;\n",
    "!breq install graphviz\n",
    "\n",
    "!{python} -m pip install pygraphviz;"
   ]
  },
  {
   "cell_type": "code",
   "execution_count": 102,
   "metadata": {
    "colab": {
     "base_uri": "https://localhost:8080/",
     "height": 1090
    },
    "colab_type": "code",
    "id": "O1gYRXe15amU",
    "outputId": "9c0838e3-56c1-4eeb-a879-cc09619269d3",
    "pycharm": {
     "is_executing": false
    }
   },
   "outputs": [
    {
     "name": "stderr",
     "output_type": "stream",
     "text": [
      "WARNING:rasa_core.training.dsl:Found unknown intent 'questions_during_visa' on line 128. Please, make sure that all intents are listed in your domain yaml.\n",
      "WARNING:rasa_core.training.dsl:Found unknown intent 'immunization' on line 143. Please, make sure that all intents are listed in your domain yaml.\n",
      "Processed Story Blocks:   0%|          | 0/25 [00:00<?, ?it/s, # trackers=1]WARNING:rasa_core.domain:Failed to use action 'utter_okay' in history. Please make sure all actions are listed in the domains action list. If you recently removed an action, don't worry about this warning. It should stop appearing after a while. \n",
      "Processed Story Blocks:   0%|          | 0/25 [00:00<?, ?it/s, # trackers=1]WARNING:rasa_core.domain:Failed to use action 'utter_okay' in history. Please make sure all actions are listed in the domains action list. If you recently removed an action, don't worry about this warning. It should stop appearing after a while. \n",
      "Processed Story Blocks: 100%|██████████| 25/25 [00:00<00:00, 865.25it/s, # trackers=1]\n",
      "Processed Story Blocks: 100%|██████████| 25/25 [00:00<00:00, 60401.84it/s]\n",
      "WARNING:rasa_core.training.generator:Unsatisfied end checkpoint 'goodbye_checkpoint' in block 'say goodbye'. Remove this checkpoint or add story blocks that start with this checkpoint.\n"
     ]
    },
    {
     "data": {
      "image/png": "[encoded data removed]",
      "text/plain": [
       "<IPython.core.display.Image object>"
      ]
     },
     "execution_count": 102,
     "metadata": {},
     "output_type": "execute_result"
    }
   ],
   "source": [
    "\n",
    "from IPython.display import Image\n",
    "from rasa_core.agent import Agent\n",
    "\n",
    "agent = Agent('domain.yml')\n",
    "agent.visualize(\"stories.md\", \"story_graph.png\", max_history=2)\n",
    "Image(filename=\"story_graph.png\")"
   ]
  },
  {
   "cell_type": "code",
   "execution_count": 103,
   "metadata": {
    "pycharm": {
     "is_executing": false
    }
   },
   "outputs": [
    {
     "name": "stdout",
     "output_type": "stream",
     "text": [
      "Writing 'config' (str) to file 'config.yml'.\n"
     ]
    }
   ],
   "source": [
    "\n",
    "config = \"\"\"\n",
    "policies:\n",
    "  - name: \"KerasPolicy\"\n",
    "    epochs: 100\n",
    "    featurizer:\n",
    "    - name: MaxHistoryTrackerFeaturizer\n",
    "      max_history: 2\n",
    "      state_featurizer:\n",
    "        - name: BinarySingleStateFeaturizer\n",
    "  - name: \"MemoizationPolicy\"\n",
    "    max_history: 2\n",
    "  - name: \"FallbackPolicy\"\n",
    "    nlu_threshold: 0.2\n",
    "    core_threshold: 0.1\n",
    "    fallback_action_name: \"utter_unclear\"\n",
    "\"\"\" \n",
    "\n",
    "%store config > config.yml\n"
   ]
  },
  {
   "cell_type": "code",
   "execution_count": 104,
   "metadata": {
    "pycharm": {
     "is_executing": false,
     "metadata": false,
     "name": "#%%\n"
    }
   },
   "outputs": [
    {
     "name": "stdout",
     "output_type": "stream",
     "text": [
      "config.yml                      stories.md\r\n",
      "domain.yml                      stories_backup.md\r\n",
      "errors.json                     story_graph.png\r\n",
      "\u001b[34mmodels\u001b[m\u001b[m                          student_assistant_chatbot.ipynb\r\n",
      "nlu.md\r\n"
     ]
    }
   ],
   "source": [
    "!ls\n"
   ]
  },
  {
   "cell_type": "markdown",
   "metadata": {
    "colab_type": "text",
    "id": "pCdKD3l7-ua8",
    "pycharm": {}
   },
   "source": [
    "## Training a Dialogue Model"
   ]
  },
  {
   "cell_type": "code",
   "execution_count": 105,
   "metadata": {
    "colab": {
     "base_uri": "https://localhost:8080/",
     "height": 7364
    },
    "colab_type": "code",
    "id": "4D7R-FRO5dxz",
    "outputId": "727adf2a-fa4b-4158-df94-30ad472f62f3",
    "pycharm": {
     "is_executing": false
    }
   },
   "outputs": [
    {
     "name": "stderr",
     "output_type": "stream",
     "text": [
      "WARNING:rasa_core.training.dsl:Found unknown intent 'questions_during_visa' on line 128. Please, make sure that all intents are listed in your domain yaml.\n",
      "WARNING:rasa_core.training.dsl:Found unknown intent 'immunization' on line 143. Please, make sure that all intents are listed in your domain yaml.\n",
      "Processed Story Blocks:   0%|          | 0/25 [00:00<?, ?it/s, # trackers=1]WARNING:rasa_core.domain:Failed to use action 'utter_okay' in history. Please make sure all actions are listed in the domains action list. If you recently removed an action, don't worry about this warning. It should stop appearing after a while. \n",
      "Processed Story Blocks:   0%|          | 0/25 [00:00<?, ?it/s, # trackers=1]WARNING:rasa_core.domain:Failed to use action 'utter_okay' in history. Please make sure all actions are listed in the domains action list. If you recently removed an action, don't worry about this warning. It should stop appearing after a while. \n",
      "Processed Story Blocks: 100%|██████████| 25/25 [00:00<00:00, 989.95it/s, # trackers=1]\n",
      "Processed Story Blocks: 100%|██████████| 25/25 [00:00<00:00, 80659.69it/s]\n",
      "Processed Story Blocks:   0%|          | 0/25 [00:00<?, ?it/s, # trackers=4]WARNING:rasa_core.domain:Failed to use action 'utter_okay' in history. Please make sure all actions are listed in the domains action list. If you recently removed an action, don't worry about this warning. It should stop appearing after a while. \n",
      "WARNING:rasa_core.domain:Failed to use action 'utter_okay' in history. Please make sure all actions are listed in the domains action list. If you recently removed an action, don't worry about this warning. It should stop appearing after a while. \n",
      "WARNING:rasa_core.domain:Failed to use action 'utter_okay' in history. Please make sure all actions are listed in the domains action list. If you recently removed an action, don't worry about this warning. It should stop appearing after a while. \n",
      "WARNING:rasa_core.domain:Failed to use action 'utter_okay' in history. Please make sure all actions are listed in the domains action list. If you recently removed an action, don't worry about this warning. It should stop appearing after a while. \n",
      "Processed Story Blocks:   0%|          | 0/25 [00:00<?, ?it/s, # trackers=4]WARNING:rasa_core.domain:Failed to use action 'utter_okay' in history. Please make sure all actions are listed in the domains action list. If you recently removed an action, don't worry about this warning. It should stop appearing after a while. \n",
      "WARNING:rasa_core.domain:Failed to use action 'utter_okay' in history. Please make sure all actions are listed in the domains action list. If you recently removed an action, don't worry about this warning. It should stop appearing after a while. \n",
      "WARNING:rasa_core.domain:Failed to use action 'utter_okay' in history. Please make sure all actions are listed in the domains action list. If you recently removed an action, don't worry about this warning. It should stop appearing after a while. \n",
      "WARNING:rasa_core.domain:Failed to use action 'utter_okay' in history. Please make sure all actions are listed in the domains action list. If you recently removed an action, don't worry about this warning. It should stop appearing after a while. \n",
      "Processed Story Blocks: 100%|██████████| 25/25 [00:00<00:00, 546.99it/s, # trackers=4]\n",
      "Processed Story Blocks:   0%|          | 0/25 [00:00<?, ?it/s, # trackers=4]WARNING:rasa_core.domain:Failed to use action 'utter_okay' in history. Please make sure all actions are listed in the domains action list. If you recently removed an action, don't worry about this warning. It should stop appearing after a while. \n",
      "WARNING:rasa_core.domain:Failed to use action 'utter_okay' in history. Please make sure all actions are listed in the domains action list. If you recently removed an action, don't worry about this warning. It should stop appearing after a while. \n",
      "WARNING:rasa_core.domain:Failed to use action 'utter_okay' in history. Please make sure all actions are listed in the domains action list. If you recently removed an action, don't worry about this warning. It should stop appearing after a while. \n",
      "WARNING:rasa_core.domain:Failed to use action 'utter_okay' in history. Please make sure all actions are listed in the domains action list. If you recently removed an action, don't worry about this warning. It should stop appearing after a while. \n",
      "Processed Story Blocks:   0%|          | 0/25 [00:00<?, ?it/s, # trackers=4]WARNING:rasa_core.domain:Failed to use action 'utter_okay' in history. Please make sure all actions are listed in the domains action list. If you recently removed an action, don't worry about this warning. It should stop appearing after a while. \n",
      "WARNING:rasa_core.domain:Failed to use action 'utter_okay' in history. Please make sure all actions are listed in the domains action list. If you recently removed an action, don't worry about this warning. It should stop appearing after a while. \n",
      "WARNING:rasa_core.domain:Failed to use action 'utter_okay' in history. Please make sure all actions are listed in the domains action list. If you recently removed an action, don't worry about this warning. It should stop appearing after a while. \n",
      "WARNING:rasa_core.domain:Failed to use action 'utter_okay' in history. Please make sure all actions are listed in the domains action list. If you recently removed an action, don't worry about this warning. It should stop appearing after a while. \n",
      "Processed Story Blocks: 100%|██████████| 25/25 [00:00<00:00, 469.59it/s, # trackers=4]\n",
      "Processed Story Blocks:   0%|          | 0/25 [00:00<?, ?it/s, # trackers=5]WARNING:rasa_core.domain:Failed to use action 'utter_okay' in history. Please make sure all actions are listed in the domains action list. If you recently removed an action, don't worry about this warning. It should stop appearing after a while. \n",
      "WARNING:rasa_core.domain:Failed to use action 'utter_okay' in history. Please make sure all actions are listed in the domains action list. If you recently removed an action, don't worry about this warning. It should stop appearing after a while. \n",
      "WARNING:rasa_core.domain:Failed to use action 'utter_okay' in history. Please make sure all actions are listed in the domains action list. If you recently removed an action, don't worry about this warning. It should stop appearing after a while. \n",
      "WARNING:rasa_core.domain:Failed to use action 'utter_okay' in history. Please make sure all actions are listed in the domains action list. If you recently removed an action, don't worry about this warning. It should stop appearing after a while. \n",
      "WARNING:rasa_core.domain:Failed to use action 'utter_okay' in history. Please make sure all actions are listed in the domains action list. If you recently removed an action, don't worry about this warning. It should stop appearing after a while. \n",
      "Processed Story Blocks:   0%|          | 0/25 [00:00<?, ?it/s, # trackers=5]WARNING:rasa_core.domain:Failed to use action 'utter_okay' in history. Please make sure all actions are listed in the domains action list. If you recently removed an action, don't worry about this warning. It should stop appearing after a while. \n",
      "WARNING:rasa_core.domain:Failed to use action 'utter_okay' in history. Please make sure all actions are listed in the domains action list. If you recently removed an action, don't worry about this warning. It should stop appearing after a while. \n",
      "WARNING:rasa_core.domain:Failed to use action 'utter_okay' in history. Please make sure all actions are listed in the domains action list. If you recently removed an action, don't worry about this warning. It should stop appearing after a while. \n",
      "WARNING:rasa_core.domain:Failed to use action 'utter_okay' in history. Please make sure all actions are listed in the domains action list. If you recently removed an action, don't worry about this warning. It should stop appearing after a while. \n",
      "WARNING:rasa_core.domain:Failed to use action 'utter_okay' in history. Please make sure all actions are listed in the domains action list. If you recently removed an action, don't worry about this warning. It should stop appearing after a while. \n"
     ]
    },
    {
     "name": "stderr",
     "output_type": "stream",
     "text": [
      "Processed Story Blocks: 100%|██████████| 25/25 [00:00<00:00, 409.61it/s, # trackers=5]\n",
      "WARNING:rasa_core.training.generator:Unsatisfied end checkpoint 'goodbye_checkpoint' in block 'say goodbye'. Remove this checkpoint or add story blocks that start with this checkpoint.\n"
     ]
    },
    {
     "ename": "NameError",
     "evalue": "Cannot access action 'utter_okay', as that name is not a registered action for this domain. Available actions are: \n\t - action_listen\n\t - action_restart\n\t - action_default_fallback\n\t - action_deactivate_form\n\t - action_revert_fallback_events\n\t - action_default_ask_affirmation\n\t - action_default_ask_rephrase\n\t - utter_greet\n\t - utter_did_that_help\n\t - utter_happy\n\t - utter_goodbye\n\t - utter_unclear\n\t - utter_ask_picture\n\t - utter_answer_for_work_authorization\n\t - utter_answer_for_student_work\n\t - utter_answer_for_work_timings\n\t - utter_answer_for_taxes\n\t - utter_answer_E_verify\n\t - utter_answer_Visa_interview\n\t - utter_answer_travel_date\n\t - utter_answer_customs_immigration\n\t - utter_answer_questions_during_visa\n\t - utter_answer_health_insurance\n\t - utter_answer_immunization\n\t - utter_answer_housing\n\t - utter_answer_course_registration\n\t - utter_answer_tution\n\t - utter_answer_tower_ID\n\t - __main__.ApiAction",
     "output_type": "error",
     "traceback": [
      "\u001b[0;31m---------------------------------------------------------------------------\u001b[0m",
      "\u001b[0;31mValueError\u001b[0m                                Traceback (most recent call last)",
      "\u001b[0;32m/usr/local/lib/python3.6/site-packages/rasa_core/domain.py\u001b[0m in \u001b[0;36mindex_for_action\u001b[0;34m(self, action_name)\u001b[0m\n\u001b[1;32m    314\u001b[0m         \u001b[0;32mtry\u001b[0m\u001b[0;34m:\u001b[0m\u001b[0;34m\u001b[0m\u001b[0m\n\u001b[0;32m--> 315\u001b[0;31m             \u001b[0;32mreturn\u001b[0m \u001b[0mself\u001b[0m\u001b[0;34m.\u001b[0m\u001b[0maction_names\u001b[0m\u001b[0;34m.\u001b[0m\u001b[0mindex\u001b[0m\u001b[0;34m(\u001b[0m\u001b[0maction_name\u001b[0m\u001b[0;34m)\u001b[0m\u001b[0;34m\u001b[0m\u001b[0m\n\u001b[0m\u001b[1;32m    316\u001b[0m         \u001b[0;32mexcept\u001b[0m \u001b[0mValueError\u001b[0m\u001b[0;34m:\u001b[0m\u001b[0;34m\u001b[0m\u001b[0m\n",
      "\u001b[0;31mValueError\u001b[0m: 'utter_okay' is not in list",
      "\nDuring handling of the above exception, another exception occurred:\n",
      "\u001b[0;31mNameError\u001b[0m                                 Traceback (most recent call last)",
      "\u001b[0;32m<ipython-input-105-3a53419f70fb>\u001b[0m in \u001b[0;36m<module>\u001b[0;34m\u001b[0m\n\u001b[1;32m     13\u001b[0m \u001b[0mtraining_data\u001b[0m \u001b[0;34m=\u001b[0m \u001b[0magent\u001b[0m\u001b[0;34m.\u001b[0m\u001b[0mload_data\u001b[0m\u001b[0;34m(\u001b[0m\u001b[0;34m'stories.md'\u001b[0m\u001b[0;34m)\u001b[0m\u001b[0;34m\u001b[0m\u001b[0m\n\u001b[1;32m     14\u001b[0m \u001b[0;34m\u001b[0m\u001b[0m\n\u001b[0;32m---> 15\u001b[0;31m \u001b[0magent\u001b[0m\u001b[0;34m.\u001b[0m\u001b[0mtrain\u001b[0m\u001b[0;34m(\u001b[0m\u001b[0mtraining_data\u001b[0m\u001b[0;34m)\u001b[0m\u001b[0;34m\u001b[0m\u001b[0m\n\u001b[0m\u001b[1;32m     16\u001b[0m \u001b[0;34m\u001b[0m\u001b[0m\n\u001b[1;32m     17\u001b[0m \u001b[0magent\u001b[0m\u001b[0;34m.\u001b[0m\u001b[0mpersist\u001b[0m\u001b[0;34m(\u001b[0m\u001b[0;34m'models/dialogue'\u001b[0m\u001b[0;34m)\u001b[0m\u001b[0;34m\u001b[0m\u001b[0m\n",
      "\u001b[0;32m/usr/local/lib/python3.6/site-packages/rasa_core/agent.py\u001b[0m in \u001b[0;36mtrain\u001b[0;34m(self, training_trackers, **kwargs)\u001b[0m\n\u001b[1;32m    518\u001b[0m \u001b[0;34m\u001b[0m\u001b[0m\n\u001b[1;32m    519\u001b[0m         self.policy_ensemble.train(training_trackers, self.domain,\n\u001b[0;32m--> 520\u001b[0;31m                                    **kwargs)\n\u001b[0m\u001b[1;32m    521\u001b[0m         \u001b[0mself\u001b[0m\u001b[0;34m.\u001b[0m\u001b[0m_set_fingerprint\u001b[0m\u001b[0;34m(\u001b[0m\u001b[0;34m)\u001b[0m\u001b[0;34m\u001b[0m\u001b[0m\n\u001b[1;32m    522\u001b[0m \u001b[0;34m\u001b[0m\u001b[0m\n",
      "\u001b[0;32m/usr/local/lib/python3.6/site-packages/rasa_core/policies/ensemble.py\u001b[0m in \u001b[0;36mtrain\u001b[0;34m(self, training_trackers, domain, **kwargs)\u001b[0m\n\u001b[1;32m     61\u001b[0m         \u001b[0;32mif\u001b[0m \u001b[0mtraining_trackers\u001b[0m\u001b[0;34m:\u001b[0m\u001b[0;34m\u001b[0m\u001b[0m\n\u001b[1;32m     62\u001b[0m             \u001b[0;32mfor\u001b[0m \u001b[0mpolicy\u001b[0m \u001b[0;32min\u001b[0m \u001b[0mself\u001b[0m\u001b[0;34m.\u001b[0m\u001b[0mpolicies\u001b[0m\u001b[0;34m:\u001b[0m\u001b[0;34m\u001b[0m\u001b[0m\n\u001b[0;32m---> 63\u001b[0;31m                 \u001b[0mpolicy\u001b[0m\u001b[0;34m.\u001b[0m\u001b[0mtrain\u001b[0m\u001b[0;34m(\u001b[0m\u001b[0mtraining_trackers\u001b[0m\u001b[0;34m,\u001b[0m \u001b[0mdomain\u001b[0m\u001b[0;34m,\u001b[0m \u001b[0;34m**\u001b[0m\u001b[0mkwargs\u001b[0m\u001b[0;34m)\u001b[0m\u001b[0;34m\u001b[0m\u001b[0m\n\u001b[0m\u001b[1;32m     64\u001b[0m         \u001b[0;32melse\u001b[0m\u001b[0;34m:\u001b[0m\u001b[0;34m\u001b[0m\u001b[0m\n\u001b[1;32m     65\u001b[0m             logger.info(\"Skipped training, because there are no \"\n",
      "\u001b[0;32m/usr/local/lib/python3.6/site-packages/rasa_core/policies/keras_policy.py\u001b[0m in \u001b[0;36mtrain\u001b[0;34m(self, training_trackers, domain, **kwargs)\u001b[0m\n\u001b[1;32m    148\u001b[0m         training_data = self.featurize_for_training(training_trackers,\n\u001b[1;32m    149\u001b[0m                                                     \u001b[0mdomain\u001b[0m\u001b[0;34m,\u001b[0m\u001b[0;34m\u001b[0m\u001b[0m\n\u001b[0;32m--> 150\u001b[0;31m                                                     **kwargs)\n\u001b[0m\u001b[1;32m    151\u001b[0m         \u001b[0;31m# noinspection PyPep8Naming\u001b[0m\u001b[0;34m\u001b[0m\u001b[0;34m\u001b[0m\u001b[0m\n\u001b[1;32m    152\u001b[0m         \u001b[0mshuffled_X\u001b[0m\u001b[0;34m,\u001b[0m \u001b[0mshuffled_y\u001b[0m \u001b[0;34m=\u001b[0m \u001b[0mtraining_data\u001b[0m\u001b[0;34m.\u001b[0m\u001b[0mshuffled_X_y\u001b[0m\u001b[0;34m(\u001b[0m\u001b[0;34m)\u001b[0m\u001b[0;34m\u001b[0m\u001b[0m\n",
      "\u001b[0;32m/usr/local/lib/python3.6/site-packages/rasa_core/policies/policy.py\u001b[0m in \u001b[0;36mfeaturize_for_training\u001b[0;34m(self, training_trackers, domain, **kwargs)\u001b[0m\n\u001b[1;32m     61\u001b[0m \u001b[0;34m\u001b[0m\u001b[0m\n\u001b[1;32m     62\u001b[0m         training_data = self.featurizer.featurize_trackers(training_trackers,\n\u001b[0;32m---> 63\u001b[0;31m                                                            domain)\n\u001b[0m\u001b[1;32m     64\u001b[0m \u001b[0;34m\u001b[0m\u001b[0m\n\u001b[1;32m     65\u001b[0m         \u001b[0mmax_training_samples\u001b[0m \u001b[0;34m=\u001b[0m \u001b[0mkwargs\u001b[0m\u001b[0;34m.\u001b[0m\u001b[0mget\u001b[0m\u001b[0;34m(\u001b[0m\u001b[0;34m'max_training_samples'\u001b[0m\u001b[0;34m)\u001b[0m\u001b[0;34m\u001b[0m\u001b[0m\n",
      "\u001b[0;32m/usr/local/lib/python3.6/site-packages/rasa_core/featurizers.py\u001b[0m in \u001b[0;36mfeaturize_trackers\u001b[0;34m(self, trackers, domain)\u001b[0m\n\u001b[1;32m    378\u001b[0m         \u001b[0;31m# noinspection PyPep8Naming\u001b[0m\u001b[0;34m\u001b[0m\u001b[0;34m\u001b[0m\u001b[0m\n\u001b[1;32m    379\u001b[0m         \u001b[0mX\u001b[0m\u001b[0;34m,\u001b[0m \u001b[0mtrue_lengths\u001b[0m \u001b[0;34m=\u001b[0m \u001b[0mself\u001b[0m\u001b[0;34m.\u001b[0m\u001b[0m_featurize_states\u001b[0m\u001b[0;34m(\u001b[0m\u001b[0mtrackers_as_states\u001b[0m\u001b[0;34m)\u001b[0m\u001b[0;34m\u001b[0m\u001b[0m\n\u001b[0;32m--> 380\u001b[0;31m         \u001b[0my\u001b[0m \u001b[0;34m=\u001b[0m \u001b[0mself\u001b[0m\u001b[0;34m.\u001b[0m\u001b[0m_featurize_labels\u001b[0m\u001b[0;34m(\u001b[0m\u001b[0mtrackers_as_actions\u001b[0m\u001b[0;34m,\u001b[0m \u001b[0mdomain\u001b[0m\u001b[0;34m)\u001b[0m\u001b[0;34m\u001b[0m\u001b[0m\n\u001b[0m\u001b[1;32m    381\u001b[0m \u001b[0;34m\u001b[0m\u001b[0m\n\u001b[1;32m    382\u001b[0m         \u001b[0;32mreturn\u001b[0m \u001b[0mDialogueTrainingData\u001b[0m\u001b[0;34m(\u001b[0m\u001b[0mX\u001b[0m\u001b[0;34m,\u001b[0m \u001b[0my\u001b[0m\u001b[0;34m,\u001b[0m \u001b[0mtrue_lengths\u001b[0m\u001b[0;34m)\u001b[0m\u001b[0;34m\u001b[0m\u001b[0m\n",
      "\u001b[0;32m/usr/local/lib/python3.6/site-packages/rasa_core/featurizers.py\u001b[0m in \u001b[0;36m_featurize_labels\u001b[0;34m(self, trackers_as_actions, domain)\u001b[0m\n\u001b[1;32m    347\u001b[0m             story_labels = [self.state_featurizer.action_as_one_hot(action,\n\u001b[1;32m    348\u001b[0m                                                                     domain)\n\u001b[0;32m--> 349\u001b[0;31m                             for action in tracker_actions]\n\u001b[0m\u001b[1;32m    350\u001b[0m \u001b[0;34m\u001b[0m\u001b[0m\n\u001b[1;32m    351\u001b[0m             \u001b[0mlabels\u001b[0m\u001b[0;34m.\u001b[0m\u001b[0mappend\u001b[0m\u001b[0;34m(\u001b[0m\u001b[0mstory_labels\u001b[0m\u001b[0;34m)\u001b[0m\u001b[0;34m\u001b[0m\u001b[0m\n",
      "\u001b[0;32m/usr/local/lib/python3.6/site-packages/rasa_core/featurizers.py\u001b[0m in \u001b[0;36m<listcomp>\u001b[0;34m(.0)\u001b[0m\n\u001b[1;32m    347\u001b[0m             story_labels = [self.state_featurizer.action_as_one_hot(action,\n\u001b[1;32m    348\u001b[0m                                                                     domain)\n\u001b[0;32m--> 349\u001b[0;31m                             for action in tracker_actions]\n\u001b[0m\u001b[1;32m    350\u001b[0m \u001b[0;34m\u001b[0m\u001b[0m\n\u001b[1;32m    351\u001b[0m             \u001b[0mlabels\u001b[0m\u001b[0;34m.\u001b[0m\u001b[0mappend\u001b[0m\u001b[0;34m(\u001b[0m\u001b[0mstory_labels\u001b[0m\u001b[0;34m)\u001b[0m\u001b[0;34m\u001b[0m\u001b[0m\n",
      "\u001b[0;32m/usr/local/lib/python3.6/site-packages/rasa_core/featurizers.py\u001b[0m in \u001b[0;36maction_as_one_hot\u001b[0;34m(action, domain)\u001b[0m\n\u001b[1;32m     45\u001b[0m \u001b[0;34m\u001b[0m\u001b[0m\n\u001b[1;32m     46\u001b[0m         \u001b[0my\u001b[0m \u001b[0;34m=\u001b[0m \u001b[0mnp\u001b[0m\u001b[0;34m.\u001b[0m\u001b[0mzeros\u001b[0m\u001b[0;34m(\u001b[0m\u001b[0mdomain\u001b[0m\u001b[0;34m.\u001b[0m\u001b[0mnum_actions\u001b[0m\u001b[0;34m,\u001b[0m \u001b[0mdtype\u001b[0m\u001b[0;34m=\u001b[0m\u001b[0mint\u001b[0m\u001b[0;34m)\u001b[0m\u001b[0;34m\u001b[0m\u001b[0m\n\u001b[0;32m---> 47\u001b[0;31m         \u001b[0my\u001b[0m\u001b[0;34m[\u001b[0m\u001b[0mdomain\u001b[0m\u001b[0;34m.\u001b[0m\u001b[0mindex_for_action\u001b[0m\u001b[0;34m(\u001b[0m\u001b[0maction\u001b[0m\u001b[0;34m)\u001b[0m\u001b[0;34m]\u001b[0m \u001b[0;34m=\u001b[0m \u001b[0;36m1\u001b[0m\u001b[0;34m\u001b[0m\u001b[0m\n\u001b[0m\u001b[1;32m     48\u001b[0m         \u001b[0;32mreturn\u001b[0m \u001b[0my\u001b[0m\u001b[0;34m\u001b[0m\u001b[0m\n\u001b[1;32m     49\u001b[0m \u001b[0;34m\u001b[0m\u001b[0m\n",
      "\u001b[0;32m/usr/local/lib/python3.6/site-packages/rasa_core/domain.py\u001b[0m in \u001b[0;36mindex_for_action\u001b[0;34m(self, action_name)\u001b[0m\n\u001b[1;32m    315\u001b[0m             \u001b[0;32mreturn\u001b[0m \u001b[0mself\u001b[0m\u001b[0;34m.\u001b[0m\u001b[0maction_names\u001b[0m\u001b[0;34m.\u001b[0m\u001b[0mindex\u001b[0m\u001b[0;34m(\u001b[0m\u001b[0maction_name\u001b[0m\u001b[0;34m)\u001b[0m\u001b[0;34m\u001b[0m\u001b[0m\n\u001b[1;32m    316\u001b[0m         \u001b[0;32mexcept\u001b[0m \u001b[0mValueError\u001b[0m\u001b[0;34m:\u001b[0m\u001b[0;34m\u001b[0m\u001b[0m\n\u001b[0;32m--> 317\u001b[0;31m             \u001b[0mself\u001b[0m\u001b[0;34m.\u001b[0m\u001b[0m_raise_action_not_found_exception\u001b[0m\u001b[0;34m(\u001b[0m\u001b[0maction_name\u001b[0m\u001b[0;34m)\u001b[0m\u001b[0;34m\u001b[0m\u001b[0m\n\u001b[0m\u001b[1;32m    318\u001b[0m \u001b[0;34m\u001b[0m\u001b[0m\n\u001b[1;32m    319\u001b[0m     \u001b[0;32mdef\u001b[0m \u001b[0m_raise_action_not_found_exception\u001b[0m\u001b[0;34m(\u001b[0m\u001b[0mself\u001b[0m\u001b[0;34m,\u001b[0m \u001b[0maction_name\u001b[0m\u001b[0;34m)\u001b[0m\u001b[0;34m:\u001b[0m\u001b[0;34m\u001b[0m\u001b[0m\n",
      "\u001b[0;32m/usr/local/lib/python3.6/site-packages/rasa_core/domain.py\u001b[0m in \u001b[0;36m_raise_action_not_found_exception\u001b[0;34m(self, action_name)\u001b[0m\n\u001b[1;32m    324\u001b[0m                         \u001b[0;34m\"action for this domain. \"\u001b[0m\u001b[0;34m\u001b[0m\u001b[0m\n\u001b[1;32m    325\u001b[0m                         \u001b[0;34m\"Available actions are: \\n{}\"\u001b[0m\u001b[0;34m\u001b[0m\u001b[0m\n\u001b[0;32m--> 326\u001b[0;31m                         \"\".format(action_name, action_names))\n\u001b[0m\u001b[1;32m    327\u001b[0m \u001b[0;34m\u001b[0m\u001b[0m\n\u001b[1;32m    328\u001b[0m     \u001b[0;32mdef\u001b[0m \u001b[0mrandom_template_for\u001b[0m\u001b[0;34m(\u001b[0m\u001b[0mself\u001b[0m\u001b[0;34m,\u001b[0m \u001b[0mutter_action\u001b[0m\u001b[0;34m)\u001b[0m\u001b[0;34m:\u001b[0m\u001b[0;34m\u001b[0m\u001b[0m\n",
      "\u001b[0;31mNameError\u001b[0m: Cannot access action 'utter_okay', as that name is not a registered action for this domain. Available actions are: \n\t - action_listen\n\t - action_restart\n\t - action_default_fallback\n\t - action_deactivate_form\n\t - action_revert_fallback_events\n\t - action_default_ask_affirmation\n\t - action_default_ask_rephrase\n\t - utter_greet\n\t - utter_did_that_help\n\t - utter_happy\n\t - utter_goodbye\n\t - utter_unclear\n\t - utter_ask_picture\n\t - utter_answer_for_work_authorization\n\t - utter_answer_for_student_work\n\t - utter_answer_for_work_timings\n\t - utter_answer_for_taxes\n\t - utter_answer_E_verify\n\t - utter_answer_Visa_interview\n\t - utter_answer_travel_date\n\t - utter_answer_customs_immigration\n\t - utter_answer_questions_during_visa\n\t - utter_answer_health_insurance\n\t - utter_answer_immunization\n\t - utter_answer_housing\n\t - utter_answer_course_registration\n\t - utter_answer_tution\n\t - utter_answer_tower_ID\n\t - __main__.ApiAction"
     ]
    }
   ],
   "source": [
    "from rasa_core.policies import FallbackPolicy, KerasPolicy, MemoizationPolicy\n",
    "from rasa_core.agent import Agent\n",
    "from rasa_core import config\n",
    "# this will catch predictions the model isn't very certain about\n",
    "# there is a threshold for the NLU predictions as well as the action predictions\n",
    "fallback = FallbackPolicy(fallback_action_name=\"utter_unclear\",\n",
    "                          core_threshold=0.2,\n",
    "                          nlu_threshold=0.1)\n",
    "\n",
    "agent = Agent('domain.yml', policies=config.load('config.yml'))\n",
    "\n",
    "# loading our neatly defined training dialogues\n",
    "training_data = agent.load_data('stories.md')\n",
    "\n",
    "agent.train(training_data)\n",
    "\n",
    "agent.persist('models/dialogue')"
   ]
  },
  {
   "cell_type": "code",
   "execution_count": null,
   "metadata": {},
   "outputs": [],
   "source": [
    "!ls\n"
   ]
  },
  {
   "cell_type": "markdown",
   "metadata": {
    "colab_type": "text",
    "id": "c4911z6y-5rD",
    "pycharm": {}
   },
   "source": [
    "# Talk to your Bot"
   ]
  },
  {
   "cell_type": "code",
   "execution_count": 106,
   "metadata": {
    "colab": {
     "base_uri": "https://localhost:8080/",
     "height": 34
    },
    "colab_type": "code",
    "id": "nE4coPam5hry",
    "outputId": "c8ec135b-882b-4e9e-a955-f3e184177817",
    "pycharm": {
     "is_executing": false
    }
   },
   "outputs": [
    {
     "name": "stderr",
     "output_type": "stream",
     "text": [
      "WARNING:rasa_core.agent:Passing a value for interpreter to an agent where the value is not an interpreter is deprecated. Construct the interpreter, beforepassing it to the agent, e.g. `interpreter = NaturalLanguageInterpreter.create(nlu)`.\n"
     ]
    },
    {
     "name": "stdout",
     "output_type": "stream",
     "text": [
      "INFO:tensorflow:Restoring parameters from /Users/saching12/Desktop/python codes/student_assistant_chatbot/./models/nlu/default/current/intent_classifier_tensorflow_embedding.ckpt\n"
     ]
    },
    {
     "name": "stderr",
     "output_type": "stream",
     "text": [
      "INFO:tensorflow:Restoring parameters from /Users/saching12/Desktop/python codes/student_assistant_chatbot/./models/nlu/default/current/intent_classifier_tensorflow_embedding.ckpt\n"
     ]
    }
   ],
   "source": [
    "#Starting the Bot\n",
    "\n",
    "from rasa_core.agent import Agent\n",
    "agent = Agent.load('models/dialogue', interpreter=model_directory)"
   ]
  },
  {
   "cell_type": "code",
   "execution_count": null,
   "metadata": {
    "colab": {
     "base_uri": "https://localhost:8080/",
     "height": 292
    },
    "colab_type": "code",
    "id": "DDVLzhAT5yrP",
    "outputId": "aee3fc83-df97-42b4-c7e0-c8929f76337c",
    "pycharm": {
     "is_executing": false
    }
   },
   "outputs": [
    {
     "name": "stdout",
     "output_type": "stream",
     "text": [
      "Your bot is ready to talk! Type your messages here or send 'stop'\n",
      "what is student work authorization?\n"
     ]
    },
    {
     "name": "stderr",
     "output_type": "stream",
     "text": [
      "WARNING:rasa_core.agent:Passing a text to `agent.handle_message(...)` is deprecated. Rather use `agent.handle_text(...)`.\n"
     ]
    },
    {
     "name": "stdout",
     "output_type": "stream",
     "text": [
      "Pre-Completion OPT, Post-Completion OPT and the 24-Month STEM Extension approvals are granted upon the student receipt of an Employment Authorization Document (EAD Card). Students on CPT will receive confirmation through authorization located on the third page of their I-20.\n",
      "Did that help you?\n",
      "no\n"
     ]
    },
    {
     "name": "stderr",
     "output_type": "stream",
     "text": [
      "WARNING:rasa_core.agent:Passing a text to `agent.handle_message(...)` is deprecated. Rather use `agent.handle_text(...)`.\n"
     ]
    },
    {
     "name": "stdout",
     "output_type": "stream",
     "text": [
      "My bad. Would U like to ask me a different question?.\n",
      "no\n"
     ]
    },
    {
     "name": "stderr",
     "output_type": "stream",
     "text": [
      "WARNING:rasa_core.agent:Passing a text to `agent.handle_message(...)` is deprecated. Rather use `agent.handle_text(...)`.\n"
     ]
    },
    {
     "name": "stdout",
     "output_type": "stream",
     "text": [
      "Bye\n",
      "ok\n"
     ]
    },
    {
     "name": "stderr",
     "output_type": "stream",
     "text": [
      "WARNING:rasa_core.agent:Passing a text to `agent.handle_message(...)` is deprecated. Rather use `agent.handle_text(...)`.\n"
     ]
    },
    {
     "name": "stdout",
     "output_type": "stream",
     "text": [
      "My bad. Would U like to ask me a different question?.\n",
      "no\n"
     ]
    },
    {
     "name": "stderr",
     "output_type": "stream",
     "text": [
      "WARNING:rasa_core.agent:Passing a text to `agent.handle_message(...)` is deprecated. Rather use `agent.handle_text(...)`.\n"
     ]
    },
    {
     "name": "stdout",
     "output_type": "stream",
     "text": [
      "My bad. Would U like to ask me a different question?.\n",
      "what is everify\n"
     ]
    },
    {
     "name": "stderr",
     "output_type": "stream",
     "text": [
      "WARNING:rasa_core.agent:Passing a text to `agent.handle_message(...)` is deprecated. Rather use `agent.handle_text(...)`.\n"
     ]
    },
    {
     "name": "stdout",
     "output_type": "stream",
     "text": [
      "E-Verify is an online system which allows businesses to determine the eligibility of their employees to work in the United States. Students on the 17-Month (STEM) Extension may only work with companies enrolled in E-Verify. To learn more about E-verify, please visit the USCIS E-Verify page.\n",
      "Did that help you?\n",
      "yes\n"
     ]
    },
    {
     "name": "stderr",
     "output_type": "stream",
     "text": [
      "WARNING:rasa_core.agent:Passing a text to `agent.handle_message(...)` is deprecated. Rather use `agent.handle_text(...)`.\n"
     ]
    },
    {
     "name": "stdout",
     "output_type": "stream",
     "text": [
      "Bye\n"
     ]
    }
   ],
   "source": [
    "print(\"Your bot is ready to talk! Type your messages here or send 'stop'\")\n",
    "while True:\n",
    "    a = input()\n",
    "    if a == 'stop':\n",
    "        break\n",
    "    responses = agent.handle_message(a)\n",
    "    for response in responses:\n",
    "        print(response[\"text\"])\n",
    "        "
   ]
  },
  {
   "cell_type": "code",
   "execution_count": null,
   "metadata": {
    "colab": {},
    "colab_type": "code",
    "id": "enJNkbvB54y1",
    "pycharm": {}
   },
   "outputs": [],
   "source": []
  },
  {
   "cell_type": "code",
   "execution_count": null,
   "metadata": {
    "pycharm": {}
   },
   "outputs": [],
   "source": []
  }
 ],
 "metadata": {
  "accelerator": "GPU",
  "colab": {
   "collapsed_sections": [],
   "name": "Copy of Conversational_Chatbot.ipynb",
   "provenance": [],
   "version": "0.3.2"
  },
  "kernelspec": {
   "display_name": "Python 3",
   "language": "python",
   "name": "python3"
  },
  "language_info": {
   "codemirror_mode": {
    "name": "ipython",
    "version": 3
   },
   "file_extension": ".py",
   "mimetype": "text/x-python",
   "name": "python",
   "nbconvert_exporter": "python",
   "pygments_lexer": "ipython3",
   "version": "3.6.5"
  }
 },
 "nbformat": 4,
 "nbformat_minor": 1
}
