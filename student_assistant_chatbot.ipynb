{
  "cells": [
    {
      "cell_type": "markdown",
      "metadata": {
        "colab_type": "text",
        "id": "3oxVq6vQ76r7",
        "pycharm": {}
      },
      "source": [
        "# Building a Conversational Chatbot for Slack using Rasa and Python -Part 1"
      ]
    },
    {
      "cell_type": "markdown",
      "metadata": {
        "colab_type": "text",
        "id": "kIFYA-Kp8aK4",
        "pycharm": {}
      },
      "source": [
        "## Starting Jupyter Notebook with necessary imports"
      ]
    },
    {
      "cell_type": "code",
      "execution_count": 108,
      "metadata": {
        "colab": {},
        "colab_type": "code",
        "id": "R0_7gOmu0r3v",
        "pycharm": {
          "is_executing": false
        }
      },
      "outputs": [],
      "source": [
        "%matplotlib inline\n",
        "\n",
        "import logging, io, json, warnings\n",
        "logging.basicConfig(level\u003d\"INFO\")\n",
        "warnings.filterwarnings(\u0027ignore\u0027)\n",
        "\n"
      ]
    },
    {
      "cell_type": "markdown",
      "metadata": {
        "colab_type": "text",
        "id": "IVAF41hr8jU5",
        "pycharm": {}
      },
      "source": [
        "# Installations\n",
        "* Rasa NLU\n",
        "* Rasa Core\n",
        "* SpaCy Language Model"
      ]
    },
    {
      "cell_type": "code",
      "execution_count": 109,
      "metadata": {
        "colab": {
          "base_uri": "https://localhost:8080/",
          "height": 4049
        },
        "colab_type": "code",
        "id": "UsvAOHF_1dAY",
        "outputId": "f65c2c83-e7ae-46ef-e800-e43dcb854766",
        "pycharm": {}
      },
      "outputs": [
        {
          "name": "stdout",
          "output_type": "stream",
          "text": [
            "Collecting rasa_core\u003d\u003d0.9.6\n",
            "  Using cached https://files.pythonhosted.org/packages/72/de/82e762685a991351a9f89d934b1b25fe04d10462cf4017f93227cb4d9058/rasa_core-0.9.6-py2.py3-none-any.whl\n",
            "Collecting rasa_nlu[spacy]\n",
            "  Using cached https://files.pythonhosted.org/packages/d6/53/31b6b14e124fa916c10e8e58d650cff57ace0027a9e69a0788b1afcc26f4/rasa_nlu-0.14.6-py2.py3-none-any.whl\n",
            "Requirement already satisfied, skipping upgrade: flask~\u003d1.0 in /usr/local/lib/python3.6/site-packages (from rasa_core\u003d\u003d0.9.6) (1.0.2)\n",
            "Requirement already satisfied, skipping upgrade: redis~\u003d2.0 in /usr/local/lib/python3.6/site-packages (from rasa_core\u003d\u003d0.9.6) (2.10.6)\n",
            "Requirement already satisfied, skipping upgrade: tqdm~\u003d4.0 in /usr/local/lib/python3.6/site-packages (from rasa_core\u003d\u003d0.9.6) (4.31.1)\n",
            "Collecting scikit-learn~\u003d0.19.0 (from rasa_core\u003d\u003d0.9.6)\n",
            "  Using cached https://files.pythonhosted.org/packages/cf/db/f6375ee4b604209d88447bffab074f236d5357a4f6fa38901362311ed18d/scikit_learn-0.19.2-cp36-cp36m-macosx_10_6_intel.macosx_10_9_intel.macosx_10_9_x86_64.macosx_10_10_intel.macosx_10_10_x86_64.whl\n",
            "Requirement already satisfied, skipping upgrade: colorhash~\u003d1.0 in /usr/local/lib/python3.6/site-packages (from rasa_core\u003d\u003d0.9.6) (1.0.2)\n",
            "Collecting tensorflow\u003c1.9,\u003e\u003d1.7 (from rasa_core\u003d\u003d0.9.6)\n",
            "  Using cached https://files.pythonhosted.org/packages/03/ad/d732a5d9d50bfcd8aeb6e4a266065a8868829388e4e2b529ff689f1fc923/tensorflow-1.8.0-cp36-cp36m-macosx_10_11_x86_64.whl\n",
            "Collecting pykwalify\u003c\u003d1.6.0 (from rasa_core\u003d\u003d0.9.6)\n",
            "  Using cached https://files.pythonhosted.org/packages/6e/59/55c32d59b462a9c3fae2ab25f179f91d61617c0215e9f8ba3f4966b2b8b1/pykwalify-1.6.0-py2.py3-none-any.whl\n",
            "Requirement already satisfied, skipping upgrade: numpy~\u003d1.13 in /usr/local/lib/python3.6/site-packages (from rasa_core\u003d\u003d0.9.6) (1.16.2)\n",
            "Requirement already satisfied, skipping upgrade: fbmessenger~\u003d5.0 in /usr/local/lib/python3.6/site-packages (from rasa_core\u003d\u003d0.9.6) (5.4.0)\n",
            "Requirement already satisfied, skipping upgrade: mattermostwrapper~\u003d2.0 in /usr/local/lib/python3.6/site-packages (from rasa_core\u003d\u003d0.9.6) (2.1)\n",
            "Requirement already satisfied, skipping upgrade: coloredlogs~\u003d10.0 in /usr/local/lib/python3.6/site-packages (from rasa_core\u003d\u003d0.9.6) (10.0)\n",
            "Requirement already satisfied, skipping upgrade: fakeredis~\u003d0.10.0 in /usr/local/lib/python3.6/site-packages (from rasa_core\u003d\u003d0.9.6) (0.10.3)\n",
            "Requirement already satisfied, skipping upgrade: slackclient~\u003d1.0 in /usr/local/lib/python3.6/site-packages (from rasa_core\u003d\u003d0.9.6) (1.3.1)\n",
            "Requirement already satisfied, skipping upgrade: six~\u003d1.0 in /usr/local/lib/python3.6/site-packages (from rasa_core\u003d\u003d0.9.6) (1.11.0)\n",
            "Requirement already satisfied, skipping upgrade: future~\u003d0.16 in /usr/local/lib/python3.6/site-packages (from rasa_core\u003d\u003d0.9.6) (0.17.1)\n",
            "Requirement already satisfied, skipping upgrade: keras~\u003d2.0 in /usr/local/lib/python3.6/site-packages (from rasa_core\u003d\u003d0.9.6) (2.2.4)\n",
            "Requirement already satisfied, skipping upgrade: ruamel.yaml~\u003d0.15.0 in /usr/local/lib/python3.6/site-packages (from rasa_core\u003d\u003d0.9.6) (0.15.89)\n",
            "Requirement already satisfied, skipping upgrade: h5py~\u003d2.0 in /usr/local/lib/python3.6/site-packages (from rasa_core\u003d\u003d0.9.6) (2.8.0)\n",
            "Requirement already satisfied, skipping upgrade: apscheduler~\u003d3.0 in /usr/local/lib/python3.6/site-packages (from rasa_core\u003d\u003d0.9.6) (3.5.3)\n",
            "Requirement already satisfied, skipping upgrade: graphviz~\u003d0.8.0 in /usr/local/lib/python3.6/site-packages (from rasa_core\u003d\u003d0.9.6) (0.8.4)\n",
            "Requirement already satisfied, skipping upgrade: twilio~\u003d6.0 in /usr/local/lib/python3.6/site-packages (from rasa_core\u003d\u003d0.9.6) (6.25.1)\n",
            "Requirement already satisfied, skipping upgrade: requests~\u003d2.15 in /usr/local/lib/python3.6/site-packages (from rasa_core\u003d\u003d0.9.6) (2.21.0)\n",
            "Requirement already satisfied, skipping upgrade: flask-cors~\u003d3.0 in /usr/local/lib/python3.6/site-packages (from rasa_core\u003d\u003d0.9.6) (3.0.7)\n",
            "Requirement already satisfied, skipping upgrade: networkx~\u003d2.0 in /usr/local/lib/python3.6/site-packages (from rasa_core\u003d\u003d0.9.6) (2.2)\n",
            "Requirement already satisfied, skipping upgrade: typing~\u003d3.0 in /usr/local/lib/python3.6/site-packages (from rasa_core\u003d\u003d0.9.6) (3.6.6)\n",
            "Collecting python-telegram-bot~\u003d10.0 (from rasa_core\u003d\u003d0.9.6)\n",
            "  Using cached https://files.pythonhosted.org/packages/f1/51/d1bd383522c12b313eddd7b97b8e7d6cd2a8e3b44b8ff3c88e4a7b045cc8/python_telegram_bot-10.1.0-py2.py3-none-any.whl\n",
            "Requirement already satisfied, skipping upgrade: ConfigArgParse~\u003d0.13.0 in /usr/local/lib/python3.6/site-packages (from rasa_core\u003d\u003d0.9.6) (0.13.0)\n",
            "Collecting jsonpickle~\u003d0.9.0 (from rasa_core\u003d\u003d0.9.6)\n",
            "Requirement already satisfied, skipping upgrade: matplotlib~\u003d2.0 in /usr/local/lib/python3.6/site-packages (from rasa_nlu[spacy]) (2.2.4)\n",
            "Requirement already satisfied, skipping upgrade: klein~\u003d17.10 in /usr/local/lib/python3.6/site-packages (from rasa_nlu[spacy]) (17.10.0)\n",
            "Requirement already satisfied, skipping upgrade: jsonschema~\u003d2.6 in /usr/local/lib/python3.6/site-packages (from rasa_nlu[spacy]) (2.6.0)\n",
            "Requirement already satisfied, skipping upgrade: cloudpickle~\u003d0.6.1 in /usr/local/lib/python3.6/site-packages (from rasa_nlu[spacy]) (0.6.1)\n",
            "Requirement already satisfied, skipping upgrade: simplejson~\u003d3.13 in /usr/local/lib/python3.6/site-packages (from rasa_nlu[spacy]) (3.16.0)\n",
            "Requirement already satisfied, skipping upgrade: gevent~\u003d1.2 in /usr/local/lib/python3.6/site-packages (from rasa_nlu[spacy]) (1.4.0)\n",
            "Requirement already satisfied, skipping upgrade: boto3~\u003d1.5 in /usr/local/lib/python3.6/site-packages (from rasa_nlu[spacy]) (1.9.113)\n",
            "Requirement already satisfied, skipping upgrade: packaging~\u003d18.0 in /usr/local/lib/python3.6/site-packages (from rasa_nlu[spacy]) (18.0)\n",
            "Requirement already satisfied, skipping upgrade: sklearn-crfsuite~\u003d0.3.6; extra \u003d\u003d \"spacy\" in /usr/local/lib/python3.6/site-packages (from rasa_nlu[spacy]) (0.3.6)\n",
            "Requirement already satisfied, skipping upgrade: spacy\u003c\u003d2.0.18,\u003e2.0; extra \u003d\u003d \"spacy\" in /usr/local/lib/python3.6/site-packages (from rasa_nlu[spacy]) (2.0.18)\n",
            "Requirement already satisfied, skipping upgrade: scipy~\u003d1.1; extra \u003d\u003d \"spacy\" in /usr/local/lib/python3.6/site-packages (from rasa_nlu[spacy]) (1.2.1)\n",
            "Requirement already satisfied, skipping upgrade: itsdangerous\u003e\u003d0.24 in /usr/local/lib/python3.6/site-packages (from flask~\u003d1.0-\u003erasa_core\u003d\u003d0.9.6) (1.1.0)\n",
            "Requirement already satisfied, skipping upgrade: Werkzeug\u003e\u003d0.14 in /usr/local/lib/python3.6/site-packages (from flask~\u003d1.0-\u003erasa_core\u003d\u003d0.9.6) (0.14.1)\n",
            "Requirement already satisfied, skipping upgrade: click\u003e\u003d5.1 in /usr/local/lib/python3.6/site-packages (from flask~\u003d1.0-\u003erasa_core\u003d\u003d0.9.6) (7.0)\n",
            "Requirement already satisfied, skipping upgrade: Jinja2\u003e\u003d2.10 in /usr/local/lib/python3.6/site-packages (from flask~\u003d1.0-\u003erasa_core\u003d\u003d0.9.6) (2.10)\n",
            "Requirement already satisfied, skipping upgrade: protobuf\u003e\u003d3.4.0 in /usr/local/lib/python3.6/site-packages (from tensorflow\u003c1.9,\u003e\u003d1.7-\u003erasa_core\u003d\u003d0.9.6) (3.6.1)\n",
            "Requirement already satisfied, skipping upgrade: astor\u003e\u003d0.6.0 in /usr/local/lib/python3.6/site-packages (from tensorflow\u003c1.9,\u003e\u003d1.7-\u003erasa_core\u003d\u003d0.9.6) (0.7.1)\n",
            "Requirement already satisfied, skipping upgrade: grpcio\u003e\u003d1.8.6 in /usr/local/lib/python3.6/site-packages (from tensorflow\u003c1.9,\u003e\u003d1.7-\u003erasa_core\u003d\u003d0.9.6) (1.16.1)\n",
            "Requirement already satisfied, skipping upgrade: termcolor\u003e\u003d1.1.0 in /usr/local/lib/python3.6/site-packages (from tensorflow\u003c1.9,\u003e\u003d1.7-\u003erasa_core\u003d\u003d0.9.6) (1.1.0)\n",
            "Collecting tensorboard\u003c1.9.0,\u003e\u003d1.8.0 (from tensorflow\u003c1.9,\u003e\u003d1.7-\u003erasa_core\u003d\u003d0.9.6)\n",
            "  Using cached https://files.pythonhosted.org/packages/59/a6/0ae6092b7542cfedba6b2a1c9b8dceaf278238c39484f3ba03b03f07803c/tensorboard-1.8.0-py3-none-any.whl\n",
            "Requirement already satisfied, skipping upgrade: wheel\u003e\u003d0.26 in /usr/local/lib/python3.6/site-packages (from tensorflow\u003c1.9,\u003e\u003d1.7-\u003erasa_core\u003d\u003d0.9.6) (0.31.1)\n",
            "Requirement already satisfied, skipping upgrade: gast\u003e\u003d0.2.0 in /usr/local/lib/python3.6/site-packages (from tensorflow\u003c1.9,\u003e\u003d1.7-\u003erasa_core\u003d\u003d0.9.6) (0.2.0)\n",
            "Requirement already satisfied, skipping upgrade: absl-py\u003e\u003d0.1.6 in /usr/local/lib/python3.6/site-packages (from tensorflow\u003c1.9,\u003e\u003d1.7-\u003erasa_core\u003d\u003d0.9.6) (0.6.1)\n",
            "Requirement already satisfied, skipping upgrade: PyYAML\u003e\u003d3.11 in /usr/local/lib/python3.6/site-packages (from pykwalify\u003c\u003d1.6.0-\u003erasa_core\u003d\u003d0.9.6) (3.13)\n",
            "Requirement already satisfied, skipping upgrade: python-dateutil\u003e\u003d2.4.2 in /usr/local/lib/python3.6/site-packages (from pykwalify\u003c\u003d1.6.0-\u003erasa_core\u003d\u003d0.9.6) (2.7.5)\n",
            "Requirement already satisfied, skipping upgrade: docopt\u003e\u003d0.6.2 in /usr/local/lib/python3.6/site-packages (from pykwalify\u003c\u003d1.6.0-\u003erasa_core\u003d\u003d0.9.6) (0.6.2)\n",
            "Requirement already satisfied, skipping upgrade: humanfriendly\u003e\u003d4.7 in /usr/local/lib/python3.6/site-packages (from coloredlogs~\u003d10.0-\u003erasa_core\u003d\u003d0.9.6) (4.18)\n",
            "Requirement already satisfied, skipping upgrade: websocket-client\u003c0.55.0,\u003e\u003d0.35 in /usr/local/lib/python3.6/site-packages (from slackclient~\u003d1.0-\u003erasa_core\u003d\u003d0.9.6) (0.54.0)\n"
          ]
        },
        {
          "name": "stdout",
          "output_type": "stream",
          "text": [
            "Requirement already satisfied, skipping upgrade: keras-preprocessing\u003e\u003d1.0.5 in /usr/local/lib/python3.6/site-packages (from keras~\u003d2.0-\u003erasa_core\u003d\u003d0.9.6) (1.0.5)\n",
            "Requirement already satisfied, skipping upgrade: keras-applications\u003e\u003d1.0.6 in /usr/local/lib/python3.6/site-packages (from keras~\u003d2.0-\u003erasa_core\u003d\u003d0.9.6) (1.0.6)\n",
            "Requirement already satisfied, skipping upgrade: tzlocal\u003e\u003d1.2 in /usr/local/lib/python3.6/site-packages (from apscheduler~\u003d3.0-\u003erasa_core\u003d\u003d0.9.6) (1.5.1)\n",
            "Requirement already satisfied, skipping upgrade: setuptools\u003e\u003d0.7 in /usr/local/lib/python3.6/site-packages (from apscheduler~\u003d3.0-\u003erasa_core\u003d\u003d0.9.6) (39.2.0)\n",
            "Requirement already satisfied, skipping upgrade: pytz in /usr/local/lib/python3.6/site-packages (from apscheduler~\u003d3.0-\u003erasa_core\u003d\u003d0.9.6) (2018.9)\n",
            "Requirement already satisfied, skipping upgrade: PyJWT\u003e\u003d1.4.2 in /usr/local/lib/python3.6/site-packages (from twilio~\u003d6.0-\u003erasa_core\u003d\u003d0.9.6) (1.7.1)\n",
            "Requirement already satisfied, skipping upgrade: pysocks; python_version \u003e\u003d \"3.0\" in /usr/local/lib/python3.6/site-packages (from twilio~\u003d6.0-\u003erasa_core\u003d\u003d0.9.6) (1.6.8)\n",
            "Requirement already satisfied, skipping upgrade: urllib3\u003c1.25,\u003e\u003d1.21.1 in /usr/local/lib/python3.6/site-packages (from requests~\u003d2.15-\u003erasa_core\u003d\u003d0.9.6) (1.24.1)\n",
            "Requirement already satisfied, skipping upgrade: certifi\u003e\u003d2017.4.17 in /usr/local/lib/python3.6/site-packages (from requests~\u003d2.15-\u003erasa_core\u003d\u003d0.9.6) (2018.11.29)\n",
            "Requirement already satisfied, skipping upgrade: chardet\u003c3.1.0,\u003e\u003d3.0.2 in /usr/local/lib/python3.6/site-packages (from requests~\u003d2.15-\u003erasa_core\u003d\u003d0.9.6) (3.0.4)\n",
            "Requirement already satisfied, skipping upgrade: idna\u003c2.9,\u003e\u003d2.5 in /usr/local/lib/python3.6/site-packages (from requests~\u003d2.15-\u003erasa_core\u003d\u003d0.9.6) (2.8)\n",
            "Requirement already satisfied, skipping upgrade: decorator\u003e\u003d4.3.0 in /usr/local/lib/python3.6/site-packages (from networkx~\u003d2.0-\u003erasa_core\u003d\u003d0.9.6) (4.3.0)\n",
            "Requirement already satisfied, skipping upgrade: kiwisolver\u003e\u003d1.0.1 in /usr/local/lib/python3.6/site-packages (from matplotlib~\u003d2.0-\u003erasa_nlu[spacy]) (1.0.1)\n",
            "Requirement already satisfied, skipping upgrade: cycler\u003e\u003d0.10 in /usr/local/lib/python3.6/site-packages (from matplotlib~\u003d2.0-\u003erasa_nlu[spacy]) (0.10.0)\n",
            "Requirement already satisfied, skipping upgrade: pyparsing!\u003d2.0.4,!\u003d2.1.2,!\u003d2.1.6,\u003e\u003d2.0.1 in /usr/local/lib/python3.6/site-packages (from matplotlib~\u003d2.0-\u003erasa_nlu[spacy]) (2.3.0)\n",
            "Requirement already satisfied, skipping upgrade: incremental in /usr/local/lib/python3.6/site-packages (from klein~\u003d17.10-\u003erasa_nlu[spacy]) (17.5.0)\n",
            "Requirement already satisfied, skipping upgrade: Twisted\u003e\u003d15.5 in /usr/local/lib/python3.6/site-packages (from klein~\u003d17.10-\u003erasa_nlu[spacy]) (18.9.0)\n",
            "Requirement already satisfied, skipping upgrade: greenlet\u003e\u003d0.4.14; platform_python_implementation \u003d\u003d \"CPython\" in /usr/local/lib/python3.6/site-packages (from gevent~\u003d1.2-\u003erasa_nlu[spacy]) (0.4.15)\n",
            "Requirement already satisfied, skipping upgrade: s3transfer\u003c0.3.0,\u003e\u003d0.2.0 in /usr/local/lib/python3.6/site-packages (from boto3~\u003d1.5-\u003erasa_nlu[spacy]) (0.2.0)\n",
            "Requirement already satisfied, skipping upgrade: jmespath\u003c1.0.0,\u003e\u003d0.7.1 in /usr/local/lib/python3.6/site-packages (from boto3~\u003d1.5-\u003erasa_nlu[spacy]) (0.9.4)\n",
            "Requirement already satisfied, skipping upgrade: botocore\u003c1.13.0,\u003e\u003d1.12.113 in /usr/local/lib/python3.6/site-packages (from boto3~\u003d1.5-\u003erasa_nlu[spacy]) (1.12.113)\n",
            "Requirement already satisfied, skipping upgrade: python-crfsuite\u003e\u003d0.8.3 in /usr/local/lib/python3.6/site-packages (from sklearn-crfsuite~\u003d0.3.6; extra \u003d\u003d \"spacy\"-\u003erasa_nlu[spacy]) (0.9.6)\n",
            "Requirement already satisfied, skipping upgrade: tabulate in /usr/local/lib/python3.6/site-packages (from sklearn-crfsuite~\u003d0.3.6; extra \u003d\u003d \"spacy\"-\u003erasa_nlu[spacy]) (0.8.3)\n",
            "Requirement already satisfied, skipping upgrade: plac\u003c1.0.0,\u003e\u003d0.9.6 in /usr/local/lib/python3.6/site-packages (from spacy\u003c\u003d2.0.18,\u003e2.0; extra \u003d\u003d \"spacy\"-\u003erasa_nlu[spacy]) (0.9.6)\n",
            "Requirement already satisfied, skipping upgrade: preshed\u003c2.1.0,\u003e\u003d2.0.1 in /usr/local/lib/python3.6/site-packages (from spacy\u003c\u003d2.0.18,\u003e2.0; extra \u003d\u003d \"spacy\"-\u003erasa_nlu[spacy]) (2.0.1)\n",
            "Requirement already satisfied, skipping upgrade: regex\u003d\u003d2018.01.10 in /usr/local/lib/python3.6/site-packages (from spacy\u003c\u003d2.0.18,\u003e2.0; extra \u003d\u003d \"spacy\"-\u003erasa_nlu[spacy]) (2018.1.10)\n",
            "Requirement already satisfied, skipping upgrade: cymem\u003c2.1.0,\u003e\u003d2.0.2 in /usr/local/lib/python3.6/site-packages (from spacy\u003c\u003d2.0.18,\u003e2.0; extra \u003d\u003d \"spacy\"-\u003erasa_nlu[spacy]) (2.0.2)\n",
            "Requirement already satisfied, skipping upgrade: ujson\u003e\u003d1.35 in /usr/local/lib/python3.6/site-packages (from spacy\u003c\u003d2.0.18,\u003e2.0; extra \u003d\u003d \"spacy\"-\u003erasa_nlu[spacy]) (1.35)\n",
            "Requirement already satisfied, skipping upgrade: thinc\u003c6.13.0,\u003e\u003d6.12.1 in /usr/local/lib/python3.6/site-packages (from spacy\u003c\u003d2.0.18,\u003e2.0; extra \u003d\u003d \"spacy\"-\u003erasa_nlu[spacy]) (6.12.1)\n",
            "Requirement already satisfied, skipping upgrade: dill\u003c0.3,\u003e\u003d0.2 in /usr/local/lib/python3.6/site-packages (from spacy\u003c\u003d2.0.18,\u003e2.0; extra \u003d\u003d \"spacy\"-\u003erasa_nlu[spacy]) (0.2.9)\n",
            "Requirement already satisfied, skipping upgrade: murmurhash\u003c1.1.0,\u003e\u003d0.28.0 in /usr/local/lib/python3.6/site-packages (from spacy\u003c\u003d2.0.18,\u003e2.0; extra \u003d\u003d \"spacy\"-\u003erasa_nlu[spacy]) (1.0.2)\n",
            "Requirement already satisfied, skipping upgrade: MarkupSafe\u003e\u003d0.23 in /usr/local/lib/python3.6/site-packages (from Jinja2\u003e\u003d2.10-\u003eflask~\u003d1.0-\u003erasa_core\u003d\u003d0.9.6) (1.1.0)\n",
            "Requirement already satisfied, skipping upgrade: markdown\u003e\u003d2.6.8 in /usr/local/lib/python3.6/site-packages (from tensorboard\u003c1.9.0,\u003e\u003d1.8.0-\u003etensorflow\u003c1.9,\u003e\u003d1.7-\u003erasa_core\u003d\u003d0.9.6) (3.0.1)\n",
            "Requirement already satisfied, skipping upgrade: html5lib\u003d\u003d0.9999999 in /usr/local/lib/python3.6/site-packages (from tensorboard\u003c1.9.0,\u003e\u003d1.8.0-\u003etensorflow\u003c1.9,\u003e\u003d1.7-\u003erasa_core\u003d\u003d0.9.6) (0.9999999)\n",
            "Collecting bleach\u003d\u003d1.5.0 (from tensorboard\u003c1.9.0,\u003e\u003d1.8.0-\u003etensorflow\u003c1.9,\u003e\u003d1.7-\u003erasa_core\u003d\u003d0.9.6)\n",
            "  Using cached https://files.pythonhosted.org/packages/33/70/86c5fec937ea4964184d4d6c4f0b9551564f821e1c3575907639036d9b90/bleach-1.5.0-py2.py3-none-any.whl\n",
            "Requirement already satisfied, skipping upgrade: Automat\u003e\u003d0.3.0 in /usr/local/lib/python3.6/site-packages (from Twisted\u003e\u003d15.5-\u003eklein~\u003d17.10-\u003erasa_nlu[spacy]) (0.7.0)\n",
            "Requirement already satisfied, skipping upgrade: zope.interface\u003e\u003d4.4.2 in /usr/local/lib/python3.6/site-packages (from Twisted\u003e\u003d15.5-\u003eklein~\u003d17.10-\u003erasa_nlu[spacy]) (4.6.0)\n",
            "Requirement already satisfied, skipping upgrade: PyHamcrest\u003e\u003d1.9.0 in /usr/local/lib/python3.6/site-packages (from Twisted\u003e\u003d15.5-\u003eklein~\u003d17.10-\u003erasa_nlu[spacy]) (1.9.0)\n",
            "Requirement already satisfied, skipping upgrade: hyperlink\u003e\u003d17.1.1 in /usr/local/lib/python3.6/site-packages (from Twisted\u003e\u003d15.5-\u003eklein~\u003d17.10-\u003erasa_nlu[spacy]) (18.0.0)\n",
            "Requirement already satisfied, skipping upgrade: attrs\u003e\u003d17.4.0 in /usr/local/lib/python3.6/site-packages (from Twisted\u003e\u003d15.5-\u003eklein~\u003d17.10-\u003erasa_nlu[spacy]) (19.1.0)\n",
            "Requirement already satisfied, skipping upgrade: constantly\u003e\u003d15.1 in /usr/local/lib/python3.6/site-packages (from Twisted\u003e\u003d15.5-\u003eklein~\u003d17.10-\u003erasa_nlu[spacy]) (15.1.0)\n",
            "Requirement already satisfied, skipping upgrade: docutils\u003e\u003d0.10 in /usr/local/lib/python3.6/site-packages (from botocore\u003c1.13.0,\u003e\u003d1.12.113-\u003eboto3~\u003d1.5-\u003erasa_nlu[spacy]) (0.14)\n",
            "Requirement already satisfied, skipping upgrade: msgpack\u003c0.6.0,\u003e\u003d0.5.6 in /usr/local/lib/python3.6/site-packages (from thinc\u003c6.13.0,\u003e\u003d6.12.1-\u003espacy\u003c\u003d2.0.18,\u003e2.0; extra \u003d\u003d \"spacy\"-\u003erasa_nlu[spacy]) (0.5.6)\n",
            "Requirement already satisfied, skipping upgrade: cytoolz\u003c0.10,\u003e\u003d0.9.0 in /usr/local/lib/python3.6/site-packages (from thinc\u003c6.13.0,\u003e\u003d6.12.1-\u003espacy\u003c\u003d2.0.18,\u003e2.0; extra \u003d\u003d \"spacy\"-\u003erasa_nlu[spacy]) (0.9.0.1)\n",
            "Requirement already satisfied, skipping upgrade: wrapt\u003c1.11.0,\u003e\u003d1.10.0 in /usr/local/lib/python3.6/site-packages (from thinc\u003c6.13.0,\u003e\u003d6.12.1-\u003espacy\u003c\u003d2.0.18,\u003e2.0; extra \u003d\u003d \"spacy\"-\u003erasa_nlu[spacy]) (1.10.11)\n",
            "Requirement already satisfied, skipping upgrade: msgpack-numpy\u003c0.4.4 in /usr/local/lib/python3.6/site-packages (from thinc\u003c6.13.0,\u003e\u003d6.12.1-\u003espacy\u003c\u003d2.0.18,\u003e2.0; extra \u003d\u003d \"spacy\"-\u003erasa_nlu[spacy]) (0.4.3.2)\n",
            "Requirement already satisfied, skipping upgrade: toolz\u003e\u003d0.8.0 in /usr/local/lib/python3.6/site-packages (from cytoolz\u003c0.10,\u003e\u003d0.9.0-\u003ethinc\u003c6.13.0,\u003e\u003d6.12.1-\u003espacy\u003c\u003d2.0.18,\u003e2.0; extra \u003d\u003d \"spacy\"-\u003erasa_nlu[spacy]) (0.9.0)\n"
          ]
        },
        {
          "name": "stdout",
          "output_type": "stream",
          "text": [
            "\u001b[31mrasa-nlu 0.14.6 has requirement scikit-learn~\u003d0.20.2, but you\u0027ll have scikit-learn 0.19.2 which is incompatible.\u001b[0m\n",
            "\u001b[31mrasa-core 0.9.6 has requirement rasa-nlu~\u003d0.12.0, but you\u0027ll have rasa-nlu 0.14.6 which is incompatible.\u001b[0m\n",
            "Installing collected packages: scikit-learn, bleach, tensorboard, tensorflow, pykwalify, rasa-nlu, python-telegram-bot, jsonpickle, rasa-core\n",
            "  Found existing installation: scikit-learn 0.20.3\n",
            "    Uninstalling scikit-learn-0.20.3:\n",
            "      Successfully uninstalled scikit-learn-0.20.3\n",
            "  Found existing installation: bleach 3.0.2\n",
            "    Uninstalling bleach-3.0.2:\n",
            "\u001b[31mCould not install packages due to an EnvironmentError: [Errno 13] Permission denied: \u0027RECORD\u0027\n",
            "Consider using the `--user` option or check the permissions.\n",
            "\u001b[0m\n"
          ]
        }
      ],
      "source": [
        "import sys\n",
        "python \u003d sys.executable\n",
        "\n",
        "# In your environment run:\n",
        "!{python} -m pip install -U rasa_core\u003d\u003d0.9.6 rasa_nlu[spacy];"
      ]
    },
    {
      "cell_type": "code",
      "execution_count": 110,
      "metadata": {
        "colab": {
          "base_uri": "https://localhost:8080/",
          "height": 258
        },
        "colab_type": "code",
        "id": "wyCva14-1gD4",
        "outputId": "642d04c1-b9ad-4ed0-fb28-ee9bef21507b",
        "pycharm": {}
      },
      "outputs": [
        {
          "name": "stdout",
          "output_type": "stream",
          "text": [
            "Requirement already satisfied: en_core_web_md\u003d\u003d2.0.0 from https://github.com/explosion/spacy-models/releases/download/en_core_web_md-2.0.0/en_core_web_md-2.0.0.tar.gz#egg\u003den_core_web_md\u003d\u003d2.0.0 in /usr/local/lib/python3.6/site-packages (2.0.0)\n",
            "\n",
            "\u001b[93m    Linking successful\u001b[0m\n",
            "    /usr/local/lib/python3.6/site-packages/en_core_web_md --\u003e\n",
            "    /usr/local/lib/python3.6/site-packages/spacy/data/en_core_web_md\n",
            "\n",
            "    You can now load the model via spacy.load(\u0027en_core_web_md\u0027)\n",
            "\n"
          ]
        }
      ],
      "source": [
        "!{python} -m spacy download en_core_web_md"
      ]
    },
    {
      "cell_type": "markdown",
      "metadata": {
        "colab_type": "text",
        "id": "v7JQlbqR9CHC",
        "pycharm": {}
      },
      "source": [
        "## Downloading the English Language Model"
      ]
    },
    {
      "cell_type": "code",
      "execution_count": 111,
      "metadata": {
        "colab": {
          "base_uri": "https://localhost:8080/",
          "height": 136
        },
        "colab_type": "code",
        "id": "eRmnEdML3OhH",
        "outputId": "cb852307-d652-40c3-cf3d-66c54f833908",
        "pycharm": {}
      },
      "outputs": [
        {
          "name": "stdout",
          "output_type": "stream",
          "text": [
            "\r\n",
            "\u001b[93m    Linking successful\u001b[0m\r\n",
            "    /usr/local/lib/python3.6/site-packages/en_core_web_md --\u003e\r\n",
            "    /usr/local/lib/python3.6/site-packages/spacy/data/en\r\n",
            "\r\n",
            "    You can now load the model via spacy.load(\u0027en\u0027)\r\n",
            "\r\n"
          ]
        }
      ],
      "source": [
        "!{python} -m spacy link en_core_web_md en --force;"
      ]
    },
    {
      "cell_type": "code",
      "execution_count": 112,
      "metadata": {
        "pycharm": {}
      },
      "outputs": [
        {
          "name": "stdout",
          "output_type": "stream",
          "text": [
            "Requirement already satisfied: rasa_core in /usr/local/lib/python3.6/site-packages (0.13.3)\n",
            "Requirement already satisfied: python-telegram-bot~\u003d11.0 in /usr/local/lib/python3.6/site-packages (from rasa_core) (11.1.0)\n",
            "Requirement already satisfied: keras-applications\u003d\u003d1.0.6 in /usr/local/lib/python3.6/site-packages (from rasa_core) (1.0.6)\n",
            "Requirement already satisfied: networkx~\u003d2.2 in /usr/local/lib/python3.6/site-packages (from rasa_core) (2.2)\n",
            "Requirement already satisfied: typing~\u003d3.0 in /usr/local/lib/python3.6/site-packages (from rasa_core) (3.6.6)\n",
            "Requirement already satisfied: flask-jwt-simple~\u003d0.0.3 in /usr/local/lib/python3.6/site-packages (from rasa_core) (0.0.3)\n",
            "Requirement already satisfied: scipy~\u003d1.2 in /usr/local/lib/python3.6/site-packages (from rasa_core) (1.2.1)\n",
            "Requirement already satisfied: pika~\u003d0.12.0 in /usr/local/lib/python3.6/site-packages (from rasa_core) (0.12.0)\n",
            "Requirement already satisfied: questionary\u003e\u003d1.0.1 in /usr/local/lib/python3.6/site-packages (from rasa_core) (1.0.2)\n",
            "Collecting scikit-learn~\u003d0.20.0 (from rasa_core)\n",
            "  Using cached https://files.pythonhosted.org/packages/7e/90/bfe484adb16cdad078967b2b480517ec6c1180137e26fb4b015bcb090226/scikit_learn-0.20.3-cp36-cp36m-macosx_10_6_intel.macosx_10_9_intel.macosx_10_9_x86_64.macosx_10_10_intel.macosx_10_10_x86_64.whl\n",
            "Requirement already satisfied: twilio~\u003d6.0 in /usr/local/lib/python3.6/site-packages (from rasa_core) (6.25.1)\n",
            "Requirement already satisfied: pymongo~\u003d3.7 in /usr/local/lib/python3.6/site-packages (from rasa_core) (3.7.2)\n",
            "Requirement already satisfied: ruamel.yaml~\u003d0.15.0 in /usr/local/lib/python3.6/site-packages (from rasa_core) (0.15.89)\n",
            "Requirement already satisfied: gevent~\u003d1.4 in /usr/local/lib/python3.6/site-packages (from rasa_core) (1.4.0)\n",
            "Requirement already satisfied: python-dateutil~\u003d2.7 in /usr/local/lib/python3.6/site-packages (from rasa_core) (2.7.5)\n",
            "Requirement already satisfied: python-socketio~\u003d3.0 in /usr/local/lib/python3.6/site-packages (from rasa_core) (3.1.2)\n",
            "Requirement already satisfied: jsonpickle~\u003d1.0 in /usr/local/lib/python3.6/site-packages (from rasa_core) (1.1)\n",
            "Requirement already satisfied: pydot~\u003d1.4 in /usr/local/lib/python3.6/site-packages (from rasa_core) (1.4.1)\n",
            "Requirement already satisfied: slackclient~\u003d1.0 in /usr/local/lib/python3.6/site-packages (from rasa_core) (1.3.1)\n",
            "Requirement already satisfied: fbmessenger~\u003d5.0 in /usr/local/lib/python3.6/site-packages (from rasa_core) (5.4.0)\n",
            "Requirement already satisfied: pykwalify~\u003d1.7.0 in /usr/local/lib/python3.6/site-packages (from rasa_core) (1.7.0)\n",
            "Requirement already satisfied: flask~\u003d1.0 in /usr/local/lib/python3.6/site-packages (from rasa_core) (1.0.2)\n",
            "Requirement already satisfied: colorclass~\u003d2.2 in /usr/local/lib/python3.6/site-packages (from rasa_core) (2.2.0)\n",
            "Requirement already satisfied: keras-preprocessing\u003d\u003d1.0.5 in /usr/local/lib/python3.6/site-packages (from rasa_core) (1.0.5)\n",
            "Requirement already satisfied: jsonschema~\u003d2.6 in /usr/local/lib/python3.6/site-packages (from rasa_core) (2.6.0)\n",
            "Requirement already satisfied: pytz~\u003d2018.9 in /usr/local/lib/python3.6/site-packages (from rasa_core) (2018.9)\n",
            "Requirement already satisfied: packaging~\u003d18.0 in /usr/local/lib/python3.6/site-packages (from rasa_core) (18.0)\n",
            "Requirement already satisfied: rasa-nlu~\u003d0.14.0 in /usr/local/lib/python3.6/site-packages (from rasa_core) (0.14.4)\n",
            "Requirement already satisfied: apscheduler~\u003d3.0 in /usr/local/lib/python3.6/site-packages (from rasa_core) (3.5.3)\n",
            "Requirement already satisfied: redis~\u003d2.0 in /usr/local/lib/python3.6/site-packages (from rasa_core) (2.10.6)\n",
            "Requirement already satisfied: fakeredis~\u003d0.10.0 in /usr/local/lib/python3.6/site-packages (from rasa_core) (0.10.3)\n",
            "Requirement already satisfied: tensorflow~\u003d1.12.0 in /usr/local/lib/python3.6/site-packages (from rasa_core) (1.12.0)\n",
            "Requirement already satisfied: numpy~\u003d1.16 in /usr/local/lib/python3.6/site-packages (from rasa_core) (1.16.2)\n",
            "Requirement already satisfied: webexteamssdk~\u003d1.0 in /usr/local/lib/python3.6/site-packages (from rasa_core) (1.1.1)\n",
            "Requirement already satisfied: rocketchat-API~\u003d0.6.0 in /usr/local/lib/python3.6/site-packages (from rasa_core) (0.6.27)\n",
            "Requirement already satisfied: colorhash~\u003d1.0 in /usr/local/lib/python3.6/site-packages (from rasa_core) (1.0.2)\n",
            "Requirement already satisfied: mattermostwrapper~\u003d2.0 in /usr/local/lib/python3.6/site-packages (from rasa_core) (2.1)\n",
            "Requirement already satisfied: requests~\u003d2.20 in /usr/local/lib/python3.6/site-packages (from rasa_core) (2.21.0)\n",
            "Requirement already satisfied: tqdm~\u003d4.0 in /usr/local/lib/python3.6/site-packages (from rasa_core) (4.31.1)\n",
            "Requirement already satisfied: rasa-core-sdk~\u003d0.12.1 in /usr/local/lib/python3.6/site-packages (from rasa_core) (0.12.2)\n",
            "Requirement already satisfied: terminaltables~\u003d3.1 in /usr/local/lib/python3.6/site-packages (from rasa_core) (3.1.0)\n",
            "Requirement already satisfied: coloredlogs~\u003d10.0 in /usr/local/lib/python3.6/site-packages (from rasa_core) (10.0)\n",
            "Requirement already satisfied: flask-cors~\u003d3.0 in /usr/local/lib/python3.6/site-packages (from rasa_core) (3.0.7)\n",
            "Requirement already satisfied: cryptography in /usr/local/lib/python3.6/site-packages (from python-telegram-bot~\u003d11.0-\u003erasa_core) (2.6.1)\n",
            "Requirement already satisfied: future\u003e\u003d0.16.0 in /usr/local/lib/python3.6/site-packages (from python-telegram-bot~\u003d11.0-\u003erasa_core) (0.17.1)\n",
            "Requirement already satisfied: certifi in /usr/local/lib/python3.6/site-packages (from python-telegram-bot~\u003d11.0-\u003erasa_core) (2018.11.29)\n",
            "Requirement already satisfied: h5py in /usr/local/lib/python3.6/site-packages (from keras-applications\u003d\u003d1.0.6-\u003erasa_core) (2.8.0)\n",
            "Requirement already satisfied: decorator\u003e\u003d4.3.0 in /usr/local/lib/python3.6/site-packages (from networkx~\u003d2.2-\u003erasa_core) (4.3.0)\n",
            "Requirement already satisfied: PyJWT in /usr/local/lib/python3.6/site-packages (from flask-jwt-simple~\u003d0.0.3-\u003erasa_core) (1.7.1)\n",
            "Requirement already satisfied: prompt-toolkit~\u003d2.0 in /usr/local/lib/python3.6/site-packages (from questionary\u003e\u003d1.0.1-\u003erasa_core) (2.0.7)\n",
            "Requirement already satisfied: six in /usr/local/lib/python3.6/site-packages (from twilio~\u003d6.0-\u003erasa_core) (1.11.0)\n",
            "Requirement already satisfied: pysocks; python_version \u003e\u003d \"3.0\" in /usr/local/lib/python3.6/site-packages (from twilio~\u003d6.0-\u003erasa_core) (1.6.8)\n",
            "Requirement already satisfied: greenlet\u003e\u003d0.4.14; platform_python_implementation \u003d\u003d \"CPython\" in /usr/local/lib/python3.6/site-packages (from gevent~\u003d1.4-\u003erasa_core) (0.4.15)\n",
            "Requirement already satisfied: python-engineio\u003e\u003d3.2.0 in /usr/local/lib/python3.6/site-packages (from python-socketio~\u003d3.0-\u003erasa_core) (3.4.3)\n",
            "Requirement already satisfied: pyparsing\u003e\u003d2.1.4 in /usr/local/lib/python3.6/site-packages (from pydot~\u003d1.4-\u003erasa_core) (2.3.0)\n",
            "Requirement already satisfied: websocket-client\u003c0.55.0,\u003e\u003d0.35 in /usr/local/lib/python3.6/site-packages (from slackclient~\u003d1.0-\u003erasa_core) (0.54.0)\n",
            "Requirement already satisfied: PyYAML\u003e\u003d3.11 in /usr/local/lib/python3.6/site-packages (from pykwalify~\u003d1.7.0-\u003erasa_core) (3.13)\n",
            "Requirement already satisfied: docopt\u003e\u003d0.6.2 in /usr/local/lib/python3.6/site-packages (from pykwalify~\u003d1.7.0-\u003erasa_core) (0.6.2)\n",
            "Requirement already satisfied: itsdangerous\u003e\u003d0.24 in /usr/local/lib/python3.6/site-packages (from flask~\u003d1.0-\u003erasa_core) (1.1.0)\n",
            "Requirement already satisfied: click\u003e\u003d5.1 in /usr/local/lib/python3.6/site-packages (from flask~\u003d1.0-\u003erasa_core) (7.0)\n",
            "Requirement already satisfied: Jinja2\u003e\u003d2.10 in /usr/local/lib/python3.6/site-packages (from flask~\u003d1.0-\u003erasa_core) (2.10)\n",
            "Requirement already satisfied: Werkzeug\u003e\u003d0.14 in /usr/local/lib/python3.6/site-packages (from flask~\u003d1.0-\u003erasa_core) (0.14.1)\n",
            "Requirement already satisfied: klein~\u003d17.10 in /usr/local/lib/python3.6/site-packages (from rasa-nlu~\u003d0.14.0-\u003erasa_core) (17.10.0)\n",
            "Requirement already satisfied: simplejson~\u003d3.13 in /usr/local/lib/python3.6/site-packages (from rasa-nlu~\u003d0.14.0-\u003erasa_core) (3.16.0)\n",
            "Requirement already satisfied: cloudpickle~\u003d0.6.1 in /usr/local/lib/python3.6/site-packages (from rasa-nlu~\u003d0.14.0-\u003erasa_core) (0.6.1)\n",
            "Requirement already satisfied: matplotlib~\u003d2.0 in /usr/local/lib/python3.6/site-packages (from rasa-nlu~\u003d0.14.0-\u003erasa_core) (2.2.4)\n",
            "Requirement already satisfied: boto3~\u003d1.5 in /usr/local/lib/python3.6/site-packages (from rasa-nlu~\u003d0.14.0-\u003erasa_core) (1.9.113)\n",
            "Requirement already satisfied: tzlocal\u003e\u003d1.2 in /usr/local/lib/python3.6/site-packages (from apscheduler~\u003d3.0-\u003erasa_core) (1.5.1)\n",
            "Requirement already satisfied: setuptools\u003e\u003d0.7 in /usr/local/lib/python3.6/site-packages (from apscheduler~\u003d3.0-\u003erasa_core) (39.2.0)\n",
            "Requirement already satisfied: absl-py\u003e\u003d0.1.6 in /usr/local/lib/python3.6/site-packages (from tensorflow~\u003d1.12.0-\u003erasa_core) (0.6.1)\n",
            "Requirement already satisfied: tensorboard\u003c1.13.0,\u003e\u003d1.12.0 in /usr/local/lib/python3.6/site-packages (from tensorflow~\u003d1.12.0-\u003erasa_core) (1.12.0)\n",
            "Requirement already satisfied: grpcio\u003e\u003d1.8.6 in /usr/local/lib/python3.6/site-packages (from tensorflow~\u003d1.12.0-\u003erasa_core) (1.16.1)\n",
            "Requirement already satisfied: protobuf\u003e\u003d3.6.1 in /usr/local/lib/python3.6/site-packages (from tensorflow~\u003d1.12.0-\u003erasa_core) (3.6.1)\n",
            "Requirement already satisfied: wheel\u003e\u003d0.26 in /usr/local/lib/python3.6/site-packages (from tensorflow~\u003d1.12.0-\u003erasa_core) (0.31.1)\n",
            "Requirement already satisfied: gast\u003e\u003d0.2.0 in /usr/local/lib/python3.6/site-packages (from tensorflow~\u003d1.12.0-\u003erasa_core) (0.2.0)\n",
            "Requirement already satisfied: termcolor\u003e\u003d1.1.0 in /usr/local/lib/python3.6/site-packages (from tensorflow~\u003d1.12.0-\u003erasa_core) (1.1.0)\n",
            "Requirement already satisfied: astor\u003e\u003d0.6.0 in /usr/local/lib/python3.6/site-packages (from tensorflow~\u003d1.12.0-\u003erasa_core) (0.7.1)\n",
            "Requirement already satisfied: requests-toolbelt in /usr/local/lib/python3.6/site-packages (from webexteamssdk~\u003d1.0-\u003erasa_core) (0.9.1)\n"
          ]
        },
        {
          "name": "stdout",
          "output_type": "stream",
          "text": [
            "Requirement already satisfied: idna\u003c2.9,\u003e\u003d2.5 in /usr/local/lib/python3.6/site-packages (from requests~\u003d2.20-\u003erasa_core) (2.8)\n",
            "Requirement already satisfied: urllib3\u003c1.25,\u003e\u003d1.21.1 in /usr/local/lib/python3.6/site-packages (from requests~\u003d2.20-\u003erasa_core) (1.24.1)\n",
            "Requirement already satisfied: chardet\u003c3.1.0,\u003e\u003d3.0.2 in /usr/local/lib/python3.6/site-packages (from requests~\u003d2.20-\u003erasa_core) (3.0.4)\n",
            "Requirement already satisfied: ConfigArgParse~\u003d0.13.0 in /usr/local/lib/python3.6/site-packages (from rasa-core-sdk~\u003d0.12.1-\u003erasa_core) (0.13.0)\n",
            "Requirement already satisfied: humanfriendly\u003e\u003d4.7 in /usr/local/lib/python3.6/site-packages (from coloredlogs~\u003d10.0-\u003erasa_core) (4.18)\n",
            "Requirement already satisfied: cffi!\u003d1.11.3,\u003e\u003d1.8 in /usr/local/lib/python3.6/site-packages (from cryptography-\u003epython-telegram-bot~\u003d11.0-\u003erasa_core) (1.12.2)\n",
            "Requirement already satisfied: asn1crypto\u003e\u003d0.21.0 in /usr/local/lib/python3.6/site-packages (from cryptography-\u003epython-telegram-bot~\u003d11.0-\u003erasa_core) (0.24.0)\n",
            "Requirement already satisfied: wcwidth in /usr/local/lib/python3.6/site-packages (from prompt-toolkit~\u003d2.0-\u003equestionary\u003e\u003d1.0.1-\u003erasa_core) (0.1.7)\n",
            "Requirement already satisfied: MarkupSafe\u003e\u003d0.23 in /usr/local/lib/python3.6/site-packages (from Jinja2\u003e\u003d2.10-\u003eflask~\u003d1.0-\u003erasa_core) (1.1.0)\n",
            "Requirement already satisfied: Twisted\u003e\u003d15.5 in /usr/local/lib/python3.6/site-packages (from klein~\u003d17.10-\u003erasa-nlu~\u003d0.14.0-\u003erasa_core) (18.9.0)\n",
            "Requirement already satisfied: incremental in /usr/local/lib/python3.6/site-packages (from klein~\u003d17.10-\u003erasa-nlu~\u003d0.14.0-\u003erasa_core) (17.5.0)\n",
            "Requirement already satisfied: kiwisolver\u003e\u003d1.0.1 in /usr/local/lib/python3.6/site-packages (from matplotlib~\u003d2.0-\u003erasa-nlu~\u003d0.14.0-\u003erasa_core) (1.0.1)\n",
            "Requirement already satisfied: cycler\u003e\u003d0.10 in /usr/local/lib/python3.6/site-packages (from matplotlib~\u003d2.0-\u003erasa-nlu~\u003d0.14.0-\u003erasa_core) (0.10.0)\n",
            "Requirement already satisfied: s3transfer\u003c0.3.0,\u003e\u003d0.2.0 in /usr/local/lib/python3.6/site-packages (from boto3~\u003d1.5-\u003erasa-nlu~\u003d0.14.0-\u003erasa_core) (0.2.0)\n",
            "Requirement already satisfied: botocore\u003c1.13.0,\u003e\u003d1.12.113 in /usr/local/lib/python3.6/site-packages (from boto3~\u003d1.5-\u003erasa-nlu~\u003d0.14.0-\u003erasa_core) (1.12.113)\n",
            "Requirement already satisfied: jmespath\u003c1.0.0,\u003e\u003d0.7.1 in /usr/local/lib/python3.6/site-packages (from boto3~\u003d1.5-\u003erasa-nlu~\u003d0.14.0-\u003erasa_core) (0.9.4)\n",
            "Requirement already satisfied: markdown\u003e\u003d2.6.8 in /usr/local/lib/python3.6/site-packages (from tensorboard\u003c1.13.0,\u003e\u003d1.12.0-\u003etensorflow~\u003d1.12.0-\u003erasa_core) (3.0.1)\n",
            "Requirement already satisfied: pycparser in /usr/local/lib/python3.6/site-packages (from cffi!\u003d1.11.3,\u003e\u003d1.8-\u003ecryptography-\u003epython-telegram-bot~\u003d11.0-\u003erasa_core) (2.19)\n",
            "Requirement already satisfied: constantly\u003e\u003d15.1 in /usr/local/lib/python3.6/site-packages (from Twisted\u003e\u003d15.5-\u003eklein~\u003d17.10-\u003erasa-nlu~\u003d0.14.0-\u003erasa_core) (15.1.0)\n",
            "Requirement already satisfied: zope.interface\u003e\u003d4.4.2 in /usr/local/lib/python3.6/site-packages (from Twisted\u003e\u003d15.5-\u003eklein~\u003d17.10-\u003erasa-nlu~\u003d0.14.0-\u003erasa_core) (4.6.0)\n",
            "Requirement already satisfied: hyperlink\u003e\u003d17.1.1 in /usr/local/lib/python3.6/site-packages (from Twisted\u003e\u003d15.5-\u003eklein~\u003d17.10-\u003erasa-nlu~\u003d0.14.0-\u003erasa_core) (18.0.0)\n",
            "Requirement already satisfied: PyHamcrest\u003e\u003d1.9.0 in /usr/local/lib/python3.6/site-packages (from Twisted\u003e\u003d15.5-\u003eklein~\u003d17.10-\u003erasa-nlu~\u003d0.14.0-\u003erasa_core) (1.9.0)\n",
            "Requirement already satisfied: attrs\u003e\u003d17.4.0 in /usr/local/lib/python3.6/site-packages (from Twisted\u003e\u003d15.5-\u003eklein~\u003d17.10-\u003erasa-nlu~\u003d0.14.0-\u003erasa_core) (19.1.0)\n",
            "Requirement already satisfied: Automat\u003e\u003d0.3.0 in /usr/local/lib/python3.6/site-packages (from Twisted\u003e\u003d15.5-\u003eklein~\u003d17.10-\u003erasa-nlu~\u003d0.14.0-\u003erasa_core) (0.7.0)\n",
            "Requirement already satisfied: docutils\u003e\u003d0.10 in /usr/local/lib/python3.6/site-packages (from botocore\u003c1.13.0,\u003e\u003d1.12.113-\u003eboto3~\u003d1.5-\u003erasa-nlu~\u003d0.14.0-\u003erasa_core) (0.14)\n",
            "Installing collected packages: scikit-learn\n",
            "  Found existing installation: scikit-learn 0.19.2\n",
            "    Uninstalling scikit-learn-0.19.2:\n",
            "      Successfully uninstalled scikit-learn-0.19.2\n",
            "Successfully installed scikit-learn-0.20.3\n"
          ]
        }
      ],
      "source": [
        "!pip install rasa_core"
      ]
    },
    {
      "cell_type": "markdown",
      "metadata": {
        "colab_type": "text",
        "id": "yHYeAA859JGq",
        "pycharm": {}
      },
      "source": [
        "# Importing the Installations"
      ]
    },
    {
      "cell_type": "code",
      "execution_count": 113,
      "metadata": {
        "colab": {},
        "colab_type": "code",
        "id": "TSw6zFmk3iPu",
        "pycharm": {
          "is_executing": false
        }
      },
      "outputs": [],
      "source": [
        "import rasa_nlu\n",
        "import rasa_core\n",
        "import spacy\n",
        "\n"
      ]
    },
    {
      "cell_type": "markdown",
      "metadata": {
        "colab_type": "text",
        "id": "aEw5vhSq9gWa",
        "pycharm": {}
      },
      "source": [
        "# 1. Teaching the bot to understand user inputs using Rasa NLU"
      ]
    },
    {
      "cell_type": "markdown",
      "metadata": {
        "colab_type": "text",
        "id": "oDEAOmaI9o4a",
        "pycharm": {}
      },
      "source": [
        "## Preparing the NLU Training Data"
      ]
    },
    {
      "cell_type": "markdown",
      "metadata": {
        "colab": {
          "base_uri": "https://localhost:8080/",
          "height": 34
        },
        "colab_type": "code",
        "id": "RPxeQ1_14CjK",
        "outputId": "bfb5974f-f8ea-46b8-b8cb-9dd4479ed9cc",
        "pycharm": {
          "is_executing": false,
          "name": "#%% md\n"
        }
      },
      "source": "nlu_md \u003d \"\"\"\n## intent:greet\n- hey\n- hello there\n- hi\n- hello there\n- good morning\n- good evening\n- moin\n- hey there\n- let\u0027s go\n- hey dude\n- goodmorning\n- goodevening\n- good afternoon\n\n## intent:goodbye\n- cu\n- good by\n- cee you later\n- good night\n- good afternoon\n- bye\n- goodbye\n- have a nice day\n- see you around\n- bye bye\n- see you later\n\n## intent:mood_affirm\n- yes\n- indeed\n- of course\n- that sounds good\n- correct\n\n## intent:mood_deny\n- no\n- never\n- I don\u0027t think so\n- don\u0027t like that\n- no way\n- not really\n\n\n\n\n## intent:student_work_authorization\n- What does the student’s work authorization look like?\n- how is student work authorization?\n- how does student work authorization look like?\n- Student work authorization look?\n- what\u0027s Student work authorization\n\n## intent:student_work\n- When can a student work?\n- When can I work?\n\n\n## intent:student_work_timings\n- How many hours per week can a student work?\n- How many hours can I work?\n- number of hours I can work?\n- no. of hours I can work?\n\n## intent:taxes\n- Are F-1 students subject to taxes?\n- am I subjected to tax ?\n- how much tax shoud I pay ?\n- should I pay tax ?\n\n## intent:E_verify\n- What is E-Verify?\n- how to do e-verify?\n- What is E Verify?\n- how to do e verify?\n- What is EVerify?\n- how to do everify\n\n##intent: Visa_interview\n-What all do I need for Visa Interview?\n-what all documents do I need for Visa Interview?\n-Documents needed for Visa Interview?\n-What all things do I need for Visa Interview?\n-What all papaers do I need for Visa Interview?\n\n##intent: travel_date\n-When can I travel to the usa?\n-How many days prior to my admission can I travel to the USA?\n\n## intent:customs_immigration\n-What all do I need for customs and immigration?\n-what all documents do I need for customs and immigration?\n-Documents needed for customs and immigration?\n-What all things do I need for customs and immigration?\n-What all papaers do I need for customs and immigration?\n\n##intent:questions_during_visa\n-What are the common questions asked during Visa interview?\n-What should I prepare for Visa interview?\n-What kind of questions are asked during a visa interview?\n-Common questions durin Visa interview?\n-Questions asked in a Visa interview?\n\n##intent:health_insurance\n-How do I pyrchase University heath insurance?\n-What steps are involved in purchasing student health insurance?\n-Steps to purchase health insurance?\n-international Heath Insurance puchase?\n\n##intent:immunization\n-What are the steps involved in immunization?\n-What all immunization do I need before getting to the USA?\n-Kind of immunization required before reaching?\n-What is the proof of immunization that needs to be submitted?\n\n##intent:housing\n-Where can I find the housing details of SJSU?\n-Accomodation in SJSU?\n-Accomodation for international students at SJSU?\n-Housing for students near SJSU?\n-Housing on campus?\n\n##intent:course_registration\n-How many courses do I need to register for?\n-How many credits are mandatory?\n-Number of credits at SJSU?\n-SJSU credits for F1 students?\n\n##intent:tution\n-Where can I find details about my tution fees?\n-Information about tution fees?\n-When do I have to pay for tution fees?\n-When can I register for the courses?\n-Where do I pay my tution?\n\n##intent:tower_ID\n-Where can I get my ID?\n-Do I need an ID?\n-Procedure to get an ID?\n-Documents required to get an ID?\n-How do I get my student ID?\n-Steps involved in getting student ID card?\n\n## intent: inform\n- A [dog](group:shibes)\n- [dog](group:shibes)\n- [bird](group:birds)\n- a [cat](group:cats)\n- [cat](group:cats)\n- a [bird](group:birds)\n- of a [dog](group:shibes)\n- of a [cat](group:cats)\n- a [bird](group:birds), please\n- a [dog](group:shibes), please\n\"\"\"\n\n%store nlu_md \u003e nlu.md"
    },
    {
      "cell_type": "code",
      "execution_count": 115,
      "metadata": {
        "pycharm": {
          "is_executing": false
        }
      },
      "outputs": [
        {
          "name": "stdout",
          "output_type": "stream",
          "text": [
            "config.yml                       stories.md\r\n",
            "domain.yml                       stories_backup.md\r\n",
            "errors.json                      story_graph.png\r\n",
            "\u001b[34mmodels\u001b[m\u001b[m/                          student_assistant_chatbot.ipynb\r\n",
            "nlu.md\r\n"
          ]
        }
      ],
      "source": [
        "%ls"
      ]
    },
    {
      "cell_type": "markdown",
      "metadata": {
        "colab_type": "text",
        "id": "ceazcacn9veB",
        "pycharm": {}
      },
      "source": [
        "## Defining the NLU Model Configuration"
      ]
    },
    {
      "cell_type": "code",
      "execution_count": 116,
      "metadata": {
        "colab": {
          "base_uri": "https://localhost:8080/",
          "height": 34
        },
        "colab_type": "code",
        "id": "dF60NWhR4ID6",
        "outputId": "92946645-94fc-4450-aa41-eca8895ff83c",
        "pycharm": {
          "is_executing": false
        }
      },
      "outputs": [
        {
          "name": "stdout",
          "output_type": "stream",
          "text": [
            "Writing \u0027config\u0027 (str) to file \u0027config.yml\u0027.\n"
          ]
        }
      ],
      "source": [
        "config \u003d \"\"\"\n",
        "language: \"en\"\n",
        "\n",
        "pipeline:\n",
        "- name: \"nlp_spacy\"\n",
        "- name: \"tokenizer_spacy\"\n",
        "- name: \"intent_entity_featurizer_regex\"\n",
        "- name: \"intent_featurizer_spacy\"\n",
        "- name: \"ner_crf\"\n",
        "- name: \"ner_synonyms\"\n",
        "- name: \"intent_classifier_sklearn\"\n",
        "\"\"\"\n",
        "\n",
        "%store config \u003e config.yml"
      ]
    },
    {
      "cell_type": "code",
      "execution_count": 16,
      "metadata": {
        "pycharm": {
          "is_executing": false
        }
      },
      "outputs": [
        {
          "name": "stdout",
          "text": [
            "Writing \u0027config\u0027 (str) to file \u0027config.yml\u0027.\n"
          ],
          "output_type": "stream"
        }
      ],
      "source": "config \u003d \"\"\"\nlanguage: \"en\"\n\npipeline:\n- name: \"tokenizer_whitespace\"\n- name: \"ner_spacy\"\n- name: \"ner_crf\"\n- name: \"ner_synonyms\"\n- name: \"intent_featurizer_count_vectors\"\n- name: \"intent_classifier_tensorflow_embedding\"\n-name: \"ner_duckling_http\"\n  url: \"http://127.0.0.1:8000\"\n  dimensions: [\"time\"] \n\"\"\"\n\n%store config \u003e config.yml"
    },
    {
      "cell_type": "markdown",
      "metadata": {
        "colab_type": "text",
        "id": "ieoWk91X9y8X",
        "pycharm": {}
      },
      "source": [
        "## Training the NLU Model."
      ]
    },
    {
      "cell_type": "code",
      "execution_count": 17,
      "metadata": {
        "colab": {
          "base_uri": "https://localhost:8080/",
          "height": 445
        },
        "colab_type": "code",
        "id": "dp3AIHmS4L6x",
        "outputId": "8011c4f7-c789-4138-84d7-4710207615d8",
        "pycharm": {
          "is_executing": false
        }
      },
      "outputs": [
        {
          "traceback": [
            "\u001b[0;31m---------------------------------------------------------------------------\u001b[0m",
            "\u001b[0;31mException\u001b[0m                                 Traceback (most recent call last)",
            "\u001b[0;32m\u003cipython-input-17-3eb482fef6ad\u003e\u001b[0m in \u001b[0;36m\u003cmodule\u003e\u001b[0;34m\u001b[0m\n\u001b[1;32m     11\u001b[0m \u001b[0;34m\u001b[0m\u001b[0m\n\u001b[1;32m     12\u001b[0m \u001b[0;31m# train the model!\u001b[0m\u001b[0;34m\u001b[0m\u001b[0;34m\u001b[0m\u001b[0m\n\u001b[0;32m---\u003e 13\u001b[0;31m \u001b[0minterpreter\u001b[0m \u001b[0;34m\u003d\u001b[0m \u001b[0mtrainer\u001b[0m\u001b[0;34m.\u001b[0m\u001b[0mtrain\u001b[0m\u001b[0;34m(\u001b[0m\u001b[0mtraining_data\u001b[0m\u001b[0;34m)\u001b[0m\u001b[0;34m\u001b[0m\u001b[0m\n\u001b[0m\u001b[1;32m     14\u001b[0m \u001b[0;34m\u001b[0m\u001b[0m\n\u001b[1;32m     15\u001b[0m \u001b[0;31m# store it for future use\u001b[0m\u001b[0;34m\u001b[0m\u001b[0;34m\u001b[0m\u001b[0m\n",
            "\u001b[0;32m/usr/local/lib/python3.6/site-packages/rasa_nlu/model.py\u001b[0m in \u001b[0;36mtrain\u001b[0;34m(self, data, **kwargs)\u001b[0m\n\u001b[1;32m    184\u001b[0m         \u001b[0;31m# Before the training starts: check that all arguments are provided\u001b[0m\u001b[0;34m\u001b[0m\u001b[0;34m\u001b[0m\u001b[0m\n\u001b[1;32m    185\u001b[0m         \u001b[0;32mif\u001b[0m \u001b[0;32mnot\u001b[0m \u001b[0mself\u001b[0m\u001b[0;34m.\u001b[0m\u001b[0mskip_validation\u001b[0m\u001b[0;34m:\u001b[0m\u001b[0;34m\u001b[0m\u001b[0m\n\u001b[0;32m--\u003e 186\u001b[0;31m             \u001b[0mcomponents\u001b[0m\u001b[0;34m.\u001b[0m\u001b[0mvalidate_arguments\u001b[0m\u001b[0;34m(\u001b[0m\u001b[0mself\u001b[0m\u001b[0;34m.\u001b[0m\u001b[0mpipeline\u001b[0m\u001b[0;34m,\u001b[0m \u001b[0mcontext\u001b[0m\u001b[0;34m)\u001b[0m\u001b[0;34m\u001b[0m\u001b[0m\n\u001b[0m\u001b[1;32m    187\u001b[0m \u001b[0;34m\u001b[0m\u001b[0m\n\u001b[1;32m    188\u001b[0m         \u001b[0;31m# data gets modified internally during the training - hence the copy\u001b[0m\u001b[0;34m\u001b[0m\u001b[0;34m\u001b[0m\u001b[0m\n",
            "\u001b[0;32m/usr/local/lib/python3.6/site-packages/rasa_nlu/components.py\u001b[0m in \u001b[0;36mvalidate_arguments\u001b[0;34m(pipeline, context, allow_empty_pipeline)\u001b[0m\n\u001b[1;32m     84\u001b[0m                 raise Exception(\"Failed to validate at component \"\n\u001b[1;32m     85\u001b[0m                                 \u001b[0;34m\"\u0027{}\u0027. Missing property: \u0027{}\u0027\"\u001b[0m\u001b[0;34m\u001b[0m\u001b[0m\n\u001b[0;32m---\u003e 86\u001b[0;31m                                 \"\".format(component.name, r))\n\u001b[0m\u001b[1;32m     87\u001b[0m         \u001b[0mprovided_properties\u001b[0m\u001b[0;34m.\u001b[0m\u001b[0mupdate\u001b[0m\u001b[0;34m(\u001b[0m\u001b[0mcomponent\u001b[0m\u001b[0;34m.\u001b[0m\u001b[0mprovides\u001b[0m\u001b[0;34m)\u001b[0m\u001b[0;34m\u001b[0m\u001b[0m\n\u001b[1;32m     88\u001b[0m \u001b[0;34m\u001b[0m\u001b[0m\n",
            "\u001b[0;31mException\u001b[0m: Failed to validate at component \u0027ner_spacy\u0027. Missing property: \u0027spacy_nlp\u0027"
          ],
          "ename": "Exception",
          "evalue": "Failed to validate at component \u0027ner_spacy\u0027. Missing property: \u0027spacy_nlp\u0027",
          "output_type": "error"
        }
      ],
      "source": [
        "from rasa_nlu.training_data import load_data\n",
        "from rasa_nlu.config import RasaNLUModelConfig\n",
        "from rasa_nlu.model import Trainer\n",
        "from rasa_nlu import config\n",
        "\n",
        "# loading the nlu training samples\n",
        "training_data \u003d load_data(\"nlu.md\")\n",
        "\n",
        "# trainer to educate our pipeline\n",
        "trainer \u003d Trainer(config.load(\"config.yml\"))\n",
        "\n",
        "# train the model!\n",
        "interpreter \u003d trainer.train(training_data)\n",
        "\n",
        "# store it for future use\n",
        "model_directory \u003d trainer.persist(\"./models/nlu\", fixed_model_name\u003d\"current\")"
      ]
    },
    {
      "cell_type": "markdown",
      "metadata": {
        "colab_type": "text",
        "id": "Jrfp4xOS95ZZ",
        "pycharm": {}
      },
      "source": [
        "## Evaluating the NLU model on a random text"
      ]
    },
    {
      "cell_type": "code",
      "execution_count": 20,
      "metadata": {
        "colab": {
          "base_uri": "https://localhost:8080/",
          "height": 867
        },
        "colab_type": "code",
        "id": "4UjzlqMV4N1k",
        "outputId": "37ea93e5-6a71-4e8e-d2b6-a45144d184ad",
        "pycharm": {
          "is_executing": false
        }
      },
      "outputs": [
        {
          "name": "stdout",
          "text": [
            "{\n  \"intent\": {\n    \"name\": \"inform\",\n    \"confidence\": 0.9532167315483093\n  },\n  \"entities\": [],\n  \"intent_ranking\": [\n    {\n      \"name\": \"inform\",\n      \"confidence\": 0.9532167315483093\n    },\n    {\n      \"name\": \"E_verify\",\n      \"confidence\": 0.16152574121952057\n    },\n    {\n      \"name\": \"housing\",\n      \"confidence\": 0.12032732367515564\n    },\n    {\n      \"name\": \"greet\",\n      \"confidence\": 0.09963464736938477\n    },\n    {\n      \"name\": \"student_work_authorization\",\n      \"confidence\": 0.05219660699367523\n    },\n    {\n      \"name\": \"travel_date\",\n      \"confidence\": 0.04197079315781593\n    },\n    {\n      \"name\": \"student_work\",\n      \"confidence\": 0.0\n    },\n    {\n      \"name\": \"student_work_timings\",\n      \"confidence\": 0.0\n    },\n    {\n      \"name\": \"goodbye\",\n      \"confidence\": 0.0\n    },\n    {\n      \"name\": \"course_registration\",\n      \"confidence\": 0.0\n    }\n  ],\n  \"text\": \"is there any event on 10th November? \"\n}\n"
          ],
          "output_type": "stream"
        }
      ],
      "source": "# A helper function for prettier output\nimport json\ndef pprint(o):   \n    print(json.dumps(o, indent\u003d2))\n    \npprint(interpreter.parse(\"is there any event on 10th November? \"))"
    },
    {
      "cell_type": "markdown",
      "metadata": {
        "colab_type": "text",
        "id": "OPlSd-As-Fz4",
        "pycharm": {}
      },
      "source": [
        "## Evaluating the NLU model on a test data\n",
        "(Here we are using the data at hand i.e nlu.md but it isr recommended to use unseen data)"
      ]
    },
    {
      "cell_type": "code",
      "execution_count": 120,
      "metadata": {
        "colab": {
          "base_uri": "https://localhost:8080/",
          "height": 1483
        },
        "colab_type": "code",
        "id": "FmRCylbT4jyw",
        "outputId": "fd1bfd57-ebb3-4541-d3b3-b4cbba781164",
        "pycharm": {
          "is_executing": false
        }
      },
      "outputs": [
        {
          "name": "stdout",
          "output_type": "stream",
          "text": [
            "INFO:tensorflow:Restoring parameters from /Users/saching12/Desktop/python codes/student_assistant_chatbot/./models/nlu/default/current/intent_classifier_tensorflow_embedding.ckpt\n"
          ]
        },
        {
          "name": "stderr",
          "output_type": "stream",
          "text": [
            "INFO:tensorflow:Restoring parameters from /Users/saching12/Desktop/python codes/student_assistant_chatbot/./models/nlu/default/current/intent_classifier_tensorflow_embedding.ckpt\n",
            "INFO:rasa_nlu.training_data.loading:Training data format of nlu.md is md\n",
            "INFO:rasa_nlu.training_data.training_data:Training data stats: \n",
            "\t- intent examples: 111 (20 distinct intents)\n",
            "\t- Found intents: \u0027travel_date\u0027, \u0027questions_during_visa\u0027, \u0027student_work_authorization\u0027, \u0027mood_affirm\u0027, \u0027mood_deny\u0027, \u0027tution\u0027, \u0027E_verify\u0027, \u0027greet\u0027, \u0027goodbye\u0027, \u0027Visa_interview\u0027, \u0027housing\u0027, \u0027student_work_timings\u0027, \u0027immunization\u0027, \u0027taxes\u0027, \u0027student_work\u0027, \u0027customs_immigration\u0027, \u0027health_insurance\u0027, \u0027tower_ID\u0027, \u0027course_registration\u0027, \u0027inform\u0027\n",
            "\t- entity examples: 10 (1 distinct entities)\n",
            "\t- found entities: \u0027group\u0027\n",
            "\n",
            "INFO:rasa_nlu.evaluate:Intent evaluation results:\n",
            "INFO:rasa_nlu.evaluate:Intent Evaluation: Only considering those 111 examples that have a defined intent out of 111 examples\n",
            "INFO:rasa_nlu.evaluate:F1-Score:  0.9909433242766575\n",
            "INFO:rasa_nlu.evaluate:Precision: 0.9916344916344916\n",
            "INFO:rasa_nlu.evaluate:Accuracy:  0.990990990990991\n",
            "INFO:rasa_nlu.evaluate:Classification report: \n",
            "                            precision    recall  f1-score   support\n",
            "\n",
            "                  E_verify       1.00      1.00      1.00         6\n",
            "            Visa_interview       1.00      1.00      1.00         5\n",
            "       course_registration       1.00      1.00      1.00         4\n",
            "       customs_immigration       1.00      1.00      1.00         5\n",
            "                   goodbye       1.00      0.91      0.95        11\n",
            "                     greet       0.93      1.00      0.96        13\n",
            "          health_insurance       1.00      1.00      1.00         4\n",
            "                   housing       1.00      1.00      1.00         5\n",
            "              immunization       1.00      1.00      1.00         4\n",
            "                    inform       1.00      1.00      1.00        10\n",
            "               mood_affirm       1.00      1.00      1.00         5\n",
            "                 mood_deny       1.00      1.00      1.00         6\n",
            "     questions_during_visa       1.00      1.00      1.00         5\n",
            "              student_work       1.00      1.00      1.00         2\n",
            "student_work_authorization       1.00      1.00      1.00         5\n",
            "      student_work_timings       1.00      1.00      1.00         4\n",
            "                     taxes       1.00      1.00      1.00         4\n",
            "                  tower_ID       1.00      1.00      1.00         6\n",
            "               travel_date       1.00      1.00      1.00         2\n",
            "                    tution       1.00      1.00      1.00         5\n",
            "\n",
            "                 micro avg       0.99      0.99      0.99       111\n",
            "                 macro avg       1.00      1.00      1.00       111\n",
            "              weighted avg       0.99      0.99      0.99       111\n",
            "\n",
            "INFO:rasa_nlu.evaluate:Model prediction errors saved to errors.json.\n",
            "INFO:rasa_nlu.evaluate:Entity evaluation results:\n",
            "INFO:rasa_nlu.evaluate:Evaluation for entity extractor: ner_crf \n",
            "INFO:rasa_nlu.evaluate:F1-Score:  1.0\n",
            "INFO:rasa_nlu.evaluate:Precision: 1.0\n",
            "INFO:rasa_nlu.evaluate:Accuracy:  1.0\n",
            "INFO:rasa_nlu.evaluate:Classification report: \n",
            "              precision    recall  f1-score   support\n",
            "\n",
            "       group       1.00      1.00      1.00        10\n",
            "   no_entity       1.00      1.00      1.00       508\n",
            "\n",
            "   micro avg       1.00      1.00      1.00       518\n",
            "   macro avg       1.00      1.00      1.00       518\n",
            "weighted avg       1.00      1.00      1.00       518\n",
            "\n"
          ]
        },
        {
          "data": {
            "text/plain": [
              "{\u0027intent_evaluation\u0027: {\u0027predictions\u0027: [{\u0027text\u0027: \u0027hey\u0027,\n",
              "    \u0027intent\u0027: \u0027greet\u0027,\n",
              "    \u0027predicted\u0027: \u0027greet\u0027,\n",
              "    \u0027confidence\u0027: 0.9464135766029358},\n",
              "   {\u0027text\u0027: \u0027hello there\u0027,\n",
              "    \u0027intent\u0027: \u0027greet\u0027,\n",
              "    \u0027predicted\u0027: \u0027greet\u0027,\n",
              "    \u0027confidence\u0027: 0.9633802175521851},\n",
              "   {\u0027text\u0027: \u0027hi\u0027,\n",
              "    \u0027intent\u0027: \u0027greet\u0027,\n",
              "    \u0027predicted\u0027: \u0027greet\u0027,\n",
              "    \u0027confidence\u0027: 0.9512230753898621},\n",
              "   {\u0027text\u0027: \u0027hello there\u0027,\n",
              "    \u0027intent\u0027: \u0027greet\u0027,\n",
              "    \u0027predicted\u0027: \u0027greet\u0027,\n",
              "    \u0027confidence\u0027: 0.9633802175521851},\n",
              "   {\u0027text\u0027: \u0027good morning\u0027,\n",
              "    \u0027intent\u0027: \u0027greet\u0027,\n",
              "    \u0027predicted\u0027: \u0027greet\u0027,\n",
              "    \u0027confidence\u0027: 0.9317892789840698},\n",
              "   {\u0027text\u0027: \u0027good evening\u0027,\n",
              "    \u0027intent\u0027: \u0027greet\u0027,\n",
              "    \u0027predicted\u0027: \u0027greet\u0027,\n",
              "    \u0027confidence\u0027: 0.9479368925094604},\n",
              "   {\u0027text\u0027: \u0027moin\u0027,\n",
              "    \u0027intent\u0027: \u0027greet\u0027,\n",
              "    \u0027predicted\u0027: \u0027greet\u0027,\n",
              "    \u0027confidence\u0027: 0.9441460371017456},\n",
              "   {\u0027text\u0027: \u0027hey there\u0027,\n",
              "    \u0027intent\u0027: \u0027greet\u0027,\n",
              "    \u0027predicted\u0027: \u0027greet\u0027,\n",
              "    \u0027confidence\u0027: 0.9665208458900452},\n",
              "   {\u0027text\u0027: \"let\u0027s go\",\n",
              "    \u0027intent\u0027: \u0027greet\u0027,\n",
              "    \u0027predicted\u0027: \u0027greet\u0027,\n",
              "    \u0027confidence\u0027: 0.929484486579895},\n",
              "   {\u0027text\u0027: \u0027hey dude\u0027,\n",
              "    \u0027intent\u0027: \u0027greet\u0027,\n",
              "    \u0027predicted\u0027: \u0027greet\u0027,\n",
              "    \u0027confidence\u0027: 0.9551277756690979},\n",
              "   {\u0027text\u0027: \u0027goodmorning\u0027,\n",
              "    \u0027intent\u0027: \u0027greet\u0027,\n",
              "    \u0027predicted\u0027: \u0027greet\u0027,\n",
              "    \u0027confidence\u0027: 0.941379189491272},\n",
              "   {\u0027text\u0027: \u0027goodevening\u0027,\n",
              "    \u0027intent\u0027: \u0027greet\u0027,\n",
              "    \u0027predicted\u0027: \u0027greet\u0027,\n",
              "    \u0027confidence\u0027: 0.9565825462341309},\n",
              "   {\u0027text\u0027: \u0027good afternoon\u0027,\n",
              "    \u0027intent\u0027: \u0027greet\u0027,\n",
              "    \u0027predicted\u0027: \u0027greet\u0027,\n",
              "    \u0027confidence\u0027: 0.7092180252075195},\n",
              "   {\u0027text\u0027: \u0027cu\u0027,\n",
              "    \u0027intent\u0027: \u0027goodbye\u0027,\n",
              "    \u0027predicted\u0027: \u0027goodbye\u0027,\n",
              "    \u0027confidence\u0027: 0.9577118754386902},\n",
              "   {\u0027text\u0027: \u0027good by\u0027,\n",
              "    \u0027intent\u0027: \u0027goodbye\u0027,\n",
              "    \u0027predicted\u0027: \u0027goodbye\u0027,\n",
              "    \u0027confidence\u0027: 0.9660632014274597},\n",
              "   {\u0027text\u0027: \u0027cee you later\u0027,\n",
              "    \u0027intent\u0027: \u0027goodbye\u0027,\n",
              "    \u0027predicted\u0027: \u0027goodbye\u0027,\n",
              "    \u0027confidence\u0027: 0.9612829685211182},\n",
              "   {\u0027text\u0027: \u0027good night\u0027,\n",
              "    \u0027intent\u0027: \u0027goodbye\u0027,\n",
              "    \u0027predicted\u0027: \u0027goodbye\u0027,\n",
              "    \u0027confidence\u0027: 0.9725704193115234},\n",
              "   {\u0027text\u0027: \u0027good afternoon\u0027,\n",
              "    \u0027intent\u0027: \u0027goodbye\u0027,\n",
              "    \u0027predicted\u0027: \u0027greet\u0027,\n",
              "    \u0027confidence\u0027: 0.7092180252075195},\n",
              "   {\u0027text\u0027: \u0027bye\u0027,\n",
              "    \u0027intent\u0027: \u0027goodbye\u0027,\n",
              "    \u0027predicted\u0027: \u0027goodbye\u0027,\n",
              "    \u0027confidence\u0027: 0.9679523706436157},\n",
              "   {\u0027text\u0027: \u0027goodbye\u0027,\n",
              "    \u0027intent\u0027: \u0027goodbye\u0027,\n",
              "    \u0027predicted\u0027: \u0027goodbye\u0027,\n",
              "    \u0027confidence\u0027: 0.954713761806488},\n",
              "   {\u0027text\u0027: \u0027have a nice day\u0027,\n",
              "    \u0027intent\u0027: \u0027goodbye\u0027,\n",
              "    \u0027predicted\u0027: \u0027goodbye\u0027,\n",
              "    \u0027confidence\u0027: 0.9714957475662231},\n",
              "   {\u0027text\u0027: \u0027see you around\u0027,\n",
              "    \u0027intent\u0027: \u0027goodbye\u0027,\n",
              "    \u0027predicted\u0027: \u0027goodbye\u0027,\n",
              "    \u0027confidence\u0027: 0.9490891695022583},\n",
              "   {\u0027text\u0027: \u0027bye bye\u0027,\n",
              "    \u0027intent\u0027: \u0027goodbye\u0027,\n",
              "    \u0027predicted\u0027: \u0027goodbye\u0027,\n",
              "    \u0027confidence\u0027: 0.9538848400115967},\n",
              "   {\u0027text\u0027: \u0027see you later\u0027,\n",
              "    \u0027intent\u0027: \u0027goodbye\u0027,\n",
              "    \u0027predicted\u0027: \u0027goodbye\u0027,\n",
              "    \u0027confidence\u0027: 0.972628116607666},\n",
              "   {\u0027text\u0027: \u0027yes\u0027,\n",
              "    \u0027intent\u0027: \u0027mood_affirm\u0027,\n",
              "    \u0027predicted\u0027: \u0027mood_affirm\u0027,\n",
              "    \u0027confidence\u0027: 0.9290267825126648},\n",
              "   {\u0027text\u0027: \u0027indeed\u0027,\n",
              "    \u0027intent\u0027: \u0027mood_affirm\u0027,\n",
              "    \u0027predicted\u0027: \u0027mood_affirm\u0027,\n",
              "    \u0027confidence\u0027: 0.9440991878509521},\n",
              "   {\u0027text\u0027: \u0027of course\u0027,\n",
              "    \u0027intent\u0027: \u0027mood_affirm\u0027,\n",
              "    \u0027predicted\u0027: \u0027mood_affirm\u0027,\n",
              "    \u0027confidence\u0027: 0.9354097247123718},\n",
              "   {\u0027text\u0027: \u0027that sounds good\u0027,\n",
              "    \u0027intent\u0027: \u0027mood_affirm\u0027,\n",
              "    \u0027predicted\u0027: \u0027mood_affirm\u0027,\n",
              "    \u0027confidence\u0027: 0.9553734064102173},\n",
              "   {\u0027text\u0027: \u0027correct\u0027,\n",
              "    \u0027intent\u0027: \u0027mood_affirm\u0027,\n",
              "    \u0027predicted\u0027: \u0027mood_affirm\u0027,\n",
              "    \u0027confidence\u0027: 0.9455208778381348},\n",
              "   {\u0027text\u0027: \u0027no\u0027,\n",
              "    \u0027intent\u0027: \u0027mood_deny\u0027,\n",
              "    \u0027predicted\u0027: \u0027mood_deny\u0027,\n",
              "    \u0027confidence\u0027: 0.9666187763214111},\n",
              "   {\u0027text\u0027: \u0027never\u0027,\n",
              "    \u0027intent\u0027: \u0027mood_deny\u0027,\n",
              "    \u0027predicted\u0027: \u0027mood_deny\u0027,\n",
              "    \u0027confidence\u0027: 0.9469667077064514},\n",
              "   {\u0027text\u0027: \"I don\u0027t think so\",\n",
              "    \u0027intent\u0027: \u0027mood_deny\u0027,\n",
              "    \u0027predicted\u0027: \u0027mood_deny\u0027,\n",
              "    \u0027confidence\u0027: 0.9603955149650574},\n",
              "   {\u0027text\u0027: \"don\u0027t like that\",\n",
              "    \u0027intent\u0027: \u0027mood_deny\u0027,\n",
              "    \u0027predicted\u0027: \u0027mood_deny\u0027,\n",
              "    \u0027confidence\u0027: 0.965050220489502},\n",
              "   {\u0027text\u0027: \u0027no way\u0027,\n",
              "    \u0027intent\u0027: \u0027mood_deny\u0027,\n",
              "    \u0027predicted\u0027: \u0027mood_deny\u0027,\n",
              "    \u0027confidence\u0027: 0.9552924633026123},\n",
              "   {\u0027text\u0027: \u0027not really\u0027,\n",
              "    \u0027intent\u0027: \u0027mood_deny\u0027,\n",
              "    \u0027predicted\u0027: \u0027mood_deny\u0027,\n",
              "    \u0027confidence\u0027: 0.9548869729042053},\n",
              "   {\u0027text\u0027: \u0027What does the student’s work authorization look like?\u0027,\n",
              "    \u0027intent\u0027: \u0027student_work_authorization\u0027,\n",
              "    \u0027predicted\u0027: \u0027student_work_authorization\u0027,\n",
              "    \u0027confidence\u0027: 0.9241626858711243},\n",
              "   {\u0027text\u0027: \u0027how is student work authorization?\u0027,\n",
              "    \u0027intent\u0027: \u0027student_work_authorization\u0027,\n",
              "    \u0027predicted\u0027: \u0027student_work_authorization\u0027,\n",
              "    \u0027confidence\u0027: 0.9699380993843079},\n",
              "   {\u0027text\u0027: \u0027how does student work authorization look like?\u0027,\n",
              "    \u0027intent\u0027: \u0027student_work_authorization\u0027,\n",
              "    \u0027predicted\u0027: \u0027student_work_authorization\u0027,\n",
              "    \u0027confidence\u0027: 0.9644656777381897},\n",
              "   {\u0027text\u0027: \u0027Student work authorization look?\u0027,\n",
              "    \u0027intent\u0027: \u0027student_work_authorization\u0027,\n",
              "    \u0027predicted\u0027: \u0027student_work_authorization\u0027,\n",
              "    \u0027confidence\u0027: 0.9478267431259155},\n",
              "   {\u0027text\u0027: \"what\u0027s Student work authorization\",\n",
              "    \u0027intent\u0027: \u0027student_work_authorization\u0027,\n",
              "    \u0027predicted\u0027: \u0027student_work_authorization\u0027,\n",
              "    \u0027confidence\u0027: 0.9576864242553711},\n",
              "   {\u0027text\u0027: \u0027When can a student work?\u0027,\n",
              "    \u0027intent\u0027: \u0027student_work\u0027,\n",
              "    \u0027predicted\u0027: \u0027student_work\u0027,\n",
              "    \u0027confidence\u0027: 0.9671674966812134},\n",
              "   {\u0027text\u0027: \u0027When can I work?\u0027,\n",
              "    \u0027intent\u0027: \u0027student_work\u0027,\n",
              "    \u0027predicted\u0027: \u0027student_work\u0027,\n",
              "    \u0027confidence\u0027: 0.9842705726623535},\n",
              "   {\u0027text\u0027: \u0027How many hours per week can a student work?\u0027,\n",
              "    \u0027intent\u0027: \u0027student_work_timings\u0027,\n",
              "    \u0027predicted\u0027: \u0027student_work_timings\u0027,\n",
              "    \u0027confidence\u0027: 0.964485764503479},\n",
              "   {\u0027text\u0027: \u0027How many hours can I work?\u0027,\n",
              "    \u0027intent\u0027: \u0027student_work_timings\u0027,\n",
              "    \u0027predicted\u0027: \u0027student_work_timings\u0027,\n",
              "    \u0027confidence\u0027: 0.9651227593421936},\n",
              "   {\u0027text\u0027: \u0027number of hours I can work?\u0027,\n",
              "    \u0027intent\u0027: \u0027student_work_timings\u0027,\n",
              "    \u0027predicted\u0027: \u0027student_work_timings\u0027,\n",
              "    \u0027confidence\u0027: 0.9717189073562622},\n",
              "   {\u0027text\u0027: \u0027no. of hours I can work?\u0027,\n",
              "    \u0027intent\u0027: \u0027student_work_timings\u0027,\n",
              "    \u0027predicted\u0027: \u0027student_work_timings\u0027,\n",
              "    \u0027confidence\u0027: 0.964430034160614},\n",
              "   {\u0027text\u0027: \u0027Are F-1 students subject to taxes?\u0027,\n",
              "    \u0027intent\u0027: \u0027taxes\u0027,\n",
              "    \u0027predicted\u0027: \u0027taxes\u0027,\n",
              "    \u0027confidence\u0027: 0.9459980726242065},\n",
              "   {\u0027text\u0027: \u0027am I subjected to tax ?\u0027,\n",
              "    \u0027intent\u0027: \u0027taxes\u0027,\n",
              "    \u0027predicted\u0027: \u0027taxes\u0027,\n",
              "    \u0027confidence\u0027: 0.9324423670768738},\n",
              "   {\u0027text\u0027: \u0027how much tax shoud I pay ?\u0027,\n",
              "    \u0027intent\u0027: \u0027taxes\u0027,\n",
              "    \u0027predicted\u0027: \u0027taxes\u0027,\n",
              "    \u0027confidence\u0027: 0.9415518641471863},\n",
              "   {\u0027text\u0027: \u0027should I pay tax ?\u0027,\n",
              "    \u0027intent\u0027: \u0027taxes\u0027,\n",
              "    \u0027predicted\u0027: \u0027taxes\u0027,\n",
              "    \u0027confidence\u0027: 0.9525052905082703},\n",
              "   {\u0027text\u0027: \u0027What is E-Verify?\u0027,\n",
              "    \u0027intent\u0027: \u0027E_verify\u0027,\n",
              "    \u0027predicted\u0027: \u0027E_verify\u0027,\n",
              "    \u0027confidence\u0027: 0.9532707333564758},\n",
              "   {\u0027text\u0027: \u0027how to do e-verify?\u0027,\n",
              "    \u0027intent\u0027: \u0027E_verify\u0027,\n",
              "    \u0027predicted\u0027: \u0027E_verify\u0027,\n",
              "    \u0027confidence\u0027: 0.9536598920822144},\n",
              "   {\u0027text\u0027: \u0027What is E Verify?\u0027,\n",
              "    \u0027intent\u0027: \u0027E_verify\u0027,\n",
              "    \u0027predicted\u0027: \u0027E_verify\u0027,\n",
              "    \u0027confidence\u0027: 0.9532707333564758},\n",
              "   {\u0027text\u0027: \u0027how to do e verify?\u0027,\n",
              "    \u0027intent\u0027: \u0027E_verify\u0027,\n",
              "    \u0027predicted\u0027: \u0027E_verify\u0027,\n",
              "    \u0027confidence\u0027: 0.9536598920822144},\n",
              "   {\u0027text\u0027: \u0027What is EVerify?\u0027,\n",
              "    \u0027intent\u0027: \u0027E_verify\u0027,\n",
              "    \u0027predicted\u0027: \u0027E_verify\u0027,\n",
              "    \u0027confidence\u0027: 0.9473081231117249},\n",
              "   {\u0027text\u0027: \u0027how to do everify\u0027,\n",
              "    \u0027intent\u0027: \u0027E_verify\u0027,\n",
              "    \u0027predicted\u0027: \u0027E_verify\u0027,\n",
              "    \u0027confidence\u0027: 0.9546359181404114},\n",
              "   {\u0027text\u0027: \u0027What all do I need for Visa Interview?\u0027,\n",
              "    \u0027intent\u0027: \u0027Visa_interview\u0027,\n",
              "    \u0027predicted\u0027: \u0027Visa_interview\u0027,\n",
              "    \u0027confidence\u0027: 0.9589539766311646},\n",
              "   {\u0027text\u0027: \u0027what all documents do I need for Visa Interview?\u0027,\n",
              "    \u0027intent\u0027: \u0027Visa_interview\u0027,\n",
              "    \u0027predicted\u0027: \u0027Visa_interview\u0027,\n",
              "    \u0027confidence\u0027: 0.9707766175270081},\n",
              "   {\u0027text\u0027: \u0027Documents needed for Visa Interview?\u0027,\n",
              "    \u0027intent\u0027: \u0027Visa_interview\u0027,\n",
              "    \u0027predicted\u0027: \u0027Visa_interview\u0027,\n",
              "    \u0027confidence\u0027: 0.9546324014663696},\n",
              "   {\u0027text\u0027: \u0027What all things do I need for Visa Interview?\u0027,\n",
              "    \u0027intent\u0027: \u0027Visa_interview\u0027,\n",
              "    \u0027predicted\u0027: \u0027Visa_interview\u0027,\n",
              "    \u0027confidence\u0027: 0.9562143683433533},\n",
              "   {\u0027text\u0027: \u0027What all papaers do I need for Visa Interview?\u0027,\n",
              "    \u0027intent\u0027: \u0027Visa_interview\u0027,\n",
              "    \u0027predicted\u0027: \u0027Visa_interview\u0027,\n",
              "    \u0027confidence\u0027: 0.9643881320953369},\n",
              "   {\u0027text\u0027: \u0027When can I travel to the usa?\u0027,\n",
              "    \u0027intent\u0027: \u0027travel_date\u0027,\n",
              "    \u0027predicted\u0027: \u0027travel_date\u0027,\n",
              "    \u0027confidence\u0027: 0.9427213668823242},\n",
              "   {\u0027text\u0027: \u0027How many days prior to my admission can I travel to the USA?\u0027,\n",
              "    \u0027intent\u0027: \u0027travel_date\u0027,\n",
              "    \u0027predicted\u0027: \u0027travel_date\u0027,\n",
              "    \u0027confidence\u0027: 0.9461463689804077},\n",
              "   {\u0027text\u0027: \u0027What all do I need for customs and immigration?\u0027,\n",
              "    \u0027intent\u0027: \u0027customs_immigration\u0027,\n",
              "    \u0027predicted\u0027: \u0027customs_immigration\u0027,\n",
              "    \u0027confidence\u0027: 0.9551664590835571},\n",
              "   {\u0027text\u0027: \u0027what all documents do I need for customs and immigration?\u0027,\n",
              "    \u0027intent\u0027: \u0027customs_immigration\u0027,\n",
              "    \u0027predicted\u0027: \u0027customs_immigration\u0027,\n",
              "    \u0027confidence\u0027: 0.9585318565368652},\n",
              "   {\u0027text\u0027: \u0027Documents needed for customs and immigration?\u0027,\n",
              "    \u0027intent\u0027: \u0027customs_immigration\u0027,\n",
              "    \u0027predicted\u0027: \u0027customs_immigration\u0027,\n",
              "    \u0027confidence\u0027: 0.9606314301490784},\n",
              "   {\u0027text\u0027: \u0027What all things do I need for customs and immigration?\u0027,\n",
              "    \u0027intent\u0027: \u0027customs_immigration\u0027,\n",
              "    \u0027predicted\u0027: \u0027customs_immigration\u0027,\n",
              "    \u0027confidence\u0027: 0.9536897540092468},\n",
              "   {\u0027text\u0027: \u0027What all papaers do I need for customs and immigration?\u0027,\n",
              "    \u0027intent\u0027: \u0027customs_immigration\u0027,\n",
              "    \u0027predicted\u0027: \u0027customs_immigration\u0027,\n",
              "    \u0027confidence\u0027: 0.9472100138664246},\n",
              "   {\u0027text\u0027: \u0027What are the common questions asked during Visa interview?\u0027,\n",
              "    \u0027intent\u0027: \u0027questions_during_visa\u0027,\n",
              "    \u0027predicted\u0027: \u0027questions_during_visa\u0027,\n",
              "    \u0027confidence\u0027: 0.9218941926956177},\n",
              "   {\u0027text\u0027: \u0027What should I prepare for Visa interview?\u0027,\n",
              "    \u0027intent\u0027: \u0027questions_during_visa\u0027,\n",
              "    \u0027predicted\u0027: \u0027questions_during_visa\u0027,\n",
              "    \u0027confidence\u0027: 0.9344896078109741},\n",
              "   {\u0027text\u0027: \u0027What kind of questions are asked during a visa interview?\u0027,\n",
              "    \u0027intent\u0027: \u0027questions_during_visa\u0027,\n",
              "    \u0027predicted\u0027: \u0027questions_during_visa\u0027,\n",
              "    \u0027confidence\u0027: 0.9274587631225586},\n",
              "   {\u0027text\u0027: \u0027Common questions durin Visa interview?\u0027,\n",
              "    \u0027intent\u0027: \u0027questions_during_visa\u0027,\n",
              "    \u0027predicted\u0027: \u0027questions_during_visa\u0027,\n",
              "    \u0027confidence\u0027: 0.9550103545188904},\n",
              "   {\u0027text\u0027: \u0027Questions asked in a Visa interview?\u0027,\n",
              "    \u0027intent\u0027: \u0027questions_during_visa\u0027,\n",
              "    \u0027predicted\u0027: \u0027questions_during_visa\u0027,\n",
              "    \u0027confidence\u0027: 0.945976972579956},\n",
              "   {\u0027text\u0027: \u0027How do I pyrchase University heath insurance?\u0027,\n",
              "    \u0027intent\u0027: \u0027health_insurance\u0027,\n",
              "    \u0027predicted\u0027: \u0027health_insurance\u0027,\n",
              "    \u0027confidence\u0027: 0.942670464515686},\n",
              "   {\u0027text\u0027: \u0027What steps are involved in purchasing student health insurance?\u0027,\n",
              "    \u0027intent\u0027: \u0027health_insurance\u0027,\n",
              "    \u0027predicted\u0027: \u0027health_insurance\u0027,\n",
              "    \u0027confidence\u0027: 0.9556239247322083},\n",
              "   {\u0027text\u0027: \u0027Steps to purchase health insurance?\u0027,\n",
              "    \u0027intent\u0027: \u0027health_insurance\u0027,\n",
              "    \u0027predicted\u0027: \u0027health_insurance\u0027,\n",
              "    \u0027confidence\u0027: 0.964930534362793},\n",
              "   {\u0027text\u0027: \u0027international Heath Insurance puchase?\u0027,\n",
              "    \u0027intent\u0027: \u0027health_insurance\u0027,\n",
              "    \u0027predicted\u0027: \u0027health_insurance\u0027,\n",
              "    \u0027confidence\u0027: 0.9673871994018555},\n",
              "   {\u0027text\u0027: \u0027What are the steps involved in immunization?\u0027,\n",
              "    \u0027intent\u0027: \u0027immunization\u0027,\n",
              "    \u0027predicted\u0027: \u0027immunization\u0027,\n",
              "    \u0027confidence\u0027: 0.9506269097328186},\n",
              "   {\u0027text\u0027: \u0027What all immunization do I need before getting to the USA?\u0027,\n",
              "    \u0027intent\u0027: \u0027immunization\u0027,\n",
              "    \u0027predicted\u0027: \u0027immunization\u0027,\n",
              "    \u0027confidence\u0027: 0.9551916718482971},\n",
              "   {\u0027text\u0027: \u0027Kind of immunization required before reaching?\u0027,\n",
              "    \u0027intent\u0027: \u0027immunization\u0027,\n",
              "    \u0027predicted\u0027: \u0027immunization\u0027,\n",
              "    \u0027confidence\u0027: 0.9627696871757507},\n",
              "   {\u0027text\u0027: \u0027What is the proof of immunization that needs to be submitted?\u0027,\n",
              "    \u0027intent\u0027: \u0027immunization\u0027,\n",
              "    \u0027predicted\u0027: \u0027immunization\u0027,\n",
              "    \u0027confidence\u0027: 0.9635588526725769},\n",
              "   {\u0027text\u0027: \u0027Where can I find the housing details of SJSU?\u0027,\n",
              "    \u0027intent\u0027: \u0027housing\u0027,\n",
              "    \u0027predicted\u0027: \u0027housing\u0027,\n",
              "    \u0027confidence\u0027: 0.9550350904464722},\n",
              "   {\u0027text\u0027: \u0027Accomodation in SJSU?\u0027,\n",
              "    \u0027intent\u0027: \u0027housing\u0027,\n",
              "    \u0027predicted\u0027: \u0027housing\u0027,\n",
              "    \u0027confidence\u0027: 0.9623421430587769},\n",
              "   {\u0027text\u0027: \u0027Accomodation for international students at SJSU?\u0027,\n",
              "    \u0027intent\u0027: \u0027housing\u0027,\n",
              "    \u0027predicted\u0027: \u0027housing\u0027,\n",
              "    \u0027confidence\u0027: 0.9739494323730469},\n",
              "   {\u0027text\u0027: \u0027Housing for students near SJSU?\u0027,\n",
              "    \u0027intent\u0027: \u0027housing\u0027,\n",
              "    \u0027predicted\u0027: \u0027housing\u0027,\n",
              "    \u0027confidence\u0027: 0.9613231420516968},\n",
              "   {\u0027text\u0027: \u0027Housing on campus?\u0027,\n",
              "    \u0027intent\u0027: \u0027housing\u0027,\n",
              "    \u0027predicted\u0027: \u0027housing\u0027,\n",
              "    \u0027confidence\u0027: 0.9570184946060181},\n",
              "   {\u0027text\u0027: \u0027How many courses do I need to register for?\u0027,\n",
              "    \u0027intent\u0027: \u0027course_registration\u0027,\n",
              "    \u0027predicted\u0027: \u0027course_registration\u0027,\n",
              "    \u0027confidence\u0027: 0.9458082914352417},\n",
              "   {\u0027text\u0027: \u0027How many credits are mandatory?\u0027,\n",
              "    \u0027intent\u0027: \u0027course_registration\u0027,\n",
              "    \u0027predicted\u0027: \u0027course_registration\u0027,\n",
              "    \u0027confidence\u0027: 0.9394777417182922},\n",
              "   {\u0027text\u0027: \u0027Number of credits at SJSU?\u0027,\n",
              "    \u0027intent\u0027: \u0027course_registration\u0027,\n",
              "    \u0027predicted\u0027: \u0027course_registration\u0027,\n",
              "    \u0027confidence\u0027: 0.9435980916023254},\n",
              "   {\u0027text\u0027: \u0027SJSU credits for F1 students?\u0027,\n",
              "    \u0027intent\u0027: \u0027course_registration\u0027,\n",
              "    \u0027predicted\u0027: \u0027course_registration\u0027,\n",
              "    \u0027confidence\u0027: 0.9530459642410278},\n",
              "   {\u0027text\u0027: \u0027Where can I find details about my tution fees?\u0027,\n",
              "    \u0027intent\u0027: \u0027tution\u0027,\n",
              "    \u0027predicted\u0027: \u0027tution\u0027,\n",
              "    \u0027confidence\u0027: 0.9537972807884216},\n",
              "   {\u0027text\u0027: \u0027Information about tution fees?\u0027,\n",
              "    \u0027intent\u0027: \u0027tution\u0027,\n",
              "    \u0027predicted\u0027: \u0027tution\u0027,\n",
              "    \u0027confidence\u0027: 0.9282251000404358},\n",
              "   {\u0027text\u0027: \u0027When do I have to pay for tution fees?\u0027,\n",
              "    \u0027intent\u0027: \u0027tution\u0027,\n",
              "    \u0027predicted\u0027: \u0027tution\u0027,\n",
              "    \u0027confidence\u0027: 0.9414145946502686},\n",
              "   {\u0027text\u0027: \u0027When can I register for the courses?\u0027,\n",
              "    \u0027intent\u0027: \u0027tution\u0027,\n",
              "    \u0027predicted\u0027: \u0027tution\u0027,\n",
              "    \u0027confidence\u0027: 0.9364476203918457},\n",
              "   {\u0027text\u0027: \u0027Where do I pay my tution?\u0027,\n",
              "    \u0027intent\u0027: \u0027tution\u0027,\n",
              "    \u0027predicted\u0027: \u0027tution\u0027,\n",
              "    \u0027confidence\u0027: 0.9548283815383911},\n",
              "   {\u0027text\u0027: \u0027Where can I get my ID?\u0027,\n",
              "    \u0027intent\u0027: \u0027tower_ID\u0027,\n",
              "    \u0027predicted\u0027: \u0027tower_ID\u0027,\n",
              "    \u0027confidence\u0027: 0.941452145576477},\n",
              "   {\u0027text\u0027: \u0027Do I need an ID?\u0027,\n",
              "    \u0027intent\u0027: \u0027tower_ID\u0027,\n",
              "    \u0027predicted\u0027: \u0027tower_ID\u0027,\n",
              "    \u0027confidence\u0027: 0.9308232665061951},\n",
              "   {\u0027text\u0027: \u0027Procedure to get an ID?\u0027,\n",
              "    \u0027intent\u0027: \u0027tower_ID\u0027,\n",
              "    \u0027predicted\u0027: \u0027tower_ID\u0027,\n",
              "    \u0027confidence\u0027: 0.9237596988677979},\n",
              "   {\u0027text\u0027: \u0027Documents required to get an ID?\u0027,\n",
              "    \u0027intent\u0027: \u0027tower_ID\u0027,\n",
              "    \u0027predicted\u0027: \u0027tower_ID\u0027,\n",
              "    \u0027confidence\u0027: 0.9332500696182251},\n",
              "   {\u0027text\u0027: \u0027How do I get my student ID?\u0027,\n",
              "    \u0027intent\u0027: \u0027tower_ID\u0027,\n",
              "    \u0027predicted\u0027: \u0027tower_ID\u0027,\n",
              "    \u0027confidence\u0027: 0.9309875965118408},\n",
              "   {\u0027text\u0027: \u0027Steps involved in getting student ID card?\u0027,\n",
              "    \u0027intent\u0027: \u0027tower_ID\u0027,\n",
              "    \u0027predicted\u0027: \u0027tower_ID\u0027,\n",
              "    \u0027confidence\u0027: 0.9314200282096863},\n",
              "   {\u0027text\u0027: \u0027A dog\u0027,\n",
              "    \u0027intent\u0027: \u0027inform\u0027,\n",
              "    \u0027predicted\u0027: \u0027inform\u0027,\n",
              "    \u0027confidence\u0027: 0.9518046975135803},\n",
              "   {\u0027text\u0027: \u0027dog\u0027,\n",
              "    \u0027intent\u0027: \u0027inform\u0027,\n",
              "    \u0027predicted\u0027: \u0027inform\u0027,\n",
              "    \u0027confidence\u0027: 0.9518046975135803},\n",
              "   {\u0027text\u0027: \u0027bird\u0027,\n",
              "    \u0027intent\u0027: \u0027inform\u0027,\n",
              "    \u0027predicted\u0027: \u0027inform\u0027,\n",
              "    \u0027confidence\u0027: 0.9386045336723328},\n",
              "   {\u0027text\u0027: \u0027a cat\u0027,\n",
              "    \u0027intent\u0027: \u0027inform\u0027,\n",
              "    \u0027predicted\u0027: \u0027inform\u0027,\n",
              "    \u0027confidence\u0027: 0.9526057839393616},\n",
              "   {\u0027text\u0027: \u0027cat\u0027,\n",
              "    \u0027intent\u0027: \u0027inform\u0027,\n",
              "    \u0027predicted\u0027: \u0027inform\u0027,\n",
              "    \u0027confidence\u0027: 0.9526057839393616},\n",
              "   {\u0027text\u0027: \u0027a bird\u0027,\n",
              "    \u0027intent\u0027: \u0027inform\u0027,\n",
              "    \u0027predicted\u0027: \u0027inform\u0027,\n",
              "    \u0027confidence\u0027: 0.9386045336723328},\n",
              "   {\u0027text\u0027: \u0027of a dog\u0027,\n",
              "    \u0027intent\u0027: \u0027inform\u0027,\n",
              "    \u0027predicted\u0027: \u0027inform\u0027,\n",
              "    \u0027confidence\u0027: 0.9530016183853149},\n",
              "   {\u0027text\u0027: \u0027of a cat\u0027,\n",
              "    \u0027intent\u0027: \u0027inform\u0027,\n",
              "    \u0027predicted\u0027: \u0027inform\u0027,\n",
              "    \u0027confidence\u0027: 0.9524248242378235},\n",
              "   {\u0027text\u0027: \u0027a bird, please\u0027,\n",
              "    \u0027intent\u0027: \u0027inform\u0027,\n",
              "    \u0027predicted\u0027: \u0027inform\u0027,\n",
              "    \u0027confidence\u0027: 0.9476047158241272},\n",
              "   {\u0027text\u0027: \u0027a dog, please\u0027,\n",
              "    \u0027intent\u0027: \u0027inform\u0027,\n",
              "    \u0027predicted\u0027: \u0027inform\u0027,\n",
              "    \u0027confidence\u0027: 0.9504590034484863}],\n",
              "  \u0027report\u0027: \u0027                            precision    recall  f1-score   support\\n\\n                  E_verify       1.00      1.00      1.00         6\\n            Visa_interview       1.00      1.00      1.00         5\\n       course_registration       1.00      1.00      1.00         4\\n       customs_immigration       1.00      1.00      1.00         5\\n                   goodbye       1.00      0.91      0.95        11\\n                     greet       0.93      1.00      0.96        13\\n          health_insurance       1.00      1.00      1.00         4\\n                   housing       1.00      1.00      1.00         5\\n              immunization       1.00      1.00      1.00         4\\n                    inform       1.00      1.00      1.00        10\\n               mood_affirm       1.00      1.00      1.00         5\\n                 mood_deny       1.00      1.00      1.00         6\\n     questions_during_visa       1.00      1.00      1.00         5\\n              student_work       1.00      1.00      1.00         2\\nstudent_work_authorization       1.00      1.00      1.00         5\\n      student_work_timings       1.00      1.00      1.00         4\\n                     taxes       1.00      1.00      1.00         4\\n                  tower_ID       1.00      1.00      1.00         6\\n               travel_date       1.00      1.00      1.00         2\\n                    tution       1.00      1.00      1.00         5\\n\\n                 micro avg       0.99      0.99      0.99       111\\n                 macro avg       1.00      1.00      1.00       111\\n              weighted avg       0.99      0.99      0.99       111\\n\u0027,\n",
              "  \u0027precision\u0027: 0.9916344916344916,\n",
              "  \u0027f1_score\u0027: 0.9909433242766575,\n",
              "  \u0027accuracy\u0027: 0.990990990990991},\n",
              " \u0027entity_evaluation\u0027: {\u0027ner_crf\u0027: {\u0027report\u0027: \u0027              precision    recall  f1-score   support\\n\\n       group       1.00      1.00      1.00        10\\n   no_entity       1.00      1.00      1.00       508\\n\\n   micro avg       1.00      1.00      1.00       518\\n   macro avg       1.00      1.00      1.00       518\\nweighted avg       1.00      1.00      1.00       518\\n\u0027,\n",
              "   \u0027precision\u0027: 1.0,\n",
              "   \u0027f1_score\u0027: 1.0,\n",
              "   \u0027accuracy\u0027: 1.0}}}"
            ]
          },
          "execution_count": 120,
          "metadata": {},
          "output_type": "execute_result"
        }
      ],
      "source": [
        "from rasa_nlu.evaluate import run_evaluation\n",
        "\n",
        "run_evaluation(\"nlu.md\", model_directory)"
      ]
    },
    {
      "cell_type": "markdown",
      "metadata": {
        "colab_type": "text",
        "id": "Av3R2GZZ-WJO",
        "pycharm": {}
      },
      "source": [
        "# 2. Teaching the bot to respond using Rasa Core"
      ]
    },
    {
      "cell_type": "markdown",
      "metadata": {
        "colab_type": "text",
        "id": "BKZ63AuS-ZPV",
        "pycharm": {}
      },
      "source": [
        "## 1. Writing  Stories"
      ]
    },
    {
      "cell_type": "markdown",
      "metadata": {
        "colab": {
          "base_uri": "https://localhost:8080/",
          "height": 34
        },
        "colab_type": "code",
        "id": "W3q1XJ5O4orY",
        "outputId": "a82511c7-b7e5-462c-c5c2-35df3cabd39a",
        "pycharm": {
          "is_executing": false,
          "name": "#%% md\n"
        }
      },
      "source": "stories_md \u003d \"\"\"\n\n\n## Entry_greet\n* greet\n  - utter_greet\n  \n## say goodbye\n* goodbye\n  - utter_goodbye\n\u003e goodbye_checkpoint\n\n## question_1_Affirm\n* student_work_authorization\n  - utter_answer_for_work_authorization\n  - utter_did_that_help\n* mood_affirm\n  - utter_goodbye\n  \n## question_1_deny\n* student_work_authorization\n  - utter_answer_for_work_authorization\n  - utter_did_that_help\n* mood_deny\n  - utter_unclear\n\n## question_1_deny_2\n* student_work_authorization\n  - utter_answer_for_work_authorization\n  - utter_did_that_help\n* mood_deny\n  - utter_unclear\n* mood_deny\n  - utter_okay\n  - utter_goodbye\n  \n  \n## question_2_Affirm\n* student_work\n  - utter_answer_for_student_work\n  - utter_did_that_help\n* mood_affirm\n  - utter_goodbye\n\n## question_2_deny\n* student_work\n  - utter_answer_for_student_work\n  - utter_did_that_help\n* mood_deny\n  - utter_unclear\n\n## question_2_deny_2\n* student_work\n  - utter_answer_for_student_work\n  - utter_did_that_help\n* mood_deny\n  - utter_unclear\n* mood_deny\n  - utter_okay\n  - utter_goodbye\n\n##timings\n* student_work_timings\n  - utter_answer_for_work_timings\n  - utter_did_that_help\n* mood_affirm\n  - utter_goodbye\n  \n## timings deny\n* student_work_timings\n  - utter_answer_for_work_timings\n  - utter_did_that_help\n* mood_deny\n  - utter_unclear\n    \n## timings deny2\n* student_work_timings\n  - utter_answer_for_work_timings\n  - utter_did_that_help\n* mood_deny\n  - utter_unclear\n* mood_deny\n  - utter_okay\n  - utter_goodbye\n\n##taxes\n* taxes\n  - utter_answer_for_taxes\n  - utter_did_that_help\n* mood_affirm\n  - utter_goodbye\n  \n##taxes deny\n* taxes\n  - utter_answer_for_taxes\n  - utter_did_that_help\n* mood_deny\n  - utter_unclear\n  \n##taxes deny 2\n* taxes\n  - utter_answer_for_taxes\n  - utter_did_that_help\n* mood_deny\n  - utter_unclear\n* mood_deny\n  - utter_okay\n  - utter_goodbye\n  \n## verify\n* E_verify\n  - utter_answer_E_verify\n  - utter_did_that_help\n* mood_affirm\n  - utter_goodbye\n  \n## verify deny\n* E_verify\n  - utter_answer_E_verify\n  - utter_did_that_help\n* mood_deny\n  - utter_unclear\n  \n## verify deny2\n* E_verify\n  - utter_answer_E_verify\n  - utter_did_that_help\n* mood_deny\n  - utter_unclear\n* mood_deny\n  - utter_okay\n  - utter_goodbye\n\n## Visa_interview\n* Visa_interview\n  - utter_answer_Visa_interview\n  - utter_did_that_help\n* mood_affirm\n  - utter_goodbye\n\n## Visa_interview_deny\n* Visa_interview\n  - utter_answer_Visa_interview\n  - utter_did_that_help\n* mood_deny\n  - utter_unclear\n  \n## Visa_interview deny2\n* Visa_interview\n  - utter_answer_Visa_interview\n  - utter_did_that_help\n* mood_deny\n  - utter_unclear\n* mood_deny\n  - utter_okay\n  - utter_goodbye\n  \n## travel_date\n* travel_date\n  - utter_answer_travel_date\n  - utter_did_that_help\n* mood_affirm\n  - utter_goodbye\n  \n## travel_date deny\n* travel_date\n  - utter_answer_travel_date\n  - utter_did_that_help\n* mood_deny\n  - utter_unclear\n  \n## travel_date deny2\n* travel_date\n  - utter_answer_travel_date\n  - utter_did_that_help\n* mood_deny\n  - utter_unclear\n* mood_deny\n  - utter_okay\n  - utter_goodbye\n\n##customs_immigration\n* customs_immigration\n  - utter_answer_customs_immigration\n  - utter_did_that_help\n* mood_affirm\n  - utter_goodbye\n  \n##customs_immigration deny\n* customs_immigration\n  - utter_answer_customs_immigration\n  - utter_did_that_help\n* mood_deny\n  - utter_unclear\n\n##customs_immigration deny2\n* customs_immigration\n  - utter_answer_customs_immigration\n  - utter_did_that_help\n* mood_deny\n  - utter_unclear\n* mood_deny\n  - utter_okay\n  - utter_goodbye\n  \n##questions_during_visa\n* questions_during_visa\n  - utter_answer_questions_during_visa\n  - utter_did_that_help\n* mood_affirm\n  - utter_goodbye\n\n##questions_during_visa deny\n* questions_during_visa\n  - utter_answer_questions_during_visa\n  - utter_did_that_help\n* mood_deny\n  - utter_unclear\n\n##questions_during_visa deny2\n* questions_during_visa\n  - utter_answer_questions_during_visa\n  - utter_did_that_help\n* mood_deny\n  - utter_unclear\n* mood_deny\n  - utter_okay\n  - utter_goodbye\n  \n##health_insurance\n* health_insurance\n  - utter_answer_health_insurance\n  - utter_did_that_help\n* mood_affirm\n  - utter_goodbye\n\n##health_insurance deny\n* health_insurance\n  - utter_answer_health_insurance\n  - utter_did_that_help\n* mood_deny\n  - utter_unclear\n  \n##health_insurance deny2\n* health_insurance\n  - utter_answer_health_insurance\n  - utter_did_that_help\n* mood_deny\n  - utter_unclear\n* mood_deny\n  - utter_okay\n  - utter_goodbye\n  \n##immunization\n* immunization\n  - utter_answer_immunization\n  - utter_did_that_help\n* mood_affirm\n  - utter_goodbye\n\n##immunization deny\n* immunization\n  - utter_answer_immunization\n  - utter_did_that_help\n* mood_deny\n  - utter_unclear\n\n  \n##immunization deny2\n* immunization\n  - utter_answer_immunization\n  - utter_did_that_help\n* mood_deny\n  - utter_unclear\n* mood_deny\n  - utter_okay\n  - utter_goodbye\n    \n##housing\n* housing\n  - utter_answer_housing\n  - utter_did_that_help\n* mood_affirm\n  - utter_goodbye\n  \n##housing deny\n* housing\n  - utter_answer_housing\n  - utter_did_that_help\n* mood_deny\n  - utter_unclear\n  \n##housing deny2\n* housing\n  - utter_answer_housing\n  - utter_did_that_help\n* mood_deny\n  - utter_unclear\n* mood_deny\n  - utter_okay\n  - utter_goodbye\n  \n##course_registration\n* course_registration\n  - utter_answer_course_registration\n  - utter_did_that_help\n* mood_affirm\n  - utter_goodbye\n  \n##course_registration deny\n* course_registration\n  - utter_answer_course_registration\n  - utter_did_that_help\n* mood_deny\n  - utter_unclear\n\n##course_registration deny2\n* course_registration\n  - utter_answer_course_registration\n  - utter_did_that_help\n* mood_deny\n  - utter_unclear\n* mood_deny\n  - utter_okay\n  - utter_goodbye\n  \n  \n##tution\n* tution\n  - utter_answer_tution\n  - utter_did_that_help\n* mood_affirm\n  - utter_goodbye\n  \n##tution\n* tution\n  - utter_answer_tution\n  - utter_did_that_help\n* mood_deny\n  - utter_unclear\n\n  \n##tution\n* tution\n  - utter_answer_tution\n  - utter_did_that_help\n* mood_deny\n  - utter_unclear\n* mood_deny\n  - utter_okay\n  - utter_goodbye\n  \n##tower_ID\n* tution\n  - utter_answer_tower_ID\n  - utter_did_that_help\n* mood_affirm\n  - utter_goodbye\n\n##tower_ID\n* tution\n  - utter_answer_tower_ID\n  - utter_did_that_help\n* mood_deny\n  - utter_unclear\n  \n##tower_ID\n* tution\n  - utter_answer_tower_ID\n  - utter_did_that_help\n* mood_deny\n  - utter_unclear\n* mood_deny\n  - utter_okay\n  - utter_goodbye\n  \n  \n## fallback\n- utter_unclear\n\n\"\"\"\n\n%store stories_md \u003e stories.md"
    },
    {
      "cell_type": "markdown",
      "metadata": {
        "colab_type": "text",
        "id": "LnD9v_CX-ePm",
        "pycharm": {}
      },
      "source": [
        "## 2. Defining a Domain"
      ]
    },
    {
      "cell_type": "code",
      "execution_count": null,
      "metadata": {
        "pycharm": {}
      },
      "outputs": [],
      "source": []
    },
    {
      "cell_type": "markdown",
      "metadata": {
        "colab_type": "text",
        "id": "ROL3AYs5-iCg",
        "pycharm": {}
      },
      "source": [
        "## Custom Actions"
      ]
    },
    {
      "cell_type": "code",
      "execution_count": 122,
      "metadata": {
        "colab": {},
        "colab_type": "code",
        "id": "7SbmLMJa5X0E",
        "pycharm": {
          "is_executing": false
        }
      },
      "outputs": [
        {
          "data": {
            "text/plain": [
              "\u0027from rasa_core.actions import Action\\nfrom rasa_core.events import SlotSet\\nfrom IPython.core.display import Image, display\\n\\nimport requests\\n\\nclass ApiAction(Action):\\n    def name(self):\\n        return \"action_retrieve_image\"\\n\\n    def run(self, dispatcher, tracker, domain):\\n        \\n        group \u003d tracker.get_slot(\\\u0027group\\\u0027)\\n        \\n        r \u003d requests.get(\\\u0027http://shibe.online/api/{}?count\u003d1\u0026urls\u003dtrue\u0026httpsUrls\u003dtrue\\\u0027.format(group))\\n        response \u003d r.content.decode()\\n        response \u003d response.replace(\\\u0027[\"\\\u0027,\"\")\\n        response \u003d response.replace(\\\u0027\"]\\\u0027,\"\")\\n   \\n        \\n        #display(Image(response[0], height\u003d550, width\u003d520))\\n        dispatcher.utter_message(\"Here is something to cheer you up: {}\".format(response))\u0027"
            ]
          },
          "execution_count": 122,
          "metadata": {},
          "output_type": "execute_result"
        }
      ],
      "source": [
        "\u0027\u0027\u0027from rasa_core.actions import Action\n",
        "from rasa_core.events import SlotSet\n",
        "from IPython.core.display import Image, display\n",
        "\n",
        "import requests\n",
        "\n",
        "class ApiAction(Action):\n",
        "    def name(self):\n",
        "        return \"action_retrieve_image\"\n",
        "\n",
        "    def run(self, dispatcher, tracker, domain):\n",
        "        \n",
        "        group \u003d tracker.get_slot(\u0027group\u0027)\n",
        "        \n",
        "        r \u003d requests.get(\u0027http://shibe.online/api/{}?count\u003d1\u0026urls\u003dtrue\u0026httpsUrls\u003dtrue\u0027.format(group))\n",
        "        response \u003d r.content.decode()\n",
        "        response \u003d response.replace(\u0027[\"\u0027,\"\")\n",
        "        response \u003d response.replace(\u0027\"]\u0027,\"\")\n",
        "   \n",
        "        \n",
        "        #display(Image(response[0], height\u003d550, width\u003d520))\n",
        "        dispatcher.utter_message(\"Here is something to cheer you up: {}\".format(response))\u0027\u0027\u0027"
      ]
    },
    {
      "cell_type": "markdown",
      "metadata": {
        "colab_type": "text",
        "id": "M-jn1g_k-o-m",
        "pycharm": {}
      },
      "source": [
        "##  Visualising the Training Data"
      ]
    },
    {
      "cell_type": "markdown",
      "metadata": {
        "colab": {},
        "colab_type": "code",
        "id": "pXZhTaSw9SNR",
        "pycharm": {}
      },
      "source": [
        "## Install these packages\n",
        "!apt-get -qq install -y graphviz libgraphviz-dev pkg-config;\n",
        "!breq install graphviz\n",
        "\n",
        "!{python} -m pip install pygraphviz;"
      ]
    },
    {
      "cell_type": "code",
      "execution_count": 123,
      "metadata": {
        "colab": {
          "base_uri": "https://localhost:8080/",
          "height": 1090
        },
        "colab_type": "code",
        "id": "O1gYRXe15amU",
        "outputId": "9c0838e3-56c1-4eeb-a879-cc09619269d3",
        "pycharm": {
          "is_executing": false
        }
      },
      "outputs": [
        {
          "name": "stderr",
          "output_type": "stream",
          "text": [
            "WARNING:rasa_core.training.dsl:Found unknown intent \u0027questions_during_visa\u0027 on line 207. Please, make sure that all intents are listed in your domain yaml.\n",
            "WARNING:rasa_core.training.dsl:Found unknown intent \u0027questions_during_visa\u0027 on line 214. Please, make sure that all intents are listed in your domain yaml.\n",
            "WARNING:rasa_core.training.dsl:Found unknown intent \u0027questions_during_visa\u0027 on line 221. Please, make sure that all intents are listed in your domain yaml.\n",
            "WARNING:rasa_core.training.dsl:Found unknown intent \u0027immunization\u0027 on line 255. Please, make sure that all intents are listed in your domain yaml.\n",
            "WARNING:rasa_core.training.dsl:Found unknown intent \u0027immunization\u0027 on line 262. Please, make sure that all intents are listed in your domain yaml.\n",
            "WARNING:rasa_core.training.dsl:Found unknown intent \u0027immunization\u0027 on line 270. Please, make sure that all intents are listed in your domain yaml.\n",
            "Processed Story Blocks:   0%|          | 0/48 [00:00\u003c?, ?it/s, # trackers\u003d1]WARNING:rasa_core.domain:Failed to use action \u0027utter_okay\u0027 in history. Please make sure all actions are listed in the domains action list. If you recently removed an action, don\u0027t worry about this warning. It should stop appearing after a while. \n",
            "Processed Story Blocks:   0%|          | 0/48 [00:00\u003c?, ?it/s, # trackers\u003d1]WARNING:rasa_core.domain:Failed to use action \u0027utter_okay\u0027 in history. Please make sure all actions are listed in the domains action list. If you recently removed an action, don\u0027t worry about this warning. It should stop appearing after a while. \n",
            "Processed Story Blocks:   0%|          | 0/48 [00:00\u003c?, ?it/s, # trackers\u003d1]WARNING:rasa_core.domain:Failed to use action \u0027utter_okay\u0027 in history. Please make sure all actions are listed in the domains action list. If you recently removed an action, don\u0027t worry about this warning. It should stop appearing after a while. \n",
            "Processed Story Blocks:   0%|          | 0/48 [00:00\u003c?, ?it/s, # trackers\u003d1]WARNING:rasa_core.domain:Failed to use action \u0027utter_okay\u0027 in history. Please make sure all actions are listed in the domains action list. If you recently removed an action, don\u0027t worry about this warning. It should stop appearing after a while. \n",
            "Processed Story Blocks:   0%|          | 0/48 [00:00\u003c?, ?it/s, # trackers\u003d1]WARNING:rasa_core.domain:Failed to use action \u0027utter_okay\u0027 in history. Please make sure all actions are listed in the domains action list. If you recently removed an action, don\u0027t worry about this warning. It should stop appearing after a while. \n",
            "Processed Story Blocks:   0%|          | 0/48 [00:00\u003c?, ?it/s, # trackers\u003d1]WARNING:rasa_core.domain:Failed to use action \u0027utter_okay\u0027 in history. Please make sure all actions are listed in the domains action list. If you recently removed an action, don\u0027t worry about this warning. It should stop appearing after a while. \n",
            "Processed Story Blocks:   0%|          | 0/48 [00:00\u003c?, ?it/s, # trackers\u003d1]WARNING:rasa_core.domain:Failed to use action \u0027utter_okay\u0027 in history. Please make sure all actions are listed in the domains action list. If you recently removed an action, don\u0027t worry about this warning. It should stop appearing after a while. \n",
            "Processed Story Blocks:   0%|          | 0/48 [00:00\u003c?, ?it/s, # trackers\u003d1]WARNING:rasa_core.domain:Failed to use action \u0027utter_okay\u0027 in history. Please make sure all actions are listed in the domains action list. If you recently removed an action, don\u0027t worry about this warning. It should stop appearing after a while. \n",
            "Processed Story Blocks:   0%|          | 0/48 [00:00\u003c?, ?it/s, # trackers\u003d1]WARNING:rasa_core.domain:Failed to use action \u0027utter_okay\u0027 in history. Please make sure all actions are listed in the domains action list. If you recently removed an action, don\u0027t worry about this warning. It should stop appearing after a while. \n",
            "Processed Story Blocks:   0%|          | 0/48 [00:00\u003c?, ?it/s, # trackers\u003d1]WARNING:rasa_core.domain:Failed to use action \u0027utter_okay\u0027 in history. Please make sure all actions are listed in the domains action list. If you recently removed an action, don\u0027t worry about this warning. It should stop appearing after a while. \n",
            "Processed Story Blocks:   0%|          | 0/48 [00:00\u003c?, ?it/s, # trackers\u003d1]WARNING:rasa_core.domain:Failed to use action \u0027utter_okay\u0027 in history. Please make sure all actions are listed in the domains action list. If you recently removed an action, don\u0027t worry about this warning. It should stop appearing after a while. \n",
            "Processed Story Blocks:   0%|          | 0/48 [00:00\u003c?, ?it/s, # trackers\u003d1]WARNING:rasa_core.domain:Failed to use action \u0027utter_okay\u0027 in history. Please make sure all actions are listed in the domains action list. If you recently removed an action, don\u0027t worry about this warning. It should stop appearing after a while. \n",
            "Processed Story Blocks:   0%|          | 0/48 [00:00\u003c?, ?it/s, # trackers\u003d1]WARNING:rasa_core.domain:Failed to use action \u0027utter_okay\u0027 in history. Please make sure all actions are listed in the domains action list. If you recently removed an action, don\u0027t worry about this warning. It should stop appearing after a while. \n",
            "Processed Story Blocks:   0%|          | 0/48 [00:00\u003c?, ?it/s, # trackers\u003d1]WARNING:rasa_core.domain:Failed to use action \u0027utter_okay\u0027 in history. Please make sure all actions are listed in the domains action list. If you recently removed an action, don\u0027t worry about this warning. It should stop appearing after a while. \n",
            "Processed Story Blocks:   0%|          | 0/48 [00:00\u003c?, ?it/s, # trackers\u003d1]WARNING:rasa_core.domain:Failed to use action \u0027utter_okay\u0027 in history. Please make sure all actions are listed in the domains action list. If you recently removed an action, don\u0027t worry about this warning. It should stop appearing after a while. \n",
            "Processed Story Blocks: 100%|██████████| 48/48 [00:00\u003c00:00, 876.56it/s, # trackers\u003d1]\n",
            "Processed Story Blocks: 100%|██████████| 48/48 [00:00\u003c00:00, 160547.52it/s]\n",
            "WARNING:rasa_core.training.generator:Unsatisfied end checkpoint \u0027goodbye_checkpoint\u0027 in block \u0027say goodbye\u0027. Remove this checkpoint or add story blocks that start with this checkpoint.\n"
          ]
        },
        {
          "data": {
            "image/png": "[encoded data removed]",
            "text/plain": [
              "\u003cIPython.core.display.Image object\u003e"
            ]
          },
          "execution_count": 123,
          "metadata": {},
          "output_type": "execute_result"
        }
      ],
      "source": [
        "\n",
        "from IPython.display import Image\n",
        "from rasa_core.agent import Agent\n",
        "\n",
        "agent \u003d Agent(\u0027domain.yml\u0027)\n",
        "agent.visualize(\"stories.md\", \"story_graph.png\", max_history\u003d2)\n",
        "Image(filename\u003d\"story_graph.png\")"
      ]
    },
    {
      "cell_type": "code",
      "execution_count": 134,
      "metadata": {
        "pycharm": {
          "is_executing": false
        }
      },
      "outputs": [
        {
          "name": "stdout",
          "output_type": "stream",
          "text": [
            "Writing \u0027config\u0027 (str) to file \u0027config.yml\u0027.\n"
          ]
        }
      ],
      "source": [
        "\n",
        "config \u003d \"\"\"\n",
        "policies:\n",
        "  - name: \"KerasPolicy\"\n",
        "    epochs: 300\n",
        "    featurizer:\n",
        "    - name: MaxHistoryTrackerFeaturizer\n",
        "      max_history: 2\n",
        "      state_featurizer:\n",
        "        - name: BinarySingleStateFeaturizer\n",
        "  - name: \"MemoizationPolicy\"\n",
        "    max_history: 2\n",
        "  - name: \"FallbackPolicy\"\n",
        "    nlu_threshold: 0.5\n",
        "    core_threshold: 0.2\n",
        "    fallback_action_name: \"utter_unclear\"\n",
        "\"\"\" \n",
        "\n",
        "%store config \u003e config.yml\n"
      ]
    },
    {
      "cell_type": "code",
      "execution_count": 135,
      "metadata": {
        "pycharm": {
          "is_executing": false,
          "metadata": false,
          "name": "#%%\n"
        }
      },
      "outputs": [
        {
          "name": "stdout",
          "output_type": "stream",
          "text": [
            "config.yml                      stories.md\r\n",
            "domain.yml                      stories_backup.md\r\n",
            "errors.json                     story_graph.png\r\n",
            "\u001b[34mmodels\u001b[m\u001b[m                          student_assistant_chatbot.ipynb\r\n",
            "nlu.md\r\n"
          ]
        }
      ],
      "source": [
        "!ls\n"
      ]
    },
    {
      "cell_type": "markdown",
      "metadata": {
        "colab_type": "text",
        "id": "pCdKD3l7-ua8",
        "pycharm": {}
      },
      "source": [
        "## Training a Dialogue Model"
      ]
    },
    {
      "cell_type": "code",
      "execution_count": 136,
      "metadata": {
        "colab": {
          "base_uri": "https://localhost:8080/",
          "height": 7364
        },
        "colab_type": "code",
        "id": "4D7R-FRO5dxz",
        "outputId": "727adf2a-fa4b-4158-df94-30ad472f62f3",
        "pycharm": {
          "is_executing": false
        }
      },
      "outputs": [
        {
          "name": "stderr",
          "output_type": "stream",
          "text": [
            "WARNING:rasa_core.training.dsl:Found unknown intent \u0027questions_during_visa\u0027 on line 207. Please, make sure that all intents are listed in your domain yaml.\n",
            "WARNING:rasa_core.training.dsl:Found unknown intent \u0027questions_during_visa\u0027 on line 214. Please, make sure that all intents are listed in your domain yaml.\n",
            "WARNING:rasa_core.training.dsl:Found unknown intent \u0027questions_during_visa\u0027 on line 221. Please, make sure that all intents are listed in your domain yaml.\n",
            "WARNING:rasa_core.training.dsl:Found unknown intent \u0027immunization\u0027 on line 255. Please, make sure that all intents are listed in your domain yaml.\n",
            "WARNING:rasa_core.training.dsl:Found unknown intent \u0027immunization\u0027 on line 262. Please, make sure that all intents are listed in your domain yaml.\n",
            "WARNING:rasa_core.training.dsl:Found unknown intent \u0027immunization\u0027 on line 270. Please, make sure that all intents are listed in your domain yaml.\n",
            "Processed Story Blocks: 100%|██████████| 48/48 [00:00\u003c00:00, 999.17it/s, # trackers\u003d1]\n",
            "Processed Story Blocks: 100%|██████████| 48/48 [00:00\u003c00:00, 175066.60it/s]\n",
            "Processed Story Blocks: 100%|██████████| 48/48 [00:00\u003c00:00, 580.28it/s, # trackers\u003d4]\n",
            "Processed Story Blocks: 100%|██████████| 48/48 [00:00\u003c00:00, 623.51it/s, # trackers\u003d3]\n",
            "Processed Story Blocks: 100%|██████████| 48/48 [00:00\u003c00:00, 441.93it/s, # trackers\u003d5]\n",
            "WARNING:rasa_core.training.generator:Unsatisfied end checkpoint \u0027goodbye_checkpoint\u0027 in block \u0027say goodbye\u0027. Remove this checkpoint or add story blocks that start with this checkpoint.\n",
            "INFO:rasa_core.policies.keras_policy:Fitting model with 168 total samples and a validation split of 0.1\n"
          ]
        },
        {
          "name": "stdout",
          "output_type": "stream",
          "text": [
            "_________________________________________________________________\n",
            "Layer (type)                 Output Shape              Param #   \n",
            "\u003d\u003d\u003d\u003d\u003d\u003d\u003d\u003d\u003d\u003d\u003d\u003d\u003d\u003d\u003d\u003d\u003d\u003d\u003d\u003d\u003d\u003d\u003d\u003d\u003d\u003d\u003d\u003d\u003d\u003d\u003d\u003d\u003d\u003d\u003d\u003d\u003d\u003d\u003d\u003d\u003d\u003d\u003d\u003d\u003d\u003d\u003d\u003d\u003d\u003d\u003d\u003d\u003d\u003d\u003d\u003d\u003d\u003d\u003d\u003d\u003d\u003d\u003d\u003d\u003d\n",
            "masking (Masking)            (None, 2, 52)             0         \n",
            "_________________________________________________________________\n",
            "lstm (LSTM)                  (None, 32)                10880     \n",
            "_________________________________________________________________\n",
            "dense (Dense)                (None, 30)                990       \n",
            "_________________________________________________________________\n",
            "activation (Activation)      (None, 30)                0         \n",
            "\u003d\u003d\u003d\u003d\u003d\u003d\u003d\u003d\u003d\u003d\u003d\u003d\u003d\u003d\u003d\u003d\u003d\u003d\u003d\u003d\u003d\u003d\u003d\u003d\u003d\u003d\u003d\u003d\u003d\u003d\u003d\u003d\u003d\u003d\u003d\u003d\u003d\u003d\u003d\u003d\u003d\u003d\u003d\u003d\u003d\u003d\u003d\u003d\u003d\u003d\u003d\u003d\u003d\u003d\u003d\u003d\u003d\u003d\u003d\u003d\u003d\u003d\u003d\u003d\u003d\n",
            "Total params: 11,870\n",
            "Trainable params: 11,870\n",
            "Non-trainable params: 0\n",
            "_________________________________________________________________\n",
            "Epoch 1/300\n",
            "168/168 [\u003d\u003d\u003d\u003d\u003d\u003d\u003d\u003d\u003d\u003d\u003d\u003d\u003d\u003d\u003d\u003d\u003d\u003d\u003d\u003d\u003d\u003d\u003d\u003d\u003d\u003d\u003d\u003d\u003d\u003d] - 1s 5ms/step - loss: 3.3931 - acc: 0.0357\n",
            "Epoch 2/300\n",
            "168/168 [\u003d\u003d\u003d\u003d\u003d\u003d\u003d\u003d\u003d\u003d\u003d\u003d\u003d\u003d\u003d\u003d\u003d\u003d\u003d\u003d\u003d\u003d\u003d\u003d\u003d\u003d\u003d\u003d\u003d\u003d] - 0s 145us/step - loss: 3.3670 - acc: 0.1310\n",
            "Epoch 3/300\n",
            "168/168 [\u003d\u003d\u003d\u003d\u003d\u003d\u003d\u003d\u003d\u003d\u003d\u003d\u003d\u003d\u003d\u003d\u003d\u003d\u003d\u003d\u003d\u003d\u003d\u003d\u003d\u003d\u003d\u003d\u003d\u003d] - 0s 136us/step - loss: 3.3558 - acc: 0.1905\n",
            "Epoch 4/300\n",
            "168/168 [\u003d\u003d\u003d\u003d\u003d\u003d\u003d\u003d\u003d\u003d\u003d\u003d\u003d\u003d\u003d\u003d\u003d\u003d\u003d\u003d\u003d\u003d\u003d\u003d\u003d\u003d\u003d\u003d\u003d\u003d] - 0s 138us/step - loss: 3.3411 - acc: 0.2321\n",
            "Epoch 5/300\n",
            "168/168 [\u003d\u003d\u003d\u003d\u003d\u003d\u003d\u003d\u003d\u003d\u003d\u003d\u003d\u003d\u003d\u003d\u003d\u003d\u003d\u003d\u003d\u003d\u003d\u003d\u003d\u003d\u003d\u003d\u003d\u003d] - 0s 134us/step - loss: 3.3280 - acc: 0.2500\n",
            "Epoch 6/300\n",
            "168/168 [\u003d\u003d\u003d\u003d\u003d\u003d\u003d\u003d\u003d\u003d\u003d\u003d\u003d\u003d\u003d\u003d\u003d\u003d\u003d\u003d\u003d\u003d\u003d\u003d\u003d\u003d\u003d\u003d\u003d\u003d] - 0s 130us/step - loss: 3.3127 - acc: 0.2560\n",
            "Epoch 7/300\n",
            "168/168 [\u003d\u003d\u003d\u003d\u003d\u003d\u003d\u003d\u003d\u003d\u003d\u003d\u003d\u003d\u003d\u003d\u003d\u003d\u003d\u003d\u003d\u003d\u003d\u003d\u003d\u003d\u003d\u003d\u003d\u003d] - 0s 137us/step - loss: 3.2940 - acc: 0.2917\n",
            "Epoch 8/300\n",
            "168/168 [\u003d\u003d\u003d\u003d\u003d\u003d\u003d\u003d\u003d\u003d\u003d\u003d\u003d\u003d\u003d\u003d\u003d\u003d\u003d\u003d\u003d\u003d\u003d\u003d\u003d\u003d\u003d\u003d\u003d\u003d] - 0s 134us/step - loss: 3.2818 - acc: 0.2560\n",
            "Epoch 9/300\n",
            "168/168 [\u003d\u003d\u003d\u003d\u003d\u003d\u003d\u003d\u003d\u003d\u003d\u003d\u003d\u003d\u003d\u003d\u003d\u003d\u003d\u003d\u003d\u003d\u003d\u003d\u003d\u003d\u003d\u003d\u003d\u003d] - 0s 135us/step - loss: 3.2637 - acc: 0.2560\n",
            "Epoch 10/300\n",
            "168/168 [\u003d\u003d\u003d\u003d\u003d\u003d\u003d\u003d\u003d\u003d\u003d\u003d\u003d\u003d\u003d\u003d\u003d\u003d\u003d\u003d\u003d\u003d\u003d\u003d\u003d\u003d\u003d\u003d\u003d\u003d] - 0s 132us/step - loss: 3.2481 - acc: 0.2381\n",
            "Epoch 11/300\n",
            "168/168 [\u003d\u003d\u003d\u003d\u003d\u003d\u003d\u003d\u003d\u003d\u003d\u003d\u003d\u003d\u003d\u003d\u003d\u003d\u003d\u003d\u003d\u003d\u003d\u003d\u003d\u003d\u003d\u003d\u003d\u003d] - 0s 133us/step - loss: 3.2403 - acc: 0.2262\n",
            "Epoch 12/300\n",
            "168/168 [\u003d\u003d\u003d\u003d\u003d\u003d\u003d\u003d\u003d\u003d\u003d\u003d\u003d\u003d\u003d\u003d\u003d\u003d\u003d\u003d\u003d\u003d\u003d\u003d\u003d\u003d\u003d\u003d\u003d\u003d] - 0s 137us/step - loss: 3.2111 - acc: 0.2500\n",
            "Epoch 13/300\n",
            "168/168 [\u003d\u003d\u003d\u003d\u003d\u003d\u003d\u003d\u003d\u003d\u003d\u003d\u003d\u003d\u003d\u003d\u003d\u003d\u003d\u003d\u003d\u003d\u003d\u003d\u003d\u003d\u003d\u003d\u003d\u003d] - 0s 133us/step - loss: 3.1904 - acc: 0.2500\n",
            "Epoch 14/300\n",
            "168/168 [\u003d\u003d\u003d\u003d\u003d\u003d\u003d\u003d\u003d\u003d\u003d\u003d\u003d\u003d\u003d\u003d\u003d\u003d\u003d\u003d\u003d\u003d\u003d\u003d\u003d\u003d\u003d\u003d\u003d\u003d] - 0s 136us/step - loss: 3.1693 - acc: 0.2560\n",
            "Epoch 15/300\n",
            "168/168 [\u003d\u003d\u003d\u003d\u003d\u003d\u003d\u003d\u003d\u003d\u003d\u003d\u003d\u003d\u003d\u003d\u003d\u003d\u003d\u003d\u003d\u003d\u003d\u003d\u003d\u003d\u003d\u003d\u003d\u003d] - 0s 134us/step - loss: 3.1344 - acc: 0.2440\n",
            "Epoch 16/300\n",
            "168/168 [\u003d\u003d\u003d\u003d\u003d\u003d\u003d\u003d\u003d\u003d\u003d\u003d\u003d\u003d\u003d\u003d\u003d\u003d\u003d\u003d\u003d\u003d\u003d\u003d\u003d\u003d\u003d\u003d\u003d\u003d] - 0s 132us/step - loss: 3.1180 - acc: 0.2500\n",
            "Epoch 17/300\n",
            "168/168 [\u003d\u003d\u003d\u003d\u003d\u003d\u003d\u003d\u003d\u003d\u003d\u003d\u003d\u003d\u003d\u003d\u003d\u003d\u003d\u003d\u003d\u003d\u003d\u003d\u003d\u003d\u003d\u003d\u003d\u003d] - 0s 136us/step - loss: 3.0953 - acc: 0.2560\n",
            "Epoch 18/300\n",
            "168/168 [\u003d\u003d\u003d\u003d\u003d\u003d\u003d\u003d\u003d\u003d\u003d\u003d\u003d\u003d\u003d\u003d\u003d\u003d\u003d\u003d\u003d\u003d\u003d\u003d\u003d\u003d\u003d\u003d\u003d\u003d] - 0s 133us/step - loss: 3.0714 - acc: 0.2560\n",
            "Epoch 19/300\n",
            "168/168 [\u003d\u003d\u003d\u003d\u003d\u003d\u003d\u003d\u003d\u003d\u003d\u003d\u003d\u003d\u003d\u003d\u003d\u003d\u003d\u003d\u003d\u003d\u003d\u003d\u003d\u003d\u003d\u003d\u003d\u003d] - 0s 136us/step - loss: 3.0443 - acc: 0.2560\n",
            "Epoch 20/300\n",
            "168/168 [\u003d\u003d\u003d\u003d\u003d\u003d\u003d\u003d\u003d\u003d\u003d\u003d\u003d\u003d\u003d\u003d\u003d\u003d\u003d\u003d\u003d\u003d\u003d\u003d\u003d\u003d\u003d\u003d\u003d\u003d] - 0s 132us/step - loss: 3.0236 - acc: 0.2262\n",
            "Epoch 21/300\n",
            "168/168 [\u003d\u003d\u003d\u003d\u003d\u003d\u003d\u003d\u003d\u003d\u003d\u003d\u003d\u003d\u003d\u003d\u003d\u003d\u003d\u003d\u003d\u003d\u003d\u003d\u003d\u003d\u003d\u003d\u003d\u003d] - 0s 129us/step - loss: 2.9833 - acc: 0.2738\n",
            "Epoch 22/300\n",
            "168/168 [\u003d\u003d\u003d\u003d\u003d\u003d\u003d\u003d\u003d\u003d\u003d\u003d\u003d\u003d\u003d\u003d\u003d\u003d\u003d\u003d\u003d\u003d\u003d\u003d\u003d\u003d\u003d\u003d\u003d\u003d] - 0s 134us/step - loss: 2.9617 - acc: 0.2500\n",
            "Epoch 23/300\n",
            "168/168 [\u003d\u003d\u003d\u003d\u003d\u003d\u003d\u003d\u003d\u003d\u003d\u003d\u003d\u003d\u003d\u003d\u003d\u003d\u003d\u003d\u003d\u003d\u003d\u003d\u003d\u003d\u003d\u003d\u003d\u003d] - 0s 132us/step - loss: 2.9456 - acc: 0.2560\n",
            "Epoch 24/300\n",
            "168/168 [\u003d\u003d\u003d\u003d\u003d\u003d\u003d\u003d\u003d\u003d\u003d\u003d\u003d\u003d\u003d\u003d\u003d\u003d\u003d\u003d\u003d\u003d\u003d\u003d\u003d\u003d\u003d\u003d\u003d\u003d] - 0s 131us/step - loss: 2.8982 - acc: 0.2381\n",
            "Epoch 25/300\n",
            "168/168 [\u003d\u003d\u003d\u003d\u003d\u003d\u003d\u003d\u003d\u003d\u003d\u003d\u003d\u003d\u003d\u003d\u003d\u003d\u003d\u003d\u003d\u003d\u003d\u003d\u003d\u003d\u003d\u003d\u003d\u003d] - 0s 129us/step - loss: 2.8834 - acc: 0.2500\n",
            "Epoch 26/300\n",
            "168/168 [\u003d\u003d\u003d\u003d\u003d\u003d\u003d\u003d\u003d\u003d\u003d\u003d\u003d\u003d\u003d\u003d\u003d\u003d\u003d\u003d\u003d\u003d\u003d\u003d\u003d\u003d\u003d\u003d\u003d\u003d] - 0s 133us/step - loss: 2.8601 - acc: 0.2619\n",
            "Epoch 27/300\n",
            "168/168 [\u003d\u003d\u003d\u003d\u003d\u003d\u003d\u003d\u003d\u003d\u003d\u003d\u003d\u003d\u003d\u003d\u003d\u003d\u003d\u003d\u003d\u003d\u003d\u003d\u003d\u003d\u003d\u003d\u003d\u003d] - 0s 137us/step - loss: 2.8178 - acc: 0.2857\n",
            "Epoch 28/300\n",
            "168/168 [\u003d\u003d\u003d\u003d\u003d\u003d\u003d\u003d\u003d\u003d\u003d\u003d\u003d\u003d\u003d\u003d\u003d\u003d\u003d\u003d\u003d\u003d\u003d\u003d\u003d\u003d\u003d\u003d\u003d\u003d] - 0s 134us/step - loss: 2.7871 - acc: 0.2976\n",
            "Epoch 29/300\n",
            "168/168 [\u003d\u003d\u003d\u003d\u003d\u003d\u003d\u003d\u003d\u003d\u003d\u003d\u003d\u003d\u003d\u003d\u003d\u003d\u003d\u003d\u003d\u003d\u003d\u003d\u003d\u003d\u003d\u003d\u003d\u003d] - 0s 134us/step - loss: 2.7610 - acc: 0.2679\n",
            "Epoch 30/300\n",
            "168/168 [\u003d\u003d\u003d\u003d\u003d\u003d\u003d\u003d\u003d\u003d\u003d\u003d\u003d\u003d\u003d\u003d\u003d\u003d\u003d\u003d\u003d\u003d\u003d\u003d\u003d\u003d\u003d\u003d\u003d\u003d] - 0s 134us/step - loss: 2.7234 - acc: 0.2679\n",
            "Epoch 31/300\n",
            "168/168 [\u003d\u003d\u003d\u003d\u003d\u003d\u003d\u003d\u003d\u003d\u003d\u003d\u003d\u003d\u003d\u003d\u003d\u003d\u003d\u003d\u003d\u003d\u003d\u003d\u003d\u003d\u003d\u003d\u003d\u003d] - 0s 136us/step - loss: 2.7190 - acc: 0.2976\n",
            "Epoch 32/300\n",
            "168/168 [\u003d\u003d\u003d\u003d\u003d\u003d\u003d\u003d\u003d\u003d\u003d\u003d\u003d\u003d\u003d\u003d\u003d\u003d\u003d\u003d\u003d\u003d\u003d\u003d\u003d\u003d\u003d\u003d\u003d\u003d] - 0s 132us/step - loss: 2.6995 - acc: 0.3214\n",
            "Epoch 33/300\n",
            "168/168 [\u003d\u003d\u003d\u003d\u003d\u003d\u003d\u003d\u003d\u003d\u003d\u003d\u003d\u003d\u003d\u003d\u003d\u003d\u003d\u003d\u003d\u003d\u003d\u003d\u003d\u003d\u003d\u003d\u003d\u003d] - 0s 135us/step - loss: 2.6666 - acc: 0.3274\n",
            "Epoch 34/300\n",
            "168/168 [\u003d\u003d\u003d\u003d\u003d\u003d\u003d\u003d\u003d\u003d\u003d\u003d\u003d\u003d\u003d\u003d\u003d\u003d\u003d\u003d\u003d\u003d\u003d\u003d\u003d\u003d\u003d\u003d\u003d\u003d] - 0s 141us/step - loss: 2.6412 - acc: 0.3393\n",
            "Epoch 35/300\n",
            "168/168 [\u003d\u003d\u003d\u003d\u003d\u003d\u003d\u003d\u003d\u003d\u003d\u003d\u003d\u003d\u003d\u003d\u003d\u003d\u003d\u003d\u003d\u003d\u003d\u003d\u003d\u003d\u003d\u003d\u003d\u003d] - 0s 143us/step - loss: 2.6268 - acc: 0.3274\n",
            "Epoch 36/300\n",
            "168/168 [\u003d\u003d\u003d\u003d\u003d\u003d\u003d\u003d\u003d\u003d\u003d\u003d\u003d\u003d\u003d\u003d\u003d\u003d\u003d\u003d\u003d\u003d\u003d\u003d\u003d\u003d\u003d\u003d\u003d\u003d] - 0s 142us/step - loss: 2.6247 - acc: 0.3452\n",
            "Epoch 37/300\n",
            "168/168 [\u003d\u003d\u003d\u003d\u003d\u003d\u003d\u003d\u003d\u003d\u003d\u003d\u003d\u003d\u003d\u003d\u003d\u003d\u003d\u003d\u003d\u003d\u003d\u003d\u003d\u003d\u003d\u003d\u003d\u003d] - 0s 133us/step - loss: 2.5760 - acc: 0.3512\n",
            "Epoch 38/300\n",
            "168/168 [\u003d\u003d\u003d\u003d\u003d\u003d\u003d\u003d\u003d\u003d\u003d\u003d\u003d\u003d\u003d\u003d\u003d\u003d\u003d\u003d\u003d\u003d\u003d\u003d\u003d\u003d\u003d\u003d\u003d\u003d] - 0s 130us/step - loss: 2.5372 - acc: 0.3810\n",
            "Epoch 39/300\n",
            "168/168 [\u003d\u003d\u003d\u003d\u003d\u003d\u003d\u003d\u003d\u003d\u003d\u003d\u003d\u003d\u003d\u003d\u003d\u003d\u003d\u003d\u003d\u003d\u003d\u003d\u003d\u003d\u003d\u003d\u003d\u003d] - 0s 137us/step - loss: 2.5318 - acc: 0.3631\n",
            "Epoch 40/300\n",
            "168/168 [\u003d\u003d\u003d\u003d\u003d\u003d\u003d\u003d\u003d\u003d\u003d\u003d\u003d\u003d\u003d\u003d\u003d\u003d\u003d\u003d\u003d\u003d\u003d\u003d\u003d\u003d\u003d\u003d\u003d\u003d] - 0s 137us/step - loss: 2.5020 - acc: 0.3512\n",
            "Epoch 41/300\n",
            "168/168 [\u003d\u003d\u003d\u003d\u003d\u003d\u003d\u003d\u003d\u003d\u003d\u003d\u003d\u003d\u003d\u003d\u003d\u003d\u003d\u003d\u003d\u003d\u003d\u003d\u003d\u003d\u003d\u003d\u003d\u003d] - 0s 140us/step - loss: 2.4781 - acc: 0.3690\n",
            "Epoch 42/300\n",
            "168/168 [\u003d\u003d\u003d\u003d\u003d\u003d\u003d\u003d\u003d\u003d\u003d\u003d\u003d\u003d\u003d\u003d\u003d\u003d\u003d\u003d\u003d\u003d\u003d\u003d\u003d\u003d\u003d\u003d\u003d\u003d] - 0s 136us/step - loss: 2.4606 - acc: 0.3750\n",
            "Epoch 43/300\n",
            "168/168 [\u003d\u003d\u003d\u003d\u003d\u003d\u003d\u003d\u003d\u003d\u003d\u003d\u003d\u003d\u003d\u003d\u003d\u003d\u003d\u003d\u003d\u003d\u003d\u003d\u003d\u003d\u003d\u003d\u003d\u003d] - 0s 137us/step - loss: 2.4122 - acc: 0.3810\n",
            "Epoch 44/300\n",
            "168/168 [\u003d\u003d\u003d\u003d\u003d\u003d\u003d\u003d\u003d\u003d\u003d\u003d\u003d\u003d\u003d\u003d\u003d\u003d\u003d\u003d\u003d\u003d\u003d\u003d\u003d\u003d\u003d\u003d\u003d\u003d] - 0s 128us/step - loss: 2.3686 - acc: 0.3750\n",
            "Epoch 45/300\n",
            "168/168 [\u003d\u003d\u003d\u003d\u003d\u003d\u003d\u003d\u003d\u003d\u003d\u003d\u003d\u003d\u003d\u003d\u003d\u003d\u003d\u003d\u003d\u003d\u003d\u003d\u003d\u003d\u003d\u003d\u003d\u003d] - 0s 134us/step - loss: 2.3817 - acc: 0.4048\n",
            "Epoch 46/300\n",
            "168/168 [\u003d\u003d\u003d\u003d\u003d\u003d\u003d\u003d\u003d\u003d\u003d\u003d\u003d\u003d\u003d\u003d\u003d\u003d\u003d\u003d\u003d\u003d\u003d\u003d\u003d\u003d\u003d\u003d\u003d\u003d] - 0s 133us/step - loss: 2.3386 - acc: 0.4107\n",
            "Epoch 47/300\n",
            "168/168 [\u003d\u003d\u003d\u003d\u003d\u003d\u003d\u003d\u003d\u003d\u003d\u003d\u003d\u003d\u003d\u003d\u003d\u003d\u003d\u003d\u003d\u003d\u003d\u003d\u003d\u003d\u003d\u003d\u003d\u003d] - 0s 139us/step - loss: 2.3245 - acc: 0.4107\n",
            "Epoch 48/300\n",
            "168/168 [\u003d\u003d\u003d\u003d\u003d\u003d\u003d\u003d\u003d\u003d\u003d\u003d\u003d\u003d\u003d\u003d\u003d\u003d\u003d\u003d\u003d\u003d\u003d\u003d\u003d\u003d\u003d\u003d\u003d\u003d] - 0s 127us/step - loss: 2.2749 - acc: 0.3988\n",
            "Epoch 49/300\n",
            "168/168 [\u003d\u003d\u003d\u003d\u003d\u003d\u003d\u003d\u003d\u003d\u003d\u003d\u003d\u003d\u003d\u003d\u003d\u003d\u003d\u003d\u003d\u003d\u003d\u003d\u003d\u003d\u003d\u003d\u003d\u003d] - 0s 125us/step - loss: 2.2336 - acc: 0.4405\n",
            "Epoch 50/300\n",
            "168/168 [\u003d\u003d\u003d\u003d\u003d\u003d\u003d\u003d\u003d\u003d\u003d\u003d\u003d\u003d\u003d\u003d\u003d\u003d\u003d\u003d\u003d\u003d\u003d\u003d\u003d\u003d\u003d\u003d\u003d\u003d] - 0s 128us/step - loss: 2.2112 - acc: 0.4226\n",
            "Epoch 51/300\n",
            "168/168 [\u003d\u003d\u003d\u003d\u003d\u003d\u003d\u003d\u003d\u003d\u003d\u003d\u003d\u003d\u003d\u003d\u003d\u003d\u003d\u003d\u003d\u003d\u003d\u003d\u003d\u003d\u003d\u003d\u003d\u003d] - 0s 127us/step - loss: 2.2075 - acc: 0.4226\n",
            "Epoch 52/300\n",
            "168/168 [\u003d\u003d\u003d\u003d\u003d\u003d\u003d\u003d\u003d\u003d\u003d\u003d\u003d\u003d\u003d\u003d\u003d\u003d\u003d\u003d\u003d\u003d\u003d\u003d\u003d\u003d\u003d\u003d\u003d\u003d] - 0s 124us/step - loss: 2.1455 - acc: 0.4702\n",
            "Epoch 53/300\n",
            "168/168 [\u003d\u003d\u003d\u003d\u003d\u003d\u003d\u003d\u003d\u003d\u003d\u003d\u003d\u003d\u003d\u003d\u003d\u003d\u003d\u003d\u003d\u003d\u003d\u003d\u003d\u003d\u003d\u003d\u003d\u003d] - 0s 127us/step - loss: 2.1357 - acc: 0.4524\n",
            "Epoch 54/300\n",
            "168/168 [\u003d\u003d\u003d\u003d\u003d\u003d\u003d\u003d\u003d\u003d\u003d\u003d\u003d\u003d\u003d\u003d\u003d\u003d\u003d\u003d\u003d\u003d\u003d\u003d\u003d\u003d\u003d\u003d\u003d\u003d] - 0s 123us/step - loss: 2.1072 - acc: 0.5000\n",
            "Epoch 55/300\n",
            "168/168 [\u003d\u003d\u003d\u003d\u003d\u003d\u003d\u003d\u003d\u003d\u003d\u003d\u003d\u003d\u003d\u003d\u003d\u003d\u003d\u003d\u003d\u003d\u003d\u003d\u003d\u003d\u003d\u003d\u003d\u003d] - 0s 128us/step - loss: 2.0422 - acc: 0.4821\n",
            "Epoch 56/300\n",
            "168/168 [\u003d\u003d\u003d\u003d\u003d\u003d\u003d\u003d\u003d\u003d\u003d\u003d\u003d\u003d\u003d\u003d\u003d\u003d\u003d\u003d\u003d\u003d\u003d\u003d\u003d\u003d\u003d\u003d\u003d\u003d] - 0s 130us/step - loss: 2.0181 - acc: 0.4940\n",
            "Epoch 57/300\n",
            "168/168 [\u003d\u003d\u003d\u003d\u003d\u003d\u003d\u003d\u003d\u003d\u003d\u003d\u003d\u003d\u003d\u003d\u003d\u003d\u003d\u003d\u003d\u003d\u003d\u003d\u003d\u003d\u003d\u003d\u003d\u003d] - 0s 128us/step - loss: 2.0361 - acc: 0.5476\n",
            "Epoch 58/300\n",
            "168/168 [\u003d\u003d\u003d\u003d\u003d\u003d\u003d\u003d\u003d\u003d\u003d\u003d\u003d\u003d\u003d\u003d\u003d\u003d\u003d\u003d\u003d\u003d\u003d\u003d\u003d\u003d\u003d\u003d\u003d\u003d] - 0s 128us/step - loss: 1.9656 - acc: 0.5536\n",
            "Epoch 59/300\n",
            "168/168 [\u003d\u003d\u003d\u003d\u003d\u003d\u003d\u003d\u003d\u003d\u003d\u003d\u003d\u003d\u003d\u003d\u003d\u003d\u003d\u003d\u003d\u003d\u003d\u003d\u003d\u003d\u003d\u003d\u003d\u003d] - 0s 126us/step - loss: 1.9227 - acc: 0.5536\n",
            "Epoch 60/300\n",
            "168/168 [\u003d\u003d\u003d\u003d\u003d\u003d\u003d\u003d\u003d\u003d\u003d\u003d\u003d\u003d\u003d\u003d\u003d\u003d\u003d\u003d\u003d\u003d\u003d\u003d\u003d\u003d\u003d\u003d\u003d\u003d] - 0s 128us/step - loss: 1.9470 - acc: 0.5476\n",
            "Epoch 61/300\n",
            "168/168 [\u003d\u003d\u003d\u003d\u003d\u003d\u003d\u003d\u003d\u003d\u003d\u003d\u003d\u003d\u003d\u003d\u003d\u003d\u003d\u003d\u003d\u003d\u003d\u003d\u003d\u003d\u003d\u003d\u003d\u003d] - 0s 131us/step - loss: 1.8776 - acc: 0.5833\n",
            "Epoch 62/300\n",
            "168/168 [\u003d\u003d\u003d\u003d\u003d\u003d\u003d\u003d\u003d\u003d\u003d\u003d\u003d\u003d\u003d\u003d\u003d\u003d\u003d\u003d\u003d\u003d\u003d\u003d\u003d\u003d\u003d\u003d\u003d\u003d] - 0s 134us/step - loss: 1.8614 - acc: 0.6310\n",
            "Epoch 63/300\n",
            "168/168 [\u003d\u003d\u003d\u003d\u003d\u003d\u003d\u003d\u003d\u003d\u003d\u003d\u003d\u003d\u003d\u003d\u003d\u003d\u003d\u003d\u003d\u003d\u003d\u003d\u003d\u003d\u003d\u003d\u003d\u003d] - 0s 131us/step - loss: 1.8588 - acc: 0.5536\n",
            "Epoch 64/300\n",
            "168/168 [\u003d\u003d\u003d\u003d\u003d\u003d\u003d\u003d\u003d\u003d\u003d\u003d\u003d\u003d\u003d\u003d\u003d\u003d\u003d\u003d\u003d\u003d\u003d\u003d\u003d\u003d\u003d\u003d\u003d\u003d] - 0s 132us/step - loss: 1.8049 - acc: 0.6131\n",
            "Epoch 65/300\n",
            "168/168 [\u003d\u003d\u003d\u003d\u003d\u003d\u003d\u003d\u003d\u003d\u003d\u003d\u003d\u003d\u003d\u003d\u003d\u003d\u003d\u003d\u003d\u003d\u003d\u003d\u003d\u003d\u003d\u003d\u003d\u003d] - 0s 136us/step - loss: 1.7523 - acc: 0.6726\n",
            "Epoch 66/300\n",
            "168/168 [\u003d\u003d\u003d\u003d\u003d\u003d\u003d\u003d\u003d\u003d\u003d\u003d\u003d\u003d\u003d\u003d\u003d\u003d\u003d\u003d\u003d\u003d\u003d\u003d\u003d\u003d\u003d\u003d\u003d\u003d] - 0s 135us/step - loss: 1.8014 - acc: 0.6369\n",
            "Epoch 67/300\n",
            "168/168 [\u003d\u003d\u003d\u003d\u003d\u003d\u003d\u003d\u003d\u003d\u003d\u003d\u003d\u003d\u003d\u003d\u003d\u003d\u003d\u003d\u003d\u003d\u003d\u003d\u003d\u003d\u003d\u003d\u003d\u003d] - 0s 135us/step - loss: 1.7504 - acc: 0.6369\n",
            "Epoch 68/300\n",
            "168/168 [\u003d\u003d\u003d\u003d\u003d\u003d\u003d\u003d\u003d\u003d\u003d\u003d\u003d\u003d\u003d\u003d\u003d\u003d\u003d\u003d\u003d\u003d\u003d\u003d\u003d\u003d\u003d\u003d\u003d\u003d] - 0s 131us/step - loss: 1.7066 - acc: 0.6548\n",
            "Epoch 69/300\n",
            "168/168 [\u003d\u003d\u003d\u003d\u003d\u003d\u003d\u003d\u003d\u003d\u003d\u003d\u003d\u003d\u003d\u003d\u003d\u003d\u003d\u003d\u003d\u003d\u003d\u003d\u003d\u003d\u003d\u003d\u003d\u003d] - 0s 134us/step - loss: 1.6554 - acc: 0.6607\n",
            "Epoch 70/300\n",
            "168/168 [\u003d\u003d\u003d\u003d\u003d\u003d\u003d\u003d\u003d\u003d\u003d\u003d\u003d\u003d\u003d\u003d\u003d\u003d\u003d\u003d\u003d\u003d\u003d\u003d\u003d\u003d\u003d\u003d\u003d\u003d] - 0s 132us/step - loss: 1.5652 - acc: 0.7024\n",
            "Epoch 71/300\n",
            "168/168 [\u003d\u003d\u003d\u003d\u003d\u003d\u003d\u003d\u003d\u003d\u003d\u003d\u003d\u003d\u003d\u003d\u003d\u003d\u003d\u003d\u003d\u003d\u003d\u003d\u003d\u003d\u003d\u003d\u003d\u003d] - 0s 134us/step - loss: 1.6554 - acc: 0.6488\n",
            "Epoch 72/300\n",
            "168/168 [\u003d\u003d\u003d\u003d\u003d\u003d\u003d\u003d\u003d\u003d\u003d\u003d\u003d\u003d\u003d\u003d\u003d\u003d\u003d\u003d\u003d\u003d\u003d\u003d\u003d\u003d\u003d\u003d\u003d\u003d] - 0s 134us/step - loss: 1.5335 - acc: 0.6845\n",
            "Epoch 73/300\n",
            "168/168 [\u003d\u003d\u003d\u003d\u003d\u003d\u003d\u003d\u003d\u003d\u003d\u003d\u003d\u003d\u003d\u003d\u003d\u003d\u003d\u003d\u003d\u003d\u003d\u003d\u003d\u003d\u003d\u003d\u003d\u003d] - 0s 133us/step - loss: 1.6195 - acc: 0.6310\n",
            "Epoch 74/300\n",
            "168/168 [\u003d\u003d\u003d\u003d\u003d\u003d\u003d\u003d\u003d\u003d\u003d\u003d\u003d\u003d\u003d\u003d\u003d\u003d\u003d\u003d\u003d\u003d\u003d\u003d\u003d\u003d\u003d\u003d\u003d\u003d] - 0s 132us/step - loss: 1.5325 - acc: 0.7024\n",
            "Epoch 75/300\n"
          ]
        },
        {
          "name": "stdout",
          "output_type": "stream",
          "text": [
            "168/168 [\u003d\u003d\u003d\u003d\u003d\u003d\u003d\u003d\u003d\u003d\u003d\u003d\u003d\u003d\u003d\u003d\u003d\u003d\u003d\u003d\u003d\u003d\u003d\u003d\u003d\u003d\u003d\u003d\u003d\u003d] - 0s 138us/step - loss: 1.5240 - acc: 0.6726\n",
            "Epoch 76/300\n",
            "168/168 [\u003d\u003d\u003d\u003d\u003d\u003d\u003d\u003d\u003d\u003d\u003d\u003d\u003d\u003d\u003d\u003d\u003d\u003d\u003d\u003d\u003d\u003d\u003d\u003d\u003d\u003d\u003d\u003d\u003d\u003d] - 0s 152us/step - loss: 1.4230 - acc: 0.7440\n",
            "Epoch 77/300\n",
            "168/168 [\u003d\u003d\u003d\u003d\u003d\u003d\u003d\u003d\u003d\u003d\u003d\u003d\u003d\u003d\u003d\u003d\u003d\u003d\u003d\u003d\u003d\u003d\u003d\u003d\u003d\u003d\u003d\u003d\u003d\u003d] - 0s 156us/step - loss: 1.3448 - acc: 0.7679\n",
            "Epoch 78/300\n",
            "168/168 [\u003d\u003d\u003d\u003d\u003d\u003d\u003d\u003d\u003d\u003d\u003d\u003d\u003d\u003d\u003d\u003d\u003d\u003d\u003d\u003d\u003d\u003d\u003d\u003d\u003d\u003d\u003d\u003d\u003d\u003d] - 0s 151us/step - loss: 1.4562 - acc: 0.6905\n",
            "Epoch 79/300\n",
            "168/168 [\u003d\u003d\u003d\u003d\u003d\u003d\u003d\u003d\u003d\u003d\u003d\u003d\u003d\u003d\u003d\u003d\u003d\u003d\u003d\u003d\u003d\u003d\u003d\u003d\u003d\u003d\u003d\u003d\u003d\u003d] - 0s 146us/step - loss: 1.3308 - acc: 0.7381\n",
            "Epoch 80/300\n",
            "168/168 [\u003d\u003d\u003d\u003d\u003d\u003d\u003d\u003d\u003d\u003d\u003d\u003d\u003d\u003d\u003d\u003d\u003d\u003d\u003d\u003d\u003d\u003d\u003d\u003d\u003d\u003d\u003d\u003d\u003d\u003d] - 0s 136us/step - loss: 1.3155 - acc: 0.7500\n",
            "Epoch 81/300\n",
            "168/168 [\u003d\u003d\u003d\u003d\u003d\u003d\u003d\u003d\u003d\u003d\u003d\u003d\u003d\u003d\u003d\u003d\u003d\u003d\u003d\u003d\u003d\u003d\u003d\u003d\u003d\u003d\u003d\u003d\u003d\u003d] - 0s 132us/step - loss: 1.2643 - acc: 0.7798\n",
            "Epoch 82/300\n",
            "168/168 [\u003d\u003d\u003d\u003d\u003d\u003d\u003d\u003d\u003d\u003d\u003d\u003d\u003d\u003d\u003d\u003d\u003d\u003d\u003d\u003d\u003d\u003d\u003d\u003d\u003d\u003d\u003d\u003d\u003d\u003d] - 0s 131us/step - loss: 1.2816 - acc: 0.7679\n",
            "Epoch 83/300\n",
            "168/168 [\u003d\u003d\u003d\u003d\u003d\u003d\u003d\u003d\u003d\u003d\u003d\u003d\u003d\u003d\u003d\u003d\u003d\u003d\u003d\u003d\u003d\u003d\u003d\u003d\u003d\u003d\u003d\u003d\u003d\u003d] - 0s 130us/step - loss: 1.2312 - acc: 0.7798\n",
            "Epoch 84/300\n",
            "168/168 [\u003d\u003d\u003d\u003d\u003d\u003d\u003d\u003d\u003d\u003d\u003d\u003d\u003d\u003d\u003d\u003d\u003d\u003d\u003d\u003d\u003d\u003d\u003d\u003d\u003d\u003d\u003d\u003d\u003d\u003d] - 0s 126us/step - loss: 1.2120 - acc: 0.7679\n",
            "Epoch 85/300\n",
            "168/168 [\u003d\u003d\u003d\u003d\u003d\u003d\u003d\u003d\u003d\u003d\u003d\u003d\u003d\u003d\u003d\u003d\u003d\u003d\u003d\u003d\u003d\u003d\u003d\u003d\u003d\u003d\u003d\u003d\u003d\u003d] - 0s 129us/step - loss: 1.2083 - acc: 0.7917\n",
            "Epoch 86/300\n",
            "168/168 [\u003d\u003d\u003d\u003d\u003d\u003d\u003d\u003d\u003d\u003d\u003d\u003d\u003d\u003d\u003d\u003d\u003d\u003d\u003d\u003d\u003d\u003d\u003d\u003d\u003d\u003d\u003d\u003d\u003d\u003d] - 0s 130us/step - loss: 1.2244 - acc: 0.7440\n",
            "Epoch 87/300\n",
            "168/168 [\u003d\u003d\u003d\u003d\u003d\u003d\u003d\u003d\u003d\u003d\u003d\u003d\u003d\u003d\u003d\u003d\u003d\u003d\u003d\u003d\u003d\u003d\u003d\u003d\u003d\u003d\u003d\u003d\u003d\u003d] - 0s 131us/step - loss: 1.1631 - acc: 0.8036\n",
            "Epoch 88/300\n",
            "168/168 [\u003d\u003d\u003d\u003d\u003d\u003d\u003d\u003d\u003d\u003d\u003d\u003d\u003d\u003d\u003d\u003d\u003d\u003d\u003d\u003d\u003d\u003d\u003d\u003d\u003d\u003d\u003d\u003d\u003d\u003d] - 0s 124us/step - loss: 1.1385 - acc: 0.7560\n",
            "Epoch 89/300\n",
            "168/168 [\u003d\u003d\u003d\u003d\u003d\u003d\u003d\u003d\u003d\u003d\u003d\u003d\u003d\u003d\u003d\u003d\u003d\u003d\u003d\u003d\u003d\u003d\u003d\u003d\u003d\u003d\u003d\u003d\u003d\u003d] - 0s 130us/step - loss: 1.0981 - acc: 0.8155\n",
            "Epoch 90/300\n",
            "168/168 [\u003d\u003d\u003d\u003d\u003d\u003d\u003d\u003d\u003d\u003d\u003d\u003d\u003d\u003d\u003d\u003d\u003d\u003d\u003d\u003d\u003d\u003d\u003d\u003d\u003d\u003d\u003d\u003d\u003d\u003d] - 0s 129us/step - loss: 1.1745 - acc: 0.7262\n",
            "Epoch 91/300\n",
            "168/168 [\u003d\u003d\u003d\u003d\u003d\u003d\u003d\u003d\u003d\u003d\u003d\u003d\u003d\u003d\u003d\u003d\u003d\u003d\u003d\u003d\u003d\u003d\u003d\u003d\u003d\u003d\u003d\u003d\u003d\u003d] - 0s 137us/step - loss: 1.1175 - acc: 0.7202\n",
            "Epoch 92/300\n",
            "168/168 [\u003d\u003d\u003d\u003d\u003d\u003d\u003d\u003d\u003d\u003d\u003d\u003d\u003d\u003d\u003d\u003d\u003d\u003d\u003d\u003d\u003d\u003d\u003d\u003d\u003d\u003d\u003d\u003d\u003d\u003d] - 0s 126us/step - loss: 1.1193 - acc: 0.7679\n",
            "Epoch 93/300\n",
            "168/168 [\u003d\u003d\u003d\u003d\u003d\u003d\u003d\u003d\u003d\u003d\u003d\u003d\u003d\u003d\u003d\u003d\u003d\u003d\u003d\u003d\u003d\u003d\u003d\u003d\u003d\u003d\u003d\u003d\u003d\u003d] - 0s 124us/step - loss: 1.0997 - acc: 0.7440\n",
            "Epoch 94/300\n",
            "168/168 [\u003d\u003d\u003d\u003d\u003d\u003d\u003d\u003d\u003d\u003d\u003d\u003d\u003d\u003d\u003d\u003d\u003d\u003d\u003d\u003d\u003d\u003d\u003d\u003d\u003d\u003d\u003d\u003d\u003d\u003d] - 0s 130us/step - loss: 1.1360 - acc: 0.7143\n",
            "Epoch 95/300\n",
            "168/168 [\u003d\u003d\u003d\u003d\u003d\u003d\u003d\u003d\u003d\u003d\u003d\u003d\u003d\u003d\u003d\u003d\u003d\u003d\u003d\u003d\u003d\u003d\u003d\u003d\u003d\u003d\u003d\u003d\u003d\u003d] - 0s 129us/step - loss: 0.9389 - acc: 0.8274\n",
            "Epoch 96/300\n",
            "168/168 [\u003d\u003d\u003d\u003d\u003d\u003d\u003d\u003d\u003d\u003d\u003d\u003d\u003d\u003d\u003d\u003d\u003d\u003d\u003d\u003d\u003d\u003d\u003d\u003d\u003d\u003d\u003d\u003d\u003d\u003d] - 0s 124us/step - loss: 1.0431 - acc: 0.7560\n",
            "Epoch 97/300\n",
            "168/168 [\u003d\u003d\u003d\u003d\u003d\u003d\u003d\u003d\u003d\u003d\u003d\u003d\u003d\u003d\u003d\u003d\u003d\u003d\u003d\u003d\u003d\u003d\u003d\u003d\u003d\u003d\u003d\u003d\u003d\u003d] - 0s 136us/step - loss: 0.9829 - acc: 0.7857\n",
            "Epoch 98/300\n",
            "168/168 [\u003d\u003d\u003d\u003d\u003d\u003d\u003d\u003d\u003d\u003d\u003d\u003d\u003d\u003d\u003d\u003d\u003d\u003d\u003d\u003d\u003d\u003d\u003d\u003d\u003d\u003d\u003d\u003d\u003d\u003d] - 0s 137us/step - loss: 1.0481 - acc: 0.7381\n",
            "Epoch 99/300\n",
            "168/168 [\u003d\u003d\u003d\u003d\u003d\u003d\u003d\u003d\u003d\u003d\u003d\u003d\u003d\u003d\u003d\u003d\u003d\u003d\u003d\u003d\u003d\u003d\u003d\u003d\u003d\u003d\u003d\u003d\u003d\u003d] - 0s 125us/step - loss: 1.0805 - acc: 0.7321\n",
            "Epoch 100/300\n",
            "168/168 [\u003d\u003d\u003d\u003d\u003d\u003d\u003d\u003d\u003d\u003d\u003d\u003d\u003d\u003d\u003d\u003d\u003d\u003d\u003d\u003d\u003d\u003d\u003d\u003d\u003d\u003d\u003d\u003d\u003d\u003d] - 0s 133us/step - loss: 1.0068 - acc: 0.7262\n",
            "Epoch 101/300\n",
            "168/168 [\u003d\u003d\u003d\u003d\u003d\u003d\u003d\u003d\u003d\u003d\u003d\u003d\u003d\u003d\u003d\u003d\u003d\u003d\u003d\u003d\u003d\u003d\u003d\u003d\u003d\u003d\u003d\u003d\u003d\u003d] - 0s 133us/step - loss: 0.8804 - acc: 0.8214\n",
            "Epoch 102/300\n",
            "168/168 [\u003d\u003d\u003d\u003d\u003d\u003d\u003d\u003d\u003d\u003d\u003d\u003d\u003d\u003d\u003d\u003d\u003d\u003d\u003d\u003d\u003d\u003d\u003d\u003d\u003d\u003d\u003d\u003d\u003d\u003d] - 0s 127us/step - loss: 0.9847 - acc: 0.7560\n",
            "Epoch 103/300\n",
            "168/168 [\u003d\u003d\u003d\u003d\u003d\u003d\u003d\u003d\u003d\u003d\u003d\u003d\u003d\u003d\u003d\u003d\u003d\u003d\u003d\u003d\u003d\u003d\u003d\u003d\u003d\u003d\u003d\u003d\u003d\u003d] - 0s 131us/step - loss: 0.8896 - acc: 0.7976\n",
            "Epoch 104/300\n",
            "168/168 [\u003d\u003d\u003d\u003d\u003d\u003d\u003d\u003d\u003d\u003d\u003d\u003d\u003d\u003d\u003d\u003d\u003d\u003d\u003d\u003d\u003d\u003d\u003d\u003d\u003d\u003d\u003d\u003d\u003d\u003d] - 0s 128us/step - loss: 0.8271 - acc: 0.8214\n",
            "Epoch 105/300\n",
            "168/168 [\u003d\u003d\u003d\u003d\u003d\u003d\u003d\u003d\u003d\u003d\u003d\u003d\u003d\u003d\u003d\u003d\u003d\u003d\u003d\u003d\u003d\u003d\u003d\u003d\u003d\u003d\u003d\u003d\u003d\u003d] - 0s 132us/step - loss: 0.8691 - acc: 0.8036\n",
            "Epoch 106/300\n",
            "168/168 [\u003d\u003d\u003d\u003d\u003d\u003d\u003d\u003d\u003d\u003d\u003d\u003d\u003d\u003d\u003d\u003d\u003d\u003d\u003d\u003d\u003d\u003d\u003d\u003d\u003d\u003d\u003d\u003d\u003d\u003d] - 0s 128us/step - loss: 0.9902 - acc: 0.7738\n",
            "Epoch 107/300\n",
            "168/168 [\u003d\u003d\u003d\u003d\u003d\u003d\u003d\u003d\u003d\u003d\u003d\u003d\u003d\u003d\u003d\u003d\u003d\u003d\u003d\u003d\u003d\u003d\u003d\u003d\u003d\u003d\u003d\u003d\u003d\u003d] - 0s 129us/step - loss: 0.9721 - acc: 0.7381\n",
            "Epoch 108/300\n",
            "168/168 [\u003d\u003d\u003d\u003d\u003d\u003d\u003d\u003d\u003d\u003d\u003d\u003d\u003d\u003d\u003d\u003d\u003d\u003d\u003d\u003d\u003d\u003d\u003d\u003d\u003d\u003d\u003d\u003d\u003d\u003d] - 0s 124us/step - loss: 0.8500 - acc: 0.8095\n",
            "Epoch 109/300\n",
            "168/168 [\u003d\u003d\u003d\u003d\u003d\u003d\u003d\u003d\u003d\u003d\u003d\u003d\u003d\u003d\u003d\u003d\u003d\u003d\u003d\u003d\u003d\u003d\u003d\u003d\u003d\u003d\u003d\u003d\u003d\u003d] - 0s 129us/step - loss: 0.8918 - acc: 0.8036\n",
            "Epoch 110/300\n",
            "168/168 [\u003d\u003d\u003d\u003d\u003d\u003d\u003d\u003d\u003d\u003d\u003d\u003d\u003d\u003d\u003d\u003d\u003d\u003d\u003d\u003d\u003d\u003d\u003d\u003d\u003d\u003d\u003d\u003d\u003d\u003d] - 0s 132us/step - loss: 0.9175 - acc: 0.7798\n",
            "Epoch 111/300\n",
            "168/168 [\u003d\u003d\u003d\u003d\u003d\u003d\u003d\u003d\u003d\u003d\u003d\u003d\u003d\u003d\u003d\u003d\u003d\u003d\u003d\u003d\u003d\u003d\u003d\u003d\u003d\u003d\u003d\u003d\u003d\u003d] - 0s 128us/step - loss: 0.8022 - acc: 0.7917\n",
            "Epoch 112/300\n",
            "168/168 [\u003d\u003d\u003d\u003d\u003d\u003d\u003d\u003d\u003d\u003d\u003d\u003d\u003d\u003d\u003d\u003d\u003d\u003d\u003d\u003d\u003d\u003d\u003d\u003d\u003d\u003d\u003d\u003d\u003d\u003d] - 0s 131us/step - loss: 0.7927 - acc: 0.7857\n",
            "Epoch 113/300\n",
            "168/168 [\u003d\u003d\u003d\u003d\u003d\u003d\u003d\u003d\u003d\u003d\u003d\u003d\u003d\u003d\u003d\u003d\u003d\u003d\u003d\u003d\u003d\u003d\u003d\u003d\u003d\u003d\u003d\u003d\u003d\u003d] - 0s 126us/step - loss: 0.7953 - acc: 0.8274\n",
            "Epoch 114/300\n",
            "168/168 [\u003d\u003d\u003d\u003d\u003d\u003d\u003d\u003d\u003d\u003d\u003d\u003d\u003d\u003d\u003d\u003d\u003d\u003d\u003d\u003d\u003d\u003d\u003d\u003d\u003d\u003d\u003d\u003d\u003d\u003d] - 0s 126us/step - loss: 0.8627 - acc: 0.7679\n",
            "Epoch 115/300\n",
            "168/168 [\u003d\u003d\u003d\u003d\u003d\u003d\u003d\u003d\u003d\u003d\u003d\u003d\u003d\u003d\u003d\u003d\u003d\u003d\u003d\u003d\u003d\u003d\u003d\u003d\u003d\u003d\u003d\u003d\u003d\u003d] - 0s 133us/step - loss: 0.8220 - acc: 0.7798\n",
            "Epoch 116/300\n",
            "168/168 [\u003d\u003d\u003d\u003d\u003d\u003d\u003d\u003d\u003d\u003d\u003d\u003d\u003d\u003d\u003d\u003d\u003d\u003d\u003d\u003d\u003d\u003d\u003d\u003d\u003d\u003d\u003d\u003d\u003d\u003d] - 0s 127us/step - loss: 0.8472 - acc: 0.7679\n",
            "Epoch 117/300\n",
            "168/168 [\u003d\u003d\u003d\u003d\u003d\u003d\u003d\u003d\u003d\u003d\u003d\u003d\u003d\u003d\u003d\u003d\u003d\u003d\u003d\u003d\u003d\u003d\u003d\u003d\u003d\u003d\u003d\u003d\u003d\u003d] - 0s 129us/step - loss: 0.8680 - acc: 0.7619\n",
            "Epoch 118/300\n",
            "168/168 [\u003d\u003d\u003d\u003d\u003d\u003d\u003d\u003d\u003d\u003d\u003d\u003d\u003d\u003d\u003d\u003d\u003d\u003d\u003d\u003d\u003d\u003d\u003d\u003d\u003d\u003d\u003d\u003d\u003d\u003d] - 0s 134us/step - loss: 0.8403 - acc: 0.7679\n",
            "Epoch 119/300\n",
            "168/168 [\u003d\u003d\u003d\u003d\u003d\u003d\u003d\u003d\u003d\u003d\u003d\u003d\u003d\u003d\u003d\u003d\u003d\u003d\u003d\u003d\u003d\u003d\u003d\u003d\u003d\u003d\u003d\u003d\u003d\u003d] - 0s 136us/step - loss: 0.8980 - acc: 0.7440\n",
            "Epoch 120/300\n",
            "168/168 [\u003d\u003d\u003d\u003d\u003d\u003d\u003d\u003d\u003d\u003d\u003d\u003d\u003d\u003d\u003d\u003d\u003d\u003d\u003d\u003d\u003d\u003d\u003d\u003d\u003d\u003d\u003d\u003d\u003d\u003d] - 0s 141us/step - loss: 0.8151 - acc: 0.7679\n",
            "Epoch 121/300\n",
            "168/168 [\u003d\u003d\u003d\u003d\u003d\u003d\u003d\u003d\u003d\u003d\u003d\u003d\u003d\u003d\u003d\u003d\u003d\u003d\u003d\u003d\u003d\u003d\u003d\u003d\u003d\u003d\u003d\u003d\u003d\u003d] - 0s 147us/step - loss: 0.6988 - acc: 0.8155\n",
            "Epoch 122/300\n",
            "168/168 [\u003d\u003d\u003d\u003d\u003d\u003d\u003d\u003d\u003d\u003d\u003d\u003d\u003d\u003d\u003d\u003d\u003d\u003d\u003d\u003d\u003d\u003d\u003d\u003d\u003d\u003d\u003d\u003d\u003d\u003d] - 0s 133us/step - loss: 0.8415 - acc: 0.7440\n",
            "Epoch 123/300\n",
            "168/168 [\u003d\u003d\u003d\u003d\u003d\u003d\u003d\u003d\u003d\u003d\u003d\u003d\u003d\u003d\u003d\u003d\u003d\u003d\u003d\u003d\u003d\u003d\u003d\u003d\u003d\u003d\u003d\u003d\u003d\u003d] - 0s 133us/step - loss: 0.7474 - acc: 0.7857\n",
            "Epoch 124/300\n",
            "168/168 [\u003d\u003d\u003d\u003d\u003d\u003d\u003d\u003d\u003d\u003d\u003d\u003d\u003d\u003d\u003d\u003d\u003d\u003d\u003d\u003d\u003d\u003d\u003d\u003d\u003d\u003d\u003d\u003d\u003d\u003d] - 0s 136us/step - loss: 0.8575 - acc: 0.7262\n",
            "Epoch 125/300\n",
            "168/168 [\u003d\u003d\u003d\u003d\u003d\u003d\u003d\u003d\u003d\u003d\u003d\u003d\u003d\u003d\u003d\u003d\u003d\u003d\u003d\u003d\u003d\u003d\u003d\u003d\u003d\u003d\u003d\u003d\u003d\u003d] - 0s 138us/step - loss: 0.8003 - acc: 0.7738\n",
            "Epoch 126/300\n",
            "168/168 [\u003d\u003d\u003d\u003d\u003d\u003d\u003d\u003d\u003d\u003d\u003d\u003d\u003d\u003d\u003d\u003d\u003d\u003d\u003d\u003d\u003d\u003d\u003d\u003d\u003d\u003d\u003d\u003d\u003d\u003d] - 0s 127us/step - loss: 0.7738 - acc: 0.7738\n",
            "Epoch 127/300\n",
            "168/168 [\u003d\u003d\u003d\u003d\u003d\u003d\u003d\u003d\u003d\u003d\u003d\u003d\u003d\u003d\u003d\u003d\u003d\u003d\u003d\u003d\u003d\u003d\u003d\u003d\u003d\u003d\u003d\u003d\u003d\u003d] - 0s 130us/step - loss: 0.7356 - acc: 0.8036\n",
            "Epoch 128/300\n",
            "168/168 [\u003d\u003d\u003d\u003d\u003d\u003d\u003d\u003d\u003d\u003d\u003d\u003d\u003d\u003d\u003d\u003d\u003d\u003d\u003d\u003d\u003d\u003d\u003d\u003d\u003d\u003d\u003d\u003d\u003d\u003d] - 0s 137us/step - loss: 0.8149 - acc: 0.7798\n",
            "Epoch 129/300\n",
            "168/168 [\u003d\u003d\u003d\u003d\u003d\u003d\u003d\u003d\u003d\u003d\u003d\u003d\u003d\u003d\u003d\u003d\u003d\u003d\u003d\u003d\u003d\u003d\u003d\u003d\u003d\u003d\u003d\u003d\u003d\u003d] - 0s 133us/step - loss: 0.7221 - acc: 0.7857\n",
            "Epoch 130/300\n",
            "168/168 [\u003d\u003d\u003d\u003d\u003d\u003d\u003d\u003d\u003d\u003d\u003d\u003d\u003d\u003d\u003d\u003d\u003d\u003d\u003d\u003d\u003d\u003d\u003d\u003d\u003d\u003d\u003d\u003d\u003d\u003d] - 0s 134us/step - loss: 0.7669 - acc: 0.7857\n",
            "Epoch 131/300\n",
            "168/168 [\u003d\u003d\u003d\u003d\u003d\u003d\u003d\u003d\u003d\u003d\u003d\u003d\u003d\u003d\u003d\u003d\u003d\u003d\u003d\u003d\u003d\u003d\u003d\u003d\u003d\u003d\u003d\u003d\u003d\u003d] - 0s 127us/step - loss: 0.6185 - acc: 0.8155\n",
            "Epoch 132/300\n",
            "168/168 [\u003d\u003d\u003d\u003d\u003d\u003d\u003d\u003d\u003d\u003d\u003d\u003d\u003d\u003d\u003d\u003d\u003d\u003d\u003d\u003d\u003d\u003d\u003d\u003d\u003d\u003d\u003d\u003d\u003d\u003d] - 0s 128us/step - loss: 0.7553 - acc: 0.7857\n",
            "Epoch 133/300\n",
            "168/168 [\u003d\u003d\u003d\u003d\u003d\u003d\u003d\u003d\u003d\u003d\u003d\u003d\u003d\u003d\u003d\u003d\u003d\u003d\u003d\u003d\u003d\u003d\u003d\u003d\u003d\u003d\u003d\u003d\u003d\u003d] - 0s 128us/step - loss: 0.8329 - acc: 0.7321\n",
            "Epoch 134/300\n",
            "168/168 [\u003d\u003d\u003d\u003d\u003d\u003d\u003d\u003d\u003d\u003d\u003d\u003d\u003d\u003d\u003d\u003d\u003d\u003d\u003d\u003d\u003d\u003d\u003d\u003d\u003d\u003d\u003d\u003d\u003d\u003d] - 0s 131us/step - loss: 0.6483 - acc: 0.8155\n",
            "Epoch 135/300\n",
            "168/168 [\u003d\u003d\u003d\u003d\u003d\u003d\u003d\u003d\u003d\u003d\u003d\u003d\u003d\u003d\u003d\u003d\u003d\u003d\u003d\u003d\u003d\u003d\u003d\u003d\u003d\u003d\u003d\u003d\u003d\u003d] - 0s 129us/step - loss: 0.5665 - acc: 0.8333\n",
            "Epoch 136/300\n",
            "168/168 [\u003d\u003d\u003d\u003d\u003d\u003d\u003d\u003d\u003d\u003d\u003d\u003d\u003d\u003d\u003d\u003d\u003d\u003d\u003d\u003d\u003d\u003d\u003d\u003d\u003d\u003d\u003d\u003d\u003d\u003d] - 0s 130us/step - loss: 0.5957 - acc: 0.8333\n",
            "Epoch 137/300\n",
            "168/168 [\u003d\u003d\u003d\u003d\u003d\u003d\u003d\u003d\u003d\u003d\u003d\u003d\u003d\u003d\u003d\u003d\u003d\u003d\u003d\u003d\u003d\u003d\u003d\u003d\u003d\u003d\u003d\u003d\u003d\u003d] - 0s 127us/step - loss: 0.6932 - acc: 0.7679\n",
            "Epoch 138/300\n",
            "168/168 [\u003d\u003d\u003d\u003d\u003d\u003d\u003d\u003d\u003d\u003d\u003d\u003d\u003d\u003d\u003d\u003d\u003d\u003d\u003d\u003d\u003d\u003d\u003d\u003d\u003d\u003d\u003d\u003d\u003d\u003d] - 0s 129us/step - loss: 0.6340 - acc: 0.7976\n",
            "Epoch 139/300\n",
            "168/168 [\u003d\u003d\u003d\u003d\u003d\u003d\u003d\u003d\u003d\u003d\u003d\u003d\u003d\u003d\u003d\u003d\u003d\u003d\u003d\u003d\u003d\u003d\u003d\u003d\u003d\u003d\u003d\u003d\u003d\u003d] - 0s 127us/step - loss: 0.6049 - acc: 0.8095\n",
            "Epoch 140/300\n",
            "168/168 [\u003d\u003d\u003d\u003d\u003d\u003d\u003d\u003d\u003d\u003d\u003d\u003d\u003d\u003d\u003d\u003d\u003d\u003d\u003d\u003d\u003d\u003d\u003d\u003d\u003d\u003d\u003d\u003d\u003d\u003d] - 0s 123us/step - loss: 0.6814 - acc: 0.7917\n",
            "Epoch 141/300\n",
            "168/168 [\u003d\u003d\u003d\u003d\u003d\u003d\u003d\u003d\u003d\u003d\u003d\u003d\u003d\u003d\u003d\u003d\u003d\u003d\u003d\u003d\u003d\u003d\u003d\u003d\u003d\u003d\u003d\u003d\u003d\u003d] - 0s 133us/step - loss: 0.6337 - acc: 0.8095\n",
            "Epoch 142/300\n",
            "168/168 [\u003d\u003d\u003d\u003d\u003d\u003d\u003d\u003d\u003d\u003d\u003d\u003d\u003d\u003d\u003d\u003d\u003d\u003d\u003d\u003d\u003d\u003d\u003d\u003d\u003d\u003d\u003d\u003d\u003d\u003d] - 0s 137us/step - loss: 0.7355 - acc: 0.7917\n",
            "Epoch 143/300\n",
            "168/168 [\u003d\u003d\u003d\u003d\u003d\u003d\u003d\u003d\u003d\u003d\u003d\u003d\u003d\u003d\u003d\u003d\u003d\u003d\u003d\u003d\u003d\u003d\u003d\u003d\u003d\u003d\u003d\u003d\u003d\u003d] - 0s 133us/step - loss: 0.6394 - acc: 0.8155\n",
            "Epoch 144/300\n",
            "168/168 [\u003d\u003d\u003d\u003d\u003d\u003d\u003d\u003d\u003d\u003d\u003d\u003d\u003d\u003d\u003d\u003d\u003d\u003d\u003d\u003d\u003d\u003d\u003d\u003d\u003d\u003d\u003d\u003d\u003d\u003d] - 0s 137us/step - loss: 0.7321 - acc: 0.7679\n",
            "Epoch 145/300\n",
            "168/168 [\u003d\u003d\u003d\u003d\u003d\u003d\u003d\u003d\u003d\u003d\u003d\u003d\u003d\u003d\u003d\u003d\u003d\u003d\u003d\u003d\u003d\u003d\u003d\u003d\u003d\u003d\u003d\u003d\u003d\u003d] - 0s 132us/step - loss: 0.6699 - acc: 0.7857\n",
            "Epoch 146/300\n",
            "168/168 [\u003d\u003d\u003d\u003d\u003d\u003d\u003d\u003d\u003d\u003d\u003d\u003d\u003d\u003d\u003d\u003d\u003d\u003d\u003d\u003d\u003d\u003d\u003d\u003d\u003d\u003d\u003d\u003d\u003d\u003d] - 0s 135us/step - loss: 0.6458 - acc: 0.7976\n",
            "Epoch 147/300\n",
            "168/168 [\u003d\u003d\u003d\u003d\u003d\u003d\u003d\u003d\u003d\u003d\u003d\u003d\u003d\u003d\u003d\u003d\u003d\u003d\u003d\u003d\u003d\u003d\u003d\u003d\u003d\u003d\u003d\u003d\u003d\u003d] - 0s 138us/step - loss: 0.8195 - acc: 0.7560\n",
            "Epoch 148/300\n",
            "168/168 [\u003d\u003d\u003d\u003d\u003d\u003d\u003d\u003d\u003d\u003d\u003d\u003d\u003d\u003d\u003d\u003d\u003d\u003d\u003d\u003d\u003d\u003d\u003d\u003d\u003d\u003d\u003d\u003d\u003d\u003d] - 0s 131us/step - loss: 0.4915 - acc: 0.8571\n",
            "Epoch 149/300\n",
            "168/168 [\u003d\u003d\u003d\u003d\u003d\u003d\u003d\u003d\u003d\u003d\u003d\u003d\u003d\u003d\u003d\u003d\u003d\u003d\u003d\u003d\u003d\u003d\u003d\u003d\u003d\u003d\u003d\u003d\u003d\u003d] - 0s 134us/step - loss: 0.6139 - acc: 0.7976\n",
            "Epoch 150/300\n",
            "168/168 [\u003d\u003d\u003d\u003d\u003d\u003d\u003d\u003d\u003d\u003d\u003d\u003d\u003d\u003d\u003d\u003d\u003d\u003d\u003d\u003d\u003d\u003d\u003d\u003d\u003d\u003d\u003d\u003d\u003d\u003d] - 0s 136us/step - loss: 0.7116 - acc: 0.7857\n",
            "Epoch 151/300\n",
            "168/168 [\u003d\u003d\u003d\u003d\u003d\u003d\u003d\u003d\u003d\u003d\u003d\u003d\u003d\u003d\u003d\u003d\u003d\u003d\u003d\u003d\u003d\u003d\u003d\u003d\u003d\u003d\u003d\u003d\u003d\u003d] - 0s 132us/step - loss: 0.6051 - acc: 0.8155\n",
            "Epoch 152/300\n",
            "168/168 [\u003d\u003d\u003d\u003d\u003d\u003d\u003d\u003d\u003d\u003d\u003d\u003d\u003d\u003d\u003d\u003d\u003d\u003d\u003d\u003d\u003d\u003d\u003d\u003d\u003d\u003d\u003d\u003d\u003d\u003d] - 0s 140us/step - loss: 0.5360 - acc: 0.8333\n",
            "Epoch 153/300\n",
            "168/168 [\u003d\u003d\u003d\u003d\u003d\u003d\u003d\u003d\u003d\u003d\u003d\u003d\u003d\u003d\u003d\u003d\u003d\u003d\u003d\u003d\u003d\u003d\u003d\u003d\u003d\u003d\u003d\u003d\u003d\u003d] - 0s 131us/step - loss: 0.7534 - acc: 0.7619\n",
            "Epoch 154/300\n",
            "168/168 [\u003d\u003d\u003d\u003d\u003d\u003d\u003d\u003d\u003d\u003d\u003d\u003d\u003d\u003d\u003d\u003d\u003d\u003d\u003d\u003d\u003d\u003d\u003d\u003d\u003d\u003d\u003d\u003d\u003d\u003d] - 0s 133us/step - loss: 0.6008 - acc: 0.8095\n",
            "Epoch 155/300\n",
            "168/168 [\u003d\u003d\u003d\u003d\u003d\u003d\u003d\u003d\u003d\u003d\u003d\u003d\u003d\u003d\u003d\u003d\u003d\u003d\u003d\u003d\u003d\u003d\u003d\u003d\u003d\u003d\u003d\u003d\u003d\u003d] - 0s 132us/step - loss: 0.6892 - acc: 0.7976\n",
            "Epoch 156/300\n",
            "168/168 [\u003d\u003d\u003d\u003d\u003d\u003d\u003d\u003d\u003d\u003d\u003d\u003d\u003d\u003d\u003d\u003d\u003d\u003d\u003d\u003d\u003d\u003d\u003d\u003d\u003d\u003d\u003d\u003d\u003d\u003d] - 0s 127us/step - loss: 0.6462 - acc: 0.7976\n",
            "Epoch 157/300\n"
          ]
        },
        {
          "name": "stdout",
          "output_type": "stream",
          "text": [
            "168/168 [\u003d\u003d\u003d\u003d\u003d\u003d\u003d\u003d\u003d\u003d\u003d\u003d\u003d\u003d\u003d\u003d\u003d\u003d\u003d\u003d\u003d\u003d\u003d\u003d\u003d\u003d\u003d\u003d\u003d\u003d] - 0s 135us/step - loss: 0.6562 - acc: 0.7798\n",
            "Epoch 158/300\n",
            "168/168 [\u003d\u003d\u003d\u003d\u003d\u003d\u003d\u003d\u003d\u003d\u003d\u003d\u003d\u003d\u003d\u003d\u003d\u003d\u003d\u003d\u003d\u003d\u003d\u003d\u003d\u003d\u003d\u003d\u003d\u003d] - 0s 130us/step - loss: 0.5548 - acc: 0.8393\n",
            "Epoch 159/300\n",
            "168/168 [\u003d\u003d\u003d\u003d\u003d\u003d\u003d\u003d\u003d\u003d\u003d\u003d\u003d\u003d\u003d\u003d\u003d\u003d\u003d\u003d\u003d\u003d\u003d\u003d\u003d\u003d\u003d\u003d\u003d\u003d] - 0s 130us/step - loss: 0.5720 - acc: 0.8155\n",
            "Epoch 160/300\n",
            "168/168 [\u003d\u003d\u003d\u003d\u003d\u003d\u003d\u003d\u003d\u003d\u003d\u003d\u003d\u003d\u003d\u003d\u003d\u003d\u003d\u003d\u003d\u003d\u003d\u003d\u003d\u003d\u003d\u003d\u003d\u003d] - 0s 130us/step - loss: 0.5386 - acc: 0.8214\n",
            "Epoch 161/300\n",
            "168/168 [\u003d\u003d\u003d\u003d\u003d\u003d\u003d\u003d\u003d\u003d\u003d\u003d\u003d\u003d\u003d\u003d\u003d\u003d\u003d\u003d\u003d\u003d\u003d\u003d\u003d\u003d\u003d\u003d\u003d\u003d] - 0s 132us/step - loss: 0.5919 - acc: 0.8036\n",
            "Epoch 162/300\n",
            "168/168 [\u003d\u003d\u003d\u003d\u003d\u003d\u003d\u003d\u003d\u003d\u003d\u003d\u003d\u003d\u003d\u003d\u003d\u003d\u003d\u003d\u003d\u003d\u003d\u003d\u003d\u003d\u003d\u003d\u003d\u003d] - 0s 130us/step - loss: 0.6490 - acc: 0.7917\n",
            "Epoch 163/300\n",
            "168/168 [\u003d\u003d\u003d\u003d\u003d\u003d\u003d\u003d\u003d\u003d\u003d\u003d\u003d\u003d\u003d\u003d\u003d\u003d\u003d\u003d\u003d\u003d\u003d\u003d\u003d\u003d\u003d\u003d\u003d\u003d] - 0s 132us/step - loss: 0.6692 - acc: 0.7917\n",
            "Epoch 164/300\n",
            "168/168 [\u003d\u003d\u003d\u003d\u003d\u003d\u003d\u003d\u003d\u003d\u003d\u003d\u003d\u003d\u003d\u003d\u003d\u003d\u003d\u003d\u003d\u003d\u003d\u003d\u003d\u003d\u003d\u003d\u003d\u003d] - 0s 138us/step - loss: 0.6633 - acc: 0.8036\n",
            "Epoch 165/300\n",
            "168/168 [\u003d\u003d\u003d\u003d\u003d\u003d\u003d\u003d\u003d\u003d\u003d\u003d\u003d\u003d\u003d\u003d\u003d\u003d\u003d\u003d\u003d\u003d\u003d\u003d\u003d\u003d\u003d\u003d\u003d\u003d] - 0s 131us/step - loss: 0.6671 - acc: 0.7679\n",
            "Epoch 166/300\n",
            "168/168 [\u003d\u003d\u003d\u003d\u003d\u003d\u003d\u003d\u003d\u003d\u003d\u003d\u003d\u003d\u003d\u003d\u003d\u003d\u003d\u003d\u003d\u003d\u003d\u003d\u003d\u003d\u003d\u003d\u003d\u003d] - 0s 138us/step - loss: 0.6669 - acc: 0.7976\n",
            "Epoch 167/300\n",
            "168/168 [\u003d\u003d\u003d\u003d\u003d\u003d\u003d\u003d\u003d\u003d\u003d\u003d\u003d\u003d\u003d\u003d\u003d\u003d\u003d\u003d\u003d\u003d\u003d\u003d\u003d\u003d\u003d\u003d\u003d\u003d] - 0s 137us/step - loss: 0.5874 - acc: 0.8214\n",
            "Epoch 168/300\n",
            "168/168 [\u003d\u003d\u003d\u003d\u003d\u003d\u003d\u003d\u003d\u003d\u003d\u003d\u003d\u003d\u003d\u003d\u003d\u003d\u003d\u003d\u003d\u003d\u003d\u003d\u003d\u003d\u003d\u003d\u003d\u003d] - 0s 132us/step - loss: 0.5368 - acc: 0.8333\n",
            "Epoch 169/300\n",
            "168/168 [\u003d\u003d\u003d\u003d\u003d\u003d\u003d\u003d\u003d\u003d\u003d\u003d\u003d\u003d\u003d\u003d\u003d\u003d\u003d\u003d\u003d\u003d\u003d\u003d\u003d\u003d\u003d\u003d\u003d\u003d] - 0s 132us/step - loss: 0.6266 - acc: 0.7798\n",
            "Epoch 170/300\n",
            "168/168 [\u003d\u003d\u003d\u003d\u003d\u003d\u003d\u003d\u003d\u003d\u003d\u003d\u003d\u003d\u003d\u003d\u003d\u003d\u003d\u003d\u003d\u003d\u003d\u003d\u003d\u003d\u003d\u003d\u003d\u003d] - 0s 130us/step - loss: 0.6501 - acc: 0.7798\n",
            "Epoch 171/300\n",
            "168/168 [\u003d\u003d\u003d\u003d\u003d\u003d\u003d\u003d\u003d\u003d\u003d\u003d\u003d\u003d\u003d\u003d\u003d\u003d\u003d\u003d\u003d\u003d\u003d\u003d\u003d\u003d\u003d\u003d\u003d\u003d] - 0s 131us/step - loss: 0.5170 - acc: 0.8333\n",
            "Epoch 172/300\n",
            "168/168 [\u003d\u003d\u003d\u003d\u003d\u003d\u003d\u003d\u003d\u003d\u003d\u003d\u003d\u003d\u003d\u003d\u003d\u003d\u003d\u003d\u003d\u003d\u003d\u003d\u003d\u003d\u003d\u003d\u003d\u003d] - 0s 130us/step - loss: 0.6232 - acc: 0.8036\n",
            "Epoch 173/300\n",
            "168/168 [\u003d\u003d\u003d\u003d\u003d\u003d\u003d\u003d\u003d\u003d\u003d\u003d\u003d\u003d\u003d\u003d\u003d\u003d\u003d\u003d\u003d\u003d\u003d\u003d\u003d\u003d\u003d\u003d\u003d\u003d] - 0s 129us/step - loss: 0.5811 - acc: 0.8036\n",
            "Epoch 174/300\n",
            "168/168 [\u003d\u003d\u003d\u003d\u003d\u003d\u003d\u003d\u003d\u003d\u003d\u003d\u003d\u003d\u003d\u003d\u003d\u003d\u003d\u003d\u003d\u003d\u003d\u003d\u003d\u003d\u003d\u003d\u003d\u003d] - 0s 131us/step - loss: 0.5985 - acc: 0.8036\n",
            "Epoch 175/300\n",
            "168/168 [\u003d\u003d\u003d\u003d\u003d\u003d\u003d\u003d\u003d\u003d\u003d\u003d\u003d\u003d\u003d\u003d\u003d\u003d\u003d\u003d\u003d\u003d\u003d\u003d\u003d\u003d\u003d\u003d\u003d\u003d] - 0s 131us/step - loss: 0.5949 - acc: 0.8214\n",
            "Epoch 176/300\n",
            "168/168 [\u003d\u003d\u003d\u003d\u003d\u003d\u003d\u003d\u003d\u003d\u003d\u003d\u003d\u003d\u003d\u003d\u003d\u003d\u003d\u003d\u003d\u003d\u003d\u003d\u003d\u003d\u003d\u003d\u003d\u003d] - 0s 134us/step - loss: 0.5879 - acc: 0.8214\n",
            "Epoch 177/300\n",
            "168/168 [\u003d\u003d\u003d\u003d\u003d\u003d\u003d\u003d\u003d\u003d\u003d\u003d\u003d\u003d\u003d\u003d\u003d\u003d\u003d\u003d\u003d\u003d\u003d\u003d\u003d\u003d\u003d\u003d\u003d\u003d] - 0s 132us/step - loss: 0.5177 - acc: 0.8214\n",
            "Epoch 178/300\n",
            "168/168 [\u003d\u003d\u003d\u003d\u003d\u003d\u003d\u003d\u003d\u003d\u003d\u003d\u003d\u003d\u003d\u003d\u003d\u003d\u003d\u003d\u003d\u003d\u003d\u003d\u003d\u003d\u003d\u003d\u003d\u003d] - 0s 131us/step - loss: 0.6659 - acc: 0.7679\n",
            "Epoch 179/300\n",
            "168/168 [\u003d\u003d\u003d\u003d\u003d\u003d\u003d\u003d\u003d\u003d\u003d\u003d\u003d\u003d\u003d\u003d\u003d\u003d\u003d\u003d\u003d\u003d\u003d\u003d\u003d\u003d\u003d\u003d\u003d\u003d] - 0s 143us/step - loss: 0.5113 - acc: 0.8274\n",
            "Epoch 180/300\n",
            "168/168 [\u003d\u003d\u003d\u003d\u003d\u003d\u003d\u003d\u003d\u003d\u003d\u003d\u003d\u003d\u003d\u003d\u003d\u003d\u003d\u003d\u003d\u003d\u003d\u003d\u003d\u003d\u003d\u003d\u003d\u003d] - 0s 133us/step - loss: 0.6398 - acc: 0.8036\n",
            "Epoch 181/300\n",
            "168/168 [\u003d\u003d\u003d\u003d\u003d\u003d\u003d\u003d\u003d\u003d\u003d\u003d\u003d\u003d\u003d\u003d\u003d\u003d\u003d\u003d\u003d\u003d\u003d\u003d\u003d\u003d\u003d\u003d\u003d\u003d] - 0s 132us/step - loss: 0.6609 - acc: 0.7917\n",
            "Epoch 182/300\n",
            "168/168 [\u003d\u003d\u003d\u003d\u003d\u003d\u003d\u003d\u003d\u003d\u003d\u003d\u003d\u003d\u003d\u003d\u003d\u003d\u003d\u003d\u003d\u003d\u003d\u003d\u003d\u003d\u003d\u003d\u003d\u003d] - 0s 137us/step - loss: 0.5254 - acc: 0.8214\n",
            "Epoch 183/300\n",
            "168/168 [\u003d\u003d\u003d\u003d\u003d\u003d\u003d\u003d\u003d\u003d\u003d\u003d\u003d\u003d\u003d\u003d\u003d\u003d\u003d\u003d\u003d\u003d\u003d\u003d\u003d\u003d\u003d\u003d\u003d\u003d] - 0s 129us/step - loss: 0.5532 - acc: 0.8274\n",
            "Epoch 184/300\n",
            "168/168 [\u003d\u003d\u003d\u003d\u003d\u003d\u003d\u003d\u003d\u003d\u003d\u003d\u003d\u003d\u003d\u003d\u003d\u003d\u003d\u003d\u003d\u003d\u003d\u003d\u003d\u003d\u003d\u003d\u003d\u003d] - 0s 125us/step - loss: 0.5549 - acc: 0.8333\n",
            "Epoch 185/300\n",
            "168/168 [\u003d\u003d\u003d\u003d\u003d\u003d\u003d\u003d\u003d\u003d\u003d\u003d\u003d\u003d\u003d\u003d\u003d\u003d\u003d\u003d\u003d\u003d\u003d\u003d\u003d\u003d\u003d\u003d\u003d\u003d] - 0s 134us/step - loss: 0.6289 - acc: 0.8036\n",
            "Epoch 186/300\n",
            "168/168 [\u003d\u003d\u003d\u003d\u003d\u003d\u003d\u003d\u003d\u003d\u003d\u003d\u003d\u003d\u003d\u003d\u003d\u003d\u003d\u003d\u003d\u003d\u003d\u003d\u003d\u003d\u003d\u003d\u003d\u003d] - 0s 134us/step - loss: 0.5410 - acc: 0.7976\n",
            "Epoch 187/300\n",
            "168/168 [\u003d\u003d\u003d\u003d\u003d\u003d\u003d\u003d\u003d\u003d\u003d\u003d\u003d\u003d\u003d\u003d\u003d\u003d\u003d\u003d\u003d\u003d\u003d\u003d\u003d\u003d\u003d\u003d\u003d\u003d] - 0s 135us/step - loss: 0.5176 - acc: 0.8274\n",
            "Epoch 188/300\n",
            "168/168 [\u003d\u003d\u003d\u003d\u003d\u003d\u003d\u003d\u003d\u003d\u003d\u003d\u003d\u003d\u003d\u003d\u003d\u003d\u003d\u003d\u003d\u003d\u003d\u003d\u003d\u003d\u003d\u003d\u003d\u003d] - 0s 133us/step - loss: 0.6031 - acc: 0.8274\n",
            "Epoch 189/300\n",
            "168/168 [\u003d\u003d\u003d\u003d\u003d\u003d\u003d\u003d\u003d\u003d\u003d\u003d\u003d\u003d\u003d\u003d\u003d\u003d\u003d\u003d\u003d\u003d\u003d\u003d\u003d\u003d\u003d\u003d\u003d\u003d] - 0s 132us/step - loss: 0.5661 - acc: 0.8274\n",
            "Epoch 190/300\n",
            "168/168 [\u003d\u003d\u003d\u003d\u003d\u003d\u003d\u003d\u003d\u003d\u003d\u003d\u003d\u003d\u003d\u003d\u003d\u003d\u003d\u003d\u003d\u003d\u003d\u003d\u003d\u003d\u003d\u003d\u003d\u003d] - 0s 133us/step - loss: 0.5200 - acc: 0.8155\n",
            "Epoch 191/300\n",
            "168/168 [\u003d\u003d\u003d\u003d\u003d\u003d\u003d\u003d\u003d\u003d\u003d\u003d\u003d\u003d\u003d\u003d\u003d\u003d\u003d\u003d\u003d\u003d\u003d\u003d\u003d\u003d\u003d\u003d\u003d\u003d] - 0s 130us/step - loss: 0.4429 - acc: 0.8571\n",
            "Epoch 192/300\n",
            "168/168 [\u003d\u003d\u003d\u003d\u003d\u003d\u003d\u003d\u003d\u003d\u003d\u003d\u003d\u003d\u003d\u003d\u003d\u003d\u003d\u003d\u003d\u003d\u003d\u003d\u003d\u003d\u003d\u003d\u003d\u003d] - 0s 130us/step - loss: 0.5908 - acc: 0.7917\n",
            "Epoch 193/300\n",
            "168/168 [\u003d\u003d\u003d\u003d\u003d\u003d\u003d\u003d\u003d\u003d\u003d\u003d\u003d\u003d\u003d\u003d\u003d\u003d\u003d\u003d\u003d\u003d\u003d\u003d\u003d\u003d\u003d\u003d\u003d\u003d] - 0s 127us/step - loss: 0.5934 - acc: 0.7917\n",
            "Epoch 194/300\n",
            "168/168 [\u003d\u003d\u003d\u003d\u003d\u003d\u003d\u003d\u003d\u003d\u003d\u003d\u003d\u003d\u003d\u003d\u003d\u003d\u003d\u003d\u003d\u003d\u003d\u003d\u003d\u003d\u003d\u003d\u003d\u003d] - 0s 131us/step - loss: 0.5989 - acc: 0.8095\n",
            "Epoch 195/300\n",
            "168/168 [\u003d\u003d\u003d\u003d\u003d\u003d\u003d\u003d\u003d\u003d\u003d\u003d\u003d\u003d\u003d\u003d\u003d\u003d\u003d\u003d\u003d\u003d\u003d\u003d\u003d\u003d\u003d\u003d\u003d\u003d] - 0s 128us/step - loss: 0.5603 - acc: 0.8095\n",
            "Epoch 196/300\n",
            "168/168 [\u003d\u003d\u003d\u003d\u003d\u003d\u003d\u003d\u003d\u003d\u003d\u003d\u003d\u003d\u003d\u003d\u003d\u003d\u003d\u003d\u003d\u003d\u003d\u003d\u003d\u003d\u003d\u003d\u003d\u003d] - 0s 127us/step - loss: 0.5924 - acc: 0.8155\n",
            "Epoch 197/300\n",
            "168/168 [\u003d\u003d\u003d\u003d\u003d\u003d\u003d\u003d\u003d\u003d\u003d\u003d\u003d\u003d\u003d\u003d\u003d\u003d\u003d\u003d\u003d\u003d\u003d\u003d\u003d\u003d\u003d\u003d\u003d\u003d] - 0s 129us/step - loss: 0.6772 - acc: 0.7619\n",
            "Epoch 198/300\n",
            "168/168 [\u003d\u003d\u003d\u003d\u003d\u003d\u003d\u003d\u003d\u003d\u003d\u003d\u003d\u003d\u003d\u003d\u003d\u003d\u003d\u003d\u003d\u003d\u003d\u003d\u003d\u003d\u003d\u003d\u003d\u003d] - 0s 127us/step - loss: 0.6303 - acc: 0.7798\n",
            "Epoch 199/300\n",
            "168/168 [\u003d\u003d\u003d\u003d\u003d\u003d\u003d\u003d\u003d\u003d\u003d\u003d\u003d\u003d\u003d\u003d\u003d\u003d\u003d\u003d\u003d\u003d\u003d\u003d\u003d\u003d\u003d\u003d\u003d\u003d] - 0s 131us/step - loss: 0.5443 - acc: 0.8095\n",
            "Epoch 200/300\n",
            "168/168 [\u003d\u003d\u003d\u003d\u003d\u003d\u003d\u003d\u003d\u003d\u003d\u003d\u003d\u003d\u003d\u003d\u003d\u003d\u003d\u003d\u003d\u003d\u003d\u003d\u003d\u003d\u003d\u003d\u003d\u003d] - 0s 130us/step - loss: 0.5693 - acc: 0.8095\n",
            "Epoch 201/300\n",
            "168/168 [\u003d\u003d\u003d\u003d\u003d\u003d\u003d\u003d\u003d\u003d\u003d\u003d\u003d\u003d\u003d\u003d\u003d\u003d\u003d\u003d\u003d\u003d\u003d\u003d\u003d\u003d\u003d\u003d\u003d\u003d] - 0s 133us/step - loss: 0.5732 - acc: 0.8095\n",
            "Epoch 202/300\n",
            "168/168 [\u003d\u003d\u003d\u003d\u003d\u003d\u003d\u003d\u003d\u003d\u003d\u003d\u003d\u003d\u003d\u003d\u003d\u003d\u003d\u003d\u003d\u003d\u003d\u003d\u003d\u003d\u003d\u003d\u003d\u003d] - 0s 132us/step - loss: 0.4481 - acc: 0.8452\n",
            "Epoch 203/300\n",
            "168/168 [\u003d\u003d\u003d\u003d\u003d\u003d\u003d\u003d\u003d\u003d\u003d\u003d\u003d\u003d\u003d\u003d\u003d\u003d\u003d\u003d\u003d\u003d\u003d\u003d\u003d\u003d\u003d\u003d\u003d\u003d] - 0s 132us/step - loss: 0.4814 - acc: 0.8333\n",
            "Epoch 204/300\n",
            "168/168 [\u003d\u003d\u003d\u003d\u003d\u003d\u003d\u003d\u003d\u003d\u003d\u003d\u003d\u003d\u003d\u003d\u003d\u003d\u003d\u003d\u003d\u003d\u003d\u003d\u003d\u003d\u003d\u003d\u003d\u003d] - 0s 129us/step - loss: 0.4576 - acc: 0.8571\n",
            "Epoch 205/300\n",
            "168/168 [\u003d\u003d\u003d\u003d\u003d\u003d\u003d\u003d\u003d\u003d\u003d\u003d\u003d\u003d\u003d\u003d\u003d\u003d\u003d\u003d\u003d\u003d\u003d\u003d\u003d\u003d\u003d\u003d\u003d\u003d] - 0s 132us/step - loss: 0.5895 - acc: 0.7857\n",
            "Epoch 206/300\n",
            "168/168 [\u003d\u003d\u003d\u003d\u003d\u003d\u003d\u003d\u003d\u003d\u003d\u003d\u003d\u003d\u003d\u003d\u003d\u003d\u003d\u003d\u003d\u003d\u003d\u003d\u003d\u003d\u003d\u003d\u003d\u003d] - 0s 128us/step - loss: 0.5366 - acc: 0.8333\n",
            "Epoch 207/300\n",
            "168/168 [\u003d\u003d\u003d\u003d\u003d\u003d\u003d\u003d\u003d\u003d\u003d\u003d\u003d\u003d\u003d\u003d\u003d\u003d\u003d\u003d\u003d\u003d\u003d\u003d\u003d\u003d\u003d\u003d\u003d\u003d] - 0s 133us/step - loss: 0.5499 - acc: 0.8274\n",
            "Epoch 208/300\n",
            "168/168 [\u003d\u003d\u003d\u003d\u003d\u003d\u003d\u003d\u003d\u003d\u003d\u003d\u003d\u003d\u003d\u003d\u003d\u003d\u003d\u003d\u003d\u003d\u003d\u003d\u003d\u003d\u003d\u003d\u003d\u003d] - 0s 133us/step - loss: 0.5069 - acc: 0.8155\n",
            "Epoch 209/300\n",
            "168/168 [\u003d\u003d\u003d\u003d\u003d\u003d\u003d\u003d\u003d\u003d\u003d\u003d\u003d\u003d\u003d\u003d\u003d\u003d\u003d\u003d\u003d\u003d\u003d\u003d\u003d\u003d\u003d\u003d\u003d\u003d] - 0s 135us/step - loss: 0.6504 - acc: 0.7738\n",
            "Epoch 210/300\n",
            "168/168 [\u003d\u003d\u003d\u003d\u003d\u003d\u003d\u003d\u003d\u003d\u003d\u003d\u003d\u003d\u003d\u003d\u003d\u003d\u003d\u003d\u003d\u003d\u003d\u003d\u003d\u003d\u003d\u003d\u003d\u003d] - 0s 138us/step - loss: 0.6000 - acc: 0.8155\n",
            "Epoch 211/300\n",
            "168/168 [\u003d\u003d\u003d\u003d\u003d\u003d\u003d\u003d\u003d\u003d\u003d\u003d\u003d\u003d\u003d\u003d\u003d\u003d\u003d\u003d\u003d\u003d\u003d\u003d\u003d\u003d\u003d\u003d\u003d\u003d] - 0s 132us/step - loss: 0.5705 - acc: 0.7798\n",
            "Epoch 212/300\n",
            "168/168 [\u003d\u003d\u003d\u003d\u003d\u003d\u003d\u003d\u003d\u003d\u003d\u003d\u003d\u003d\u003d\u003d\u003d\u003d\u003d\u003d\u003d\u003d\u003d\u003d\u003d\u003d\u003d\u003d\u003d\u003d] - 0s 136us/step - loss: 0.4928 - acc: 0.8393\n",
            "Epoch 213/300\n",
            "168/168 [\u003d\u003d\u003d\u003d\u003d\u003d\u003d\u003d\u003d\u003d\u003d\u003d\u003d\u003d\u003d\u003d\u003d\u003d\u003d\u003d\u003d\u003d\u003d\u003d\u003d\u003d\u003d\u003d\u003d\u003d] - 0s 133us/step - loss: 0.4610 - acc: 0.8452\n",
            "Epoch 214/300\n",
            "168/168 [\u003d\u003d\u003d\u003d\u003d\u003d\u003d\u003d\u003d\u003d\u003d\u003d\u003d\u003d\u003d\u003d\u003d\u003d\u003d\u003d\u003d\u003d\u003d\u003d\u003d\u003d\u003d\u003d\u003d\u003d] - 0s 124us/step - loss: 0.4790 - acc: 0.8571\n",
            "Epoch 215/300\n",
            "168/168 [\u003d\u003d\u003d\u003d\u003d\u003d\u003d\u003d\u003d\u003d\u003d\u003d\u003d\u003d\u003d\u003d\u003d\u003d\u003d\u003d\u003d\u003d\u003d\u003d\u003d\u003d\u003d\u003d\u003d\u003d] - 0s 126us/step - loss: 0.5571 - acc: 0.7917\n",
            "Epoch 216/300\n",
            "168/168 [\u003d\u003d\u003d\u003d\u003d\u003d\u003d\u003d\u003d\u003d\u003d\u003d\u003d\u003d\u003d\u003d\u003d\u003d\u003d\u003d\u003d\u003d\u003d\u003d\u003d\u003d\u003d\u003d\u003d\u003d] - 0s 133us/step - loss: 0.4516 - acc: 0.8333\n",
            "Epoch 217/300\n",
            "168/168 [\u003d\u003d\u003d\u003d\u003d\u003d\u003d\u003d\u003d\u003d\u003d\u003d\u003d\u003d\u003d\u003d\u003d\u003d\u003d\u003d\u003d\u003d\u003d\u003d\u003d\u003d\u003d\u003d\u003d\u003d] - 0s 129us/step - loss: 0.5369 - acc: 0.7976\n",
            "Epoch 218/300\n",
            "168/168 [\u003d\u003d\u003d\u003d\u003d\u003d\u003d\u003d\u003d\u003d\u003d\u003d\u003d\u003d\u003d\u003d\u003d\u003d\u003d\u003d\u003d\u003d\u003d\u003d\u003d\u003d\u003d\u003d\u003d\u003d] - 0s 130us/step - loss: 0.4907 - acc: 0.8214\n",
            "Epoch 219/300\n",
            "168/168 [\u003d\u003d\u003d\u003d\u003d\u003d\u003d\u003d\u003d\u003d\u003d\u003d\u003d\u003d\u003d\u003d\u003d\u003d\u003d\u003d\u003d\u003d\u003d\u003d\u003d\u003d\u003d\u003d\u003d\u003d] - 0s 131us/step - loss: 0.6668 - acc: 0.7679\n",
            "Epoch 220/300\n",
            "168/168 [\u003d\u003d\u003d\u003d\u003d\u003d\u003d\u003d\u003d\u003d\u003d\u003d\u003d\u003d\u003d\u003d\u003d\u003d\u003d\u003d\u003d\u003d\u003d\u003d\u003d\u003d\u003d\u003d\u003d\u003d] - 0s 134us/step - loss: 0.4699 - acc: 0.8452\n",
            "Epoch 221/300\n",
            "168/168 [\u003d\u003d\u003d\u003d\u003d\u003d\u003d\u003d\u003d\u003d\u003d\u003d\u003d\u003d\u003d\u003d\u003d\u003d\u003d\u003d\u003d\u003d\u003d\u003d\u003d\u003d\u003d\u003d\u003d\u003d] - 0s 132us/step - loss: 0.5306 - acc: 0.7976\n",
            "Epoch 222/300\n",
            "168/168 [\u003d\u003d\u003d\u003d\u003d\u003d\u003d\u003d\u003d\u003d\u003d\u003d\u003d\u003d\u003d\u003d\u003d\u003d\u003d\u003d\u003d\u003d\u003d\u003d\u003d\u003d\u003d\u003d\u003d\u003d] - 0s 132us/step - loss: 0.4952 - acc: 0.8393\n",
            "Epoch 223/300\n",
            "168/168 [\u003d\u003d\u003d\u003d\u003d\u003d\u003d\u003d\u003d\u003d\u003d\u003d\u003d\u003d\u003d\u003d\u003d\u003d\u003d\u003d\u003d\u003d\u003d\u003d\u003d\u003d\u003d\u003d\u003d\u003d] - 0s 134us/step - loss: 0.4000 - acc: 0.8750\n",
            "Epoch 224/300\n",
            "168/168 [\u003d\u003d\u003d\u003d\u003d\u003d\u003d\u003d\u003d\u003d\u003d\u003d\u003d\u003d\u003d\u003d\u003d\u003d\u003d\u003d\u003d\u003d\u003d\u003d\u003d\u003d\u003d\u003d\u003d\u003d] - 0s 135us/step - loss: 0.4347 - acc: 0.8631\n",
            "Epoch 225/300\n",
            "168/168 [\u003d\u003d\u003d\u003d\u003d\u003d\u003d\u003d\u003d\u003d\u003d\u003d\u003d\u003d\u003d\u003d\u003d\u003d\u003d\u003d\u003d\u003d\u003d\u003d\u003d\u003d\u003d\u003d\u003d\u003d] - 0s 126us/step - loss: 0.5559 - acc: 0.7976\n",
            "Epoch 226/300\n",
            "168/168 [\u003d\u003d\u003d\u003d\u003d\u003d\u003d\u003d\u003d\u003d\u003d\u003d\u003d\u003d\u003d\u003d\u003d\u003d\u003d\u003d\u003d\u003d\u003d\u003d\u003d\u003d\u003d\u003d\u003d\u003d] - 0s 127us/step - loss: 0.5138 - acc: 0.8155\n",
            "Epoch 227/300\n",
            "168/168 [\u003d\u003d\u003d\u003d\u003d\u003d\u003d\u003d\u003d\u003d\u003d\u003d\u003d\u003d\u003d\u003d\u003d\u003d\u003d\u003d\u003d\u003d\u003d\u003d\u003d\u003d\u003d\u003d\u003d\u003d] - 0s 134us/step - loss: 0.5442 - acc: 0.8214\n",
            "Epoch 228/300\n",
            "168/168 [\u003d\u003d\u003d\u003d\u003d\u003d\u003d\u003d\u003d\u003d\u003d\u003d\u003d\u003d\u003d\u003d\u003d\u003d\u003d\u003d\u003d\u003d\u003d\u003d\u003d\u003d\u003d\u003d\u003d\u003d] - 0s 129us/step - loss: 0.5503 - acc: 0.8036\n",
            "Epoch 229/300\n",
            "168/168 [\u003d\u003d\u003d\u003d\u003d\u003d\u003d\u003d\u003d\u003d\u003d\u003d\u003d\u003d\u003d\u003d\u003d\u003d\u003d\u003d\u003d\u003d\u003d\u003d\u003d\u003d\u003d\u003d\u003d\u003d] - 0s 137us/step - loss: 0.6253 - acc: 0.7857\n",
            "Epoch 230/300\n",
            "168/168 [\u003d\u003d\u003d\u003d\u003d\u003d\u003d\u003d\u003d\u003d\u003d\u003d\u003d\u003d\u003d\u003d\u003d\u003d\u003d\u003d\u003d\u003d\u003d\u003d\u003d\u003d\u003d\u003d\u003d\u003d] - 0s 130us/step - loss: 0.5138 - acc: 0.8214\n",
            "Epoch 231/300\n",
            "168/168 [\u003d\u003d\u003d\u003d\u003d\u003d\u003d\u003d\u003d\u003d\u003d\u003d\u003d\u003d\u003d\u003d\u003d\u003d\u003d\u003d\u003d\u003d\u003d\u003d\u003d\u003d\u003d\u003d\u003d\u003d] - 0s 131us/step - loss: 0.5843 - acc: 0.7976\n",
            "Epoch 232/300\n",
            "168/168 [\u003d\u003d\u003d\u003d\u003d\u003d\u003d\u003d\u003d\u003d\u003d\u003d\u003d\u003d\u003d\u003d\u003d\u003d\u003d\u003d\u003d\u003d\u003d\u003d\u003d\u003d\u003d\u003d\u003d\u003d] - 0s 134us/step - loss: 0.5464 - acc: 0.7857\n",
            "Epoch 233/300\n",
            "168/168 [\u003d\u003d\u003d\u003d\u003d\u003d\u003d\u003d\u003d\u003d\u003d\u003d\u003d\u003d\u003d\u003d\u003d\u003d\u003d\u003d\u003d\u003d\u003d\u003d\u003d\u003d\u003d\u003d\u003d\u003d] - 0s 137us/step - loss: 0.4959 - acc: 0.8333\n",
            "Epoch 234/300\n",
            "168/168 [\u003d\u003d\u003d\u003d\u003d\u003d\u003d\u003d\u003d\u003d\u003d\u003d\u003d\u003d\u003d\u003d\u003d\u003d\u003d\u003d\u003d\u003d\u003d\u003d\u003d\u003d\u003d\u003d\u003d\u003d] - 0s 129us/step - loss: 0.5711 - acc: 0.7917\n",
            "Epoch 235/300\n",
            "168/168 [\u003d\u003d\u003d\u003d\u003d\u003d\u003d\u003d\u003d\u003d\u003d\u003d\u003d\u003d\u003d\u003d\u003d\u003d\u003d\u003d\u003d\u003d\u003d\u003d\u003d\u003d\u003d\u003d\u003d\u003d] - 0s 133us/step - loss: 0.4901 - acc: 0.7976\n",
            "Epoch 236/300\n",
            "168/168 [\u003d\u003d\u003d\u003d\u003d\u003d\u003d\u003d\u003d\u003d\u003d\u003d\u003d\u003d\u003d\u003d\u003d\u003d\u003d\u003d\u003d\u003d\u003d\u003d\u003d\u003d\u003d\u003d\u003d\u003d] - 0s 133us/step - loss: 0.5094 - acc: 0.8155\n",
            "Epoch 237/300\n",
            "168/168 [\u003d\u003d\u003d\u003d\u003d\u003d\u003d\u003d\u003d\u003d\u003d\u003d\u003d\u003d\u003d\u003d\u003d\u003d\u003d\u003d\u003d\u003d\u003d\u003d\u003d\u003d\u003d\u003d\u003d\u003d] - 0s 135us/step - loss: 0.5280 - acc: 0.8393\n",
            "Epoch 238/300\n",
            "168/168 [\u003d\u003d\u003d\u003d\u003d\u003d\u003d\u003d\u003d\u003d\u003d\u003d\u003d\u003d\u003d\u003d\u003d\u003d\u003d\u003d\u003d\u003d\u003d\u003d\u003d\u003d\u003d\u003d\u003d\u003d] - 0s 136us/step - loss: 0.5454 - acc: 0.7917\n",
            "Epoch 239/300\n"
          ]
        },
        {
          "name": "stdout",
          "output_type": "stream",
          "text": [
            "168/168 [\u003d\u003d\u003d\u003d\u003d\u003d\u003d\u003d\u003d\u003d\u003d\u003d\u003d\u003d\u003d\u003d\u003d\u003d\u003d\u003d\u003d\u003d\u003d\u003d\u003d\u003d\u003d\u003d\u003d\u003d] - 0s 128us/step - loss: 0.5528 - acc: 0.7917\n",
            "Epoch 240/300\n",
            "168/168 [\u003d\u003d\u003d\u003d\u003d\u003d\u003d\u003d\u003d\u003d\u003d\u003d\u003d\u003d\u003d\u003d\u003d\u003d\u003d\u003d\u003d\u003d\u003d\u003d\u003d\u003d\u003d\u003d\u003d\u003d] - 0s 128us/step - loss: 0.4373 - acc: 0.8512\n",
            "Epoch 241/300\n",
            "168/168 [\u003d\u003d\u003d\u003d\u003d\u003d\u003d\u003d\u003d\u003d\u003d\u003d\u003d\u003d\u003d\u003d\u003d\u003d\u003d\u003d\u003d\u003d\u003d\u003d\u003d\u003d\u003d\u003d\u003d\u003d] - 0s 131us/step - loss: 0.4483 - acc: 0.8333\n",
            "Epoch 242/300\n",
            "168/168 [\u003d\u003d\u003d\u003d\u003d\u003d\u003d\u003d\u003d\u003d\u003d\u003d\u003d\u003d\u003d\u003d\u003d\u003d\u003d\u003d\u003d\u003d\u003d\u003d\u003d\u003d\u003d\u003d\u003d\u003d] - 0s 135us/step - loss: 0.4936 - acc: 0.8333\n",
            "Epoch 243/300\n",
            "168/168 [\u003d\u003d\u003d\u003d\u003d\u003d\u003d\u003d\u003d\u003d\u003d\u003d\u003d\u003d\u003d\u003d\u003d\u003d\u003d\u003d\u003d\u003d\u003d\u003d\u003d\u003d\u003d\u003d\u003d\u003d] - 0s 135us/step - loss: 0.5258 - acc: 0.8155\n",
            "Epoch 244/300\n",
            "168/168 [\u003d\u003d\u003d\u003d\u003d\u003d\u003d\u003d\u003d\u003d\u003d\u003d\u003d\u003d\u003d\u003d\u003d\u003d\u003d\u003d\u003d\u003d\u003d\u003d\u003d\u003d\u003d\u003d\u003d\u003d] - 0s 129us/step - loss: 0.5092 - acc: 0.8155\n",
            "Epoch 245/300\n",
            "168/168 [\u003d\u003d\u003d\u003d\u003d\u003d\u003d\u003d\u003d\u003d\u003d\u003d\u003d\u003d\u003d\u003d\u003d\u003d\u003d\u003d\u003d\u003d\u003d\u003d\u003d\u003d\u003d\u003d\u003d\u003d] - 0s 137us/step - loss: 0.6061 - acc: 0.8095\n",
            "Epoch 246/300\n",
            "168/168 [\u003d\u003d\u003d\u003d\u003d\u003d\u003d\u003d\u003d\u003d\u003d\u003d\u003d\u003d\u003d\u003d\u003d\u003d\u003d\u003d\u003d\u003d\u003d\u003d\u003d\u003d\u003d\u003d\u003d\u003d] - 0s 131us/step - loss: 0.5718 - acc: 0.7917\n",
            "Epoch 247/300\n",
            "168/168 [\u003d\u003d\u003d\u003d\u003d\u003d\u003d\u003d\u003d\u003d\u003d\u003d\u003d\u003d\u003d\u003d\u003d\u003d\u003d\u003d\u003d\u003d\u003d\u003d\u003d\u003d\u003d\u003d\u003d\u003d] - 0s 132us/step - loss: 0.5792 - acc: 0.7857\n",
            "Epoch 248/300\n",
            "168/168 [\u003d\u003d\u003d\u003d\u003d\u003d\u003d\u003d\u003d\u003d\u003d\u003d\u003d\u003d\u003d\u003d\u003d\u003d\u003d\u003d\u003d\u003d\u003d\u003d\u003d\u003d\u003d\u003d\u003d\u003d] - 0s 132us/step - loss: 0.5793 - acc: 0.7917\n",
            "Epoch 249/300\n",
            "168/168 [\u003d\u003d\u003d\u003d\u003d\u003d\u003d\u003d\u003d\u003d\u003d\u003d\u003d\u003d\u003d\u003d\u003d\u003d\u003d\u003d\u003d\u003d\u003d\u003d\u003d\u003d\u003d\u003d\u003d\u003d] - 0s 132us/step - loss: 0.6582 - acc: 0.7560\n",
            "Epoch 250/300\n",
            "168/168 [\u003d\u003d\u003d\u003d\u003d\u003d\u003d\u003d\u003d\u003d\u003d\u003d\u003d\u003d\u003d\u003d\u003d\u003d\u003d\u003d\u003d\u003d\u003d\u003d\u003d\u003d\u003d\u003d\u003d\u003d] - 0s 134us/step - loss: 0.5461 - acc: 0.7976\n",
            "Epoch 251/300\n",
            "168/168 [\u003d\u003d\u003d\u003d\u003d\u003d\u003d\u003d\u003d\u003d\u003d\u003d\u003d\u003d\u003d\u003d\u003d\u003d\u003d\u003d\u003d\u003d\u003d\u003d\u003d\u003d\u003d\u003d\u003d\u003d] - 0s 135us/step - loss: 0.4702 - acc: 0.8274\n",
            "Epoch 252/300\n",
            "168/168 [\u003d\u003d\u003d\u003d\u003d\u003d\u003d\u003d\u003d\u003d\u003d\u003d\u003d\u003d\u003d\u003d\u003d\u003d\u003d\u003d\u003d\u003d\u003d\u003d\u003d\u003d\u003d\u003d\u003d\u003d] - 0s 134us/step - loss: 0.5095 - acc: 0.8214\n",
            "Epoch 253/300\n",
            "168/168 [\u003d\u003d\u003d\u003d\u003d\u003d\u003d\u003d\u003d\u003d\u003d\u003d\u003d\u003d\u003d\u003d\u003d\u003d\u003d\u003d\u003d\u003d\u003d\u003d\u003d\u003d\u003d\u003d\u003d\u003d] - 0s 139us/step - loss: 0.4409 - acc: 0.8393\n",
            "Epoch 254/300\n",
            "168/168 [\u003d\u003d\u003d\u003d\u003d\u003d\u003d\u003d\u003d\u003d\u003d\u003d\u003d\u003d\u003d\u003d\u003d\u003d\u003d\u003d\u003d\u003d\u003d\u003d\u003d\u003d\u003d\u003d\u003d\u003d] - 0s 133us/step - loss: 0.5081 - acc: 0.8214\n",
            "Epoch 255/300\n",
            "168/168 [\u003d\u003d\u003d\u003d\u003d\u003d\u003d\u003d\u003d\u003d\u003d\u003d\u003d\u003d\u003d\u003d\u003d\u003d\u003d\u003d\u003d\u003d\u003d\u003d\u003d\u003d\u003d\u003d\u003d\u003d] - 0s 140us/step - loss: 0.5336 - acc: 0.8214\n",
            "Epoch 256/300\n",
            "168/168 [\u003d\u003d\u003d\u003d\u003d\u003d\u003d\u003d\u003d\u003d\u003d\u003d\u003d\u003d\u003d\u003d\u003d\u003d\u003d\u003d\u003d\u003d\u003d\u003d\u003d\u003d\u003d\u003d\u003d\u003d] - 0s 129us/step - loss: 0.3850 - acc: 0.8690\n",
            "Epoch 257/300\n",
            "168/168 [\u003d\u003d\u003d\u003d\u003d\u003d\u003d\u003d\u003d\u003d\u003d\u003d\u003d\u003d\u003d\u003d\u003d\u003d\u003d\u003d\u003d\u003d\u003d\u003d\u003d\u003d\u003d\u003d\u003d\u003d] - 0s 130us/step - loss: 0.4152 - acc: 0.8690\n",
            "Epoch 258/300\n",
            "168/168 [\u003d\u003d\u003d\u003d\u003d\u003d\u003d\u003d\u003d\u003d\u003d\u003d\u003d\u003d\u003d\u003d\u003d\u003d\u003d\u003d\u003d\u003d\u003d\u003d\u003d\u003d\u003d\u003d\u003d\u003d] - 0s 132us/step - loss: 0.5488 - acc: 0.7976\n",
            "Epoch 259/300\n",
            "168/168 [\u003d\u003d\u003d\u003d\u003d\u003d\u003d\u003d\u003d\u003d\u003d\u003d\u003d\u003d\u003d\u003d\u003d\u003d\u003d\u003d\u003d\u003d\u003d\u003d\u003d\u003d\u003d\u003d\u003d\u003d] - 0s 126us/step - loss: 0.4759 - acc: 0.8095\n",
            "Epoch 260/300\n",
            "168/168 [\u003d\u003d\u003d\u003d\u003d\u003d\u003d\u003d\u003d\u003d\u003d\u003d\u003d\u003d\u003d\u003d\u003d\u003d\u003d\u003d\u003d\u003d\u003d\u003d\u003d\u003d\u003d\u003d\u003d\u003d] - 0s 134us/step - loss: 0.5348 - acc: 0.8036\n",
            "Epoch 261/300\n",
            "168/168 [\u003d\u003d\u003d\u003d\u003d\u003d\u003d\u003d\u003d\u003d\u003d\u003d\u003d\u003d\u003d\u003d\u003d\u003d\u003d\u003d\u003d\u003d\u003d\u003d\u003d\u003d\u003d\u003d\u003d\u003d] - 0s 132us/step - loss: 0.4949 - acc: 0.8333\n",
            "Epoch 262/300\n",
            "168/168 [\u003d\u003d\u003d\u003d\u003d\u003d\u003d\u003d\u003d\u003d\u003d\u003d\u003d\u003d\u003d\u003d\u003d\u003d\u003d\u003d\u003d\u003d\u003d\u003d\u003d\u003d\u003d\u003d\u003d\u003d] - 0s 127us/step - loss: 0.4896 - acc: 0.8214\n",
            "Epoch 263/300\n",
            "168/168 [\u003d\u003d\u003d\u003d\u003d\u003d\u003d\u003d\u003d\u003d\u003d\u003d\u003d\u003d\u003d\u003d\u003d\u003d\u003d\u003d\u003d\u003d\u003d\u003d\u003d\u003d\u003d\u003d\u003d\u003d] - 0s 133us/step - loss: 0.5094 - acc: 0.8036\n",
            "Epoch 264/300\n",
            "168/168 [\u003d\u003d\u003d\u003d\u003d\u003d\u003d\u003d\u003d\u003d\u003d\u003d\u003d\u003d\u003d\u003d\u003d\u003d\u003d\u003d\u003d\u003d\u003d\u003d\u003d\u003d\u003d\u003d\u003d\u003d] - 0s 127us/step - loss: 0.5992 - acc: 0.7857\n",
            "Epoch 265/300\n",
            "168/168 [\u003d\u003d\u003d\u003d\u003d\u003d\u003d\u003d\u003d\u003d\u003d\u003d\u003d\u003d\u003d\u003d\u003d\u003d\u003d\u003d\u003d\u003d\u003d\u003d\u003d\u003d\u003d\u003d\u003d\u003d] - 0s 131us/step - loss: 0.4164 - acc: 0.8452\n",
            "Epoch 266/300\n",
            "168/168 [\u003d\u003d\u003d\u003d\u003d\u003d\u003d\u003d\u003d\u003d\u003d\u003d\u003d\u003d\u003d\u003d\u003d\u003d\u003d\u003d\u003d\u003d\u003d\u003d\u003d\u003d\u003d\u003d\u003d\u003d] - 0s 136us/step - loss: 0.5201 - acc: 0.8214\n",
            "Epoch 267/300\n",
            "168/168 [\u003d\u003d\u003d\u003d\u003d\u003d\u003d\u003d\u003d\u003d\u003d\u003d\u003d\u003d\u003d\u003d\u003d\u003d\u003d\u003d\u003d\u003d\u003d\u003d\u003d\u003d\u003d\u003d\u003d\u003d] - 0s 133us/step - loss: 0.4498 - acc: 0.8274\n",
            "Epoch 268/300\n",
            "168/168 [\u003d\u003d\u003d\u003d\u003d\u003d\u003d\u003d\u003d\u003d\u003d\u003d\u003d\u003d\u003d\u003d\u003d\u003d\u003d\u003d\u003d\u003d\u003d\u003d\u003d\u003d\u003d\u003d\u003d\u003d] - 0s 130us/step - loss: 0.5642 - acc: 0.7976\n",
            "Epoch 269/300\n",
            "168/168 [\u003d\u003d\u003d\u003d\u003d\u003d\u003d\u003d\u003d\u003d\u003d\u003d\u003d\u003d\u003d\u003d\u003d\u003d\u003d\u003d\u003d\u003d\u003d\u003d\u003d\u003d\u003d\u003d\u003d\u003d] - 0s 138us/step - loss: 0.5623 - acc: 0.7917\n",
            "Epoch 270/300\n",
            "168/168 [\u003d\u003d\u003d\u003d\u003d\u003d\u003d\u003d\u003d\u003d\u003d\u003d\u003d\u003d\u003d\u003d\u003d\u003d\u003d\u003d\u003d\u003d\u003d\u003d\u003d\u003d\u003d\u003d\u003d\u003d] - 0s 141us/step - loss: 0.4408 - acc: 0.8155\n",
            "Epoch 271/300\n",
            "168/168 [\u003d\u003d\u003d\u003d\u003d\u003d\u003d\u003d\u003d\u003d\u003d\u003d\u003d\u003d\u003d\u003d\u003d\u003d\u003d\u003d\u003d\u003d\u003d\u003d\u003d\u003d\u003d\u003d\u003d\u003d] - 0s 130us/step - loss: 0.4432 - acc: 0.8452\n",
            "Epoch 272/300\n",
            "168/168 [\u003d\u003d\u003d\u003d\u003d\u003d\u003d\u003d\u003d\u003d\u003d\u003d\u003d\u003d\u003d\u003d\u003d\u003d\u003d\u003d\u003d\u003d\u003d\u003d\u003d\u003d\u003d\u003d\u003d\u003d] - 0s 137us/step - loss: 0.5960 - acc: 0.7857\n",
            "Epoch 273/300\n",
            "168/168 [\u003d\u003d\u003d\u003d\u003d\u003d\u003d\u003d\u003d\u003d\u003d\u003d\u003d\u003d\u003d\u003d\u003d\u003d\u003d\u003d\u003d\u003d\u003d\u003d\u003d\u003d\u003d\u003d\u003d\u003d] - 0s 129us/step - loss: 0.4622 - acc: 0.8393\n",
            "Epoch 274/300\n",
            "168/168 [\u003d\u003d\u003d\u003d\u003d\u003d\u003d\u003d\u003d\u003d\u003d\u003d\u003d\u003d\u003d\u003d\u003d\u003d\u003d\u003d\u003d\u003d\u003d\u003d\u003d\u003d\u003d\u003d\u003d\u003d] - 0s 132us/step - loss: 0.5245 - acc: 0.8095\n",
            "Epoch 275/300\n",
            "168/168 [\u003d\u003d\u003d\u003d\u003d\u003d\u003d\u003d\u003d\u003d\u003d\u003d\u003d\u003d\u003d\u003d\u003d\u003d\u003d\u003d\u003d\u003d\u003d\u003d\u003d\u003d\u003d\u003d\u003d\u003d] - 0s 132us/step - loss: 0.4774 - acc: 0.8214\n",
            "Epoch 276/300\n",
            "168/168 [\u003d\u003d\u003d\u003d\u003d\u003d\u003d\u003d\u003d\u003d\u003d\u003d\u003d\u003d\u003d\u003d\u003d\u003d\u003d\u003d\u003d\u003d\u003d\u003d\u003d\u003d\u003d\u003d\u003d\u003d] - 0s 131us/step - loss: 0.5220 - acc: 0.8155\n",
            "Epoch 277/300\n",
            "168/168 [\u003d\u003d\u003d\u003d\u003d\u003d\u003d\u003d\u003d\u003d\u003d\u003d\u003d\u003d\u003d\u003d\u003d\u003d\u003d\u003d\u003d\u003d\u003d\u003d\u003d\u003d\u003d\u003d\u003d\u003d] - 0s 134us/step - loss: 0.5783 - acc: 0.7619\n",
            "Epoch 278/300\n",
            "168/168 [\u003d\u003d\u003d\u003d\u003d\u003d\u003d\u003d\u003d\u003d\u003d\u003d\u003d\u003d\u003d\u003d\u003d\u003d\u003d\u003d\u003d\u003d\u003d\u003d\u003d\u003d\u003d\u003d\u003d\u003d] - 0s 131us/step - loss: 0.4640 - acc: 0.8333\n",
            "Epoch 279/300\n",
            "168/168 [\u003d\u003d\u003d\u003d\u003d\u003d\u003d\u003d\u003d\u003d\u003d\u003d\u003d\u003d\u003d\u003d\u003d\u003d\u003d\u003d\u003d\u003d\u003d\u003d\u003d\u003d\u003d\u003d\u003d\u003d] - 0s 129us/step - loss: 0.4640 - acc: 0.8452\n",
            "Epoch 280/300\n",
            "168/168 [\u003d\u003d\u003d\u003d\u003d\u003d\u003d\u003d\u003d\u003d\u003d\u003d\u003d\u003d\u003d\u003d\u003d\u003d\u003d\u003d\u003d\u003d\u003d\u003d\u003d\u003d\u003d\u003d\u003d\u003d] - 0s 130us/step - loss: 0.5297 - acc: 0.8095\n",
            "Epoch 281/300\n",
            "168/168 [\u003d\u003d\u003d\u003d\u003d\u003d\u003d\u003d\u003d\u003d\u003d\u003d\u003d\u003d\u003d\u003d\u003d\u003d\u003d\u003d\u003d\u003d\u003d\u003d\u003d\u003d\u003d\u003d\u003d\u003d] - 0s 130us/step - loss: 0.5139 - acc: 0.7917\n",
            "Epoch 282/300\n",
            "168/168 [\u003d\u003d\u003d\u003d\u003d\u003d\u003d\u003d\u003d\u003d\u003d\u003d\u003d\u003d\u003d\u003d\u003d\u003d\u003d\u003d\u003d\u003d\u003d\u003d\u003d\u003d\u003d\u003d\u003d\u003d] - 0s 131us/step - loss: 0.5213 - acc: 0.8214\n",
            "Epoch 283/300\n",
            "168/168 [\u003d\u003d\u003d\u003d\u003d\u003d\u003d\u003d\u003d\u003d\u003d\u003d\u003d\u003d\u003d\u003d\u003d\u003d\u003d\u003d\u003d\u003d\u003d\u003d\u003d\u003d\u003d\u003d\u003d\u003d] - 0s 131us/step - loss: 0.5600 - acc: 0.7976\n",
            "Epoch 284/300\n",
            "168/168 [\u003d\u003d\u003d\u003d\u003d\u003d\u003d\u003d\u003d\u003d\u003d\u003d\u003d\u003d\u003d\u003d\u003d\u003d\u003d\u003d\u003d\u003d\u003d\u003d\u003d\u003d\u003d\u003d\u003d\u003d] - 0s 132us/step - loss: 0.4337 - acc: 0.8333\n",
            "Epoch 285/300\n",
            "168/168 [\u003d\u003d\u003d\u003d\u003d\u003d\u003d\u003d\u003d\u003d\u003d\u003d\u003d\u003d\u003d\u003d\u003d\u003d\u003d\u003d\u003d\u003d\u003d\u003d\u003d\u003d\u003d\u003d\u003d\u003d] - 0s 130us/step - loss: 0.4554 - acc: 0.8512\n",
            "Epoch 286/300\n",
            "168/168 [\u003d\u003d\u003d\u003d\u003d\u003d\u003d\u003d\u003d\u003d\u003d\u003d\u003d\u003d\u003d\u003d\u003d\u003d\u003d\u003d\u003d\u003d\u003d\u003d\u003d\u003d\u003d\u003d\u003d\u003d] - 0s 131us/step - loss: 0.4309 - acc: 0.8333\n",
            "Epoch 287/300\n",
            "168/168 [\u003d\u003d\u003d\u003d\u003d\u003d\u003d\u003d\u003d\u003d\u003d\u003d\u003d\u003d\u003d\u003d\u003d\u003d\u003d\u003d\u003d\u003d\u003d\u003d\u003d\u003d\u003d\u003d\u003d\u003d] - 0s 127us/step - loss: 0.5721 - acc: 0.7976\n",
            "Epoch 288/300\n",
            "168/168 [\u003d\u003d\u003d\u003d\u003d\u003d\u003d\u003d\u003d\u003d\u003d\u003d\u003d\u003d\u003d\u003d\u003d\u003d\u003d\u003d\u003d\u003d\u003d\u003d\u003d\u003d\u003d\u003d\u003d\u003d] - 0s 130us/step - loss: 0.4578 - acc: 0.8274\n",
            "Epoch 289/300\n",
            "168/168 [\u003d\u003d\u003d\u003d\u003d\u003d\u003d\u003d\u003d\u003d\u003d\u003d\u003d\u003d\u003d\u003d\u003d\u003d\u003d\u003d\u003d\u003d\u003d\u003d\u003d\u003d\u003d\u003d\u003d\u003d] - 0s 130us/step - loss: 0.5111 - acc: 0.8333\n",
            "Epoch 290/300\n",
            "168/168 [\u003d\u003d\u003d\u003d\u003d\u003d\u003d\u003d\u003d\u003d\u003d\u003d\u003d\u003d\u003d\u003d\u003d\u003d\u003d\u003d\u003d\u003d\u003d\u003d\u003d\u003d\u003d\u003d\u003d\u003d] - 0s 129us/step - loss: 0.4007 - acc: 0.8631\n",
            "Epoch 291/300\n",
            "168/168 [\u003d\u003d\u003d\u003d\u003d\u003d\u003d\u003d\u003d\u003d\u003d\u003d\u003d\u003d\u003d\u003d\u003d\u003d\u003d\u003d\u003d\u003d\u003d\u003d\u003d\u003d\u003d\u003d\u003d\u003d] - 0s 133us/step - loss: 0.4461 - acc: 0.8333\n",
            "Epoch 292/300\n",
            "168/168 [\u003d\u003d\u003d\u003d\u003d\u003d\u003d\u003d\u003d\u003d\u003d\u003d\u003d\u003d\u003d\u003d\u003d\u003d\u003d\u003d\u003d\u003d\u003d\u003d\u003d\u003d\u003d\u003d\u003d\u003d] - 0s 132us/step - loss: 0.4970 - acc: 0.8155\n",
            "Epoch 293/300\n",
            "168/168 [\u003d\u003d\u003d\u003d\u003d\u003d\u003d\u003d\u003d\u003d\u003d\u003d\u003d\u003d\u003d\u003d\u003d\u003d\u003d\u003d\u003d\u003d\u003d\u003d\u003d\u003d\u003d\u003d\u003d\u003d] - 0s 132us/step - loss: 0.4476 - acc: 0.8214\n",
            "Epoch 294/300\n",
            "168/168 [\u003d\u003d\u003d\u003d\u003d\u003d\u003d\u003d\u003d\u003d\u003d\u003d\u003d\u003d\u003d\u003d\u003d\u003d\u003d\u003d\u003d\u003d\u003d\u003d\u003d\u003d\u003d\u003d\u003d\u003d] - 0s 136us/step - loss: 0.5654 - acc: 0.7976\n",
            "Epoch 295/300\n",
            "168/168 [\u003d\u003d\u003d\u003d\u003d\u003d\u003d\u003d\u003d\u003d\u003d\u003d\u003d\u003d\u003d\u003d\u003d\u003d\u003d\u003d\u003d\u003d\u003d\u003d\u003d\u003d\u003d\u003d\u003d\u003d] - 0s 129us/step - loss: 0.3576 - acc: 0.8750\n",
            "Epoch 296/300\n",
            "168/168 [\u003d\u003d\u003d\u003d\u003d\u003d\u003d\u003d\u003d\u003d\u003d\u003d\u003d\u003d\u003d\u003d\u003d\u003d\u003d\u003d\u003d\u003d\u003d\u003d\u003d\u003d\u003d\u003d\u003d\u003d] - 0s 131us/step - loss: 0.4677 - acc: 0.8155\n",
            "Epoch 297/300\n",
            "168/168 [\u003d\u003d\u003d\u003d\u003d\u003d\u003d\u003d\u003d\u003d\u003d\u003d\u003d\u003d\u003d\u003d\u003d\u003d\u003d\u003d\u003d\u003d\u003d\u003d\u003d\u003d\u003d\u003d\u003d\u003d] - 0s 133us/step - loss: 0.5499 - acc: 0.7976\n",
            "Epoch 298/300\n",
            "168/168 [\u003d\u003d\u003d\u003d\u003d\u003d\u003d\u003d\u003d\u003d\u003d\u003d\u003d\u003d\u003d\u003d\u003d\u003d\u003d\u003d\u003d\u003d\u003d\u003d\u003d\u003d\u003d\u003d\u003d\u003d] - 0s 134us/step - loss: 0.4039 - acc: 0.8512\n",
            "Epoch 299/300\n",
            "168/168 [\u003d\u003d\u003d\u003d\u003d\u003d\u003d\u003d\u003d\u003d\u003d\u003d\u003d\u003d\u003d\u003d\u003d\u003d\u003d\u003d\u003d\u003d\u003d\u003d\u003d\u003d\u003d\u003d\u003d\u003d] - 0s 138us/step - loss: 0.6212 - acc: 0.7619\n",
            "Epoch 300/300\n",
            "168/168 [\u003d\u003d\u003d\u003d\u003d\u003d\u003d\u003d\u003d\u003d\u003d\u003d\u003d\u003d\u003d\u003d\u003d\u003d\u003d\u003d\u003d\u003d\u003d\u003d\u003d\u003d\u003d\u003d\u003d\u003d] - 0s 136us/step - loss: 0.4825 - acc: 0.8214\n"
          ]
        },
        {
          "name": "stderr",
          "output_type": "stream",
          "text": [
            "INFO:rasa_core.policies.keras_policy:Done fitting keras policy model\n",
            "Processed actions: 168it [00:00, 1416.82it/s, # examples\u003d156]\n",
            "INFO:rasa_core.agent:Model directory models/dialogue exists and contains old model files. All files will be overwritten.\n",
            "INFO:rasa_core.agent:Persisted model to \u0027/Users/saching12/Desktop/python codes/student_assistant_chatbot/models/dialogue\u0027\n"
          ]
        }
      ],
      "source": [
        "from rasa_core.policies import FallbackPolicy, KerasPolicy, MemoizationPolicy\n",
        "from rasa_core.agent import Agent\n",
        "from rasa_core import config\n",
        "# this will catch predictions the model isn\u0027t very certain about\n",
        "# there is a threshold for the NLU predictions as well as the action predictions\n",
        "fallback \u003d FallbackPolicy(fallback_action_name\u003d\"utter_unclear\",\n",
        "                          core_threshold\u003d0.2,\n",
        "                          nlu_threshold\u003d0.1)\n",
        "\n",
        "agent \u003d Agent(\u0027domain.yml\u0027, policies\u003dconfig.load(\u0027config.yml\u0027))\n",
        "\n",
        "# loading our neatly defined training dialogues\n",
        "training_data \u003d agent.load_data(\u0027stories.md\u0027)\n",
        "\n",
        "agent.train(training_data)\n",
        "\n",
        "agent.persist(\u0027models/dialogue\u0027)"
      ]
    },
    {
      "cell_type": "code",
      "execution_count": null,
      "metadata": {
        "pycharm": {}
      },
      "outputs": [],
      "source": [
        "!ls\n"
      ]
    },
    {
      "cell_type": "markdown",
      "metadata": {
        "colab_type": "text",
        "id": "c4911z6y-5rD",
        "pycharm": {}
      },
      "source": [
        "# Talk to your Bot"
      ]
    },
    {
      "cell_type": "code",
      "execution_count": 137,
      "metadata": {
        "colab": {
          "base_uri": "https://localhost:8080/",
          "height": 34
        },
        "colab_type": "code",
        "id": "nE4coPam5hry",
        "outputId": "c8ec135b-882b-4e9e-a955-f3e184177817",
        "pycharm": {
          "is_executing": false
        }
      },
      "outputs": [
        {
          "name": "stderr",
          "output_type": "stream",
          "text": [
            "WARNING:rasa_core.agent:Passing a value for interpreter to an agent where the value is not an interpreter is deprecated. Construct the interpreter, beforepassing it to the agent, e.g. `interpreter \u003d NaturalLanguageInterpreter.create(nlu)`.\n"
          ]
        },
        {
          "name": "stdout",
          "output_type": "stream",
          "text": [
            "INFO:tensorflow:Restoring parameters from /Users/saching12/Desktop/python codes/student_assistant_chatbot/./models/nlu/default/current/intent_classifier_tensorflow_embedding.ckpt\n"
          ]
        },
        {
          "name": "stderr",
          "output_type": "stream",
          "text": [
            "INFO:tensorflow:Restoring parameters from /Users/saching12/Desktop/python codes/student_assistant_chatbot/./models/nlu/default/current/intent_classifier_tensorflow_embedding.ckpt\n"
          ]
        }
      ],
      "source": [
        "#Starting the Bot\n",
        "\n",
        "from rasa_core.agent import Agent\n",
        "agent \u003d Agent.load(\u0027models/dialogue\u0027, interpreter\u003dmodel_directory)"
      ]
    },
    {
      "cell_type": "code",
      "execution_count": 138,
      "metadata": {
        "colab": {
          "base_uri": "https://localhost:8080/",
          "height": 292
        },
        "colab_type": "code",
        "id": "DDVLzhAT5yrP",
        "outputId": "aee3fc83-df97-42b4-c7e0-c8929f76337c",
        "pycharm": {
          "is_executing": false
        }
      },
      "outputs": [
        {
          "name": "stdout",
          "output_type": "stream",
          "text": [
            "Your bot is ready to talk! Type your messages here or send \u0027stop\u0027\n",
            "Where can I get my ID?\n"
          ]
        },
        {
          "name": "stderr",
          "output_type": "stream",
          "text": [
            "WARNING:rasa_core.agent:Passing a text to `agent.handle_message(...)` is deprecated. Rather use `agent.handle_text(...)`.\n"
          ]
        },
        {
          "name": "stdout",
          "output_type": "stream",
          "text": [
            "My bad I din\u0027t get you!!! Is there anything else you would like to ask ?.\n",
            "How do I get my student ID?\n"
          ]
        },
        {
          "name": "stderr",
          "output_type": "stream",
          "text": [
            "WARNING:rasa_core.agent:Passing a text to `agent.handle_message(...)` is deprecated. Rather use `agent.handle_text(...)`.\n"
          ]
        },
        {
          "name": "stdout",
          "output_type": "stream",
          "text": [
            "My bad I din\u0027t get you!!! Is there anything else you would like to ask ?.\n",
            "How many courses do I need to register for?\n"
          ]
        },
        {
          "name": "stderr",
          "output_type": "stream",
          "text": [
            "WARNING:rasa_core.agent:Passing a text to `agent.handle_message(...)` is deprecated. Rather use `agent.handle_text(...)`.\n"
          ]
        },
        {
          "name": "stdout",
          "output_type": "stream",
          "text": [
            "All F-1 students must register for a full-time course load every semester. Full time is considered 9 units per semester for graduate students and 12 units per semester for undergraduates.For more information, come to the International Student Advising (ISA) office for advising\n",
            "Did that help you?\n",
            "yes\n"
          ]
        },
        {
          "name": "stderr",
          "output_type": "stream",
          "text": [
            "WARNING:rasa_core.agent:Passing a text to `agent.handle_message(...)` is deprecated. Rather use `agent.handle_text(...)`.\n"
          ]
        },
        {
          "name": "stdout",
          "output_type": "stream",
          "text": [
            "Bye\n",
            "stop\n"
          ]
        }
      ],
      "source": [
        "print(\"Your bot is ready to talk! Type your messages here or send \u0027stop\u0027\")\n",
        "while True:\n",
        "    a \u003d input()\n",
        "    if a \u003d\u003d \u0027stop\u0027:\n",
        "        break\n",
        "    responses \u003d agent.handle_message(a)\n",
        "    for response in responses:\n",
        "        print(response[\"text\"])\n",
        "        "
      ]
    },
    {
      "cell_type": "code",
      "execution_count": null,
      "metadata": {
        "colab": {},
        "colab_type": "code",
        "id": "enJNkbvB54y1",
        "pycharm": {}
      },
      "outputs": [],
      "source": "\n\n"
    },
    {
      "cell_type": "code",
      "execution_count": null,
      "metadata": {
        "pycharm": {}
      },
      "outputs": [],
      "source": []
    }
  ],
  "metadata": {
    "accelerator": "GPU",
    "colab": {
      "collapsed_sections": [],
      "name": "Copy of Conversational_Chatbot.ipynb",
      "provenance": [],
      "version": "0.3.2"
    },
    "kernelspec": {
      "display_name": "Python 3",
      "language": "python",
      "name": "python3"
    },
    "language_info": {
      "codemirror_mode": {
        "name": "ipython",
        "version": 3
      },
      "file_extension": ".py",
      "mimetype": "text/x-python",
      "name": "python",
      "nbconvert_exporter": "python",
      "pygments_lexer": "ipython3",
      "version": "3.6.5"
    }
  },
  "nbformat": 4,
  "nbformat_minor": 1
}